{
 "cells": [
  {
   "cell_type": "markdown",
   "id": "d0ad41a9",
   "metadata": {
    "papermill": {
     "duration": 0.012249,
     "end_time": "2022-09-20T17:48:37.262853",
     "exception": false,
     "start_time": "2022-09-20T17:48:37.250604",
     "status": "completed"
    },
    "tags": []
   },
   "source": [
    "<div style=\"color:white;\n",
    "            display:fill;\n",
    "            border-radius:15px;\n",
    "            background-color:purple;\n",
    "            font-size:100%;\n",
    "            font-family:Verdana;\n",
    "            letter-spacing:1px\">\n",
    "    <h3 style='padding: 20px;\n",
    "              color:white;\n",
    "              text-align:center;'>\n",
    "        DATA SCIENCE JOB SALARIES EDA\n",
    "    </h3>\n",
    "    </div>"
   ]
  },
  {
   "cell_type": "markdown",
   "id": "9dd9b105",
   "metadata": {
    "papermill": {
     "duration": 0.008776,
     "end_time": "2022-09-20T17:48:37.283007",
     "exception": false,
     "start_time": "2022-09-20T17:48:37.274231",
     "status": "completed"
    },
    "tags": []
   },
   "source": [
    "![](https://miro.medium.com/max/800/1*xq8j-ocuWz4NHVzteDLREw.jpeg)"
   ]
  },
  {
   "cell_type": "markdown",
   "id": "ca0d39db",
   "metadata": {
    "papermill": {
     "duration": 0.008166,
     "end_time": "2022-09-20T17:48:37.299507",
     "exception": false,
     "start_time": "2022-09-20T17:48:37.291341",
     "status": "completed"
    },
    "tags": []
   },
   "source": [
    "![](https://cloudinary.hbs.edu/hbsit/image/upload/s--I2Gu66-p--/f_auto,c_fill,h_375,w_750,/v20200101/57C255C00BF4E0FB67F6DA704E94003B.jpg)"
   ]
  },
  {
   "cell_type": "markdown",
   "id": "30323d87",
   "metadata": {
    "papermill": {
     "duration": 0.007926,
     "end_time": "2022-09-20T17:48:37.315805",
     "exception": false,
     "start_time": "2022-09-20T17:48:37.307879",
     "status": "completed"
    },
    "tags": []
   },
   "source": [
    "<p>Data science is the domain of study that deals with vast volumes of data using modern tools and techniques to find unseen patterns, derive meaningful information, and make business decisions. Data science uses complex machine learning algorithms to build predictive models.The data used for analysis can come from many different sources and presented in various formats.\n",
    "    \n",
    "Data science is an essential part of many industries today, given the massive amounts of data that are produced, and is one of the most debated topics in IT circles. Its popularity has grown over the years, and companies have started implementing data science techniques to grow their business and increase customer satisfaction.\n",
    "</p>"
   ]
  },
  {
   "cell_type": "markdown",
   "id": "dfc89207",
   "metadata": {
    "papermill": {
     "duration": 0.007909,
     "end_time": "2022-09-20T17:48:37.331954",
     "exception": false,
     "start_time": "2022-09-20T17:48:37.324045",
     "status": "completed"
    },
    "tags": []
   },
   "source": [
    "<div style=\"color:white;\n",
    "            display:fill;\n",
    "            border-radius:15px;\n",
    "            background-color:purple;\n",
    "            font-size:100%;\n",
    "            font-family:Verdana;\n",
    "            letter-spacing:1px\">\n",
    "    <h3 style='padding: 20px;\n",
    "              color:white;\n",
    "              text-align:center;'>\n",
    "        TOP DATA SCIENCE SKILLS\n",
    "    </h3>\n",
    "    </div>"
   ]
  },
  {
   "cell_type": "markdown",
   "id": "e5f6760b",
   "metadata": {
    "papermill": {
     "duration": 0.007814,
     "end_time": "2022-09-20T17:48:37.349379",
     "exception": false,
     "start_time": "2022-09-20T17:48:37.341565",
     "status": "completed"
    },
    "tags": []
   },
   "source": [
    "<div>\n",
    "<p>\n",
    "    <b>1. PROBABILITY & STATISTICS</b>\n",
    "</p>\n",
    "<p>\n",
    "    <b>2. PROGRAMMING LANGUAGE </b>\n",
    "</p>\n",
    "<p>\n",
    "    <b>3. DATABASE KNOWLEDGE </b>\n",
    "</p>\n",
    "<p>\n",
    "    <b>4. DATA VISUALIZATION </b>\n",
    "</p>\n",
    "<p>\n",
    "    <b>5. MS EXCEL </b>\n",
    "</p>\n",
    "<p>\n",
    "    <b>6. MACHINE LEARNING </b>\n",
    "</p>\n",
    "<p>\n",
    "    <b>7. DEEP LEARNING </b>\n",
    "</p>\n",
    "<p>\n",
    "    <b>8. NATURAL LANGUAGE PROCESSING </b>\n",
    "</p>\n",
    "<p>\n",
    "    <b>9. BIG DATA </b>\n",
    "</p>\n",
    "<p>\n",
    "    <b>10. MODEL DEPLOYMENT </b>\n",
    "</p>\n",
    "<p>\n",
    "    <b>11. SOFTWARE ENGINEERING </b>\n",
    "</p>\n",
    "<p>\n",
    "    <b>12. COMMUNICATION SKILLS </b>\n",
    "</p>\n",
    "<p>\n",
    "    <b>13. STORY TELLING SKILLS </b>\n",
    "</p>\n",
    "<p>\n",
    "    <b>14. STRUCTURED THINKING</b>\n",
    "</p>\n",
    "<p>\n",
    "    <b>15. CURIOSITY </b>\n",
    "</p>\n",
    "    </div>"
   ]
  },
  {
   "cell_type": "markdown",
   "id": "a76e09fe",
   "metadata": {
    "papermill": {
     "duration": 0.007882,
     "end_time": "2022-09-20T17:48:37.365389",
     "exception": false,
     "start_time": "2022-09-20T17:48:37.357507",
     "status": "completed"
    },
    "tags": []
   },
   "source": [
    "<div style=\"color:white;\n",
    "            display:fill;\n",
    "            border-radius:15px;\n",
    "            background-color:purple;\n",
    "            font-size:100%;\n",
    "            font-family:Verdana;\n",
    "            letter-spacing:1px\">\n",
    "    <h3 style='padding: 20px;\n",
    "              color:white;\n",
    "              text-align:center;'>\n",
    "        IMPORTING LIBRARIES AND LOADING DATA\n",
    "    </h3>\n",
    "    </div>"
   ]
  },
  {
   "cell_type": "code",
   "execution_count": 1,
   "id": "63394e16",
   "metadata": {
    "execution": {
     "iopub.execute_input": "2022-09-20T17:48:37.386338Z",
     "iopub.status.busy": "2022-09-20T17:48:37.385557Z",
     "iopub.status.idle": "2022-09-20T17:48:39.570265Z",
     "shell.execute_reply": "2022-09-20T17:48:39.569045Z"
    },
    "papermill": {
     "duration": 2.197853,
     "end_time": "2022-09-20T17:48:39.573177",
     "exception": false,
     "start_time": "2022-09-20T17:48:37.375324",
     "status": "completed"
    },
    "tags": []
   },
   "outputs": [],
   "source": [
    "# Importing all the Required Libraries\n",
    "\n",
    "import pandas as pd\n",
    "import numpy as np\n",
    "import matplotlib.pyplot as plt\n",
    "import plotly.express as px\n",
    "import seaborn as sns\n",
    "import datetime as dt\n",
    "import warnings\n",
    "import plotly.graph_objects as go\n",
    "warnings.filterwarnings('ignore')\n",
    "pd.set_option('display.max_columns',None)"
   ]
  },
  {
   "cell_type": "code",
   "execution_count": 2,
   "id": "99c39ea5",
   "metadata": {
    "execution": {
     "iopub.execute_input": "2022-09-20T17:48:39.591851Z",
     "iopub.status.busy": "2022-09-20T17:48:39.591430Z",
     "iopub.status.idle": "2022-09-20T17:48:39.612495Z",
     "shell.execute_reply": "2022-09-20T17:48:39.611605Z"
    },
    "papermill": {
     "duration": 0.033129,
     "end_time": "2022-09-20T17:48:39.614898",
     "exception": false,
     "start_time": "2022-09-20T17:48:39.581769",
     "status": "completed"
    },
    "tags": []
   },
   "outputs": [],
   "source": [
    "df=pd.read_csv('/kaggle/input/data-science-job-salaries/ds_salaries.csv')"
   ]
  },
  {
   "cell_type": "code",
   "execution_count": 3,
   "id": "88dcf6f6",
   "metadata": {
    "execution": {
     "iopub.execute_input": "2022-09-20T17:48:39.633998Z",
     "iopub.status.busy": "2022-09-20T17:48:39.633398Z",
     "iopub.status.idle": "2022-09-20T17:48:39.658323Z",
     "shell.execute_reply": "2022-09-20T17:48:39.656713Z"
    },
    "papermill": {
     "duration": 0.037568,
     "end_time": "2022-09-20T17:48:39.660946",
     "exception": false,
     "start_time": "2022-09-20T17:48:39.623378",
     "status": "completed"
    },
    "tags": []
   },
   "outputs": [
    {
     "data": {
      "text/html": [
       "<div>\n",
       "<style scoped>\n",
       "    .dataframe tbody tr th:only-of-type {\n",
       "        vertical-align: middle;\n",
       "    }\n",
       "\n",
       "    .dataframe tbody tr th {\n",
       "        vertical-align: top;\n",
       "    }\n",
       "\n",
       "    .dataframe thead th {\n",
       "        text-align: right;\n",
       "    }\n",
       "</style>\n",
       "<table border=\"1\" class=\"dataframe\">\n",
       "  <thead>\n",
       "    <tr style=\"text-align: right;\">\n",
       "      <th></th>\n",
       "      <th>Unnamed: 0</th>\n",
       "      <th>work_year</th>\n",
       "      <th>experience_level</th>\n",
       "      <th>employment_type</th>\n",
       "      <th>job_title</th>\n",
       "      <th>salary</th>\n",
       "      <th>salary_currency</th>\n",
       "      <th>salary_in_usd</th>\n",
       "      <th>employee_residence</th>\n",
       "      <th>remote_ratio</th>\n",
       "      <th>company_location</th>\n",
       "      <th>company_size</th>\n",
       "    </tr>\n",
       "  </thead>\n",
       "  <tbody>\n",
       "    <tr>\n",
       "      <th>0</th>\n",
       "      <td>0</td>\n",
       "      <td>2020</td>\n",
       "      <td>MI</td>\n",
       "      <td>FT</td>\n",
       "      <td>Data Scientist</td>\n",
       "      <td>70000</td>\n",
       "      <td>EUR</td>\n",
       "      <td>79833</td>\n",
       "      <td>DE</td>\n",
       "      <td>0</td>\n",
       "      <td>DE</td>\n",
       "      <td>L</td>\n",
       "    </tr>\n",
       "    <tr>\n",
       "      <th>1</th>\n",
       "      <td>1</td>\n",
       "      <td>2020</td>\n",
       "      <td>SE</td>\n",
       "      <td>FT</td>\n",
       "      <td>Machine Learning Scientist</td>\n",
       "      <td>260000</td>\n",
       "      <td>USD</td>\n",
       "      <td>260000</td>\n",
       "      <td>JP</td>\n",
       "      <td>0</td>\n",
       "      <td>JP</td>\n",
       "      <td>S</td>\n",
       "    </tr>\n",
       "    <tr>\n",
       "      <th>2</th>\n",
       "      <td>2</td>\n",
       "      <td>2020</td>\n",
       "      <td>SE</td>\n",
       "      <td>FT</td>\n",
       "      <td>Big Data Engineer</td>\n",
       "      <td>85000</td>\n",
       "      <td>GBP</td>\n",
       "      <td>109024</td>\n",
       "      <td>GB</td>\n",
       "      <td>50</td>\n",
       "      <td>GB</td>\n",
       "      <td>M</td>\n",
       "    </tr>\n",
       "    <tr>\n",
       "      <th>3</th>\n",
       "      <td>3</td>\n",
       "      <td>2020</td>\n",
       "      <td>MI</td>\n",
       "      <td>FT</td>\n",
       "      <td>Product Data Analyst</td>\n",
       "      <td>20000</td>\n",
       "      <td>USD</td>\n",
       "      <td>20000</td>\n",
       "      <td>HN</td>\n",
       "      <td>0</td>\n",
       "      <td>HN</td>\n",
       "      <td>S</td>\n",
       "    </tr>\n",
       "    <tr>\n",
       "      <th>4</th>\n",
       "      <td>4</td>\n",
       "      <td>2020</td>\n",
       "      <td>SE</td>\n",
       "      <td>FT</td>\n",
       "      <td>Machine Learning Engineer</td>\n",
       "      <td>150000</td>\n",
       "      <td>USD</td>\n",
       "      <td>150000</td>\n",
       "      <td>US</td>\n",
       "      <td>50</td>\n",
       "      <td>US</td>\n",
       "      <td>L</td>\n",
       "    </tr>\n",
       "  </tbody>\n",
       "</table>\n",
       "</div>"
      ],
      "text/plain": [
       "   Unnamed: 0  work_year experience_level employment_type  \\\n",
       "0           0       2020               MI              FT   \n",
       "1           1       2020               SE              FT   \n",
       "2           2       2020               SE              FT   \n",
       "3           3       2020               MI              FT   \n",
       "4           4       2020               SE              FT   \n",
       "\n",
       "                    job_title  salary salary_currency  salary_in_usd  \\\n",
       "0              Data Scientist   70000             EUR          79833   \n",
       "1  Machine Learning Scientist  260000             USD         260000   \n",
       "2           Big Data Engineer   85000             GBP         109024   \n",
       "3        Product Data Analyst   20000             USD          20000   \n",
       "4   Machine Learning Engineer  150000             USD         150000   \n",
       "\n",
       "  employee_residence  remote_ratio company_location company_size  \n",
       "0                 DE             0               DE            L  \n",
       "1                 JP             0               JP            S  \n",
       "2                 GB            50               GB            M  \n",
       "3                 HN             0               HN            S  \n",
       "4                 US            50               US            L  "
      ]
     },
     "execution_count": 3,
     "metadata": {},
     "output_type": "execute_result"
    }
   ],
   "source": [
    "df.head()"
   ]
  },
  {
   "cell_type": "markdown",
   "id": "cd89309e",
   "metadata": {
    "papermill": {
     "duration": 0.0085,
     "end_time": "2022-09-20T17:48:39.678319",
     "exception": false,
     "start_time": "2022-09-20T17:48:39.669819",
     "status": "completed"
    },
    "tags": []
   },
   "source": [
    "<div style=\"color:white;\n",
    "            display:fill;\n",
    "            border-radius:15px;\n",
    "            background-color:purple;\n",
    "            font-size:100%;\n",
    "            font-family:Verdana;\n",
    "            letter-spacing:1px\">\n",
    "    <h3 style='padding: 20px;\n",
    "              color:white;\n",
    "              text-align:center;'>\n",
    "        DATA INFORMATION\n",
    "    </h3>\n",
    "    </div>"
   ]
  },
  {
   "cell_type": "code",
   "execution_count": 4,
   "id": "178673db",
   "metadata": {
    "execution": {
     "iopub.execute_input": "2022-09-20T17:48:39.697751Z",
     "iopub.status.busy": "2022-09-20T17:48:39.697046Z",
     "iopub.status.idle": "2022-09-20T17:48:39.719770Z",
     "shell.execute_reply": "2022-09-20T17:48:39.718373Z"
    },
    "papermill": {
     "duration": 0.035104,
     "end_time": "2022-09-20T17:48:39.722092",
     "exception": false,
     "start_time": "2022-09-20T17:48:39.686988",
     "status": "completed"
    },
    "tags": []
   },
   "outputs": [
    {
     "name": "stdout",
     "output_type": "stream",
     "text": [
      "<class 'pandas.core.frame.DataFrame'>\n",
      "RangeIndex: 607 entries, 0 to 606\n",
      "Data columns (total 12 columns):\n",
      " #   Column              Non-Null Count  Dtype \n",
      "---  ------              --------------  ----- \n",
      " 0   Unnamed: 0          607 non-null    int64 \n",
      " 1   work_year           607 non-null    int64 \n",
      " 2   experience_level    607 non-null    object\n",
      " 3   employment_type     607 non-null    object\n",
      " 4   job_title           607 non-null    object\n",
      " 5   salary              607 non-null    int64 \n",
      " 6   salary_currency     607 non-null    object\n",
      " 7   salary_in_usd       607 non-null    int64 \n",
      " 8   employee_residence  607 non-null    object\n",
      " 9   remote_ratio        607 non-null    int64 \n",
      " 10  company_location    607 non-null    object\n",
      " 11  company_size        607 non-null    object\n",
      "dtypes: int64(5), object(7)\n",
      "memory usage: 57.0+ KB\n"
     ]
    }
   ],
   "source": [
    "df.info()"
   ]
  },
  {
   "cell_type": "markdown",
   "id": "f4cb5d8b",
   "metadata": {
    "papermill": {
     "duration": 0.008534,
     "end_time": "2022-09-20T17:48:39.739617",
     "exception": false,
     "start_time": "2022-09-20T17:48:39.731083",
     "status": "completed"
    },
    "tags": []
   },
   "source": [
    "<div style=\"color:black;\n",
    "            display:fill;\n",
    "            border-radius:1px;\n",
    "            background-color:LIGHTBLUE;\n",
    "            font-size:80%;\n",
    "            font-family:Verdana;\n",
    "            letter-spacing:1px\">\n",
    "    \n",
    " <ul>\n",
    "     <li><b>work_year</b>: The year the salary was paid.<br></li>\n",
    "     <li><b>experience_level</b>:  The experience level in the job during the year with the following possible values: EN Entry-level / Junior MI Mid-level / Intermediate SE Senior-level / Expert EX Executive-level / Director<br></li>\n",
    "     <li><b>employment_type</b>:The type of employement for the role: PT Part-time FT Full-time CT Contract FL Freelance<br></li>\n",
    "     <li><b>salary</b>: The total gross salary amount paid.<br></li>\n",
    "     <li><b>salary_currency</b>: The currency of the salary paid as an ISO 4217 currency code.<br></li>\n",
    "     <li><b>salaryinusd</b>:The salary in USD (FX rate divided by avg. USD rate for the respective year via fxdata.foorilla.com).<br></li>\n",
    "     <li><b>employee_residence</b>: Employee's primary country of residence in during the work year as an ISO 3166 country code.<br></li>\n",
    "     <li><b>remote_ratio</b>: The overall amount of work done remotely, possible values are as follows: 0 No remote work (less than 20%) 50 Partially remote 100 Fully remote (more than 80%)<br></li>\n",
    "     <li><b>company_location</b>: The country of the employer's main office or contracting branch as an ISO 3166 country code.<br></li>\n",
    "     <li><b>company_size</b>: The average number of people that worked for the company during the year: S less than 50 employees (small) M 50 to 250 employees (medium) L more than 250 employees (large)<br></li>\n",
    "    </ul>\n",
    "</div>"
   ]
  },
  {
   "cell_type": "markdown",
   "id": "3f44a647",
   "metadata": {
    "papermill": {
     "duration": 0.008572,
     "end_time": "2022-09-20T17:48:39.757076",
     "exception": false,
     "start_time": "2022-09-20T17:48:39.748504",
     "status": "completed"
    },
    "tags": []
   },
   "source": [
    "<div style=\"color:white;\n",
    "            display:fill;\n",
    "            border-radius:15px;\n",
    "            background-color:purple;\n",
    "            font-size:100%;\n",
    "            font-family:Verdana;\n",
    "            letter-spacing:1px\">\n",
    "    <h3 style='padding: 20px;\n",
    "              color:white;\n",
    "              text-align:center;'>\n",
    "        EXPLORATORY DATA ANALYSIS\n",
    "    </h3>\n",
    "    </div>"
   ]
  },
  {
   "cell_type": "code",
   "execution_count": 5,
   "id": "a4dbfb2f",
   "metadata": {
    "execution": {
     "iopub.execute_input": "2022-09-20T17:48:39.776668Z",
     "iopub.status.busy": "2022-09-20T17:48:39.776219Z",
     "iopub.status.idle": "2022-09-20T17:48:39.782379Z",
     "shell.execute_reply": "2022-09-20T17:48:39.781031Z"
    },
    "papermill": {
     "duration": 0.019021,
     "end_time": "2022-09-20T17:48:39.784868",
     "exception": false,
     "start_time": "2022-09-20T17:48:39.765847",
     "status": "completed"
    },
    "tags": []
   },
   "outputs": [],
   "source": [
    "# Droping the useless column 'Unnamed: 0'\n",
    "df=df.drop('Unnamed: 0',axis=1)"
   ]
  },
  {
   "cell_type": "code",
   "execution_count": 6,
   "id": "b89dc97f",
   "metadata": {
    "execution": {
     "iopub.execute_input": "2022-09-20T17:48:39.804494Z",
     "iopub.status.busy": "2022-09-20T17:48:39.804096Z",
     "iopub.status.idle": "2022-09-20T17:48:39.813097Z",
     "shell.execute_reply": "2022-09-20T17:48:39.811968Z"
    },
    "papermill": {
     "duration": 0.021755,
     "end_time": "2022-09-20T17:48:39.815584",
     "exception": false,
     "start_time": "2022-09-20T17:48:39.793829",
     "status": "completed"
    },
    "tags": []
   },
   "outputs": [],
   "source": [
    "df['experience_level'].replace({'EN':'Entry-Level','MI':'Mid-Level','EX':'Executive Level','SE':'Senior'},inplace=True)\n",
    "df['employment_type'].replace({'PT':'Part-Time','FT':'Full-Time','CT':'Contract','FL':'Freelance'},inplace=True)"
   ]
  },
  {
   "cell_type": "code",
   "execution_count": 7,
   "id": "10aee08f",
   "metadata": {
    "execution": {
     "iopub.execute_input": "2022-09-20T17:48:39.835534Z",
     "iopub.status.busy": "2022-09-20T17:48:39.835105Z",
     "iopub.status.idle": "2022-09-20T17:48:39.844796Z",
     "shell.execute_reply": "2022-09-20T17:48:39.843701Z"
    },
    "papermill": {
     "duration": 0.022501,
     "end_time": "2022-09-20T17:48:39.847098",
     "exception": false,
     "start_time": "2022-09-20T17:48:39.824597",
     "status": "completed"
    },
    "tags": []
   },
   "outputs": [
    {
     "data": {
      "text/plain": [
       "work_year             0\n",
       "experience_level      0\n",
       "employment_type       0\n",
       "job_title             0\n",
       "salary                0\n",
       "salary_currency       0\n",
       "salary_in_usd         0\n",
       "employee_residence    0\n",
       "remote_ratio          0\n",
       "company_location      0\n",
       "company_size          0\n",
       "dtype: int64"
      ]
     },
     "execution_count": 7,
     "metadata": {},
     "output_type": "execute_result"
    }
   ],
   "source": [
    "#Checking for null values\n",
    "df.isnull().sum()"
   ]
  },
  {
   "cell_type": "code",
   "execution_count": 8,
   "id": "f279a5ce",
   "metadata": {
    "execution": {
     "iopub.execute_input": "2022-09-20T17:48:39.866891Z",
     "iopub.status.busy": "2022-09-20T17:48:39.866445Z",
     "iopub.status.idle": "2022-09-20T17:48:39.891102Z",
     "shell.execute_reply": "2022-09-20T17:48:39.890207Z"
    },
    "papermill": {
     "duration": 0.03741,
     "end_time": "2022-09-20T17:48:39.893573",
     "exception": false,
     "start_time": "2022-09-20T17:48:39.856163",
     "status": "completed"
    },
    "tags": []
   },
   "outputs": [
    {
     "data": {
      "text/html": [
       "<div>\n",
       "<style scoped>\n",
       "    .dataframe tbody tr th:only-of-type {\n",
       "        vertical-align: middle;\n",
       "    }\n",
       "\n",
       "    .dataframe tbody tr th {\n",
       "        vertical-align: top;\n",
       "    }\n",
       "\n",
       "    .dataframe thead th {\n",
       "        text-align: right;\n",
       "    }\n",
       "</style>\n",
       "<table border=\"1\" class=\"dataframe\">\n",
       "  <thead>\n",
       "    <tr style=\"text-align: right;\">\n",
       "      <th></th>\n",
       "      <th>work_year</th>\n",
       "      <th>salary</th>\n",
       "      <th>salary_in_usd</th>\n",
       "      <th>remote_ratio</th>\n",
       "    </tr>\n",
       "  </thead>\n",
       "  <tbody>\n",
       "    <tr>\n",
       "      <th>count</th>\n",
       "      <td>607.000000</td>\n",
       "      <td>6.070000e+02</td>\n",
       "      <td>607.000000</td>\n",
       "      <td>607.00000</td>\n",
       "    </tr>\n",
       "    <tr>\n",
       "      <th>mean</th>\n",
       "      <td>2021.405272</td>\n",
       "      <td>3.240001e+05</td>\n",
       "      <td>112297.869852</td>\n",
       "      <td>70.92257</td>\n",
       "    </tr>\n",
       "    <tr>\n",
       "      <th>std</th>\n",
       "      <td>0.692133</td>\n",
       "      <td>1.544357e+06</td>\n",
       "      <td>70957.259411</td>\n",
       "      <td>40.70913</td>\n",
       "    </tr>\n",
       "    <tr>\n",
       "      <th>min</th>\n",
       "      <td>2020.000000</td>\n",
       "      <td>4.000000e+03</td>\n",
       "      <td>2859.000000</td>\n",
       "      <td>0.00000</td>\n",
       "    </tr>\n",
       "    <tr>\n",
       "      <th>25%</th>\n",
       "      <td>2021.000000</td>\n",
       "      <td>7.000000e+04</td>\n",
       "      <td>62726.000000</td>\n",
       "      <td>50.00000</td>\n",
       "    </tr>\n",
       "    <tr>\n",
       "      <th>50%</th>\n",
       "      <td>2022.000000</td>\n",
       "      <td>1.150000e+05</td>\n",
       "      <td>101570.000000</td>\n",
       "      <td>100.00000</td>\n",
       "    </tr>\n",
       "    <tr>\n",
       "      <th>75%</th>\n",
       "      <td>2022.000000</td>\n",
       "      <td>1.650000e+05</td>\n",
       "      <td>150000.000000</td>\n",
       "      <td>100.00000</td>\n",
       "    </tr>\n",
       "    <tr>\n",
       "      <th>max</th>\n",
       "      <td>2022.000000</td>\n",
       "      <td>3.040000e+07</td>\n",
       "      <td>600000.000000</td>\n",
       "      <td>100.00000</td>\n",
       "    </tr>\n",
       "  </tbody>\n",
       "</table>\n",
       "</div>"
      ],
      "text/plain": [
       "         work_year        salary  salary_in_usd  remote_ratio\n",
       "count   607.000000  6.070000e+02     607.000000     607.00000\n",
       "mean   2021.405272  3.240001e+05  112297.869852      70.92257\n",
       "std       0.692133  1.544357e+06   70957.259411      40.70913\n",
       "min    2020.000000  4.000000e+03    2859.000000       0.00000\n",
       "25%    2021.000000  7.000000e+04   62726.000000      50.00000\n",
       "50%    2022.000000  1.150000e+05  101570.000000     100.00000\n",
       "75%    2022.000000  1.650000e+05  150000.000000     100.00000\n",
       "max    2022.000000  3.040000e+07  600000.000000     100.00000"
      ]
     },
     "execution_count": 8,
     "metadata": {},
     "output_type": "execute_result"
    }
   ],
   "source": [
    "df.describe()"
   ]
  },
  {
   "cell_type": "code",
   "execution_count": 9,
   "id": "961c6530",
   "metadata": {
    "execution": {
     "iopub.execute_input": "2022-09-20T17:48:39.914331Z",
     "iopub.status.busy": "2022-09-20T17:48:39.913195Z",
     "iopub.status.idle": "2022-09-20T17:48:39.927725Z",
     "shell.execute_reply": "2022-09-20T17:48:39.926413Z"
    },
    "papermill": {
     "duration": 0.027357,
     "end_time": "2022-09-20T17:48:39.930292",
     "exception": false,
     "start_time": "2022-09-20T17:48:39.902935",
     "status": "completed"
    },
    "tags": []
   },
   "outputs": [
    {
     "data": {
      "text/html": [
       "<div>\n",
       "<style scoped>\n",
       "    .dataframe tbody tr th:only-of-type {\n",
       "        vertical-align: middle;\n",
       "    }\n",
       "\n",
       "    .dataframe tbody tr th {\n",
       "        vertical-align: top;\n",
       "    }\n",
       "\n",
       "    .dataframe thead th {\n",
       "        text-align: right;\n",
       "    }\n",
       "</style>\n",
       "<table border=\"1\" class=\"dataframe\">\n",
       "  <thead>\n",
       "    <tr style=\"text-align: right;\">\n",
       "      <th></th>\n",
       "      <th>work_year</th>\n",
       "      <th>salary</th>\n",
       "      <th>salary_in_usd</th>\n",
       "      <th>remote_ratio</th>\n",
       "    </tr>\n",
       "  </thead>\n",
       "  <tbody>\n",
       "    <tr>\n",
       "      <th>work_year</th>\n",
       "      <td>1.000000</td>\n",
       "      <td>-0.087577</td>\n",
       "      <td>0.170493</td>\n",
       "      <td>0.076314</td>\n",
       "    </tr>\n",
       "    <tr>\n",
       "      <th>salary</th>\n",
       "      <td>-0.087577</td>\n",
       "      <td>1.000000</td>\n",
       "      <td>-0.083906</td>\n",
       "      <td>-0.014608</td>\n",
       "    </tr>\n",
       "    <tr>\n",
       "      <th>salary_in_usd</th>\n",
       "      <td>0.170493</td>\n",
       "      <td>-0.083906</td>\n",
       "      <td>1.000000</td>\n",
       "      <td>0.132122</td>\n",
       "    </tr>\n",
       "    <tr>\n",
       "      <th>remote_ratio</th>\n",
       "      <td>0.076314</td>\n",
       "      <td>-0.014608</td>\n",
       "      <td>0.132122</td>\n",
       "      <td>1.000000</td>\n",
       "    </tr>\n",
       "  </tbody>\n",
       "</table>\n",
       "</div>"
      ],
      "text/plain": [
       "               work_year    salary  salary_in_usd  remote_ratio\n",
       "work_year       1.000000 -0.087577       0.170493      0.076314\n",
       "salary         -0.087577  1.000000      -0.083906     -0.014608\n",
       "salary_in_usd   0.170493 -0.083906       1.000000      0.132122\n",
       "remote_ratio    0.076314 -0.014608       0.132122      1.000000"
      ]
     },
     "execution_count": 9,
     "metadata": {},
     "output_type": "execute_result"
    }
   ],
   "source": [
    "df.corr().T"
   ]
  },
  {
   "cell_type": "code",
   "execution_count": 10,
   "id": "7187c304",
   "metadata": {
    "execution": {
     "iopub.execute_input": "2022-09-20T17:48:39.951700Z",
     "iopub.status.busy": "2022-09-20T17:48:39.950632Z",
     "iopub.status.idle": "2022-09-20T17:48:41.110056Z",
     "shell.execute_reply": "2022-09-20T17:48:41.109218Z"
    },
    "papermill": {
     "duration": 1.172444,
     "end_time": "2022-09-20T17:48:41.112203",
     "exception": false,
     "start_time": "2022-09-20T17:48:39.939759",
     "status": "completed"
    },
    "tags": []
   },
   "outputs": [
    {
     "data": {
      "text/html": [
       "        <script type=\"text/javascript\">\n",
       "        window.PlotlyConfig = {MathJaxConfig: 'local'};\n",
       "        if (window.MathJax && window.MathJax.Hub && window.MathJax.Hub.Config) {window.MathJax.Hub.Config({SVG: {font: \"STIX-Web\"}});}\n",
       "        if (typeof require !== 'undefined') {\n",
       "        require.undef(\"plotly\");\n",
       "        requirejs.config({\n",
       "            paths: {\n",
       "                'plotly': ['https://cdn.plot.ly/plotly-2.14.0.min']\n",
       "            }\n",
       "        });\n",
       "        require(['plotly'], function(Plotly) {\n",
       "            window._Plotly = Plotly;\n",
       "        });\n",
       "        }\n",
       "        </script>\n",
       "        "
      ]
     },
     "metadata": {},
     "output_type": "display_data"
    },
    {
     "data": {
      "text/html": [
       "<div>                            <div id=\"71fa0830-859a-4fac-a39e-aaaf403a7ee7\" class=\"plotly-graph-div\" style=\"height:600px; width:600px;\"></div>            <script type=\"text/javascript\">                require([\"plotly\"], function(Plotly) {                    window.PLOTLYENV=window.PLOTLYENV || {};                                    if (document.getElementById(\"71fa0830-859a-4fac-a39e-aaaf403a7ee7\")) {                    Plotly.newPlot(                        \"71fa0830-859a-4fac-a39e-aaaf403a7ee7\",                        [{\"coloraxis\":\"coloraxis\",\"name\":\"0\",\"texttemplate\":\"%{z}\",\"x\":[\"work_year\",\"salary\",\"salary_in_usd\",\"remote_ratio\"],\"y\":[\"work_year\",\"salary\",\"salary_in_usd\",\"remote_ratio\"],\"z\":[[1.0,-0.0875773838945656,0.17049332455338606,0.07631437405384806],[-0.0875773838945656,1.0,-0.0839056921059893,-0.014608470101377384],[0.17049332455338606,-0.0839056921059893,1.0,0.13212233539422116],[0.07631437405384806,-0.014608470101377384,0.13212233539422116,1.0]],\"type\":\"heatmap\",\"xaxis\":\"x\",\"yaxis\":\"y\",\"hovertemplate\":\"x: %{x}<br>y: %{y}<br>color: %{z}<extra></extra>\"}],                        {\"template\":{\"data\":{\"barpolar\":[{\"marker\":{\"line\":{\"color\":\"rgb(237,237,237)\",\"width\":0.5},\"pattern\":{\"fillmode\":\"overlay\",\"size\":10,\"solidity\":0.2}},\"type\":\"barpolar\"}],\"bar\":[{\"error_x\":{\"color\":\"rgb(51,51,51)\"},\"error_y\":{\"color\":\"rgb(51,51,51)\"},\"marker\":{\"line\":{\"color\":\"rgb(237,237,237)\",\"width\":0.5},\"pattern\":{\"fillmode\":\"overlay\",\"size\":10,\"solidity\":0.2}},\"type\":\"bar\"}],\"carpet\":[{\"aaxis\":{\"endlinecolor\":\"rgb(51,51,51)\",\"gridcolor\":\"white\",\"linecolor\":\"white\",\"minorgridcolor\":\"white\",\"startlinecolor\":\"rgb(51,51,51)\"},\"baxis\":{\"endlinecolor\":\"rgb(51,51,51)\",\"gridcolor\":\"white\",\"linecolor\":\"white\",\"minorgridcolor\":\"white\",\"startlinecolor\":\"rgb(51,51,51)\"},\"type\":\"carpet\"}],\"choropleth\":[{\"colorbar\":{\"outlinewidth\":0,\"tickcolor\":\"rgb(237,237,237)\",\"ticklen\":6,\"ticks\":\"inside\"},\"type\":\"choropleth\"}],\"contourcarpet\":[{\"colorbar\":{\"outlinewidth\":0,\"tickcolor\":\"rgb(237,237,237)\",\"ticklen\":6,\"ticks\":\"inside\"},\"type\":\"contourcarpet\"}],\"contour\":[{\"colorbar\":{\"outlinewidth\":0,\"tickcolor\":\"rgb(237,237,237)\",\"ticklen\":6,\"ticks\":\"inside\"},\"colorscale\":[[0,\"rgb(20,44,66)\"],[1,\"rgb(90,179,244)\"]],\"type\":\"contour\"}],\"heatmapgl\":[{\"colorbar\":{\"outlinewidth\":0,\"tickcolor\":\"rgb(237,237,237)\",\"ticklen\":6,\"ticks\":\"inside\"},\"colorscale\":[[0,\"rgb(20,44,66)\"],[1,\"rgb(90,179,244)\"]],\"type\":\"heatmapgl\"}],\"heatmap\":[{\"colorbar\":{\"outlinewidth\":0,\"tickcolor\":\"rgb(237,237,237)\",\"ticklen\":6,\"ticks\":\"inside\"},\"colorscale\":[[0,\"rgb(20,44,66)\"],[1,\"rgb(90,179,244)\"]],\"type\":\"heatmap\"}],\"histogram2dcontour\":[{\"colorbar\":{\"outlinewidth\":0,\"tickcolor\":\"rgb(237,237,237)\",\"ticklen\":6,\"ticks\":\"inside\"},\"colorscale\":[[0,\"rgb(20,44,66)\"],[1,\"rgb(90,179,244)\"]],\"type\":\"histogram2dcontour\"}],\"histogram2d\":[{\"colorbar\":{\"outlinewidth\":0,\"tickcolor\":\"rgb(237,237,237)\",\"ticklen\":6,\"ticks\":\"inside\"},\"colorscale\":[[0,\"rgb(20,44,66)\"],[1,\"rgb(90,179,244)\"]],\"type\":\"histogram2d\"}],\"histogram\":[{\"marker\":{\"pattern\":{\"fillmode\":\"overlay\",\"size\":10,\"solidity\":0.2}},\"type\":\"histogram\"}],\"mesh3d\":[{\"colorbar\":{\"outlinewidth\":0,\"tickcolor\":\"rgb(237,237,237)\",\"ticklen\":6,\"ticks\":\"inside\"},\"type\":\"mesh3d\"}],\"parcoords\":[{\"line\":{\"colorbar\":{\"outlinewidth\":0,\"tickcolor\":\"rgb(237,237,237)\",\"ticklen\":6,\"ticks\":\"inside\"}},\"type\":\"parcoords\"}],\"pie\":[{\"automargin\":true,\"type\":\"pie\"}],\"scatter3d\":[{\"line\":{\"colorbar\":{\"outlinewidth\":0,\"tickcolor\":\"rgb(237,237,237)\",\"ticklen\":6,\"ticks\":\"inside\"}},\"marker\":{\"colorbar\":{\"outlinewidth\":0,\"tickcolor\":\"rgb(237,237,237)\",\"ticklen\":6,\"ticks\":\"inside\"}},\"type\":\"scatter3d\"}],\"scattercarpet\":[{\"marker\":{\"colorbar\":{\"outlinewidth\":0,\"tickcolor\":\"rgb(237,237,237)\",\"ticklen\":6,\"ticks\":\"inside\"}},\"type\":\"scattercarpet\"}],\"scattergeo\":[{\"marker\":{\"colorbar\":{\"outlinewidth\":0,\"tickcolor\":\"rgb(237,237,237)\",\"ticklen\":6,\"ticks\":\"inside\"}},\"type\":\"scattergeo\"}],\"scattergl\":[{\"marker\":{\"colorbar\":{\"outlinewidth\":0,\"tickcolor\":\"rgb(237,237,237)\",\"ticklen\":6,\"ticks\":\"inside\"}},\"type\":\"scattergl\"}],\"scattermapbox\":[{\"marker\":{\"colorbar\":{\"outlinewidth\":0,\"tickcolor\":\"rgb(237,237,237)\",\"ticklen\":6,\"ticks\":\"inside\"}},\"type\":\"scattermapbox\"}],\"scatterpolargl\":[{\"marker\":{\"colorbar\":{\"outlinewidth\":0,\"tickcolor\":\"rgb(237,237,237)\",\"ticklen\":6,\"ticks\":\"inside\"}},\"type\":\"scatterpolargl\"}],\"scatterpolar\":[{\"marker\":{\"colorbar\":{\"outlinewidth\":0,\"tickcolor\":\"rgb(237,237,237)\",\"ticklen\":6,\"ticks\":\"inside\"}},\"type\":\"scatterpolar\"}],\"scatter\":[{\"fillpattern\":{\"fillmode\":\"overlay\",\"size\":10,\"solidity\":0.2},\"type\":\"scatter\"}],\"scatterternary\":[{\"marker\":{\"colorbar\":{\"outlinewidth\":0,\"tickcolor\":\"rgb(237,237,237)\",\"ticklen\":6,\"ticks\":\"inside\"}},\"type\":\"scatterternary\"}],\"surface\":[{\"colorbar\":{\"outlinewidth\":0,\"tickcolor\":\"rgb(237,237,237)\",\"ticklen\":6,\"ticks\":\"inside\"},\"colorscale\":[[0,\"rgb(20,44,66)\"],[1,\"rgb(90,179,244)\"]],\"type\":\"surface\"}],\"table\":[{\"cells\":{\"fill\":{\"color\":\"rgb(237,237,237)\"},\"line\":{\"color\":\"white\"}},\"header\":{\"fill\":{\"color\":\"rgb(217,217,217)\"},\"line\":{\"color\":\"white\"}},\"type\":\"table\"}]},\"layout\":{\"annotationdefaults\":{\"arrowhead\":0,\"arrowwidth\":1},\"autotypenumbers\":\"strict\",\"coloraxis\":{\"colorbar\":{\"outlinewidth\":0,\"tickcolor\":\"rgb(237,237,237)\",\"ticklen\":6,\"ticks\":\"inside\"}},\"colorscale\":{\"sequential\":[[0,\"rgb(20,44,66)\"],[1,\"rgb(90,179,244)\"]],\"sequentialminus\":[[0,\"rgb(20,44,66)\"],[1,\"rgb(90,179,244)\"]]},\"colorway\":[\"#F8766D\",\"#A3A500\",\"#00BF7D\",\"#00B0F6\",\"#E76BF3\"],\"font\":{\"color\":\"rgb(51,51,51)\"},\"geo\":{\"bgcolor\":\"white\",\"lakecolor\":\"white\",\"landcolor\":\"rgb(237,237,237)\",\"showlakes\":true,\"showland\":true,\"subunitcolor\":\"white\"},\"hoverlabel\":{\"align\":\"left\"},\"hovermode\":\"closest\",\"paper_bgcolor\":\"white\",\"plot_bgcolor\":\"rgb(237,237,237)\",\"polar\":{\"angularaxis\":{\"gridcolor\":\"white\",\"linecolor\":\"white\",\"showgrid\":true,\"tickcolor\":\"rgb(51,51,51)\",\"ticks\":\"outside\"},\"bgcolor\":\"rgb(237,237,237)\",\"radialaxis\":{\"gridcolor\":\"white\",\"linecolor\":\"white\",\"showgrid\":true,\"tickcolor\":\"rgb(51,51,51)\",\"ticks\":\"outside\"}},\"scene\":{\"xaxis\":{\"backgroundcolor\":\"rgb(237,237,237)\",\"gridcolor\":\"white\",\"gridwidth\":2,\"linecolor\":\"white\",\"showbackground\":true,\"showgrid\":true,\"tickcolor\":\"rgb(51,51,51)\",\"ticks\":\"outside\",\"zerolinecolor\":\"white\"},\"yaxis\":{\"backgroundcolor\":\"rgb(237,237,237)\",\"gridcolor\":\"white\",\"gridwidth\":2,\"linecolor\":\"white\",\"showbackground\":true,\"showgrid\":true,\"tickcolor\":\"rgb(51,51,51)\",\"ticks\":\"outside\",\"zerolinecolor\":\"white\"},\"zaxis\":{\"backgroundcolor\":\"rgb(237,237,237)\",\"gridcolor\":\"white\",\"gridwidth\":2,\"linecolor\":\"white\",\"showbackground\":true,\"showgrid\":true,\"tickcolor\":\"rgb(51,51,51)\",\"ticks\":\"outside\",\"zerolinecolor\":\"white\"}},\"shapedefaults\":{\"fillcolor\":\"black\",\"line\":{\"width\":0},\"opacity\":0.3},\"ternary\":{\"aaxis\":{\"gridcolor\":\"white\",\"linecolor\":\"white\",\"showgrid\":true,\"tickcolor\":\"rgb(51,51,51)\",\"ticks\":\"outside\"},\"baxis\":{\"gridcolor\":\"white\",\"linecolor\":\"white\",\"showgrid\":true,\"tickcolor\":\"rgb(51,51,51)\",\"ticks\":\"outside\"},\"bgcolor\":\"rgb(237,237,237)\",\"caxis\":{\"gridcolor\":\"white\",\"linecolor\":\"white\",\"showgrid\":true,\"tickcolor\":\"rgb(51,51,51)\",\"ticks\":\"outside\"}},\"xaxis\":{\"automargin\":true,\"gridcolor\":\"white\",\"linecolor\":\"white\",\"showgrid\":true,\"tickcolor\":\"rgb(51,51,51)\",\"ticks\":\"outside\",\"title\":{\"standoff\":15},\"zerolinecolor\":\"white\"},\"yaxis\":{\"automargin\":true,\"gridcolor\":\"white\",\"linecolor\":\"white\",\"showgrid\":true,\"tickcolor\":\"rgb(51,51,51)\",\"ticks\":\"outside\",\"title\":{\"standoff\":15},\"zerolinecolor\":\"white\"}}},\"xaxis\":{\"anchor\":\"y\",\"domain\":[0.0,1.0]},\"yaxis\":{\"anchor\":\"x\",\"domain\":[0.0,1.0],\"autorange\":\"reversed\"},\"coloraxis\":{\"colorscale\":[[0.0,\"rgb(20,44,66)\"],[1.0,\"rgb(90,179,244)\"]]},\"title\":{\"text\":\"<b>paiwise correlation of columns</b>\",\"x\":0.5},\"height\":600,\"width\":600},                        {\"responsive\": true}                    ).then(function(){\n",
       "                            \n",
       "var gd = document.getElementById('71fa0830-859a-4fac-a39e-aaaf403a7ee7');\n",
       "var x = new MutationObserver(function (mutations, observer) {{\n",
       "        var display = window.getComputedStyle(gd).display;\n",
       "        if (!display || display === 'none') {{\n",
       "            console.log([gd, 'removed!']);\n",
       "            Plotly.purge(gd);\n",
       "            observer.disconnect();\n",
       "        }}\n",
       "}});\n",
       "\n",
       "// Listen for the removal of the full notebook cells\n",
       "var notebookContainer = gd.closest('#notebook-container');\n",
       "if (notebookContainer) {{\n",
       "    x.observe(notebookContainer, {childList: true});\n",
       "}}\n",
       "\n",
       "// Listen for the clearing of the current output cell\n",
       "var outputEl = gd.closest('.output');\n",
       "if (outputEl) {{\n",
       "    x.observe(outputEl, {childList: true});\n",
       "}}\n",
       "\n",
       "                        })                };                });            </script>        </div>"
      ]
     },
     "metadata": {},
     "output_type": "display_data"
    }
   ],
   "source": [
    "fig=px.imshow(df.corr(),text_auto=True,height=600,width=600,template='ggplot2',aspect='auto',title='<b>paiwise correlation of columns</b>')\n",
    "fig.update_layout(title_x=0.5)\n",
    "fig.show()"
   ]
  },
  {
   "cell_type": "code",
   "execution_count": 11,
   "id": "06805525",
   "metadata": {
    "execution": {
     "iopub.execute_input": "2022-09-20T17:48:41.135376Z",
     "iopub.status.busy": "2022-09-20T17:48:41.133099Z",
     "iopub.status.idle": "2022-09-20T17:48:41.311185Z",
     "shell.execute_reply": "2022-09-20T17:48:41.310080Z"
    },
    "papermill": {
     "duration": 0.191535,
     "end_time": "2022-09-20T17:48:41.313639",
     "exception": false,
     "start_time": "2022-09-20T17:48:41.122104",
     "status": "completed"
    },
    "tags": []
   },
   "outputs": [
    {
     "data": {
      "text/html": [
       "<div>                            <div id=\"c241aa6a-20cf-4507-bbfa-2a867418d3e3\" class=\"plotly-graph-div\" style=\"height:525px; width:100%;\"></div>            <script type=\"text/javascript\">                require([\"plotly\"], function(Plotly) {                    window.PLOTLYENV=window.PLOTLYENV || {};                                    if (document.getElementById(\"c241aa6a-20cf-4507-bbfa-2a867418d3e3\")) {                    Plotly.newPlot(                        \"c241aa6a-20cf-4507-bbfa-2a867418d3e3\",                        [{\"alignmentgroup\":\"True\",\"hovertemplate\":\"job title=%{x}<br>count=%{text}<extra></extra>\",\"legendgroup\":\"Data Scientist\",\"marker\":{\"color\":\"rgb(76,114,176)\",\"pattern\":{\"shape\":\"\"}},\"name\":\"Data Scientist\",\"offsetgroup\":\"Data Scientist\",\"orientation\":\"v\",\"showlegend\":true,\"text\":[143.0],\"textposition\":\"auto\",\"x\":[\"Data Scientist\"],\"xaxis\":\"x\",\"y\":[143],\"yaxis\":\"y\",\"type\":\"bar\"},{\"alignmentgroup\":\"True\",\"hovertemplate\":\"job title=%{x}<br>count=%{text}<extra></extra>\",\"legendgroup\":\"Data Engineer\",\"marker\":{\"color\":\"rgb(221,132,82)\",\"pattern\":{\"shape\":\"\"}},\"name\":\"Data Engineer\",\"offsetgroup\":\"Data Engineer\",\"orientation\":\"v\",\"showlegend\":true,\"text\":[132.0],\"textposition\":\"auto\",\"x\":[\"Data Engineer\"],\"xaxis\":\"x\",\"y\":[132],\"yaxis\":\"y\",\"type\":\"bar\"},{\"alignmentgroup\":\"True\",\"hovertemplate\":\"job title=%{x}<br>count=%{text}<extra></extra>\",\"legendgroup\":\"Data Analyst\",\"marker\":{\"color\":\"rgb(85,168,104)\",\"pattern\":{\"shape\":\"\"}},\"name\":\"Data Analyst\",\"offsetgroup\":\"Data Analyst\",\"orientation\":\"v\",\"showlegend\":true,\"text\":[97.0],\"textposition\":\"auto\",\"x\":[\"Data Analyst\"],\"xaxis\":\"x\",\"y\":[97],\"yaxis\":\"y\",\"type\":\"bar\"},{\"alignmentgroup\":\"True\",\"hovertemplate\":\"job title=%{x}<br>count=%{text}<extra></extra>\",\"legendgroup\":\"Machine Learning Engineer\",\"marker\":{\"color\":\"rgb(196,78,82)\",\"pattern\":{\"shape\":\"\"}},\"name\":\"Machine Learning Engineer\",\"offsetgroup\":\"Machine Learning Engineer\",\"orientation\":\"v\",\"showlegend\":true,\"text\":[41.0],\"textposition\":\"auto\",\"x\":[\"Machine Learning Engineer\"],\"xaxis\":\"x\",\"y\":[41],\"yaxis\":\"y\",\"type\":\"bar\"},{\"alignmentgroup\":\"True\",\"hovertemplate\":\"job title=%{x}<br>count=%{text}<extra></extra>\",\"legendgroup\":\"Research Scientist\",\"marker\":{\"color\":\"rgb(129,114,179)\",\"pattern\":{\"shape\":\"\"}},\"name\":\"Research Scientist\",\"offsetgroup\":\"Research Scientist\",\"orientation\":\"v\",\"showlegend\":true,\"text\":[16.0],\"textposition\":\"auto\",\"x\":[\"Research Scientist\"],\"xaxis\":\"x\",\"y\":[16],\"yaxis\":\"y\",\"type\":\"bar\"},{\"alignmentgroup\":\"True\",\"hovertemplate\":\"job title=%{x}<br>count=%{text}<extra></extra>\",\"legendgroup\":\"Data Science Manager\",\"marker\":{\"color\":\"rgb(147,120,96)\",\"pattern\":{\"shape\":\"\"}},\"name\":\"Data Science Manager\",\"offsetgroup\":\"Data Science Manager\",\"orientation\":\"v\",\"showlegend\":true,\"text\":[12.0],\"textposition\":\"auto\",\"x\":[\"Data Science Manager\"],\"xaxis\":\"x\",\"y\":[12],\"yaxis\":\"y\",\"type\":\"bar\"},{\"alignmentgroup\":\"True\",\"hovertemplate\":\"job title=%{x}<br>count=%{text}<extra></extra>\",\"legendgroup\":\"Data Architect\",\"marker\":{\"color\":\"rgb(218,139,195)\",\"pattern\":{\"shape\":\"\"}},\"name\":\"Data Architect\",\"offsetgroup\":\"Data Architect\",\"orientation\":\"v\",\"showlegend\":true,\"text\":[11.0],\"textposition\":\"auto\",\"x\":[\"Data Architect\"],\"xaxis\":\"x\",\"y\":[11],\"yaxis\":\"y\",\"type\":\"bar\"},{\"alignmentgroup\":\"True\",\"hovertemplate\":\"job title=%{x}<br>count=%{text}<extra></extra>\",\"legendgroup\":\"Big Data Engineer\",\"marker\":{\"color\":\"rgb(140,140,140)\",\"pattern\":{\"shape\":\"\"}},\"name\":\"Big Data Engineer\",\"offsetgroup\":\"Big Data Engineer\",\"orientation\":\"v\",\"showlegend\":true,\"text\":[8.0],\"textposition\":\"auto\",\"x\":[\"Big Data Engineer\"],\"xaxis\":\"x\",\"y\":[8],\"yaxis\":\"y\",\"type\":\"bar\"},{\"alignmentgroup\":\"True\",\"hovertemplate\":\"job title=%{x}<br>count=%{text}<extra></extra>\",\"legendgroup\":\"Machine Learning Scientist\",\"marker\":{\"color\":\"rgb(204,185,116)\",\"pattern\":{\"shape\":\"\"}},\"name\":\"Machine Learning Scientist\",\"offsetgroup\":\"Machine Learning Scientist\",\"orientation\":\"v\",\"showlegend\":true,\"text\":[8.0],\"textposition\":\"auto\",\"x\":[\"Machine Learning Scientist\"],\"xaxis\":\"x\",\"y\":[8],\"yaxis\":\"y\",\"type\":\"bar\"},{\"alignmentgroup\":\"True\",\"hovertemplate\":\"job title=%{x}<br>count=%{text}<extra></extra>\",\"legendgroup\":\"Principal Data Scientist\",\"marker\":{\"color\":\"rgb(100,181,205)\",\"pattern\":{\"shape\":\"\"}},\"name\":\"Principal Data Scientist\",\"offsetgroup\":\"Principal Data Scientist\",\"orientation\":\"v\",\"showlegend\":true,\"text\":[7.0],\"textposition\":\"auto\",\"x\":[\"Principal Data Scientist\"],\"xaxis\":\"x\",\"y\":[7],\"yaxis\":\"y\",\"type\":\"bar\"}],                        {\"template\":{\"data\":{\"barpolar\":[{\"marker\":{\"line\":{\"color\":\"rgb(234,234,242)\",\"width\":0.5},\"pattern\":{\"fillmode\":\"overlay\",\"size\":10,\"solidity\":0.2}},\"type\":\"barpolar\"}],\"bar\":[{\"error_x\":{\"color\":\"rgb(36,36,36)\"},\"error_y\":{\"color\":\"rgb(36,36,36)\"},\"marker\":{\"line\":{\"color\":\"rgb(234,234,242)\",\"width\":0.5},\"pattern\":{\"fillmode\":\"overlay\",\"size\":10,\"solidity\":0.2}},\"type\":\"bar\"}],\"carpet\":[{\"aaxis\":{\"endlinecolor\":\"rgb(36,36,36)\",\"gridcolor\":\"white\",\"linecolor\":\"white\",\"minorgridcolor\":\"white\",\"startlinecolor\":\"rgb(36,36,36)\"},\"baxis\":{\"endlinecolor\":\"rgb(36,36,36)\",\"gridcolor\":\"white\",\"linecolor\":\"white\",\"minorgridcolor\":\"white\",\"startlinecolor\":\"rgb(36,36,36)\"},\"type\":\"carpet\"}],\"choropleth\":[{\"colorbar\":{\"outlinewidth\":0,\"tickcolor\":\"rgb(36,36,36)\",\"ticklen\":8,\"ticks\":\"outside\",\"tickwidth\":2},\"type\":\"choropleth\"}],\"contourcarpet\":[{\"colorbar\":{\"outlinewidth\":0,\"tickcolor\":\"rgb(36,36,36)\",\"ticklen\":8,\"ticks\":\"outside\",\"tickwidth\":2},\"type\":\"contourcarpet\"}],\"contour\":[{\"colorbar\":{\"outlinewidth\":0,\"tickcolor\":\"rgb(36,36,36)\",\"ticklen\":8,\"ticks\":\"outside\",\"tickwidth\":2},\"colorscale\":[[0.0,\"rgb(2,4,25)\"],[0.06274509803921569,\"rgb(24,15,41)\"],[0.12549019607843137,\"rgb(47,23,57)\"],[0.18823529411764706,\"rgb(71,28,72)\"],[0.25098039215686274,\"rgb(97,30,82)\"],[0.3137254901960784,\"rgb(123,30,89)\"],[0.3764705882352941,\"rgb(150,27,91)\"],[0.4392156862745098,\"rgb(177,22,88)\"],[0.5019607843137255,\"rgb(203,26,79)\"],[0.5647058823529412,\"rgb(223,47,67)\"],[0.6274509803921569,\"rgb(236,76,61)\"],[0.6901960784313725,\"rgb(242,107,73)\"],[0.7529411764705882,\"rgb(244,135,95)\"],[0.8156862745098039,\"rgb(245,162,122)\"],[0.8784313725490196,\"rgb(246,188,153)\"],[0.9411764705882353,\"rgb(247,212,187)\"],[1.0,\"rgb(250,234,220)\"]],\"type\":\"contour\"}],\"heatmapgl\":[{\"colorbar\":{\"outlinewidth\":0,\"tickcolor\":\"rgb(36,36,36)\",\"ticklen\":8,\"ticks\":\"outside\",\"tickwidth\":2},\"colorscale\":[[0.0,\"rgb(2,4,25)\"],[0.06274509803921569,\"rgb(24,15,41)\"],[0.12549019607843137,\"rgb(47,23,57)\"],[0.18823529411764706,\"rgb(71,28,72)\"],[0.25098039215686274,\"rgb(97,30,82)\"],[0.3137254901960784,\"rgb(123,30,89)\"],[0.3764705882352941,\"rgb(150,27,91)\"],[0.4392156862745098,\"rgb(177,22,88)\"],[0.5019607843137255,\"rgb(203,26,79)\"],[0.5647058823529412,\"rgb(223,47,67)\"],[0.6274509803921569,\"rgb(236,76,61)\"],[0.6901960784313725,\"rgb(242,107,73)\"],[0.7529411764705882,\"rgb(244,135,95)\"],[0.8156862745098039,\"rgb(245,162,122)\"],[0.8784313725490196,\"rgb(246,188,153)\"],[0.9411764705882353,\"rgb(247,212,187)\"],[1.0,\"rgb(250,234,220)\"]],\"type\":\"heatmapgl\"}],\"heatmap\":[{\"colorbar\":{\"outlinewidth\":0,\"tickcolor\":\"rgb(36,36,36)\",\"ticklen\":8,\"ticks\":\"outside\",\"tickwidth\":2},\"colorscale\":[[0.0,\"rgb(2,4,25)\"],[0.06274509803921569,\"rgb(24,15,41)\"],[0.12549019607843137,\"rgb(47,23,57)\"],[0.18823529411764706,\"rgb(71,28,72)\"],[0.25098039215686274,\"rgb(97,30,82)\"],[0.3137254901960784,\"rgb(123,30,89)\"],[0.3764705882352941,\"rgb(150,27,91)\"],[0.4392156862745098,\"rgb(177,22,88)\"],[0.5019607843137255,\"rgb(203,26,79)\"],[0.5647058823529412,\"rgb(223,47,67)\"],[0.6274509803921569,\"rgb(236,76,61)\"],[0.6901960784313725,\"rgb(242,107,73)\"],[0.7529411764705882,\"rgb(244,135,95)\"],[0.8156862745098039,\"rgb(245,162,122)\"],[0.8784313725490196,\"rgb(246,188,153)\"],[0.9411764705882353,\"rgb(247,212,187)\"],[1.0,\"rgb(250,234,220)\"]],\"type\":\"heatmap\"}],\"histogram2dcontour\":[{\"colorbar\":{\"outlinewidth\":0,\"tickcolor\":\"rgb(36,36,36)\",\"ticklen\":8,\"ticks\":\"outside\",\"tickwidth\":2},\"colorscale\":[[0.0,\"rgb(2,4,25)\"],[0.06274509803921569,\"rgb(24,15,41)\"],[0.12549019607843137,\"rgb(47,23,57)\"],[0.18823529411764706,\"rgb(71,28,72)\"],[0.25098039215686274,\"rgb(97,30,82)\"],[0.3137254901960784,\"rgb(123,30,89)\"],[0.3764705882352941,\"rgb(150,27,91)\"],[0.4392156862745098,\"rgb(177,22,88)\"],[0.5019607843137255,\"rgb(203,26,79)\"],[0.5647058823529412,\"rgb(223,47,67)\"],[0.6274509803921569,\"rgb(236,76,61)\"],[0.6901960784313725,\"rgb(242,107,73)\"],[0.7529411764705882,\"rgb(244,135,95)\"],[0.8156862745098039,\"rgb(245,162,122)\"],[0.8784313725490196,\"rgb(246,188,153)\"],[0.9411764705882353,\"rgb(247,212,187)\"],[1.0,\"rgb(250,234,220)\"]],\"type\":\"histogram2dcontour\"}],\"histogram2d\":[{\"colorbar\":{\"outlinewidth\":0,\"tickcolor\":\"rgb(36,36,36)\",\"ticklen\":8,\"ticks\":\"outside\",\"tickwidth\":2},\"colorscale\":[[0.0,\"rgb(2,4,25)\"],[0.06274509803921569,\"rgb(24,15,41)\"],[0.12549019607843137,\"rgb(47,23,57)\"],[0.18823529411764706,\"rgb(71,28,72)\"],[0.25098039215686274,\"rgb(97,30,82)\"],[0.3137254901960784,\"rgb(123,30,89)\"],[0.3764705882352941,\"rgb(150,27,91)\"],[0.4392156862745098,\"rgb(177,22,88)\"],[0.5019607843137255,\"rgb(203,26,79)\"],[0.5647058823529412,\"rgb(223,47,67)\"],[0.6274509803921569,\"rgb(236,76,61)\"],[0.6901960784313725,\"rgb(242,107,73)\"],[0.7529411764705882,\"rgb(244,135,95)\"],[0.8156862745098039,\"rgb(245,162,122)\"],[0.8784313725490196,\"rgb(246,188,153)\"],[0.9411764705882353,\"rgb(247,212,187)\"],[1.0,\"rgb(250,234,220)\"]],\"type\":\"histogram2d\"}],\"histogram\":[{\"marker\":{\"pattern\":{\"fillmode\":\"overlay\",\"size\":10,\"solidity\":0.2}},\"type\":\"histogram\"}],\"mesh3d\":[{\"colorbar\":{\"outlinewidth\":0,\"tickcolor\":\"rgb(36,36,36)\",\"ticklen\":8,\"ticks\":\"outside\",\"tickwidth\":2},\"type\":\"mesh3d\"}],\"parcoords\":[{\"line\":{\"colorbar\":{\"outlinewidth\":0,\"tickcolor\":\"rgb(36,36,36)\",\"ticklen\":8,\"ticks\":\"outside\",\"tickwidth\":2}},\"type\":\"parcoords\"}],\"pie\":[{\"automargin\":true,\"type\":\"pie\"}],\"scatter3d\":[{\"line\":{\"colorbar\":{\"outlinewidth\":0,\"tickcolor\":\"rgb(36,36,36)\",\"ticklen\":8,\"ticks\":\"outside\",\"tickwidth\":2}},\"marker\":{\"colorbar\":{\"outlinewidth\":0,\"tickcolor\":\"rgb(36,36,36)\",\"ticklen\":8,\"ticks\":\"outside\",\"tickwidth\":2}},\"type\":\"scatter3d\"}],\"scattercarpet\":[{\"marker\":{\"colorbar\":{\"outlinewidth\":0,\"tickcolor\":\"rgb(36,36,36)\",\"ticklen\":8,\"ticks\":\"outside\",\"tickwidth\":2}},\"type\":\"scattercarpet\"}],\"scattergeo\":[{\"marker\":{\"colorbar\":{\"outlinewidth\":0,\"tickcolor\":\"rgb(36,36,36)\",\"ticklen\":8,\"ticks\":\"outside\",\"tickwidth\":2}},\"type\":\"scattergeo\"}],\"scattergl\":[{\"marker\":{\"colorbar\":{\"outlinewidth\":0,\"tickcolor\":\"rgb(36,36,36)\",\"ticklen\":8,\"ticks\":\"outside\",\"tickwidth\":2}},\"type\":\"scattergl\"}],\"scattermapbox\":[{\"marker\":{\"colorbar\":{\"outlinewidth\":0,\"tickcolor\":\"rgb(36,36,36)\",\"ticklen\":8,\"ticks\":\"outside\",\"tickwidth\":2}},\"type\":\"scattermapbox\"}],\"scatterpolargl\":[{\"marker\":{\"colorbar\":{\"outlinewidth\":0,\"tickcolor\":\"rgb(36,36,36)\",\"ticklen\":8,\"ticks\":\"outside\",\"tickwidth\":2}},\"type\":\"scatterpolargl\"}],\"scatterpolar\":[{\"marker\":{\"colorbar\":{\"outlinewidth\":0,\"tickcolor\":\"rgb(36,36,36)\",\"ticklen\":8,\"ticks\":\"outside\",\"tickwidth\":2}},\"type\":\"scatterpolar\"}],\"scatter\":[{\"fillpattern\":{\"fillmode\":\"overlay\",\"size\":10,\"solidity\":0.2},\"type\":\"scatter\"}],\"scatterternary\":[{\"marker\":{\"colorbar\":{\"outlinewidth\":0,\"tickcolor\":\"rgb(36,36,36)\",\"ticklen\":8,\"ticks\":\"outside\",\"tickwidth\":2}},\"type\":\"scatterternary\"}],\"surface\":[{\"colorbar\":{\"outlinewidth\":0,\"tickcolor\":\"rgb(36,36,36)\",\"ticklen\":8,\"ticks\":\"outside\",\"tickwidth\":2},\"colorscale\":[[0.0,\"rgb(2,4,25)\"],[0.06274509803921569,\"rgb(24,15,41)\"],[0.12549019607843137,\"rgb(47,23,57)\"],[0.18823529411764706,\"rgb(71,28,72)\"],[0.25098039215686274,\"rgb(97,30,82)\"],[0.3137254901960784,\"rgb(123,30,89)\"],[0.3764705882352941,\"rgb(150,27,91)\"],[0.4392156862745098,\"rgb(177,22,88)\"],[0.5019607843137255,\"rgb(203,26,79)\"],[0.5647058823529412,\"rgb(223,47,67)\"],[0.6274509803921569,\"rgb(236,76,61)\"],[0.6901960784313725,\"rgb(242,107,73)\"],[0.7529411764705882,\"rgb(244,135,95)\"],[0.8156862745098039,\"rgb(245,162,122)\"],[0.8784313725490196,\"rgb(246,188,153)\"],[0.9411764705882353,\"rgb(247,212,187)\"],[1.0,\"rgb(250,234,220)\"]],\"type\":\"surface\"}],\"table\":[{\"cells\":{\"fill\":{\"color\":\"rgb(231,231,240)\"},\"line\":{\"color\":\"white\"}},\"header\":{\"fill\":{\"color\":\"rgb(183,183,191)\"},\"line\":{\"color\":\"white\"}},\"type\":\"table\"}]},\"layout\":{\"annotationdefaults\":{\"arrowcolor\":\"rgb(67,103,167)\"},\"autotypenumbers\":\"strict\",\"coloraxis\":{\"colorbar\":{\"outlinewidth\":0,\"tickcolor\":\"rgb(36,36,36)\",\"ticklen\":8,\"ticks\":\"outside\",\"tickwidth\":2}},\"colorscale\":{\"sequential\":[[0.0,\"rgb(2,4,25)\"],[0.06274509803921569,\"rgb(24,15,41)\"],[0.12549019607843137,\"rgb(47,23,57)\"],[0.18823529411764706,\"rgb(71,28,72)\"],[0.25098039215686274,\"rgb(97,30,82)\"],[0.3137254901960784,\"rgb(123,30,89)\"],[0.3764705882352941,\"rgb(150,27,91)\"],[0.4392156862745098,\"rgb(177,22,88)\"],[0.5019607843137255,\"rgb(203,26,79)\"],[0.5647058823529412,\"rgb(223,47,67)\"],[0.6274509803921569,\"rgb(236,76,61)\"],[0.6901960784313725,\"rgb(242,107,73)\"],[0.7529411764705882,\"rgb(244,135,95)\"],[0.8156862745098039,\"rgb(245,162,122)\"],[0.8784313725490196,\"rgb(246,188,153)\"],[0.9411764705882353,\"rgb(247,212,187)\"],[1.0,\"rgb(250,234,220)\"]],\"sequentialminus\":[[0.0,\"rgb(2,4,25)\"],[0.06274509803921569,\"rgb(24,15,41)\"],[0.12549019607843137,\"rgb(47,23,57)\"],[0.18823529411764706,\"rgb(71,28,72)\"],[0.25098039215686274,\"rgb(97,30,82)\"],[0.3137254901960784,\"rgb(123,30,89)\"],[0.3764705882352941,\"rgb(150,27,91)\"],[0.4392156862745098,\"rgb(177,22,88)\"],[0.5019607843137255,\"rgb(203,26,79)\"],[0.5647058823529412,\"rgb(223,47,67)\"],[0.6274509803921569,\"rgb(236,76,61)\"],[0.6901960784313725,\"rgb(242,107,73)\"],[0.7529411764705882,\"rgb(244,135,95)\"],[0.8156862745098039,\"rgb(245,162,122)\"],[0.8784313725490196,\"rgb(246,188,153)\"],[0.9411764705882353,\"rgb(247,212,187)\"],[1.0,\"rgb(250,234,220)\"]]},\"colorway\":[\"rgb(76,114,176)\",\"rgb(221,132,82)\",\"rgb(85,168,104)\",\"rgb(196,78,82)\",\"rgb(129,114,179)\",\"rgb(147,120,96)\",\"rgb(218,139,195)\",\"rgb(140,140,140)\",\"rgb(204,185,116)\",\"rgb(100,181,205)\"],\"font\":{\"color\":\"rgb(36,36,36)\"},\"geo\":{\"bgcolor\":\"white\",\"lakecolor\":\"white\",\"landcolor\":\"rgb(234,234,242)\",\"showlakes\":true,\"showland\":true,\"subunitcolor\":\"white\"},\"hoverlabel\":{\"align\":\"left\"},\"hovermode\":\"closest\",\"paper_bgcolor\":\"white\",\"plot_bgcolor\":\"rgb(234,234,242)\",\"polar\":{\"angularaxis\":{\"gridcolor\":\"white\",\"linecolor\":\"white\",\"showgrid\":true,\"ticks\":\"\"},\"bgcolor\":\"rgb(234,234,242)\",\"radialaxis\":{\"gridcolor\":\"white\",\"linecolor\":\"white\",\"showgrid\":true,\"ticks\":\"\"}},\"scene\":{\"xaxis\":{\"backgroundcolor\":\"rgb(234,234,242)\",\"gridcolor\":\"white\",\"gridwidth\":2,\"linecolor\":\"white\",\"showbackground\":true,\"showgrid\":true,\"ticks\":\"\",\"zerolinecolor\":\"white\"},\"yaxis\":{\"backgroundcolor\":\"rgb(234,234,242)\",\"gridcolor\":\"white\",\"gridwidth\":2,\"linecolor\":\"white\",\"showbackground\":true,\"showgrid\":true,\"ticks\":\"\",\"zerolinecolor\":\"white\"},\"zaxis\":{\"backgroundcolor\":\"rgb(234,234,242)\",\"gridcolor\":\"white\",\"gridwidth\":2,\"linecolor\":\"white\",\"showbackground\":true,\"showgrid\":true,\"ticks\":\"\",\"zerolinecolor\":\"white\"}},\"shapedefaults\":{\"fillcolor\":\"rgb(67,103,167)\",\"line\":{\"width\":0},\"opacity\":0.5},\"ternary\":{\"aaxis\":{\"gridcolor\":\"white\",\"linecolor\":\"white\",\"showgrid\":true,\"ticks\":\"\"},\"baxis\":{\"gridcolor\":\"white\",\"linecolor\":\"white\",\"showgrid\":true,\"ticks\":\"\"},\"bgcolor\":\"rgb(234,234,242)\",\"caxis\":{\"gridcolor\":\"white\",\"linecolor\":\"white\",\"showgrid\":true,\"ticks\":\"\"}},\"xaxis\":{\"automargin\":true,\"gridcolor\":\"white\",\"linecolor\":\"white\",\"showgrid\":true,\"ticks\":\"\",\"title\":{\"standoff\":15},\"zerolinecolor\":\"white\"},\"yaxis\":{\"automargin\":true,\"gridcolor\":\"white\",\"linecolor\":\"white\",\"showgrid\":true,\"ticks\":\"\",\"title\":{\"standoff\":15},\"zerolinecolor\":\"white\"}}},\"xaxis\":{\"anchor\":\"y\",\"domain\":[0.0,1.0],\"title\":{\"text\":\"job title\"},\"categoryorder\":\"array\",\"categoryarray\":[\"Data Scientist\",\"Data Engineer\",\"Data Analyst\",\"Machine Learning Engineer\",\"Research Scientist\",\"Data Science Manager\",\"Data Architect\",\"Big Data Engineer\",\"Machine Learning Scientist\",\"Principal Data Scientist\"]},\"yaxis\":{\"anchor\":\"x\",\"domain\":[0.0,1.0],\"title\":{\"text\":\"count\"}},\"legend\":{\"title\":{\"text\":\"job title\"},\"tracegroupgap\":0},\"title\":{\"text\":\"<b> Top 10 Popular Roles in Data Sceince\"},\"barmode\":\"relative\"},                        {\"responsive\": true}                    ).then(function(){\n",
       "                            \n",
       "var gd = document.getElementById('c241aa6a-20cf-4507-bbfa-2a867418d3e3');\n",
       "var x = new MutationObserver(function (mutations, observer) {{\n",
       "        var display = window.getComputedStyle(gd).display;\n",
       "        if (!display || display === 'none') {{\n",
       "            console.log([gd, 'removed!']);\n",
       "            Plotly.purge(gd);\n",
       "            observer.disconnect();\n",
       "        }}\n",
       "}});\n",
       "\n",
       "// Listen for the removal of the full notebook cells\n",
       "var notebookContainer = gd.closest('#notebook-container');\n",
       "if (notebookContainer) {{\n",
       "    x.observe(notebookContainer, {childList: true});\n",
       "}}\n",
       "\n",
       "// Listen for the clearing of the current output cell\n",
       "var outputEl = gd.closest('.output');\n",
       "if (outputEl) {{\n",
       "    x.observe(outputEl, {childList: true});\n",
       "}}\n",
       "\n",
       "                        })                };                });            </script>        </div>"
      ]
     },
     "metadata": {},
     "output_type": "display_data"
    }
   ],
   "source": [
    "z=df['job_title'].value_counts().head(10)\n",
    "fig=px.bar(z,x=z.index,y=z.values,color=z.index,text=z.values,labels={'index':'job title','y':'count','text':'count'},template='seaborn',title='<b> Top 10 Popular Roles in Data Sceince')\n",
    "fig.show()"
   ]
  },
  {
   "cell_type": "code",
   "execution_count": 12,
   "id": "f4d4f0b3",
   "metadata": {
    "execution": {
     "iopub.execute_input": "2022-09-20T17:48:41.335998Z",
     "iopub.status.busy": "2022-09-20T17:48:41.335561Z",
     "iopub.status.idle": "2022-09-20T17:48:41.439232Z",
     "shell.execute_reply": "2022-09-20T17:48:41.436997Z"
    },
    "papermill": {
     "duration": 0.117745,
     "end_time": "2022-09-20T17:48:41.441697",
     "exception": false,
     "start_time": "2022-09-20T17:48:41.323952",
     "status": "completed"
    },
    "tags": []
   },
   "outputs": [
    {
     "data": {
      "text/html": [
       "<div>                            <div id=\"95286113-1502-471a-9664-4683583dc160\" class=\"plotly-graph-div\" style=\"height:525px; width:100%;\"></div>            <script type=\"text/javascript\">                require([\"plotly\"], function(Plotly) {                    window.PLOTLYENV=window.PLOTLYENV || {};                                    if (document.getElementById(\"95286113-1502-471a-9664-4683583dc160\")) {                    Plotly.newPlot(                        \"95286113-1502-471a-9664-4683583dc160\",                        [{\"alignmentgroup\":\"True\",\"hovertemplate\":\"job title=%{x}<br>salary in usd=%{text}<extra></extra>\",\"legendgroup\":\"Principal Data Engineer\",\"marker\":{\"color\":\"#F8766D\",\"pattern\":{\"shape\":\"\"}},\"name\":\"Principal Data Engineer\",\"offsetgroup\":\"Principal Data Engineer\",\"orientation\":\"v\",\"showlegend\":true,\"text\":[600000.0],\"textposition\":\"auto\",\"x\":[\"Principal Data Engineer\"],\"xaxis\":\"x\",\"y\":[600000],\"yaxis\":\"y\",\"type\":\"bar\"},{\"alignmentgroup\":\"True\",\"hovertemplate\":\"job title=%{x}<br>salary in usd=%{text}<extra></extra>\",\"legendgroup\":\"Financial Data Analyst\",\"marker\":{\"color\":\"#A3A500\",\"pattern\":{\"shape\":\"\"}},\"name\":\"Financial Data Analyst\",\"offsetgroup\":\"Financial Data Analyst\",\"orientation\":\"v\",\"showlegend\":true,\"text\":[450000.0],\"textposition\":\"auto\",\"x\":[\"Financial Data Analyst\"],\"xaxis\":\"x\",\"y\":[450000],\"yaxis\":\"y\",\"type\":\"bar\"},{\"alignmentgroup\":\"True\",\"hovertemplate\":\"job title=%{x}<br>salary in usd=%{text}<extra></extra>\",\"legendgroup\":\"Research Scientist\",\"marker\":{\"color\":\"#00BF7D\",\"pattern\":{\"shape\":\"\"}},\"name\":\"Research Scientist\",\"offsetgroup\":\"Research Scientist\",\"orientation\":\"v\",\"showlegend\":true,\"text\":[450000.0],\"textposition\":\"auto\",\"x\":[\"Research Scientist\"],\"xaxis\":\"x\",\"y\":[450000],\"yaxis\":\"y\",\"type\":\"bar\"},{\"alignmentgroup\":\"True\",\"hovertemplate\":\"job title=%{x}<br>salary in usd=%{text}<extra></extra>\",\"legendgroup\":\"Applied Machine Learning Scientist\",\"marker\":{\"color\":\"#00B0F6\",\"pattern\":{\"shape\":\"\"}},\"name\":\"Applied Machine Learning Scientist\",\"offsetgroup\":\"Applied Machine Learning Scientist\",\"orientation\":\"v\",\"showlegend\":true,\"text\":[423000.0],\"textposition\":\"auto\",\"x\":[\"Applied Machine Learning Scientist\"],\"xaxis\":\"x\",\"y\":[423000],\"yaxis\":\"y\",\"type\":\"bar\"},{\"alignmentgroup\":\"True\",\"hovertemplate\":\"job title=%{x}<br>salary in usd=%{text}<extra></extra>\",\"legendgroup\":\"Principal Data Scientist\",\"marker\":{\"color\":\"#E76BF3\",\"pattern\":{\"shape\":\"\"}},\"name\":\"Principal Data Scientist\",\"offsetgroup\":\"Principal Data Scientist\",\"orientation\":\"v\",\"showlegend\":true,\"text\":[416000.0],\"textposition\":\"auto\",\"x\":[\"Principal Data Scientist\"],\"xaxis\":\"x\",\"y\":[416000],\"yaxis\":\"y\",\"type\":\"bar\"},{\"alignmentgroup\":\"True\",\"hovertemplate\":\"job title=%{x}<br>salary in usd=%{text}<extra></extra>\",\"legendgroup\":\"Data Scientist\",\"marker\":{\"color\":\"#F8766D\",\"pattern\":{\"shape\":\"\"}},\"name\":\"Data Scientist\",\"offsetgroup\":\"Data Scientist\",\"orientation\":\"v\",\"showlegend\":true,\"text\":[412000.0],\"textposition\":\"auto\",\"x\":[\"Data Scientist\"],\"xaxis\":\"x\",\"y\":[412000],\"yaxis\":\"y\",\"type\":\"bar\"},{\"alignmentgroup\":\"True\",\"hovertemplate\":\"job title=%{x}<br>salary in usd=%{text}<extra></extra>\",\"legendgroup\":\"Data Analytics Lead\",\"marker\":{\"color\":\"#A3A500\",\"pattern\":{\"shape\":\"\"}},\"name\":\"Data Analytics Lead\",\"offsetgroup\":\"Data Analytics Lead\",\"orientation\":\"v\",\"showlegend\":true,\"text\":[405000.0],\"textposition\":\"auto\",\"x\":[\"Data Analytics Lead\"],\"xaxis\":\"x\",\"y\":[405000],\"yaxis\":\"y\",\"type\":\"bar\"},{\"alignmentgroup\":\"True\",\"hovertemplate\":\"job title=%{x}<br>salary in usd=%{text}<extra></extra>\",\"legendgroup\":\"Applied Data Scientist\",\"marker\":{\"color\":\"#00BF7D\",\"pattern\":{\"shape\":\"\"}},\"name\":\"Applied Data Scientist\",\"offsetgroup\":\"Applied Data Scientist\",\"orientation\":\"v\",\"showlegend\":true,\"text\":[380000.0],\"textposition\":\"auto\",\"x\":[\"Applied Data Scientist\"],\"xaxis\":\"x\",\"y\":[380000],\"yaxis\":\"y\",\"type\":\"bar\"},{\"alignmentgroup\":\"True\",\"hovertemplate\":\"job title=%{x}<br>salary in usd=%{text}<extra></extra>\",\"legendgroup\":\"Director of Data Science\",\"marker\":{\"color\":\"#00B0F6\",\"pattern\":{\"shape\":\"\"}},\"name\":\"Director of Data Science\",\"offsetgroup\":\"Director of Data Science\",\"orientation\":\"v\",\"showlegend\":true,\"text\":[325000.0],\"textposition\":\"auto\",\"x\":[\"Director of Data Science\"],\"xaxis\":\"x\",\"y\":[325000],\"yaxis\":\"y\",\"type\":\"bar\"},{\"alignmentgroup\":\"True\",\"hovertemplate\":\"job title=%{x}<br>salary in usd=%{text}<extra></extra>\",\"legendgroup\":\"Data Engineer\",\"marker\":{\"color\":\"#E76BF3\",\"pattern\":{\"shape\":\"\"}},\"name\":\"Data Engineer\",\"offsetgroup\":\"Data Engineer\",\"orientation\":\"v\",\"showlegend\":true,\"text\":[324000.0],\"textposition\":\"auto\",\"x\":[\"Data Engineer\"],\"xaxis\":\"x\",\"y\":[324000],\"yaxis\":\"y\",\"type\":\"bar\"}],                        {\"template\":{\"data\":{\"barpolar\":[{\"marker\":{\"line\":{\"color\":\"rgb(237,237,237)\",\"width\":0.5},\"pattern\":{\"fillmode\":\"overlay\",\"size\":10,\"solidity\":0.2}},\"type\":\"barpolar\"}],\"bar\":[{\"error_x\":{\"color\":\"rgb(51,51,51)\"},\"error_y\":{\"color\":\"rgb(51,51,51)\"},\"marker\":{\"line\":{\"color\":\"rgb(237,237,237)\",\"width\":0.5},\"pattern\":{\"fillmode\":\"overlay\",\"size\":10,\"solidity\":0.2}},\"type\":\"bar\"}],\"carpet\":[{\"aaxis\":{\"endlinecolor\":\"rgb(51,51,51)\",\"gridcolor\":\"white\",\"linecolor\":\"white\",\"minorgridcolor\":\"white\",\"startlinecolor\":\"rgb(51,51,51)\"},\"baxis\":{\"endlinecolor\":\"rgb(51,51,51)\",\"gridcolor\":\"white\",\"linecolor\":\"white\",\"minorgridcolor\":\"white\",\"startlinecolor\":\"rgb(51,51,51)\"},\"type\":\"carpet\"}],\"choropleth\":[{\"colorbar\":{\"outlinewidth\":0,\"tickcolor\":\"rgb(237,237,237)\",\"ticklen\":6,\"ticks\":\"inside\"},\"type\":\"choropleth\"}],\"contourcarpet\":[{\"colorbar\":{\"outlinewidth\":0,\"tickcolor\":\"rgb(237,237,237)\",\"ticklen\":6,\"ticks\":\"inside\"},\"type\":\"contourcarpet\"}],\"contour\":[{\"colorbar\":{\"outlinewidth\":0,\"tickcolor\":\"rgb(237,237,237)\",\"ticklen\":6,\"ticks\":\"inside\"},\"colorscale\":[[0,\"rgb(20,44,66)\"],[1,\"rgb(90,179,244)\"]],\"type\":\"contour\"}],\"heatmapgl\":[{\"colorbar\":{\"outlinewidth\":0,\"tickcolor\":\"rgb(237,237,237)\",\"ticklen\":6,\"ticks\":\"inside\"},\"colorscale\":[[0,\"rgb(20,44,66)\"],[1,\"rgb(90,179,244)\"]],\"type\":\"heatmapgl\"}],\"heatmap\":[{\"colorbar\":{\"outlinewidth\":0,\"tickcolor\":\"rgb(237,237,237)\",\"ticklen\":6,\"ticks\":\"inside\"},\"colorscale\":[[0,\"rgb(20,44,66)\"],[1,\"rgb(90,179,244)\"]],\"type\":\"heatmap\"}],\"histogram2dcontour\":[{\"colorbar\":{\"outlinewidth\":0,\"tickcolor\":\"rgb(237,237,237)\",\"ticklen\":6,\"ticks\":\"inside\"},\"colorscale\":[[0,\"rgb(20,44,66)\"],[1,\"rgb(90,179,244)\"]],\"type\":\"histogram2dcontour\"}],\"histogram2d\":[{\"colorbar\":{\"outlinewidth\":0,\"tickcolor\":\"rgb(237,237,237)\",\"ticklen\":6,\"ticks\":\"inside\"},\"colorscale\":[[0,\"rgb(20,44,66)\"],[1,\"rgb(90,179,244)\"]],\"type\":\"histogram2d\"}],\"histogram\":[{\"marker\":{\"pattern\":{\"fillmode\":\"overlay\",\"size\":10,\"solidity\":0.2}},\"type\":\"histogram\"}],\"mesh3d\":[{\"colorbar\":{\"outlinewidth\":0,\"tickcolor\":\"rgb(237,237,237)\",\"ticklen\":6,\"ticks\":\"inside\"},\"type\":\"mesh3d\"}],\"parcoords\":[{\"line\":{\"colorbar\":{\"outlinewidth\":0,\"tickcolor\":\"rgb(237,237,237)\",\"ticklen\":6,\"ticks\":\"inside\"}},\"type\":\"parcoords\"}],\"pie\":[{\"automargin\":true,\"type\":\"pie\"}],\"scatter3d\":[{\"line\":{\"colorbar\":{\"outlinewidth\":0,\"tickcolor\":\"rgb(237,237,237)\",\"ticklen\":6,\"ticks\":\"inside\"}},\"marker\":{\"colorbar\":{\"outlinewidth\":0,\"tickcolor\":\"rgb(237,237,237)\",\"ticklen\":6,\"ticks\":\"inside\"}},\"type\":\"scatter3d\"}],\"scattercarpet\":[{\"marker\":{\"colorbar\":{\"outlinewidth\":0,\"tickcolor\":\"rgb(237,237,237)\",\"ticklen\":6,\"ticks\":\"inside\"}},\"type\":\"scattercarpet\"}],\"scattergeo\":[{\"marker\":{\"colorbar\":{\"outlinewidth\":0,\"tickcolor\":\"rgb(237,237,237)\",\"ticklen\":6,\"ticks\":\"inside\"}},\"type\":\"scattergeo\"}],\"scattergl\":[{\"marker\":{\"colorbar\":{\"outlinewidth\":0,\"tickcolor\":\"rgb(237,237,237)\",\"ticklen\":6,\"ticks\":\"inside\"}},\"type\":\"scattergl\"}],\"scattermapbox\":[{\"marker\":{\"colorbar\":{\"outlinewidth\":0,\"tickcolor\":\"rgb(237,237,237)\",\"ticklen\":6,\"ticks\":\"inside\"}},\"type\":\"scattermapbox\"}],\"scatterpolargl\":[{\"marker\":{\"colorbar\":{\"outlinewidth\":0,\"tickcolor\":\"rgb(237,237,237)\",\"ticklen\":6,\"ticks\":\"inside\"}},\"type\":\"scatterpolargl\"}],\"scatterpolar\":[{\"marker\":{\"colorbar\":{\"outlinewidth\":0,\"tickcolor\":\"rgb(237,237,237)\",\"ticklen\":6,\"ticks\":\"inside\"}},\"type\":\"scatterpolar\"}],\"scatter\":[{\"fillpattern\":{\"fillmode\":\"overlay\",\"size\":10,\"solidity\":0.2},\"type\":\"scatter\"}],\"scatterternary\":[{\"marker\":{\"colorbar\":{\"outlinewidth\":0,\"tickcolor\":\"rgb(237,237,237)\",\"ticklen\":6,\"ticks\":\"inside\"}},\"type\":\"scatterternary\"}],\"surface\":[{\"colorbar\":{\"outlinewidth\":0,\"tickcolor\":\"rgb(237,237,237)\",\"ticklen\":6,\"ticks\":\"inside\"},\"colorscale\":[[0,\"rgb(20,44,66)\"],[1,\"rgb(90,179,244)\"]],\"type\":\"surface\"}],\"table\":[{\"cells\":{\"fill\":{\"color\":\"rgb(237,237,237)\"},\"line\":{\"color\":\"white\"}},\"header\":{\"fill\":{\"color\":\"rgb(217,217,217)\"},\"line\":{\"color\":\"white\"}},\"type\":\"table\"}]},\"layout\":{\"annotationdefaults\":{\"arrowhead\":0,\"arrowwidth\":1},\"autotypenumbers\":\"strict\",\"coloraxis\":{\"colorbar\":{\"outlinewidth\":0,\"tickcolor\":\"rgb(237,237,237)\",\"ticklen\":6,\"ticks\":\"inside\"}},\"colorscale\":{\"sequential\":[[0,\"rgb(20,44,66)\"],[1,\"rgb(90,179,244)\"]],\"sequentialminus\":[[0,\"rgb(20,44,66)\"],[1,\"rgb(90,179,244)\"]]},\"colorway\":[\"#F8766D\",\"#A3A500\",\"#00BF7D\",\"#00B0F6\",\"#E76BF3\"],\"font\":{\"color\":\"rgb(51,51,51)\"},\"geo\":{\"bgcolor\":\"white\",\"lakecolor\":\"white\",\"landcolor\":\"rgb(237,237,237)\",\"showlakes\":true,\"showland\":true,\"subunitcolor\":\"white\"},\"hoverlabel\":{\"align\":\"left\"},\"hovermode\":\"closest\",\"paper_bgcolor\":\"white\",\"plot_bgcolor\":\"rgb(237,237,237)\",\"polar\":{\"angularaxis\":{\"gridcolor\":\"white\",\"linecolor\":\"white\",\"showgrid\":true,\"tickcolor\":\"rgb(51,51,51)\",\"ticks\":\"outside\"},\"bgcolor\":\"rgb(237,237,237)\",\"radialaxis\":{\"gridcolor\":\"white\",\"linecolor\":\"white\",\"showgrid\":true,\"tickcolor\":\"rgb(51,51,51)\",\"ticks\":\"outside\"}},\"scene\":{\"xaxis\":{\"backgroundcolor\":\"rgb(237,237,237)\",\"gridcolor\":\"white\",\"gridwidth\":2,\"linecolor\":\"white\",\"showbackground\":true,\"showgrid\":true,\"tickcolor\":\"rgb(51,51,51)\",\"ticks\":\"outside\",\"zerolinecolor\":\"white\"},\"yaxis\":{\"backgroundcolor\":\"rgb(237,237,237)\",\"gridcolor\":\"white\",\"gridwidth\":2,\"linecolor\":\"white\",\"showbackground\":true,\"showgrid\":true,\"tickcolor\":\"rgb(51,51,51)\",\"ticks\":\"outside\",\"zerolinecolor\":\"white\"},\"zaxis\":{\"backgroundcolor\":\"rgb(237,237,237)\",\"gridcolor\":\"white\",\"gridwidth\":2,\"linecolor\":\"white\",\"showbackground\":true,\"showgrid\":true,\"tickcolor\":\"rgb(51,51,51)\",\"ticks\":\"outside\",\"zerolinecolor\":\"white\"}},\"shapedefaults\":{\"fillcolor\":\"black\",\"line\":{\"width\":0},\"opacity\":0.3},\"ternary\":{\"aaxis\":{\"gridcolor\":\"white\",\"linecolor\":\"white\",\"showgrid\":true,\"tickcolor\":\"rgb(51,51,51)\",\"ticks\":\"outside\"},\"baxis\":{\"gridcolor\":\"white\",\"linecolor\":\"white\",\"showgrid\":true,\"tickcolor\":\"rgb(51,51,51)\",\"ticks\":\"outside\"},\"bgcolor\":\"rgb(237,237,237)\",\"caxis\":{\"gridcolor\":\"white\",\"linecolor\":\"white\",\"showgrid\":true,\"tickcolor\":\"rgb(51,51,51)\",\"ticks\":\"outside\"}},\"xaxis\":{\"automargin\":true,\"gridcolor\":\"white\",\"linecolor\":\"white\",\"showgrid\":true,\"tickcolor\":\"rgb(51,51,51)\",\"ticks\":\"outside\",\"title\":{\"standoff\":15},\"zerolinecolor\":\"white\"},\"yaxis\":{\"automargin\":true,\"gridcolor\":\"white\",\"linecolor\":\"white\",\"showgrid\":true,\"tickcolor\":\"rgb(51,51,51)\",\"ticks\":\"outside\",\"title\":{\"standoff\":15},\"zerolinecolor\":\"white\"}}},\"xaxis\":{\"anchor\":\"y\",\"domain\":[0.0,1.0],\"title\":{\"text\":\"job title\"},\"categoryorder\":\"array\",\"categoryarray\":[\"Principal Data Engineer\",\"Financial Data Analyst\",\"Research Scientist\",\"Applied Machine Learning Scientist\",\"Principal Data Scientist\",\"Data Scientist\",\"Data Analytics Lead\",\"Applied Data Scientist\",\"Director of Data Science\",\"Data Engineer\"]},\"yaxis\":{\"anchor\":\"x\",\"domain\":[0.0,1.0],\"title\":{\"text\":\"salary in usd\"}},\"legend\":{\"title\":{\"text\":\"job title\"},\"tracegroupgap\":0},\"title\":{\"text\":\"<b> Top 10 Highest Paid Roles in Data Science\"},\"barmode\":\"relative\"},                        {\"responsive\": true}                    ).then(function(){\n",
       "                            \n",
       "var gd = document.getElementById('95286113-1502-471a-9664-4683583dc160');\n",
       "var x = new MutationObserver(function (mutations, observer) {{\n",
       "        var display = window.getComputedStyle(gd).display;\n",
       "        if (!display || display === 'none') {{\n",
       "            console.log([gd, 'removed!']);\n",
       "            Plotly.purge(gd);\n",
       "            observer.disconnect();\n",
       "        }}\n",
       "}});\n",
       "\n",
       "// Listen for the removal of the full notebook cells\n",
       "var notebookContainer = gd.closest('#notebook-container');\n",
       "if (notebookContainer) {{\n",
       "    x.observe(notebookContainer, {childList: true});\n",
       "}}\n",
       "\n",
       "// Listen for the clearing of the current output cell\n",
       "var outputEl = gd.closest('.output');\n",
       "if (outputEl) {{\n",
       "    x.observe(outputEl, {childList: true});\n",
       "}}\n",
       "\n",
       "                        })                };                });            </script>        </div>"
      ]
     },
     "metadata": {},
     "output_type": "display_data"
    }
   ],
   "source": [
    "fig=px.bar(df.groupby('job_title',as_index=False)['salary_in_usd'].max().sort_values(by='salary_in_usd',ascending=False).head(10),x='job_title',y='salary_in_usd',color='job_title',labels={'job_title':'job title','salary_in_usd':'salary in usd'},template='ggplot2',text='salary_in_usd',title='<b> Top 10 Highest Paid Roles in Data Science')\n",
    "fig.show()"
   ]
  },
  {
   "cell_type": "code",
   "execution_count": 13,
   "id": "869eb1c1",
   "metadata": {
    "execution": {
     "iopub.execute_input": "2022-09-20T17:48:41.464798Z",
     "iopub.status.busy": "2022-09-20T17:48:41.463880Z",
     "iopub.status.idle": "2022-09-20T17:48:41.594737Z",
     "shell.execute_reply": "2022-09-20T17:48:41.593509Z"
    },
    "papermill": {
     "duration": 0.144661,
     "end_time": "2022-09-20T17:48:41.597135",
     "exception": false,
     "start_time": "2022-09-20T17:48:41.452474",
     "status": "completed"
    },
    "tags": []
   },
   "outputs": [
    {
     "data": {
      "text/html": [
       "<div>                            <div id=\"f124a372-3b53-4113-af87-8064bc616250\" class=\"plotly-graph-div\" style=\"height:525px; width:100%;\"></div>            <script type=\"text/javascript\">                require([\"plotly\"], function(Plotly) {                    window.PLOTLYENV=window.PLOTLYENV || {};                                    if (document.getElementById(\"f124a372-3b53-4113-af87-8064bc616250\")) {                    Plotly.newPlot(                        \"f124a372-3b53-4113-af87-8064bc616250\",                        [{\"alignmentgroup\":\"True\",\"hovertemplate\":\"job title=%{x}<br>avg salary in usd=%{text}<extra></extra>\",\"legendgroup\":\"Data Analytics Lead\",\"marker\":{\"color\":\"rgb(76,114,176)\",\"pattern\":{\"shape\":\"\"}},\"name\":\"Data Analytics Lead\",\"offsetgroup\":\"Data Analytics Lead\",\"orientation\":\"v\",\"showlegend\":true,\"text\":[405000.0],\"textposition\":\"auto\",\"x\":[\"Data Analytics Lead\"],\"xaxis\":\"x\",\"y\":[405000.0],\"yaxis\":\"y\",\"type\":\"bar\",\"textfont\":{\"size\":8}},{\"alignmentgroup\":\"True\",\"hovertemplate\":\"job title=%{x}<br>avg salary in usd=%{text}<extra></extra>\",\"legendgroup\":\"Principal Data Engineer\",\"marker\":{\"color\":\"rgb(221,132,82)\",\"pattern\":{\"shape\":\"\"}},\"name\":\"Principal Data Engineer\",\"offsetgroup\":\"Principal Data Engineer\",\"orientation\":\"v\",\"showlegend\":true,\"text\":[328333.33],\"textposition\":\"auto\",\"x\":[\"Principal Data Engineer\"],\"xaxis\":\"x\",\"y\":[328333.33],\"yaxis\":\"y\",\"type\":\"bar\",\"textfont\":{\"size\":8}},{\"alignmentgroup\":\"True\",\"hovertemplate\":\"job title=%{x}<br>avg salary in usd=%{text}<extra></extra>\",\"legendgroup\":\"Financial Data Analyst\",\"marker\":{\"color\":\"rgb(85,168,104)\",\"pattern\":{\"shape\":\"\"}},\"name\":\"Financial Data Analyst\",\"offsetgroup\":\"Financial Data Analyst\",\"orientation\":\"v\",\"showlegend\":true,\"text\":[275000.0],\"textposition\":\"auto\",\"x\":[\"Financial Data Analyst\"],\"xaxis\":\"x\",\"y\":[275000.0],\"yaxis\":\"y\",\"type\":\"bar\",\"textfont\":{\"size\":8}},{\"alignmentgroup\":\"True\",\"hovertemplate\":\"job title=%{x}<br>avg salary in usd=%{text}<extra></extra>\",\"legendgroup\":\"Principal Data Scientist\",\"marker\":{\"color\":\"rgb(196,78,82)\",\"pattern\":{\"shape\":\"\"}},\"name\":\"Principal Data Scientist\",\"offsetgroup\":\"Principal Data Scientist\",\"orientation\":\"v\",\"showlegend\":true,\"text\":[215242.43],\"textposition\":\"auto\",\"x\":[\"Principal Data Scientist\"],\"xaxis\":\"x\",\"y\":[215242.43],\"yaxis\":\"y\",\"type\":\"bar\",\"textfont\":{\"size\":8}},{\"alignmentgroup\":\"True\",\"hovertemplate\":\"job title=%{x}<br>avg salary in usd=%{text}<extra></extra>\",\"legendgroup\":\"Director of Data Science\",\"marker\":{\"color\":\"rgb(129,114,179)\",\"pattern\":{\"shape\":\"\"}},\"name\":\"Director of Data Science\",\"offsetgroup\":\"Director of Data Science\",\"orientation\":\"v\",\"showlegend\":true,\"text\":[195074.0],\"textposition\":\"auto\",\"x\":[\"Director of Data Science\"],\"xaxis\":\"x\",\"y\":[195074.0],\"yaxis\":\"y\",\"type\":\"bar\",\"textfont\":{\"size\":8}},{\"alignmentgroup\":\"True\",\"hovertemplate\":\"job title=%{x}<br>avg salary in usd=%{text}<extra></extra>\",\"legendgroup\":\"Data Architect\",\"marker\":{\"color\":\"rgb(147,120,96)\",\"pattern\":{\"shape\":\"\"}},\"name\":\"Data Architect\",\"offsetgroup\":\"Data Architect\",\"orientation\":\"v\",\"showlegend\":true,\"text\":[177873.91],\"textposition\":\"auto\",\"x\":[\"Data Architect\"],\"xaxis\":\"x\",\"y\":[177873.91],\"yaxis\":\"y\",\"type\":\"bar\",\"textfont\":{\"size\":8}},{\"alignmentgroup\":\"True\",\"hovertemplate\":\"job title=%{x}<br>avg salary in usd=%{text}<extra></extra>\",\"legendgroup\":\"Applied Data Scientist\",\"marker\":{\"color\":\"rgb(218,139,195)\",\"pattern\":{\"shape\":\"\"}},\"name\":\"Applied Data Scientist\",\"offsetgroup\":\"Applied Data Scientist\",\"orientation\":\"v\",\"showlegend\":true,\"text\":[175655.0],\"textposition\":\"auto\",\"x\":[\"Applied Data Scientist\"],\"xaxis\":\"x\",\"y\":[175655.0],\"yaxis\":\"y\",\"type\":\"bar\",\"textfont\":{\"size\":8}},{\"alignmentgroup\":\"True\",\"hovertemplate\":\"job title=%{x}<br>avg salary in usd=%{text}<extra></extra>\",\"legendgroup\":\"Analytics Engineer\",\"marker\":{\"color\":\"rgb(140,140,140)\",\"pattern\":{\"shape\":\"\"}},\"name\":\"Analytics Engineer\",\"offsetgroup\":\"Analytics Engineer\",\"orientation\":\"v\",\"showlegend\":true,\"text\":[175000.0],\"textposition\":\"auto\",\"x\":[\"Analytics Engineer\"],\"xaxis\":\"x\",\"y\":[175000.0],\"yaxis\":\"y\",\"type\":\"bar\",\"textfont\":{\"size\":8}},{\"alignmentgroup\":\"True\",\"hovertemplate\":\"job title=%{x}<br>avg salary in usd=%{text}<extra></extra>\",\"legendgroup\":\"Data Specialist\",\"marker\":{\"color\":\"rgb(204,185,116)\",\"pattern\":{\"shape\":\"\"}},\"name\":\"Data Specialist\",\"offsetgroup\":\"Data Specialist\",\"orientation\":\"v\",\"showlegend\":true,\"text\":[165000.0],\"textposition\":\"auto\",\"x\":[\"Data Specialist\"],\"xaxis\":\"x\",\"y\":[165000.0],\"yaxis\":\"y\",\"type\":\"bar\",\"textfont\":{\"size\":8}},{\"alignmentgroup\":\"True\",\"hovertemplate\":\"job title=%{x}<br>avg salary in usd=%{text}<extra></extra>\",\"legendgroup\":\"Head of Data\",\"marker\":{\"color\":\"rgb(100,181,205)\",\"pattern\":{\"shape\":\"\"}},\"name\":\"Head of Data\",\"offsetgroup\":\"Head of Data\",\"orientation\":\"v\",\"showlegend\":true,\"text\":[160162.6],\"textposition\":\"auto\",\"x\":[\"Head of Data\"],\"xaxis\":\"x\",\"y\":[160162.6],\"yaxis\":\"y\",\"type\":\"bar\",\"textfont\":{\"size\":8}}],                        {\"template\":{\"data\":{\"barpolar\":[{\"marker\":{\"line\":{\"color\":\"rgb(234,234,242)\",\"width\":0.5},\"pattern\":{\"fillmode\":\"overlay\",\"size\":10,\"solidity\":0.2}},\"type\":\"barpolar\"}],\"bar\":[{\"error_x\":{\"color\":\"rgb(36,36,36)\"},\"error_y\":{\"color\":\"rgb(36,36,36)\"},\"marker\":{\"line\":{\"color\":\"rgb(234,234,242)\",\"width\":0.5},\"pattern\":{\"fillmode\":\"overlay\",\"size\":10,\"solidity\":0.2}},\"type\":\"bar\"}],\"carpet\":[{\"aaxis\":{\"endlinecolor\":\"rgb(36,36,36)\",\"gridcolor\":\"white\",\"linecolor\":\"white\",\"minorgridcolor\":\"white\",\"startlinecolor\":\"rgb(36,36,36)\"},\"baxis\":{\"endlinecolor\":\"rgb(36,36,36)\",\"gridcolor\":\"white\",\"linecolor\":\"white\",\"minorgridcolor\":\"white\",\"startlinecolor\":\"rgb(36,36,36)\"},\"type\":\"carpet\"}],\"choropleth\":[{\"colorbar\":{\"outlinewidth\":0,\"tickcolor\":\"rgb(36,36,36)\",\"ticklen\":8,\"ticks\":\"outside\",\"tickwidth\":2},\"type\":\"choropleth\"}],\"contourcarpet\":[{\"colorbar\":{\"outlinewidth\":0,\"tickcolor\":\"rgb(36,36,36)\",\"ticklen\":8,\"ticks\":\"outside\",\"tickwidth\":2},\"type\":\"contourcarpet\"}],\"contour\":[{\"colorbar\":{\"outlinewidth\":0,\"tickcolor\":\"rgb(36,36,36)\",\"ticklen\":8,\"ticks\":\"outside\",\"tickwidth\":2},\"colorscale\":[[0.0,\"rgb(2,4,25)\"],[0.06274509803921569,\"rgb(24,15,41)\"],[0.12549019607843137,\"rgb(47,23,57)\"],[0.18823529411764706,\"rgb(71,28,72)\"],[0.25098039215686274,\"rgb(97,30,82)\"],[0.3137254901960784,\"rgb(123,30,89)\"],[0.3764705882352941,\"rgb(150,27,91)\"],[0.4392156862745098,\"rgb(177,22,88)\"],[0.5019607843137255,\"rgb(203,26,79)\"],[0.5647058823529412,\"rgb(223,47,67)\"],[0.6274509803921569,\"rgb(236,76,61)\"],[0.6901960784313725,\"rgb(242,107,73)\"],[0.7529411764705882,\"rgb(244,135,95)\"],[0.8156862745098039,\"rgb(245,162,122)\"],[0.8784313725490196,\"rgb(246,188,153)\"],[0.9411764705882353,\"rgb(247,212,187)\"],[1.0,\"rgb(250,234,220)\"]],\"type\":\"contour\"}],\"heatmapgl\":[{\"colorbar\":{\"outlinewidth\":0,\"tickcolor\":\"rgb(36,36,36)\",\"ticklen\":8,\"ticks\":\"outside\",\"tickwidth\":2},\"colorscale\":[[0.0,\"rgb(2,4,25)\"],[0.06274509803921569,\"rgb(24,15,41)\"],[0.12549019607843137,\"rgb(47,23,57)\"],[0.18823529411764706,\"rgb(71,28,72)\"],[0.25098039215686274,\"rgb(97,30,82)\"],[0.3137254901960784,\"rgb(123,30,89)\"],[0.3764705882352941,\"rgb(150,27,91)\"],[0.4392156862745098,\"rgb(177,22,88)\"],[0.5019607843137255,\"rgb(203,26,79)\"],[0.5647058823529412,\"rgb(223,47,67)\"],[0.6274509803921569,\"rgb(236,76,61)\"],[0.6901960784313725,\"rgb(242,107,73)\"],[0.7529411764705882,\"rgb(244,135,95)\"],[0.8156862745098039,\"rgb(245,162,122)\"],[0.8784313725490196,\"rgb(246,188,153)\"],[0.9411764705882353,\"rgb(247,212,187)\"],[1.0,\"rgb(250,234,220)\"]],\"type\":\"heatmapgl\"}],\"heatmap\":[{\"colorbar\":{\"outlinewidth\":0,\"tickcolor\":\"rgb(36,36,36)\",\"ticklen\":8,\"ticks\":\"outside\",\"tickwidth\":2},\"colorscale\":[[0.0,\"rgb(2,4,25)\"],[0.06274509803921569,\"rgb(24,15,41)\"],[0.12549019607843137,\"rgb(47,23,57)\"],[0.18823529411764706,\"rgb(71,28,72)\"],[0.25098039215686274,\"rgb(97,30,82)\"],[0.3137254901960784,\"rgb(123,30,89)\"],[0.3764705882352941,\"rgb(150,27,91)\"],[0.4392156862745098,\"rgb(177,22,88)\"],[0.5019607843137255,\"rgb(203,26,79)\"],[0.5647058823529412,\"rgb(223,47,67)\"],[0.6274509803921569,\"rgb(236,76,61)\"],[0.6901960784313725,\"rgb(242,107,73)\"],[0.7529411764705882,\"rgb(244,135,95)\"],[0.8156862745098039,\"rgb(245,162,122)\"],[0.8784313725490196,\"rgb(246,188,153)\"],[0.9411764705882353,\"rgb(247,212,187)\"],[1.0,\"rgb(250,234,220)\"]],\"type\":\"heatmap\"}],\"histogram2dcontour\":[{\"colorbar\":{\"outlinewidth\":0,\"tickcolor\":\"rgb(36,36,36)\",\"ticklen\":8,\"ticks\":\"outside\",\"tickwidth\":2},\"colorscale\":[[0.0,\"rgb(2,4,25)\"],[0.06274509803921569,\"rgb(24,15,41)\"],[0.12549019607843137,\"rgb(47,23,57)\"],[0.18823529411764706,\"rgb(71,28,72)\"],[0.25098039215686274,\"rgb(97,30,82)\"],[0.3137254901960784,\"rgb(123,30,89)\"],[0.3764705882352941,\"rgb(150,27,91)\"],[0.4392156862745098,\"rgb(177,22,88)\"],[0.5019607843137255,\"rgb(203,26,79)\"],[0.5647058823529412,\"rgb(223,47,67)\"],[0.6274509803921569,\"rgb(236,76,61)\"],[0.6901960784313725,\"rgb(242,107,73)\"],[0.7529411764705882,\"rgb(244,135,95)\"],[0.8156862745098039,\"rgb(245,162,122)\"],[0.8784313725490196,\"rgb(246,188,153)\"],[0.9411764705882353,\"rgb(247,212,187)\"],[1.0,\"rgb(250,234,220)\"]],\"type\":\"histogram2dcontour\"}],\"histogram2d\":[{\"colorbar\":{\"outlinewidth\":0,\"tickcolor\":\"rgb(36,36,36)\",\"ticklen\":8,\"ticks\":\"outside\",\"tickwidth\":2},\"colorscale\":[[0.0,\"rgb(2,4,25)\"],[0.06274509803921569,\"rgb(24,15,41)\"],[0.12549019607843137,\"rgb(47,23,57)\"],[0.18823529411764706,\"rgb(71,28,72)\"],[0.25098039215686274,\"rgb(97,30,82)\"],[0.3137254901960784,\"rgb(123,30,89)\"],[0.3764705882352941,\"rgb(150,27,91)\"],[0.4392156862745098,\"rgb(177,22,88)\"],[0.5019607843137255,\"rgb(203,26,79)\"],[0.5647058823529412,\"rgb(223,47,67)\"],[0.6274509803921569,\"rgb(236,76,61)\"],[0.6901960784313725,\"rgb(242,107,73)\"],[0.7529411764705882,\"rgb(244,135,95)\"],[0.8156862745098039,\"rgb(245,162,122)\"],[0.8784313725490196,\"rgb(246,188,153)\"],[0.9411764705882353,\"rgb(247,212,187)\"],[1.0,\"rgb(250,234,220)\"]],\"type\":\"histogram2d\"}],\"histogram\":[{\"marker\":{\"pattern\":{\"fillmode\":\"overlay\",\"size\":10,\"solidity\":0.2}},\"type\":\"histogram\"}],\"mesh3d\":[{\"colorbar\":{\"outlinewidth\":0,\"tickcolor\":\"rgb(36,36,36)\",\"ticklen\":8,\"ticks\":\"outside\",\"tickwidth\":2},\"type\":\"mesh3d\"}],\"parcoords\":[{\"line\":{\"colorbar\":{\"outlinewidth\":0,\"tickcolor\":\"rgb(36,36,36)\",\"ticklen\":8,\"ticks\":\"outside\",\"tickwidth\":2}},\"type\":\"parcoords\"}],\"pie\":[{\"automargin\":true,\"type\":\"pie\"}],\"scatter3d\":[{\"line\":{\"colorbar\":{\"outlinewidth\":0,\"tickcolor\":\"rgb(36,36,36)\",\"ticklen\":8,\"ticks\":\"outside\",\"tickwidth\":2}},\"marker\":{\"colorbar\":{\"outlinewidth\":0,\"tickcolor\":\"rgb(36,36,36)\",\"ticklen\":8,\"ticks\":\"outside\",\"tickwidth\":2}},\"type\":\"scatter3d\"}],\"scattercarpet\":[{\"marker\":{\"colorbar\":{\"outlinewidth\":0,\"tickcolor\":\"rgb(36,36,36)\",\"ticklen\":8,\"ticks\":\"outside\",\"tickwidth\":2}},\"type\":\"scattercarpet\"}],\"scattergeo\":[{\"marker\":{\"colorbar\":{\"outlinewidth\":0,\"tickcolor\":\"rgb(36,36,36)\",\"ticklen\":8,\"ticks\":\"outside\",\"tickwidth\":2}},\"type\":\"scattergeo\"}],\"scattergl\":[{\"marker\":{\"colorbar\":{\"outlinewidth\":0,\"tickcolor\":\"rgb(36,36,36)\",\"ticklen\":8,\"ticks\":\"outside\",\"tickwidth\":2}},\"type\":\"scattergl\"}],\"scattermapbox\":[{\"marker\":{\"colorbar\":{\"outlinewidth\":0,\"tickcolor\":\"rgb(36,36,36)\",\"ticklen\":8,\"ticks\":\"outside\",\"tickwidth\":2}},\"type\":\"scattermapbox\"}],\"scatterpolargl\":[{\"marker\":{\"colorbar\":{\"outlinewidth\":0,\"tickcolor\":\"rgb(36,36,36)\",\"ticklen\":8,\"ticks\":\"outside\",\"tickwidth\":2}},\"type\":\"scatterpolargl\"}],\"scatterpolar\":[{\"marker\":{\"colorbar\":{\"outlinewidth\":0,\"tickcolor\":\"rgb(36,36,36)\",\"ticklen\":8,\"ticks\":\"outside\",\"tickwidth\":2}},\"type\":\"scatterpolar\"}],\"scatter\":[{\"fillpattern\":{\"fillmode\":\"overlay\",\"size\":10,\"solidity\":0.2},\"type\":\"scatter\"}],\"scatterternary\":[{\"marker\":{\"colorbar\":{\"outlinewidth\":0,\"tickcolor\":\"rgb(36,36,36)\",\"ticklen\":8,\"ticks\":\"outside\",\"tickwidth\":2}},\"type\":\"scatterternary\"}],\"surface\":[{\"colorbar\":{\"outlinewidth\":0,\"tickcolor\":\"rgb(36,36,36)\",\"ticklen\":8,\"ticks\":\"outside\",\"tickwidth\":2},\"colorscale\":[[0.0,\"rgb(2,4,25)\"],[0.06274509803921569,\"rgb(24,15,41)\"],[0.12549019607843137,\"rgb(47,23,57)\"],[0.18823529411764706,\"rgb(71,28,72)\"],[0.25098039215686274,\"rgb(97,30,82)\"],[0.3137254901960784,\"rgb(123,30,89)\"],[0.3764705882352941,\"rgb(150,27,91)\"],[0.4392156862745098,\"rgb(177,22,88)\"],[0.5019607843137255,\"rgb(203,26,79)\"],[0.5647058823529412,\"rgb(223,47,67)\"],[0.6274509803921569,\"rgb(236,76,61)\"],[0.6901960784313725,\"rgb(242,107,73)\"],[0.7529411764705882,\"rgb(244,135,95)\"],[0.8156862745098039,\"rgb(245,162,122)\"],[0.8784313725490196,\"rgb(246,188,153)\"],[0.9411764705882353,\"rgb(247,212,187)\"],[1.0,\"rgb(250,234,220)\"]],\"type\":\"surface\"}],\"table\":[{\"cells\":{\"fill\":{\"color\":\"rgb(231,231,240)\"},\"line\":{\"color\":\"white\"}},\"header\":{\"fill\":{\"color\":\"rgb(183,183,191)\"},\"line\":{\"color\":\"white\"}},\"type\":\"table\"}]},\"layout\":{\"annotationdefaults\":{\"arrowcolor\":\"rgb(67,103,167)\"},\"autotypenumbers\":\"strict\",\"coloraxis\":{\"colorbar\":{\"outlinewidth\":0,\"tickcolor\":\"rgb(36,36,36)\",\"ticklen\":8,\"ticks\":\"outside\",\"tickwidth\":2}},\"colorscale\":{\"sequential\":[[0.0,\"rgb(2,4,25)\"],[0.06274509803921569,\"rgb(24,15,41)\"],[0.12549019607843137,\"rgb(47,23,57)\"],[0.18823529411764706,\"rgb(71,28,72)\"],[0.25098039215686274,\"rgb(97,30,82)\"],[0.3137254901960784,\"rgb(123,30,89)\"],[0.3764705882352941,\"rgb(150,27,91)\"],[0.4392156862745098,\"rgb(177,22,88)\"],[0.5019607843137255,\"rgb(203,26,79)\"],[0.5647058823529412,\"rgb(223,47,67)\"],[0.6274509803921569,\"rgb(236,76,61)\"],[0.6901960784313725,\"rgb(242,107,73)\"],[0.7529411764705882,\"rgb(244,135,95)\"],[0.8156862745098039,\"rgb(245,162,122)\"],[0.8784313725490196,\"rgb(246,188,153)\"],[0.9411764705882353,\"rgb(247,212,187)\"],[1.0,\"rgb(250,234,220)\"]],\"sequentialminus\":[[0.0,\"rgb(2,4,25)\"],[0.06274509803921569,\"rgb(24,15,41)\"],[0.12549019607843137,\"rgb(47,23,57)\"],[0.18823529411764706,\"rgb(71,28,72)\"],[0.25098039215686274,\"rgb(97,30,82)\"],[0.3137254901960784,\"rgb(123,30,89)\"],[0.3764705882352941,\"rgb(150,27,91)\"],[0.4392156862745098,\"rgb(177,22,88)\"],[0.5019607843137255,\"rgb(203,26,79)\"],[0.5647058823529412,\"rgb(223,47,67)\"],[0.6274509803921569,\"rgb(236,76,61)\"],[0.6901960784313725,\"rgb(242,107,73)\"],[0.7529411764705882,\"rgb(244,135,95)\"],[0.8156862745098039,\"rgb(245,162,122)\"],[0.8784313725490196,\"rgb(246,188,153)\"],[0.9411764705882353,\"rgb(247,212,187)\"],[1.0,\"rgb(250,234,220)\"]]},\"colorway\":[\"rgb(76,114,176)\",\"rgb(221,132,82)\",\"rgb(85,168,104)\",\"rgb(196,78,82)\",\"rgb(129,114,179)\",\"rgb(147,120,96)\",\"rgb(218,139,195)\",\"rgb(140,140,140)\",\"rgb(204,185,116)\",\"rgb(100,181,205)\"],\"font\":{\"color\":\"rgb(36,36,36)\"},\"geo\":{\"bgcolor\":\"white\",\"lakecolor\":\"white\",\"landcolor\":\"rgb(234,234,242)\",\"showlakes\":true,\"showland\":true,\"subunitcolor\":\"white\"},\"hoverlabel\":{\"align\":\"left\"},\"hovermode\":\"closest\",\"paper_bgcolor\":\"white\",\"plot_bgcolor\":\"rgb(234,234,242)\",\"polar\":{\"angularaxis\":{\"gridcolor\":\"white\",\"linecolor\":\"white\",\"showgrid\":true,\"ticks\":\"\"},\"bgcolor\":\"rgb(234,234,242)\",\"radialaxis\":{\"gridcolor\":\"white\",\"linecolor\":\"white\",\"showgrid\":true,\"ticks\":\"\"}},\"scene\":{\"xaxis\":{\"backgroundcolor\":\"rgb(234,234,242)\",\"gridcolor\":\"white\",\"gridwidth\":2,\"linecolor\":\"white\",\"showbackground\":true,\"showgrid\":true,\"ticks\":\"\",\"zerolinecolor\":\"white\"},\"yaxis\":{\"backgroundcolor\":\"rgb(234,234,242)\",\"gridcolor\":\"white\",\"gridwidth\":2,\"linecolor\":\"white\",\"showbackground\":true,\"showgrid\":true,\"ticks\":\"\",\"zerolinecolor\":\"white\"},\"zaxis\":{\"backgroundcolor\":\"rgb(234,234,242)\",\"gridcolor\":\"white\",\"gridwidth\":2,\"linecolor\":\"white\",\"showbackground\":true,\"showgrid\":true,\"ticks\":\"\",\"zerolinecolor\":\"white\"}},\"shapedefaults\":{\"fillcolor\":\"rgb(67,103,167)\",\"line\":{\"width\":0},\"opacity\":0.5},\"ternary\":{\"aaxis\":{\"gridcolor\":\"white\",\"linecolor\":\"white\",\"showgrid\":true,\"ticks\":\"\"},\"baxis\":{\"gridcolor\":\"white\",\"linecolor\":\"white\",\"showgrid\":true,\"ticks\":\"\"},\"bgcolor\":\"rgb(234,234,242)\",\"caxis\":{\"gridcolor\":\"white\",\"linecolor\":\"white\",\"showgrid\":true,\"ticks\":\"\"}},\"xaxis\":{\"automargin\":true,\"gridcolor\":\"white\",\"linecolor\":\"white\",\"showgrid\":true,\"ticks\":\"\",\"title\":{\"standoff\":15},\"zerolinecolor\":\"white\"},\"yaxis\":{\"automargin\":true,\"gridcolor\":\"white\",\"linecolor\":\"white\",\"showgrid\":true,\"ticks\":\"\",\"title\":{\"standoff\":15},\"zerolinecolor\":\"white\"}}},\"xaxis\":{\"anchor\":\"y\",\"domain\":[0.0,1.0],\"title\":{\"text\":\"job title\"},\"categoryorder\":\"array\",\"categoryarray\":[\"Data Analytics Lead\",\"Principal Data Engineer\",\"Financial Data Analyst\",\"Principal Data Scientist\",\"Director of Data Science\",\"Data Architect\",\"Applied Data Scientist\",\"Analytics Engineer\",\"Data Specialist\",\"Head of Data\"]},\"yaxis\":{\"anchor\":\"x\",\"domain\":[0.0,1.0],\"title\":{\"text\":\"avg salary in usd\"}},\"legend\":{\"title\":{\"text\":\"job title\"},\"tracegroupgap\":0},\"title\":{\"text\":\"<b> Top 10 Roles in Data Science based on Average Pay\"},\"barmode\":\"relative\"},                        {\"responsive\": true}                    ).then(function(){\n",
       "                            \n",
       "var gd = document.getElementById('f124a372-3b53-4113-af87-8064bc616250');\n",
       "var x = new MutationObserver(function (mutations, observer) {{\n",
       "        var display = window.getComputedStyle(gd).display;\n",
       "        if (!display || display === 'none') {{\n",
       "            console.log([gd, 'removed!']);\n",
       "            Plotly.purge(gd);\n",
       "            observer.disconnect();\n",
       "        }}\n",
       "}});\n",
       "\n",
       "// Listen for the removal of the full notebook cells\n",
       "var notebookContainer = gd.closest('#notebook-container');\n",
       "if (notebookContainer) {{\n",
       "    x.observe(notebookContainer, {childList: true});\n",
       "}}\n",
       "\n",
       "// Listen for the clearing of the current output cell\n",
       "var outputEl = gd.closest('.output');\n",
       "if (outputEl) {{\n",
       "    x.observe(outputEl, {childList: true});\n",
       "}}\n",
       "\n",
       "                        })                };                });            </script>        </div>"
      ]
     },
     "metadata": {},
     "output_type": "display_data"
    }
   ],
   "source": [
    "z=df.groupby('job_title',as_index=False)['salary_in_usd'].mean().sort_values(by='salary_in_usd',ascending=False)\n",
    "z['salary_in_usd']=round(z['salary_in_usd'],2)\n",
    "fig=px.bar(z.head(10),x='job_title',y='salary_in_usd',color='job_title',labels={'job_title':'job title','salary_in_usd':'avg salary in usd'},text='salary_in_usd',template='seaborn',title='<b> Top 10 Roles in Data Science based on Average Pay')\n",
    "fig.update_traces(textfont_size=8)\n",
    "fig.show()"
   ]
  },
  {
   "cell_type": "code",
   "execution_count": 14,
   "id": "824c1474",
   "metadata": {
    "execution": {
     "iopub.execute_input": "2022-09-20T17:48:41.620947Z",
     "iopub.status.busy": "2022-09-20T17:48:41.620339Z",
     "iopub.status.idle": "2022-09-20T17:48:41.709317Z",
     "shell.execute_reply": "2022-09-20T17:48:41.708474Z"
    },
    "papermill": {
     "duration": 0.103871,
     "end_time": "2022-09-20T17:48:41.711736",
     "exception": false,
     "start_time": "2022-09-20T17:48:41.607865",
     "status": "completed"
    },
    "tags": []
   },
   "outputs": [
    {
     "data": {
      "text/html": [
       "<div>                            <div id=\"8e874d74-11bd-4ade-842e-4e772ad149c1\" class=\"plotly-graph-div\" style=\"height:525px; width:100%;\"></div>            <script type=\"text/javascript\">                require([\"plotly\"], function(Plotly) {                    window.PLOTLYENV=window.PLOTLYENV || {};                                    if (document.getElementById(\"8e874d74-11bd-4ade-842e-4e772ad149c1\")) {                    Plotly.newPlot(                        \"8e874d74-11bd-4ade-842e-4e772ad149c1\",                        [{\"customdata\":[[\"Senior\"],[\"Mid-Level\"],[\"Entry-Level\"],[\"Executive Level\"]],\"domain\":{\"x\":[0.0,1.0],\"y\":[0.0,1.0]},\"hole\":0.7,\"hovertemplate\":\"Experience level =%{customdata[0]}<br>count=%{value}<extra></extra>\",\"labels\":[\"Senior\",\"Mid-Level\",\"Entry-Level\",\"Executive Level\"],\"legendgroup\":\"\",\"marker\":{\"colors\":[\"#F8766D\",\"#A3A500\",\"#00BF7D\",\"#00B0F6\"]},\"name\":\"\",\"showlegend\":true,\"values\":[280,213,88,26],\"type\":\"pie\"}],                        {\"template\":{\"data\":{\"barpolar\":[{\"marker\":{\"line\":{\"color\":\"rgb(237,237,237)\",\"width\":0.5},\"pattern\":{\"fillmode\":\"overlay\",\"size\":10,\"solidity\":0.2}},\"type\":\"barpolar\"}],\"bar\":[{\"error_x\":{\"color\":\"rgb(51,51,51)\"},\"error_y\":{\"color\":\"rgb(51,51,51)\"},\"marker\":{\"line\":{\"color\":\"rgb(237,237,237)\",\"width\":0.5},\"pattern\":{\"fillmode\":\"overlay\",\"size\":10,\"solidity\":0.2}},\"type\":\"bar\"}],\"carpet\":[{\"aaxis\":{\"endlinecolor\":\"rgb(51,51,51)\",\"gridcolor\":\"white\",\"linecolor\":\"white\",\"minorgridcolor\":\"white\",\"startlinecolor\":\"rgb(51,51,51)\"},\"baxis\":{\"endlinecolor\":\"rgb(51,51,51)\",\"gridcolor\":\"white\",\"linecolor\":\"white\",\"minorgridcolor\":\"white\",\"startlinecolor\":\"rgb(51,51,51)\"},\"type\":\"carpet\"}],\"choropleth\":[{\"colorbar\":{\"outlinewidth\":0,\"tickcolor\":\"rgb(237,237,237)\",\"ticklen\":6,\"ticks\":\"inside\"},\"type\":\"choropleth\"}],\"contourcarpet\":[{\"colorbar\":{\"outlinewidth\":0,\"tickcolor\":\"rgb(237,237,237)\",\"ticklen\":6,\"ticks\":\"inside\"},\"type\":\"contourcarpet\"}],\"contour\":[{\"colorbar\":{\"outlinewidth\":0,\"tickcolor\":\"rgb(237,237,237)\",\"ticklen\":6,\"ticks\":\"inside\"},\"colorscale\":[[0,\"rgb(20,44,66)\"],[1,\"rgb(90,179,244)\"]],\"type\":\"contour\"}],\"heatmapgl\":[{\"colorbar\":{\"outlinewidth\":0,\"tickcolor\":\"rgb(237,237,237)\",\"ticklen\":6,\"ticks\":\"inside\"},\"colorscale\":[[0,\"rgb(20,44,66)\"],[1,\"rgb(90,179,244)\"]],\"type\":\"heatmapgl\"}],\"heatmap\":[{\"colorbar\":{\"outlinewidth\":0,\"tickcolor\":\"rgb(237,237,237)\",\"ticklen\":6,\"ticks\":\"inside\"},\"colorscale\":[[0,\"rgb(20,44,66)\"],[1,\"rgb(90,179,244)\"]],\"type\":\"heatmap\"}],\"histogram2dcontour\":[{\"colorbar\":{\"outlinewidth\":0,\"tickcolor\":\"rgb(237,237,237)\",\"ticklen\":6,\"ticks\":\"inside\"},\"colorscale\":[[0,\"rgb(20,44,66)\"],[1,\"rgb(90,179,244)\"]],\"type\":\"histogram2dcontour\"}],\"histogram2d\":[{\"colorbar\":{\"outlinewidth\":0,\"tickcolor\":\"rgb(237,237,237)\",\"ticklen\":6,\"ticks\":\"inside\"},\"colorscale\":[[0,\"rgb(20,44,66)\"],[1,\"rgb(90,179,244)\"]],\"type\":\"histogram2d\"}],\"histogram\":[{\"marker\":{\"pattern\":{\"fillmode\":\"overlay\",\"size\":10,\"solidity\":0.2}},\"type\":\"histogram\"}],\"mesh3d\":[{\"colorbar\":{\"outlinewidth\":0,\"tickcolor\":\"rgb(237,237,237)\",\"ticklen\":6,\"ticks\":\"inside\"},\"type\":\"mesh3d\"}],\"parcoords\":[{\"line\":{\"colorbar\":{\"outlinewidth\":0,\"tickcolor\":\"rgb(237,237,237)\",\"ticklen\":6,\"ticks\":\"inside\"}},\"type\":\"parcoords\"}],\"pie\":[{\"automargin\":true,\"type\":\"pie\"}],\"scatter3d\":[{\"line\":{\"colorbar\":{\"outlinewidth\":0,\"tickcolor\":\"rgb(237,237,237)\",\"ticklen\":6,\"ticks\":\"inside\"}},\"marker\":{\"colorbar\":{\"outlinewidth\":0,\"tickcolor\":\"rgb(237,237,237)\",\"ticklen\":6,\"ticks\":\"inside\"}},\"type\":\"scatter3d\"}],\"scattercarpet\":[{\"marker\":{\"colorbar\":{\"outlinewidth\":0,\"tickcolor\":\"rgb(237,237,237)\",\"ticklen\":6,\"ticks\":\"inside\"}},\"type\":\"scattercarpet\"}],\"scattergeo\":[{\"marker\":{\"colorbar\":{\"outlinewidth\":0,\"tickcolor\":\"rgb(237,237,237)\",\"ticklen\":6,\"ticks\":\"inside\"}},\"type\":\"scattergeo\"}],\"scattergl\":[{\"marker\":{\"colorbar\":{\"outlinewidth\":0,\"tickcolor\":\"rgb(237,237,237)\",\"ticklen\":6,\"ticks\":\"inside\"}},\"type\":\"scattergl\"}],\"scattermapbox\":[{\"marker\":{\"colorbar\":{\"outlinewidth\":0,\"tickcolor\":\"rgb(237,237,237)\",\"ticklen\":6,\"ticks\":\"inside\"}},\"type\":\"scattermapbox\"}],\"scatterpolargl\":[{\"marker\":{\"colorbar\":{\"outlinewidth\":0,\"tickcolor\":\"rgb(237,237,237)\",\"ticklen\":6,\"ticks\":\"inside\"}},\"type\":\"scatterpolargl\"}],\"scatterpolar\":[{\"marker\":{\"colorbar\":{\"outlinewidth\":0,\"tickcolor\":\"rgb(237,237,237)\",\"ticklen\":6,\"ticks\":\"inside\"}},\"type\":\"scatterpolar\"}],\"scatter\":[{\"fillpattern\":{\"fillmode\":\"overlay\",\"size\":10,\"solidity\":0.2},\"type\":\"scatter\"}],\"scatterternary\":[{\"marker\":{\"colorbar\":{\"outlinewidth\":0,\"tickcolor\":\"rgb(237,237,237)\",\"ticklen\":6,\"ticks\":\"inside\"}},\"type\":\"scatterternary\"}],\"surface\":[{\"colorbar\":{\"outlinewidth\":0,\"tickcolor\":\"rgb(237,237,237)\",\"ticklen\":6,\"ticks\":\"inside\"},\"colorscale\":[[0,\"rgb(20,44,66)\"],[1,\"rgb(90,179,244)\"]],\"type\":\"surface\"}],\"table\":[{\"cells\":{\"fill\":{\"color\":\"rgb(237,237,237)\"},\"line\":{\"color\":\"white\"}},\"header\":{\"fill\":{\"color\":\"rgb(217,217,217)\"},\"line\":{\"color\":\"white\"}},\"type\":\"table\"}]},\"layout\":{\"annotationdefaults\":{\"arrowhead\":0,\"arrowwidth\":1},\"autotypenumbers\":\"strict\",\"coloraxis\":{\"colorbar\":{\"outlinewidth\":0,\"tickcolor\":\"rgb(237,237,237)\",\"ticklen\":6,\"ticks\":\"inside\"}},\"colorscale\":{\"sequential\":[[0,\"rgb(20,44,66)\"],[1,\"rgb(90,179,244)\"]],\"sequentialminus\":[[0,\"rgb(20,44,66)\"],[1,\"rgb(90,179,244)\"]]},\"colorway\":[\"#F8766D\",\"#A3A500\",\"#00BF7D\",\"#00B0F6\",\"#E76BF3\"],\"font\":{\"color\":\"rgb(51,51,51)\"},\"geo\":{\"bgcolor\":\"white\",\"lakecolor\":\"white\",\"landcolor\":\"rgb(237,237,237)\",\"showlakes\":true,\"showland\":true,\"subunitcolor\":\"white\"},\"hoverlabel\":{\"align\":\"left\"},\"hovermode\":\"closest\",\"paper_bgcolor\":\"white\",\"plot_bgcolor\":\"rgb(237,237,237)\",\"polar\":{\"angularaxis\":{\"gridcolor\":\"white\",\"linecolor\":\"white\",\"showgrid\":true,\"tickcolor\":\"rgb(51,51,51)\",\"ticks\":\"outside\"},\"bgcolor\":\"rgb(237,237,237)\",\"radialaxis\":{\"gridcolor\":\"white\",\"linecolor\":\"white\",\"showgrid\":true,\"tickcolor\":\"rgb(51,51,51)\",\"ticks\":\"outside\"}},\"scene\":{\"xaxis\":{\"backgroundcolor\":\"rgb(237,237,237)\",\"gridcolor\":\"white\",\"gridwidth\":2,\"linecolor\":\"white\",\"showbackground\":true,\"showgrid\":true,\"tickcolor\":\"rgb(51,51,51)\",\"ticks\":\"outside\",\"zerolinecolor\":\"white\"},\"yaxis\":{\"backgroundcolor\":\"rgb(237,237,237)\",\"gridcolor\":\"white\",\"gridwidth\":2,\"linecolor\":\"white\",\"showbackground\":true,\"showgrid\":true,\"tickcolor\":\"rgb(51,51,51)\",\"ticks\":\"outside\",\"zerolinecolor\":\"white\"},\"zaxis\":{\"backgroundcolor\":\"rgb(237,237,237)\",\"gridcolor\":\"white\",\"gridwidth\":2,\"linecolor\":\"white\",\"showbackground\":true,\"showgrid\":true,\"tickcolor\":\"rgb(51,51,51)\",\"ticks\":\"outside\",\"zerolinecolor\":\"white\"}},\"shapedefaults\":{\"fillcolor\":\"black\",\"line\":{\"width\":0},\"opacity\":0.3},\"ternary\":{\"aaxis\":{\"gridcolor\":\"white\",\"linecolor\":\"white\",\"showgrid\":true,\"tickcolor\":\"rgb(51,51,51)\",\"ticks\":\"outside\"},\"baxis\":{\"gridcolor\":\"white\",\"linecolor\":\"white\",\"showgrid\":true,\"tickcolor\":\"rgb(51,51,51)\",\"ticks\":\"outside\"},\"bgcolor\":\"rgb(237,237,237)\",\"caxis\":{\"gridcolor\":\"white\",\"linecolor\":\"white\",\"showgrid\":true,\"tickcolor\":\"rgb(51,51,51)\",\"ticks\":\"outside\"}},\"xaxis\":{\"automargin\":true,\"gridcolor\":\"white\",\"linecolor\":\"white\",\"showgrid\":true,\"tickcolor\":\"rgb(51,51,51)\",\"ticks\":\"outside\",\"title\":{\"standoff\":15},\"zerolinecolor\":\"white\"},\"yaxis\":{\"automargin\":true,\"gridcolor\":\"white\",\"linecolor\":\"white\",\"showgrid\":true,\"tickcolor\":\"rgb(51,51,51)\",\"ticks\":\"outside\",\"title\":{\"standoff\":15},\"zerolinecolor\":\"white\"}}},\"legend\":{\"tracegroupgap\":0,\"orientation\":\"h\",\"yanchor\":\"bottom\",\"y\":1.02,\"xanchor\":\"right\",\"x\":1},\"title\":{\"text\":\"<b>Total Jobs Based on Experience Level\",\"x\":0.5}},                        {\"responsive\": true}                    ).then(function(){\n",
       "                            \n",
       "var gd = document.getElementById('8e874d74-11bd-4ade-842e-4e772ad149c1');\n",
       "var x = new MutationObserver(function (mutations, observer) {{\n",
       "        var display = window.getComputedStyle(gd).display;\n",
       "        if (!display || display === 'none') {{\n",
       "            console.log([gd, 'removed!']);\n",
       "            Plotly.purge(gd);\n",
       "            observer.disconnect();\n",
       "        }}\n",
       "}});\n",
       "\n",
       "// Listen for the removal of the full notebook cells\n",
       "var notebookContainer = gd.closest('#notebook-container');\n",
       "if (notebookContainer) {{\n",
       "    x.observe(notebookContainer, {childList: true});\n",
       "}}\n",
       "\n",
       "// Listen for the clearing of the current output cell\n",
       "var outputEl = gd.closest('.output');\n",
       "if (outputEl) {{\n",
       "    x.observe(outputEl, {childList: true});\n",
       "}}\n",
       "\n",
       "                        })                };                });            </script>        </div>"
      ]
     },
     "metadata": {},
     "output_type": "display_data"
    }
   ],
   "source": [
    "fig=px.pie(df.groupby('experience_level',as_index=False)['salary_in_usd'].count().sort_values(by='salary_in_usd',ascending=False).head(10),names='experience_level',values='salary_in_usd',color='experience_level',hole=0.7,labels={'experience_level':'Experience level ','salary_in_usd':'count'},template='ggplot2',title='<b>Total Jobs Based on Experience Level')\n",
    "fig.update_layout(title_x=0.5,legend=dict(orientation='h',yanchor='bottom',y=1.02,xanchor='right',x=1))"
   ]
  },
  {
   "cell_type": "code",
   "execution_count": 15,
   "id": "d8a5ca14",
   "metadata": {
    "execution": {
     "iopub.execute_input": "2022-09-20T17:48:41.735246Z",
     "iopub.status.busy": "2022-09-20T17:48:41.734611Z",
     "iopub.status.idle": "2022-09-20T17:48:41.795394Z",
     "shell.execute_reply": "2022-09-20T17:48:41.794293Z"
    },
    "papermill": {
     "duration": 0.075618,
     "end_time": "2022-09-20T17:48:41.798195",
     "exception": false,
     "start_time": "2022-09-20T17:48:41.722577",
     "status": "completed"
    },
    "tags": []
   },
   "outputs": [
    {
     "data": {
      "text/html": [
       "<div>                            <div id=\"85ebfcb7-5bca-4001-95af-ea8e6f55d40c\" class=\"plotly-graph-div\" style=\"height:525px; width:100%;\"></div>            <script type=\"text/javascript\">                require([\"plotly\"], function(Plotly) {                    window.PLOTLYENV=window.PLOTLYENV || {};                                    if (document.getElementById(\"85ebfcb7-5bca-4001-95af-ea8e6f55d40c\")) {                    Plotly.newPlot(                        \"85ebfcb7-5bca-4001-95af-ea8e6f55d40c\",                        [{\"customdata\":[[\"Full-Time\"],[\"Part-Time\"],[\"Contract\"],[\"Freelance\"]],\"domain\":{\"x\":[0.0,1.0],\"y\":[0.0,1.0]},\"hole\":0.7,\"hovertemplate\":\"Employment level=%{customdata[0]}<br>count=%{value}<extra></extra>\",\"labels\":[\"Full-Time\",\"Part-Time\",\"Contract\",\"Freelance\"],\"legendgroup\":\"\",\"marker\":{\"colors\":[\"rgb(76,114,176)\",\"rgb(221,132,82)\",\"rgb(85,168,104)\",\"rgb(196,78,82)\"]},\"name\":\"\",\"showlegend\":true,\"values\":[588,10,5,4],\"type\":\"pie\"}],                        {\"template\":{\"data\":{\"barpolar\":[{\"marker\":{\"line\":{\"color\":\"rgb(234,234,242)\",\"width\":0.5},\"pattern\":{\"fillmode\":\"overlay\",\"size\":10,\"solidity\":0.2}},\"type\":\"barpolar\"}],\"bar\":[{\"error_x\":{\"color\":\"rgb(36,36,36)\"},\"error_y\":{\"color\":\"rgb(36,36,36)\"},\"marker\":{\"line\":{\"color\":\"rgb(234,234,242)\",\"width\":0.5},\"pattern\":{\"fillmode\":\"overlay\",\"size\":10,\"solidity\":0.2}},\"type\":\"bar\"}],\"carpet\":[{\"aaxis\":{\"endlinecolor\":\"rgb(36,36,36)\",\"gridcolor\":\"white\",\"linecolor\":\"white\",\"minorgridcolor\":\"white\",\"startlinecolor\":\"rgb(36,36,36)\"},\"baxis\":{\"endlinecolor\":\"rgb(36,36,36)\",\"gridcolor\":\"white\",\"linecolor\":\"white\",\"minorgridcolor\":\"white\",\"startlinecolor\":\"rgb(36,36,36)\"},\"type\":\"carpet\"}],\"choropleth\":[{\"colorbar\":{\"outlinewidth\":0,\"tickcolor\":\"rgb(36,36,36)\",\"ticklen\":8,\"ticks\":\"outside\",\"tickwidth\":2},\"type\":\"choropleth\"}],\"contourcarpet\":[{\"colorbar\":{\"outlinewidth\":0,\"tickcolor\":\"rgb(36,36,36)\",\"ticklen\":8,\"ticks\":\"outside\",\"tickwidth\":2},\"type\":\"contourcarpet\"}],\"contour\":[{\"colorbar\":{\"outlinewidth\":0,\"tickcolor\":\"rgb(36,36,36)\",\"ticklen\":8,\"ticks\":\"outside\",\"tickwidth\":2},\"colorscale\":[[0.0,\"rgb(2,4,25)\"],[0.06274509803921569,\"rgb(24,15,41)\"],[0.12549019607843137,\"rgb(47,23,57)\"],[0.18823529411764706,\"rgb(71,28,72)\"],[0.25098039215686274,\"rgb(97,30,82)\"],[0.3137254901960784,\"rgb(123,30,89)\"],[0.3764705882352941,\"rgb(150,27,91)\"],[0.4392156862745098,\"rgb(177,22,88)\"],[0.5019607843137255,\"rgb(203,26,79)\"],[0.5647058823529412,\"rgb(223,47,67)\"],[0.6274509803921569,\"rgb(236,76,61)\"],[0.6901960784313725,\"rgb(242,107,73)\"],[0.7529411764705882,\"rgb(244,135,95)\"],[0.8156862745098039,\"rgb(245,162,122)\"],[0.8784313725490196,\"rgb(246,188,153)\"],[0.9411764705882353,\"rgb(247,212,187)\"],[1.0,\"rgb(250,234,220)\"]],\"type\":\"contour\"}],\"heatmapgl\":[{\"colorbar\":{\"outlinewidth\":0,\"tickcolor\":\"rgb(36,36,36)\",\"ticklen\":8,\"ticks\":\"outside\",\"tickwidth\":2},\"colorscale\":[[0.0,\"rgb(2,4,25)\"],[0.06274509803921569,\"rgb(24,15,41)\"],[0.12549019607843137,\"rgb(47,23,57)\"],[0.18823529411764706,\"rgb(71,28,72)\"],[0.25098039215686274,\"rgb(97,30,82)\"],[0.3137254901960784,\"rgb(123,30,89)\"],[0.3764705882352941,\"rgb(150,27,91)\"],[0.4392156862745098,\"rgb(177,22,88)\"],[0.5019607843137255,\"rgb(203,26,79)\"],[0.5647058823529412,\"rgb(223,47,67)\"],[0.6274509803921569,\"rgb(236,76,61)\"],[0.6901960784313725,\"rgb(242,107,73)\"],[0.7529411764705882,\"rgb(244,135,95)\"],[0.8156862745098039,\"rgb(245,162,122)\"],[0.8784313725490196,\"rgb(246,188,153)\"],[0.9411764705882353,\"rgb(247,212,187)\"],[1.0,\"rgb(250,234,220)\"]],\"type\":\"heatmapgl\"}],\"heatmap\":[{\"colorbar\":{\"outlinewidth\":0,\"tickcolor\":\"rgb(36,36,36)\",\"ticklen\":8,\"ticks\":\"outside\",\"tickwidth\":2},\"colorscale\":[[0.0,\"rgb(2,4,25)\"],[0.06274509803921569,\"rgb(24,15,41)\"],[0.12549019607843137,\"rgb(47,23,57)\"],[0.18823529411764706,\"rgb(71,28,72)\"],[0.25098039215686274,\"rgb(97,30,82)\"],[0.3137254901960784,\"rgb(123,30,89)\"],[0.3764705882352941,\"rgb(150,27,91)\"],[0.4392156862745098,\"rgb(177,22,88)\"],[0.5019607843137255,\"rgb(203,26,79)\"],[0.5647058823529412,\"rgb(223,47,67)\"],[0.6274509803921569,\"rgb(236,76,61)\"],[0.6901960784313725,\"rgb(242,107,73)\"],[0.7529411764705882,\"rgb(244,135,95)\"],[0.8156862745098039,\"rgb(245,162,122)\"],[0.8784313725490196,\"rgb(246,188,153)\"],[0.9411764705882353,\"rgb(247,212,187)\"],[1.0,\"rgb(250,234,220)\"]],\"type\":\"heatmap\"}],\"histogram2dcontour\":[{\"colorbar\":{\"outlinewidth\":0,\"tickcolor\":\"rgb(36,36,36)\",\"ticklen\":8,\"ticks\":\"outside\",\"tickwidth\":2},\"colorscale\":[[0.0,\"rgb(2,4,25)\"],[0.06274509803921569,\"rgb(24,15,41)\"],[0.12549019607843137,\"rgb(47,23,57)\"],[0.18823529411764706,\"rgb(71,28,72)\"],[0.25098039215686274,\"rgb(97,30,82)\"],[0.3137254901960784,\"rgb(123,30,89)\"],[0.3764705882352941,\"rgb(150,27,91)\"],[0.4392156862745098,\"rgb(177,22,88)\"],[0.5019607843137255,\"rgb(203,26,79)\"],[0.5647058823529412,\"rgb(223,47,67)\"],[0.6274509803921569,\"rgb(236,76,61)\"],[0.6901960784313725,\"rgb(242,107,73)\"],[0.7529411764705882,\"rgb(244,135,95)\"],[0.8156862745098039,\"rgb(245,162,122)\"],[0.8784313725490196,\"rgb(246,188,153)\"],[0.9411764705882353,\"rgb(247,212,187)\"],[1.0,\"rgb(250,234,220)\"]],\"type\":\"histogram2dcontour\"}],\"histogram2d\":[{\"colorbar\":{\"outlinewidth\":0,\"tickcolor\":\"rgb(36,36,36)\",\"ticklen\":8,\"ticks\":\"outside\",\"tickwidth\":2},\"colorscale\":[[0.0,\"rgb(2,4,25)\"],[0.06274509803921569,\"rgb(24,15,41)\"],[0.12549019607843137,\"rgb(47,23,57)\"],[0.18823529411764706,\"rgb(71,28,72)\"],[0.25098039215686274,\"rgb(97,30,82)\"],[0.3137254901960784,\"rgb(123,30,89)\"],[0.3764705882352941,\"rgb(150,27,91)\"],[0.4392156862745098,\"rgb(177,22,88)\"],[0.5019607843137255,\"rgb(203,26,79)\"],[0.5647058823529412,\"rgb(223,47,67)\"],[0.6274509803921569,\"rgb(236,76,61)\"],[0.6901960784313725,\"rgb(242,107,73)\"],[0.7529411764705882,\"rgb(244,135,95)\"],[0.8156862745098039,\"rgb(245,162,122)\"],[0.8784313725490196,\"rgb(246,188,153)\"],[0.9411764705882353,\"rgb(247,212,187)\"],[1.0,\"rgb(250,234,220)\"]],\"type\":\"histogram2d\"}],\"histogram\":[{\"marker\":{\"pattern\":{\"fillmode\":\"overlay\",\"size\":10,\"solidity\":0.2}},\"type\":\"histogram\"}],\"mesh3d\":[{\"colorbar\":{\"outlinewidth\":0,\"tickcolor\":\"rgb(36,36,36)\",\"ticklen\":8,\"ticks\":\"outside\",\"tickwidth\":2},\"type\":\"mesh3d\"}],\"parcoords\":[{\"line\":{\"colorbar\":{\"outlinewidth\":0,\"tickcolor\":\"rgb(36,36,36)\",\"ticklen\":8,\"ticks\":\"outside\",\"tickwidth\":2}},\"type\":\"parcoords\"}],\"pie\":[{\"automargin\":true,\"type\":\"pie\"}],\"scatter3d\":[{\"line\":{\"colorbar\":{\"outlinewidth\":0,\"tickcolor\":\"rgb(36,36,36)\",\"ticklen\":8,\"ticks\":\"outside\",\"tickwidth\":2}},\"marker\":{\"colorbar\":{\"outlinewidth\":0,\"tickcolor\":\"rgb(36,36,36)\",\"ticklen\":8,\"ticks\":\"outside\",\"tickwidth\":2}},\"type\":\"scatter3d\"}],\"scattercarpet\":[{\"marker\":{\"colorbar\":{\"outlinewidth\":0,\"tickcolor\":\"rgb(36,36,36)\",\"ticklen\":8,\"ticks\":\"outside\",\"tickwidth\":2}},\"type\":\"scattercarpet\"}],\"scattergeo\":[{\"marker\":{\"colorbar\":{\"outlinewidth\":0,\"tickcolor\":\"rgb(36,36,36)\",\"ticklen\":8,\"ticks\":\"outside\",\"tickwidth\":2}},\"type\":\"scattergeo\"}],\"scattergl\":[{\"marker\":{\"colorbar\":{\"outlinewidth\":0,\"tickcolor\":\"rgb(36,36,36)\",\"ticklen\":8,\"ticks\":\"outside\",\"tickwidth\":2}},\"type\":\"scattergl\"}],\"scattermapbox\":[{\"marker\":{\"colorbar\":{\"outlinewidth\":0,\"tickcolor\":\"rgb(36,36,36)\",\"ticklen\":8,\"ticks\":\"outside\",\"tickwidth\":2}},\"type\":\"scattermapbox\"}],\"scatterpolargl\":[{\"marker\":{\"colorbar\":{\"outlinewidth\":0,\"tickcolor\":\"rgb(36,36,36)\",\"ticklen\":8,\"ticks\":\"outside\",\"tickwidth\":2}},\"type\":\"scatterpolargl\"}],\"scatterpolar\":[{\"marker\":{\"colorbar\":{\"outlinewidth\":0,\"tickcolor\":\"rgb(36,36,36)\",\"ticklen\":8,\"ticks\":\"outside\",\"tickwidth\":2}},\"type\":\"scatterpolar\"}],\"scatter\":[{\"fillpattern\":{\"fillmode\":\"overlay\",\"size\":10,\"solidity\":0.2},\"type\":\"scatter\"}],\"scatterternary\":[{\"marker\":{\"colorbar\":{\"outlinewidth\":0,\"tickcolor\":\"rgb(36,36,36)\",\"ticklen\":8,\"ticks\":\"outside\",\"tickwidth\":2}},\"type\":\"scatterternary\"}],\"surface\":[{\"colorbar\":{\"outlinewidth\":0,\"tickcolor\":\"rgb(36,36,36)\",\"ticklen\":8,\"ticks\":\"outside\",\"tickwidth\":2},\"colorscale\":[[0.0,\"rgb(2,4,25)\"],[0.06274509803921569,\"rgb(24,15,41)\"],[0.12549019607843137,\"rgb(47,23,57)\"],[0.18823529411764706,\"rgb(71,28,72)\"],[0.25098039215686274,\"rgb(97,30,82)\"],[0.3137254901960784,\"rgb(123,30,89)\"],[0.3764705882352941,\"rgb(150,27,91)\"],[0.4392156862745098,\"rgb(177,22,88)\"],[0.5019607843137255,\"rgb(203,26,79)\"],[0.5647058823529412,\"rgb(223,47,67)\"],[0.6274509803921569,\"rgb(236,76,61)\"],[0.6901960784313725,\"rgb(242,107,73)\"],[0.7529411764705882,\"rgb(244,135,95)\"],[0.8156862745098039,\"rgb(245,162,122)\"],[0.8784313725490196,\"rgb(246,188,153)\"],[0.9411764705882353,\"rgb(247,212,187)\"],[1.0,\"rgb(250,234,220)\"]],\"type\":\"surface\"}],\"table\":[{\"cells\":{\"fill\":{\"color\":\"rgb(231,231,240)\"},\"line\":{\"color\":\"white\"}},\"header\":{\"fill\":{\"color\":\"rgb(183,183,191)\"},\"line\":{\"color\":\"white\"}},\"type\":\"table\"}]},\"layout\":{\"annotationdefaults\":{\"arrowcolor\":\"rgb(67,103,167)\"},\"autotypenumbers\":\"strict\",\"coloraxis\":{\"colorbar\":{\"outlinewidth\":0,\"tickcolor\":\"rgb(36,36,36)\",\"ticklen\":8,\"ticks\":\"outside\",\"tickwidth\":2}},\"colorscale\":{\"sequential\":[[0.0,\"rgb(2,4,25)\"],[0.06274509803921569,\"rgb(24,15,41)\"],[0.12549019607843137,\"rgb(47,23,57)\"],[0.18823529411764706,\"rgb(71,28,72)\"],[0.25098039215686274,\"rgb(97,30,82)\"],[0.3137254901960784,\"rgb(123,30,89)\"],[0.3764705882352941,\"rgb(150,27,91)\"],[0.4392156862745098,\"rgb(177,22,88)\"],[0.5019607843137255,\"rgb(203,26,79)\"],[0.5647058823529412,\"rgb(223,47,67)\"],[0.6274509803921569,\"rgb(236,76,61)\"],[0.6901960784313725,\"rgb(242,107,73)\"],[0.7529411764705882,\"rgb(244,135,95)\"],[0.8156862745098039,\"rgb(245,162,122)\"],[0.8784313725490196,\"rgb(246,188,153)\"],[0.9411764705882353,\"rgb(247,212,187)\"],[1.0,\"rgb(250,234,220)\"]],\"sequentialminus\":[[0.0,\"rgb(2,4,25)\"],[0.06274509803921569,\"rgb(24,15,41)\"],[0.12549019607843137,\"rgb(47,23,57)\"],[0.18823529411764706,\"rgb(71,28,72)\"],[0.25098039215686274,\"rgb(97,30,82)\"],[0.3137254901960784,\"rgb(123,30,89)\"],[0.3764705882352941,\"rgb(150,27,91)\"],[0.4392156862745098,\"rgb(177,22,88)\"],[0.5019607843137255,\"rgb(203,26,79)\"],[0.5647058823529412,\"rgb(223,47,67)\"],[0.6274509803921569,\"rgb(236,76,61)\"],[0.6901960784313725,\"rgb(242,107,73)\"],[0.7529411764705882,\"rgb(244,135,95)\"],[0.8156862745098039,\"rgb(245,162,122)\"],[0.8784313725490196,\"rgb(246,188,153)\"],[0.9411764705882353,\"rgb(247,212,187)\"],[1.0,\"rgb(250,234,220)\"]]},\"colorway\":[\"rgb(76,114,176)\",\"rgb(221,132,82)\",\"rgb(85,168,104)\",\"rgb(196,78,82)\",\"rgb(129,114,179)\",\"rgb(147,120,96)\",\"rgb(218,139,195)\",\"rgb(140,140,140)\",\"rgb(204,185,116)\",\"rgb(100,181,205)\"],\"font\":{\"color\":\"rgb(36,36,36)\"},\"geo\":{\"bgcolor\":\"white\",\"lakecolor\":\"white\",\"landcolor\":\"rgb(234,234,242)\",\"showlakes\":true,\"showland\":true,\"subunitcolor\":\"white\"},\"hoverlabel\":{\"align\":\"left\"},\"hovermode\":\"closest\",\"paper_bgcolor\":\"white\",\"plot_bgcolor\":\"rgb(234,234,242)\",\"polar\":{\"angularaxis\":{\"gridcolor\":\"white\",\"linecolor\":\"white\",\"showgrid\":true,\"ticks\":\"\"},\"bgcolor\":\"rgb(234,234,242)\",\"radialaxis\":{\"gridcolor\":\"white\",\"linecolor\":\"white\",\"showgrid\":true,\"ticks\":\"\"}},\"scene\":{\"xaxis\":{\"backgroundcolor\":\"rgb(234,234,242)\",\"gridcolor\":\"white\",\"gridwidth\":2,\"linecolor\":\"white\",\"showbackground\":true,\"showgrid\":true,\"ticks\":\"\",\"zerolinecolor\":\"white\"},\"yaxis\":{\"backgroundcolor\":\"rgb(234,234,242)\",\"gridcolor\":\"white\",\"gridwidth\":2,\"linecolor\":\"white\",\"showbackground\":true,\"showgrid\":true,\"ticks\":\"\",\"zerolinecolor\":\"white\"},\"zaxis\":{\"backgroundcolor\":\"rgb(234,234,242)\",\"gridcolor\":\"white\",\"gridwidth\":2,\"linecolor\":\"white\",\"showbackground\":true,\"showgrid\":true,\"ticks\":\"\",\"zerolinecolor\":\"white\"}},\"shapedefaults\":{\"fillcolor\":\"rgb(67,103,167)\",\"line\":{\"width\":0},\"opacity\":0.5},\"ternary\":{\"aaxis\":{\"gridcolor\":\"white\",\"linecolor\":\"white\",\"showgrid\":true,\"ticks\":\"\"},\"baxis\":{\"gridcolor\":\"white\",\"linecolor\":\"white\",\"showgrid\":true,\"ticks\":\"\"},\"bgcolor\":\"rgb(234,234,242)\",\"caxis\":{\"gridcolor\":\"white\",\"linecolor\":\"white\",\"showgrid\":true,\"ticks\":\"\"}},\"xaxis\":{\"automargin\":true,\"gridcolor\":\"white\",\"linecolor\":\"white\",\"showgrid\":true,\"ticks\":\"\",\"title\":{\"standoff\":15},\"zerolinecolor\":\"white\"},\"yaxis\":{\"automargin\":true,\"gridcolor\":\"white\",\"linecolor\":\"white\",\"showgrid\":true,\"ticks\":\"\",\"title\":{\"standoff\":15},\"zerolinecolor\":\"white\"}}},\"legend\":{\"tracegroupgap\":0},\"title\":{\"text\":\"<b> Total Jobs Based on Employee Level\",\"x\":0.5}},                        {\"responsive\": true}                    ).then(function(){\n",
       "                            \n",
       "var gd = document.getElementById('85ebfcb7-5bca-4001-95af-ea8e6f55d40c');\n",
       "var x = new MutationObserver(function (mutations, observer) {{\n",
       "        var display = window.getComputedStyle(gd).display;\n",
       "        if (!display || display === 'none') {{\n",
       "            console.log([gd, 'removed!']);\n",
       "            Plotly.purge(gd);\n",
       "            observer.disconnect();\n",
       "        }}\n",
       "}});\n",
       "\n",
       "// Listen for the removal of the full notebook cells\n",
       "var notebookContainer = gd.closest('#notebook-container');\n",
       "if (notebookContainer) {{\n",
       "    x.observe(notebookContainer, {childList: true});\n",
       "}}\n",
       "\n",
       "// Listen for the clearing of the current output cell\n",
       "var outputEl = gd.closest('.output');\n",
       "if (outputEl) {{\n",
       "    x.observe(outputEl, {childList: true});\n",
       "}}\n",
       "\n",
       "                        })                };                });            </script>        </div>"
      ]
     },
     "metadata": {},
     "output_type": "display_data"
    }
   ],
   "source": [
    "fig=px.pie(df.groupby('employment_type',as_index=False)['salary_in_usd'].count().sort_values(by='salary_in_usd',ascending=False).head(10),names='employment_type',values='salary_in_usd',color='employment_type',hole=0.7,labels={'employment_type':'Employment level','salary_in_usd':'count'},template='seaborn',title='<b> Total Jobs Based on Employee Level')\n",
    "fig.update_layout(title_x=0.5)"
   ]
  },
  {
   "cell_type": "code",
   "execution_count": 16,
   "id": "a5b5a3d0",
   "metadata": {
    "execution": {
     "iopub.execute_input": "2022-09-20T17:48:41.822449Z",
     "iopub.status.busy": "2022-09-20T17:48:41.822005Z",
     "iopub.status.idle": "2022-09-20T17:48:41.888794Z",
     "shell.execute_reply": "2022-09-20T17:48:41.887908Z"
    },
    "papermill": {
     "duration": 0.081744,
     "end_time": "2022-09-20T17:48:41.891306",
     "exception": false,
     "start_time": "2022-09-20T17:48:41.809562",
     "status": "completed"
    },
    "tags": []
   },
   "outputs": [
    {
     "data": {
      "text/html": [
       "<div>                            <div id=\"d3acc281-a1e3-4939-af02-2d557ca01cfd\" class=\"plotly-graph-div\" style=\"height:525px; width:100%;\"></div>            <script type=\"text/javascript\">                require([\"plotly\"], function(Plotly) {                    window.PLOTLYENV=window.PLOTLYENV || {};                                    if (document.getElementById(\"d3acc281-a1e3-4939-af02-2d557ca01cfd\")) {                    Plotly.newPlot(                        \"d3acc281-a1e3-4939-af02-2d557ca01cfd\",                        [{\"customdata\":[[100],[0],[50]],\"domain\":{\"x\":[0.0,1.0],\"y\":[0.0,1.0]},\"hole\":0.7,\"hovertemplate\":\"remote ratio=%{customdata[0]}<br>count=%{value}<extra></extra>\",\"labels\":[100,0,50],\"legendgroup\":\"\",\"marker\":{\"colors\":[\"#636efa\",\"#EF553B\",\"#00cc96\"]},\"name\":\"\",\"showlegend\":true,\"values\":[381,127,99],\"type\":\"pie\"}],                        {\"template\":{\"data\":{\"histogram2dcontour\":[{\"type\":\"histogram2dcontour\",\"colorbar\":{\"outlinewidth\":0,\"ticks\":\"\"},\"colorscale\":[[0.0,\"#0d0887\"],[0.1111111111111111,\"#46039f\"],[0.2222222222222222,\"#7201a8\"],[0.3333333333333333,\"#9c179e\"],[0.4444444444444444,\"#bd3786\"],[0.5555555555555556,\"#d8576b\"],[0.6666666666666666,\"#ed7953\"],[0.7777777777777778,\"#fb9f3a\"],[0.8888888888888888,\"#fdca26\"],[1.0,\"#f0f921\"]]}],\"choropleth\":[{\"type\":\"choropleth\",\"colorbar\":{\"outlinewidth\":0,\"ticks\":\"\"}}],\"histogram2d\":[{\"type\":\"histogram2d\",\"colorbar\":{\"outlinewidth\":0,\"ticks\":\"\"},\"colorscale\":[[0.0,\"#0d0887\"],[0.1111111111111111,\"#46039f\"],[0.2222222222222222,\"#7201a8\"],[0.3333333333333333,\"#9c179e\"],[0.4444444444444444,\"#bd3786\"],[0.5555555555555556,\"#d8576b\"],[0.6666666666666666,\"#ed7953\"],[0.7777777777777778,\"#fb9f3a\"],[0.8888888888888888,\"#fdca26\"],[1.0,\"#f0f921\"]]}],\"heatmap\":[{\"type\":\"heatmap\",\"colorbar\":{\"outlinewidth\":0,\"ticks\":\"\"},\"colorscale\":[[0.0,\"#0d0887\"],[0.1111111111111111,\"#46039f\"],[0.2222222222222222,\"#7201a8\"],[0.3333333333333333,\"#9c179e\"],[0.4444444444444444,\"#bd3786\"],[0.5555555555555556,\"#d8576b\"],[0.6666666666666666,\"#ed7953\"],[0.7777777777777778,\"#fb9f3a\"],[0.8888888888888888,\"#fdca26\"],[1.0,\"#f0f921\"]]}],\"heatmapgl\":[{\"type\":\"heatmapgl\",\"colorbar\":{\"outlinewidth\":0,\"ticks\":\"\"},\"colorscale\":[[0.0,\"#0d0887\"],[0.1111111111111111,\"#46039f\"],[0.2222222222222222,\"#7201a8\"],[0.3333333333333333,\"#9c179e\"],[0.4444444444444444,\"#bd3786\"],[0.5555555555555556,\"#d8576b\"],[0.6666666666666666,\"#ed7953\"],[0.7777777777777778,\"#fb9f3a\"],[0.8888888888888888,\"#fdca26\"],[1.0,\"#f0f921\"]]}],\"contourcarpet\":[{\"type\":\"contourcarpet\",\"colorbar\":{\"outlinewidth\":0,\"ticks\":\"\"}}],\"contour\":[{\"type\":\"contour\",\"colorbar\":{\"outlinewidth\":0,\"ticks\":\"\"},\"colorscale\":[[0.0,\"#0d0887\"],[0.1111111111111111,\"#46039f\"],[0.2222222222222222,\"#7201a8\"],[0.3333333333333333,\"#9c179e\"],[0.4444444444444444,\"#bd3786\"],[0.5555555555555556,\"#d8576b\"],[0.6666666666666666,\"#ed7953\"],[0.7777777777777778,\"#fb9f3a\"],[0.8888888888888888,\"#fdca26\"],[1.0,\"#f0f921\"]]}],\"surface\":[{\"type\":\"surface\",\"colorbar\":{\"outlinewidth\":0,\"ticks\":\"\"},\"colorscale\":[[0.0,\"#0d0887\"],[0.1111111111111111,\"#46039f\"],[0.2222222222222222,\"#7201a8\"],[0.3333333333333333,\"#9c179e\"],[0.4444444444444444,\"#bd3786\"],[0.5555555555555556,\"#d8576b\"],[0.6666666666666666,\"#ed7953\"],[0.7777777777777778,\"#fb9f3a\"],[0.8888888888888888,\"#fdca26\"],[1.0,\"#f0f921\"]]}],\"mesh3d\":[{\"type\":\"mesh3d\",\"colorbar\":{\"outlinewidth\":0,\"ticks\":\"\"}}],\"scatter\":[{\"fillpattern\":{\"fillmode\":\"overlay\",\"size\":10,\"solidity\":0.2},\"type\":\"scatter\"}],\"parcoords\":[{\"type\":\"parcoords\",\"line\":{\"colorbar\":{\"outlinewidth\":0,\"ticks\":\"\"}}}],\"scatterpolargl\":[{\"type\":\"scatterpolargl\",\"marker\":{\"colorbar\":{\"outlinewidth\":0,\"ticks\":\"\"}}}],\"bar\":[{\"error_x\":{\"color\":\"#2a3f5f\"},\"error_y\":{\"color\":\"#2a3f5f\"},\"marker\":{\"line\":{\"color\":\"#E5ECF6\",\"width\":0.5},\"pattern\":{\"fillmode\":\"overlay\",\"size\":10,\"solidity\":0.2}},\"type\":\"bar\"}],\"scattergeo\":[{\"type\":\"scattergeo\",\"marker\":{\"colorbar\":{\"outlinewidth\":0,\"ticks\":\"\"}}}],\"scatterpolar\":[{\"type\":\"scatterpolar\",\"marker\":{\"colorbar\":{\"outlinewidth\":0,\"ticks\":\"\"}}}],\"histogram\":[{\"marker\":{\"pattern\":{\"fillmode\":\"overlay\",\"size\":10,\"solidity\":0.2}},\"type\":\"histogram\"}],\"scattergl\":[{\"type\":\"scattergl\",\"marker\":{\"colorbar\":{\"outlinewidth\":0,\"ticks\":\"\"}}}],\"scatter3d\":[{\"type\":\"scatter3d\",\"line\":{\"colorbar\":{\"outlinewidth\":0,\"ticks\":\"\"}},\"marker\":{\"colorbar\":{\"outlinewidth\":0,\"ticks\":\"\"}}}],\"scattermapbox\":[{\"type\":\"scattermapbox\",\"marker\":{\"colorbar\":{\"outlinewidth\":0,\"ticks\":\"\"}}}],\"scatterternary\":[{\"type\":\"scatterternary\",\"marker\":{\"colorbar\":{\"outlinewidth\":0,\"ticks\":\"\"}}}],\"scattercarpet\":[{\"type\":\"scattercarpet\",\"marker\":{\"colorbar\":{\"outlinewidth\":0,\"ticks\":\"\"}}}],\"carpet\":[{\"aaxis\":{\"endlinecolor\":\"#2a3f5f\",\"gridcolor\":\"white\",\"linecolor\":\"white\",\"minorgridcolor\":\"white\",\"startlinecolor\":\"#2a3f5f\"},\"baxis\":{\"endlinecolor\":\"#2a3f5f\",\"gridcolor\":\"white\",\"linecolor\":\"white\",\"minorgridcolor\":\"white\",\"startlinecolor\":\"#2a3f5f\"},\"type\":\"carpet\"}],\"table\":[{\"cells\":{\"fill\":{\"color\":\"#EBF0F8\"},\"line\":{\"color\":\"white\"}},\"header\":{\"fill\":{\"color\":\"#C8D4E3\"},\"line\":{\"color\":\"white\"}},\"type\":\"table\"}],\"barpolar\":[{\"marker\":{\"line\":{\"color\":\"#E5ECF6\",\"width\":0.5},\"pattern\":{\"fillmode\":\"overlay\",\"size\":10,\"solidity\":0.2}},\"type\":\"barpolar\"}],\"pie\":[{\"automargin\":true,\"type\":\"pie\"}]},\"layout\":{\"autotypenumbers\":\"strict\",\"colorway\":[\"#636efa\",\"#EF553B\",\"#00cc96\",\"#ab63fa\",\"#FFA15A\",\"#19d3f3\",\"#FF6692\",\"#B6E880\",\"#FF97FF\",\"#FECB52\"],\"font\":{\"color\":\"#2a3f5f\"},\"hovermode\":\"closest\",\"hoverlabel\":{\"align\":\"left\"},\"paper_bgcolor\":\"white\",\"plot_bgcolor\":\"#E5ECF6\",\"polar\":{\"bgcolor\":\"#E5ECF6\",\"angularaxis\":{\"gridcolor\":\"white\",\"linecolor\":\"white\",\"ticks\":\"\"},\"radialaxis\":{\"gridcolor\":\"white\",\"linecolor\":\"white\",\"ticks\":\"\"}},\"ternary\":{\"bgcolor\":\"#E5ECF6\",\"aaxis\":{\"gridcolor\":\"white\",\"linecolor\":\"white\",\"ticks\":\"\"},\"baxis\":{\"gridcolor\":\"white\",\"linecolor\":\"white\",\"ticks\":\"\"},\"caxis\":{\"gridcolor\":\"white\",\"linecolor\":\"white\",\"ticks\":\"\"}},\"coloraxis\":{\"colorbar\":{\"outlinewidth\":0,\"ticks\":\"\"}},\"colorscale\":{\"sequential\":[[0.0,\"#0d0887\"],[0.1111111111111111,\"#46039f\"],[0.2222222222222222,\"#7201a8\"],[0.3333333333333333,\"#9c179e\"],[0.4444444444444444,\"#bd3786\"],[0.5555555555555556,\"#d8576b\"],[0.6666666666666666,\"#ed7953\"],[0.7777777777777778,\"#fb9f3a\"],[0.8888888888888888,\"#fdca26\"],[1.0,\"#f0f921\"]],\"sequentialminus\":[[0.0,\"#0d0887\"],[0.1111111111111111,\"#46039f\"],[0.2222222222222222,\"#7201a8\"],[0.3333333333333333,\"#9c179e\"],[0.4444444444444444,\"#bd3786\"],[0.5555555555555556,\"#d8576b\"],[0.6666666666666666,\"#ed7953\"],[0.7777777777777778,\"#fb9f3a\"],[0.8888888888888888,\"#fdca26\"],[1.0,\"#f0f921\"]],\"diverging\":[[0,\"#8e0152\"],[0.1,\"#c51b7d\"],[0.2,\"#de77ae\"],[0.3,\"#f1b6da\"],[0.4,\"#fde0ef\"],[0.5,\"#f7f7f7\"],[0.6,\"#e6f5d0\"],[0.7,\"#b8e186\"],[0.8,\"#7fbc41\"],[0.9,\"#4d9221\"],[1,\"#276419\"]]},\"xaxis\":{\"gridcolor\":\"white\",\"linecolor\":\"white\",\"ticks\":\"\",\"title\":{\"standoff\":15},\"zerolinecolor\":\"white\",\"automargin\":true,\"zerolinewidth\":2},\"yaxis\":{\"gridcolor\":\"white\",\"linecolor\":\"white\",\"ticks\":\"\",\"title\":{\"standoff\":15},\"zerolinecolor\":\"white\",\"automargin\":true,\"zerolinewidth\":2},\"scene\":{\"xaxis\":{\"backgroundcolor\":\"#E5ECF6\",\"gridcolor\":\"white\",\"linecolor\":\"white\",\"showbackground\":true,\"ticks\":\"\",\"zerolinecolor\":\"white\",\"gridwidth\":2},\"yaxis\":{\"backgroundcolor\":\"#E5ECF6\",\"gridcolor\":\"white\",\"linecolor\":\"white\",\"showbackground\":true,\"ticks\":\"\",\"zerolinecolor\":\"white\",\"gridwidth\":2},\"zaxis\":{\"backgroundcolor\":\"#E5ECF6\",\"gridcolor\":\"white\",\"linecolor\":\"white\",\"showbackground\":true,\"ticks\":\"\",\"zerolinecolor\":\"white\",\"gridwidth\":2}},\"shapedefaults\":{\"line\":{\"color\":\"#2a3f5f\"}},\"annotationdefaults\":{\"arrowcolor\":\"#2a3f5f\",\"arrowhead\":0,\"arrowwidth\":1},\"geo\":{\"bgcolor\":\"white\",\"landcolor\":\"#E5ECF6\",\"subunitcolor\":\"white\",\"showland\":true,\"showlakes\":true,\"lakecolor\":\"white\"},\"title\":{\"x\":0.05},\"mapbox\":{\"style\":\"light\"}}},\"legend\":{\"tracegroupgap\":0},\"title\":{\"text\":\"<b> Remote Ratio\",\"x\":0.5}},                        {\"responsive\": true}                    ).then(function(){\n",
       "                            \n",
       "var gd = document.getElementById('d3acc281-a1e3-4939-af02-2d557ca01cfd');\n",
       "var x = new MutationObserver(function (mutations, observer) {{\n",
       "        var display = window.getComputedStyle(gd).display;\n",
       "        if (!display || display === 'none') {{\n",
       "            console.log([gd, 'removed!']);\n",
       "            Plotly.purge(gd);\n",
       "            observer.disconnect();\n",
       "        }}\n",
       "}});\n",
       "\n",
       "// Listen for the removal of the full notebook cells\n",
       "var notebookContainer = gd.closest('#notebook-container');\n",
       "if (notebookContainer) {{\n",
       "    x.observe(notebookContainer, {childList: true});\n",
       "}}\n",
       "\n",
       "// Listen for the clearing of the current output cell\n",
       "var outputEl = gd.closest('.output');\n",
       "if (outputEl) {{\n",
       "    x.observe(outputEl, {childList: true});\n",
       "}}\n",
       "\n",
       "                        })                };                });            </script>        </div>"
      ]
     },
     "metadata": {},
     "output_type": "display_data"
    }
   ],
   "source": [
    "fig=px.pie(df.groupby('remote_ratio',as_index=False)['salary_in_usd'].count().sort_values(by='salary_in_usd',ascending=False).head(10),names='remote_ratio',values='salary_in_usd',color='remote_ratio',hole=0.7,labels={'remote_ratio':'remote ratio','salary_in_usd':'count'},template='plotly',title='<b> Remote Ratio')\n",
    "fig.update_layout(title_x=0.5)"
   ]
  },
  {
   "cell_type": "code",
   "execution_count": 17,
   "id": "9737f7f6",
   "metadata": {
    "execution": {
     "iopub.execute_input": "2022-09-20T17:48:41.917197Z",
     "iopub.status.busy": "2022-09-20T17:48:41.915200Z",
     "iopub.status.idle": "2022-09-20T17:48:41.975070Z",
     "shell.execute_reply": "2022-09-20T17:48:41.974073Z"
    },
    "papermill": {
     "duration": 0.075015,
     "end_time": "2022-09-20T17:48:41.977570",
     "exception": false,
     "start_time": "2022-09-20T17:48:41.902555",
     "status": "completed"
    },
    "tags": []
   },
   "outputs": [
    {
     "data": {
      "text/html": [
       "<div>                            <div id=\"37b36deb-4f40-4535-8da7-2eab198c9983\" class=\"plotly-graph-div\" style=\"height:525px; width:100%;\"></div>            <script type=\"text/javascript\">                require([\"plotly\"], function(Plotly) {                    window.PLOTLYENV=window.PLOTLYENV || {};                                    if (document.getElementById(\"37b36deb-4f40-4535-8da7-2eab198c9983\")) {                    Plotly.newPlot(                        \"37b36deb-4f40-4535-8da7-2eab198c9983\",                        [{\"customdata\":[[\"M\"],[\"L\"],[\"S\"]],\"domain\":{\"x\":[0.0,1.0],\"y\":[0.0,1.0]},\"hole\":0.7,\"hovertemplate\":\"Company Size=%{customdata[0]}<br>count=%{value}<extra></extra>\",\"labels\":[\"M\",\"L\",\"S\"],\"legendgroup\":\"\",\"marker\":{\"colors\":[\"#F8766D\",\"#A3A500\",\"#00BF7D\"]},\"name\":\"\",\"showlegend\":true,\"values\":[326,198,83],\"type\":\"pie\"}],                        {\"template\":{\"data\":{\"barpolar\":[{\"marker\":{\"line\":{\"color\":\"rgb(237,237,237)\",\"width\":0.5},\"pattern\":{\"fillmode\":\"overlay\",\"size\":10,\"solidity\":0.2}},\"type\":\"barpolar\"}],\"bar\":[{\"error_x\":{\"color\":\"rgb(51,51,51)\"},\"error_y\":{\"color\":\"rgb(51,51,51)\"},\"marker\":{\"line\":{\"color\":\"rgb(237,237,237)\",\"width\":0.5},\"pattern\":{\"fillmode\":\"overlay\",\"size\":10,\"solidity\":0.2}},\"type\":\"bar\"}],\"carpet\":[{\"aaxis\":{\"endlinecolor\":\"rgb(51,51,51)\",\"gridcolor\":\"white\",\"linecolor\":\"white\",\"minorgridcolor\":\"white\",\"startlinecolor\":\"rgb(51,51,51)\"},\"baxis\":{\"endlinecolor\":\"rgb(51,51,51)\",\"gridcolor\":\"white\",\"linecolor\":\"white\",\"minorgridcolor\":\"white\",\"startlinecolor\":\"rgb(51,51,51)\"},\"type\":\"carpet\"}],\"choropleth\":[{\"colorbar\":{\"outlinewidth\":0,\"tickcolor\":\"rgb(237,237,237)\",\"ticklen\":6,\"ticks\":\"inside\"},\"type\":\"choropleth\"}],\"contourcarpet\":[{\"colorbar\":{\"outlinewidth\":0,\"tickcolor\":\"rgb(237,237,237)\",\"ticklen\":6,\"ticks\":\"inside\"},\"type\":\"contourcarpet\"}],\"contour\":[{\"colorbar\":{\"outlinewidth\":0,\"tickcolor\":\"rgb(237,237,237)\",\"ticklen\":6,\"ticks\":\"inside\"},\"colorscale\":[[0,\"rgb(20,44,66)\"],[1,\"rgb(90,179,244)\"]],\"type\":\"contour\"}],\"heatmapgl\":[{\"colorbar\":{\"outlinewidth\":0,\"tickcolor\":\"rgb(237,237,237)\",\"ticklen\":6,\"ticks\":\"inside\"},\"colorscale\":[[0,\"rgb(20,44,66)\"],[1,\"rgb(90,179,244)\"]],\"type\":\"heatmapgl\"}],\"heatmap\":[{\"colorbar\":{\"outlinewidth\":0,\"tickcolor\":\"rgb(237,237,237)\",\"ticklen\":6,\"ticks\":\"inside\"},\"colorscale\":[[0,\"rgb(20,44,66)\"],[1,\"rgb(90,179,244)\"]],\"type\":\"heatmap\"}],\"histogram2dcontour\":[{\"colorbar\":{\"outlinewidth\":0,\"tickcolor\":\"rgb(237,237,237)\",\"ticklen\":6,\"ticks\":\"inside\"},\"colorscale\":[[0,\"rgb(20,44,66)\"],[1,\"rgb(90,179,244)\"]],\"type\":\"histogram2dcontour\"}],\"histogram2d\":[{\"colorbar\":{\"outlinewidth\":0,\"tickcolor\":\"rgb(237,237,237)\",\"ticklen\":6,\"ticks\":\"inside\"},\"colorscale\":[[0,\"rgb(20,44,66)\"],[1,\"rgb(90,179,244)\"]],\"type\":\"histogram2d\"}],\"histogram\":[{\"marker\":{\"pattern\":{\"fillmode\":\"overlay\",\"size\":10,\"solidity\":0.2}},\"type\":\"histogram\"}],\"mesh3d\":[{\"colorbar\":{\"outlinewidth\":0,\"tickcolor\":\"rgb(237,237,237)\",\"ticklen\":6,\"ticks\":\"inside\"},\"type\":\"mesh3d\"}],\"parcoords\":[{\"line\":{\"colorbar\":{\"outlinewidth\":0,\"tickcolor\":\"rgb(237,237,237)\",\"ticklen\":6,\"ticks\":\"inside\"}},\"type\":\"parcoords\"}],\"pie\":[{\"automargin\":true,\"type\":\"pie\"}],\"scatter3d\":[{\"line\":{\"colorbar\":{\"outlinewidth\":0,\"tickcolor\":\"rgb(237,237,237)\",\"ticklen\":6,\"ticks\":\"inside\"}},\"marker\":{\"colorbar\":{\"outlinewidth\":0,\"tickcolor\":\"rgb(237,237,237)\",\"ticklen\":6,\"ticks\":\"inside\"}},\"type\":\"scatter3d\"}],\"scattercarpet\":[{\"marker\":{\"colorbar\":{\"outlinewidth\":0,\"tickcolor\":\"rgb(237,237,237)\",\"ticklen\":6,\"ticks\":\"inside\"}},\"type\":\"scattercarpet\"}],\"scattergeo\":[{\"marker\":{\"colorbar\":{\"outlinewidth\":0,\"tickcolor\":\"rgb(237,237,237)\",\"ticklen\":6,\"ticks\":\"inside\"}},\"type\":\"scattergeo\"}],\"scattergl\":[{\"marker\":{\"colorbar\":{\"outlinewidth\":0,\"tickcolor\":\"rgb(237,237,237)\",\"ticklen\":6,\"ticks\":\"inside\"}},\"type\":\"scattergl\"}],\"scattermapbox\":[{\"marker\":{\"colorbar\":{\"outlinewidth\":0,\"tickcolor\":\"rgb(237,237,237)\",\"ticklen\":6,\"ticks\":\"inside\"}},\"type\":\"scattermapbox\"}],\"scatterpolargl\":[{\"marker\":{\"colorbar\":{\"outlinewidth\":0,\"tickcolor\":\"rgb(237,237,237)\",\"ticklen\":6,\"ticks\":\"inside\"}},\"type\":\"scatterpolargl\"}],\"scatterpolar\":[{\"marker\":{\"colorbar\":{\"outlinewidth\":0,\"tickcolor\":\"rgb(237,237,237)\",\"ticklen\":6,\"ticks\":\"inside\"}},\"type\":\"scatterpolar\"}],\"scatter\":[{\"fillpattern\":{\"fillmode\":\"overlay\",\"size\":10,\"solidity\":0.2},\"type\":\"scatter\"}],\"scatterternary\":[{\"marker\":{\"colorbar\":{\"outlinewidth\":0,\"tickcolor\":\"rgb(237,237,237)\",\"ticklen\":6,\"ticks\":\"inside\"}},\"type\":\"scatterternary\"}],\"surface\":[{\"colorbar\":{\"outlinewidth\":0,\"tickcolor\":\"rgb(237,237,237)\",\"ticklen\":6,\"ticks\":\"inside\"},\"colorscale\":[[0,\"rgb(20,44,66)\"],[1,\"rgb(90,179,244)\"]],\"type\":\"surface\"}],\"table\":[{\"cells\":{\"fill\":{\"color\":\"rgb(237,237,237)\"},\"line\":{\"color\":\"white\"}},\"header\":{\"fill\":{\"color\":\"rgb(217,217,217)\"},\"line\":{\"color\":\"white\"}},\"type\":\"table\"}]},\"layout\":{\"annotationdefaults\":{\"arrowhead\":0,\"arrowwidth\":1},\"autotypenumbers\":\"strict\",\"coloraxis\":{\"colorbar\":{\"outlinewidth\":0,\"tickcolor\":\"rgb(237,237,237)\",\"ticklen\":6,\"ticks\":\"inside\"}},\"colorscale\":{\"sequential\":[[0,\"rgb(20,44,66)\"],[1,\"rgb(90,179,244)\"]],\"sequentialminus\":[[0,\"rgb(20,44,66)\"],[1,\"rgb(90,179,244)\"]]},\"colorway\":[\"#F8766D\",\"#A3A500\",\"#00BF7D\",\"#00B0F6\",\"#E76BF3\"],\"font\":{\"color\":\"rgb(51,51,51)\"},\"geo\":{\"bgcolor\":\"white\",\"lakecolor\":\"white\",\"landcolor\":\"rgb(237,237,237)\",\"showlakes\":true,\"showland\":true,\"subunitcolor\":\"white\"},\"hoverlabel\":{\"align\":\"left\"},\"hovermode\":\"closest\",\"paper_bgcolor\":\"white\",\"plot_bgcolor\":\"rgb(237,237,237)\",\"polar\":{\"angularaxis\":{\"gridcolor\":\"white\",\"linecolor\":\"white\",\"showgrid\":true,\"tickcolor\":\"rgb(51,51,51)\",\"ticks\":\"outside\"},\"bgcolor\":\"rgb(237,237,237)\",\"radialaxis\":{\"gridcolor\":\"white\",\"linecolor\":\"white\",\"showgrid\":true,\"tickcolor\":\"rgb(51,51,51)\",\"ticks\":\"outside\"}},\"scene\":{\"xaxis\":{\"backgroundcolor\":\"rgb(237,237,237)\",\"gridcolor\":\"white\",\"gridwidth\":2,\"linecolor\":\"white\",\"showbackground\":true,\"showgrid\":true,\"tickcolor\":\"rgb(51,51,51)\",\"ticks\":\"outside\",\"zerolinecolor\":\"white\"},\"yaxis\":{\"backgroundcolor\":\"rgb(237,237,237)\",\"gridcolor\":\"white\",\"gridwidth\":2,\"linecolor\":\"white\",\"showbackground\":true,\"showgrid\":true,\"tickcolor\":\"rgb(51,51,51)\",\"ticks\":\"outside\",\"zerolinecolor\":\"white\"},\"zaxis\":{\"backgroundcolor\":\"rgb(237,237,237)\",\"gridcolor\":\"white\",\"gridwidth\":2,\"linecolor\":\"white\",\"showbackground\":true,\"showgrid\":true,\"tickcolor\":\"rgb(51,51,51)\",\"ticks\":\"outside\",\"zerolinecolor\":\"white\"}},\"shapedefaults\":{\"fillcolor\":\"black\",\"line\":{\"width\":0},\"opacity\":0.3},\"ternary\":{\"aaxis\":{\"gridcolor\":\"white\",\"linecolor\":\"white\",\"showgrid\":true,\"tickcolor\":\"rgb(51,51,51)\",\"ticks\":\"outside\"},\"baxis\":{\"gridcolor\":\"white\",\"linecolor\":\"white\",\"showgrid\":true,\"tickcolor\":\"rgb(51,51,51)\",\"ticks\":\"outside\"},\"bgcolor\":\"rgb(237,237,237)\",\"caxis\":{\"gridcolor\":\"white\",\"linecolor\":\"white\",\"showgrid\":true,\"tickcolor\":\"rgb(51,51,51)\",\"ticks\":\"outside\"}},\"xaxis\":{\"automargin\":true,\"gridcolor\":\"white\",\"linecolor\":\"white\",\"showgrid\":true,\"tickcolor\":\"rgb(51,51,51)\",\"ticks\":\"outside\",\"title\":{\"standoff\":15},\"zerolinecolor\":\"white\"},\"yaxis\":{\"automargin\":true,\"gridcolor\":\"white\",\"linecolor\":\"white\",\"showgrid\":true,\"tickcolor\":\"rgb(51,51,51)\",\"ticks\":\"outside\",\"title\":{\"standoff\":15},\"zerolinecolor\":\"white\"}}},\"legend\":{\"tracegroupgap\":0,\"orientation\":\"h\",\"yanchor\":\"bottom\",\"y\":1.02,\"xanchor\":\"right\",\"x\":1},\"title\":{\"text\":\"<b> Company Sizes in Data Science Feild\",\"x\":0.5}},                        {\"responsive\": true}                    ).then(function(){\n",
       "                            \n",
       "var gd = document.getElementById('37b36deb-4f40-4535-8da7-2eab198c9983');\n",
       "var x = new MutationObserver(function (mutations, observer) {{\n",
       "        var display = window.getComputedStyle(gd).display;\n",
       "        if (!display || display === 'none') {{\n",
       "            console.log([gd, 'removed!']);\n",
       "            Plotly.purge(gd);\n",
       "            observer.disconnect();\n",
       "        }}\n",
       "}});\n",
       "\n",
       "// Listen for the removal of the full notebook cells\n",
       "var notebookContainer = gd.closest('#notebook-container');\n",
       "if (notebookContainer) {{\n",
       "    x.observe(notebookContainer, {childList: true});\n",
       "}}\n",
       "\n",
       "// Listen for the clearing of the current output cell\n",
       "var outputEl = gd.closest('.output');\n",
       "if (outputEl) {{\n",
       "    x.observe(outputEl, {childList: true});\n",
       "}}\n",
       "\n",
       "                        })                };                });            </script>        </div>"
      ]
     },
     "metadata": {},
     "output_type": "display_data"
    }
   ],
   "source": [
    "fig=px.pie(df.groupby('company_size',as_index=False)['salary_in_usd'].count().sort_values(by='salary_in_usd',ascending=False).head(10),names='company_size',values='salary_in_usd',color='company_size',hole=0.7,labels={'company_size':'Company Size','salary_in_usd':'count'},template='ggplot2',title='<b> Company Sizes in Data Science Feild')\n",
    "fig.update_layout(title_x=0.5,legend=dict(orientation='h',yanchor='bottom',y=1.02,xanchor='right',x=1))"
   ]
  },
  {
   "cell_type": "code",
   "execution_count": 18,
   "id": "4132067d",
   "metadata": {
    "execution": {
     "iopub.execute_input": "2022-09-20T17:48:42.002398Z",
     "iopub.status.busy": "2022-09-20T17:48:42.001969Z",
     "iopub.status.idle": "2022-09-20T17:48:42.090287Z",
     "shell.execute_reply": "2022-09-20T17:48:42.089230Z"
    },
    "papermill": {
     "duration": 0.103566,
     "end_time": "2022-09-20T17:48:42.092638",
     "exception": false,
     "start_time": "2022-09-20T17:48:41.989072",
     "status": "completed"
    },
    "tags": []
   },
   "outputs": [
    {
     "data": {
      "text/html": [
       "<div>                            <div id=\"b61f855f-9dc9-4668-ae5c-740a7a2dc6ef\" class=\"plotly-graph-div\" style=\"height:525px; width:100%;\"></div>            <script type=\"text/javascript\">                require([\"plotly\"], function(Plotly) {                    window.PLOTLYENV=window.PLOTLYENV || {};                                    if (document.getElementById(\"b61f855f-9dc9-4668-ae5c-740a7a2dc6ef\")) {                    Plotly.newPlot(                        \"b61f855f-9dc9-4668-ae5c-740a7a2dc6ef\",                        [{\"hovertemplate\":\"count=%{x}<br>company_location=%{y}<extra></extra>\",\"legendgroup\":\"\",\"marker\":{\"color\":\"orange\"},\"name\":\"\",\"orientation\":\"h\",\"showlegend\":false,\"x\":[355,47,30,28,24,15,14,11,6,4,4,4,4,3,3],\"xaxis\":\"x\",\"y\":[\"US\",\"GB\",\"CA\",\"DE\",\"IN\",\"FR\",\"ES\",\"GR\",\"JP\",\"PL\",\"PT\",\"NL\",\"AT\",\"MX\",\"LU\"],\"yaxis\":\"y\",\"type\":\"funnel\"}],                        {\"template\":{\"data\":{\"barpolar\":[{\"marker\":{\"line\":{\"color\":\"rgb(234,234,242)\",\"width\":0.5},\"pattern\":{\"fillmode\":\"overlay\",\"size\":10,\"solidity\":0.2}},\"type\":\"barpolar\"}],\"bar\":[{\"error_x\":{\"color\":\"rgb(36,36,36)\"},\"error_y\":{\"color\":\"rgb(36,36,36)\"},\"marker\":{\"line\":{\"color\":\"rgb(234,234,242)\",\"width\":0.5},\"pattern\":{\"fillmode\":\"overlay\",\"size\":10,\"solidity\":0.2}},\"type\":\"bar\"}],\"carpet\":[{\"aaxis\":{\"endlinecolor\":\"rgb(36,36,36)\",\"gridcolor\":\"white\",\"linecolor\":\"white\",\"minorgridcolor\":\"white\",\"startlinecolor\":\"rgb(36,36,36)\"},\"baxis\":{\"endlinecolor\":\"rgb(36,36,36)\",\"gridcolor\":\"white\",\"linecolor\":\"white\",\"minorgridcolor\":\"white\",\"startlinecolor\":\"rgb(36,36,36)\"},\"type\":\"carpet\"}],\"choropleth\":[{\"colorbar\":{\"outlinewidth\":0,\"tickcolor\":\"rgb(36,36,36)\",\"ticklen\":8,\"ticks\":\"outside\",\"tickwidth\":2},\"type\":\"choropleth\"}],\"contourcarpet\":[{\"colorbar\":{\"outlinewidth\":0,\"tickcolor\":\"rgb(36,36,36)\",\"ticklen\":8,\"ticks\":\"outside\",\"tickwidth\":2},\"type\":\"contourcarpet\"}],\"contour\":[{\"colorbar\":{\"outlinewidth\":0,\"tickcolor\":\"rgb(36,36,36)\",\"ticklen\":8,\"ticks\":\"outside\",\"tickwidth\":2},\"colorscale\":[[0.0,\"rgb(2,4,25)\"],[0.06274509803921569,\"rgb(24,15,41)\"],[0.12549019607843137,\"rgb(47,23,57)\"],[0.18823529411764706,\"rgb(71,28,72)\"],[0.25098039215686274,\"rgb(97,30,82)\"],[0.3137254901960784,\"rgb(123,30,89)\"],[0.3764705882352941,\"rgb(150,27,91)\"],[0.4392156862745098,\"rgb(177,22,88)\"],[0.5019607843137255,\"rgb(203,26,79)\"],[0.5647058823529412,\"rgb(223,47,67)\"],[0.6274509803921569,\"rgb(236,76,61)\"],[0.6901960784313725,\"rgb(242,107,73)\"],[0.7529411764705882,\"rgb(244,135,95)\"],[0.8156862745098039,\"rgb(245,162,122)\"],[0.8784313725490196,\"rgb(246,188,153)\"],[0.9411764705882353,\"rgb(247,212,187)\"],[1.0,\"rgb(250,234,220)\"]],\"type\":\"contour\"}],\"heatmapgl\":[{\"colorbar\":{\"outlinewidth\":0,\"tickcolor\":\"rgb(36,36,36)\",\"ticklen\":8,\"ticks\":\"outside\",\"tickwidth\":2},\"colorscale\":[[0.0,\"rgb(2,4,25)\"],[0.06274509803921569,\"rgb(24,15,41)\"],[0.12549019607843137,\"rgb(47,23,57)\"],[0.18823529411764706,\"rgb(71,28,72)\"],[0.25098039215686274,\"rgb(97,30,82)\"],[0.3137254901960784,\"rgb(123,30,89)\"],[0.3764705882352941,\"rgb(150,27,91)\"],[0.4392156862745098,\"rgb(177,22,88)\"],[0.5019607843137255,\"rgb(203,26,79)\"],[0.5647058823529412,\"rgb(223,47,67)\"],[0.6274509803921569,\"rgb(236,76,61)\"],[0.6901960784313725,\"rgb(242,107,73)\"],[0.7529411764705882,\"rgb(244,135,95)\"],[0.8156862745098039,\"rgb(245,162,122)\"],[0.8784313725490196,\"rgb(246,188,153)\"],[0.9411764705882353,\"rgb(247,212,187)\"],[1.0,\"rgb(250,234,220)\"]],\"type\":\"heatmapgl\"}],\"heatmap\":[{\"colorbar\":{\"outlinewidth\":0,\"tickcolor\":\"rgb(36,36,36)\",\"ticklen\":8,\"ticks\":\"outside\",\"tickwidth\":2},\"colorscale\":[[0.0,\"rgb(2,4,25)\"],[0.06274509803921569,\"rgb(24,15,41)\"],[0.12549019607843137,\"rgb(47,23,57)\"],[0.18823529411764706,\"rgb(71,28,72)\"],[0.25098039215686274,\"rgb(97,30,82)\"],[0.3137254901960784,\"rgb(123,30,89)\"],[0.3764705882352941,\"rgb(150,27,91)\"],[0.4392156862745098,\"rgb(177,22,88)\"],[0.5019607843137255,\"rgb(203,26,79)\"],[0.5647058823529412,\"rgb(223,47,67)\"],[0.6274509803921569,\"rgb(236,76,61)\"],[0.6901960784313725,\"rgb(242,107,73)\"],[0.7529411764705882,\"rgb(244,135,95)\"],[0.8156862745098039,\"rgb(245,162,122)\"],[0.8784313725490196,\"rgb(246,188,153)\"],[0.9411764705882353,\"rgb(247,212,187)\"],[1.0,\"rgb(250,234,220)\"]],\"type\":\"heatmap\"}],\"histogram2dcontour\":[{\"colorbar\":{\"outlinewidth\":0,\"tickcolor\":\"rgb(36,36,36)\",\"ticklen\":8,\"ticks\":\"outside\",\"tickwidth\":2},\"colorscale\":[[0.0,\"rgb(2,4,25)\"],[0.06274509803921569,\"rgb(24,15,41)\"],[0.12549019607843137,\"rgb(47,23,57)\"],[0.18823529411764706,\"rgb(71,28,72)\"],[0.25098039215686274,\"rgb(97,30,82)\"],[0.3137254901960784,\"rgb(123,30,89)\"],[0.3764705882352941,\"rgb(150,27,91)\"],[0.4392156862745098,\"rgb(177,22,88)\"],[0.5019607843137255,\"rgb(203,26,79)\"],[0.5647058823529412,\"rgb(223,47,67)\"],[0.6274509803921569,\"rgb(236,76,61)\"],[0.6901960784313725,\"rgb(242,107,73)\"],[0.7529411764705882,\"rgb(244,135,95)\"],[0.8156862745098039,\"rgb(245,162,122)\"],[0.8784313725490196,\"rgb(246,188,153)\"],[0.9411764705882353,\"rgb(247,212,187)\"],[1.0,\"rgb(250,234,220)\"]],\"type\":\"histogram2dcontour\"}],\"histogram2d\":[{\"colorbar\":{\"outlinewidth\":0,\"tickcolor\":\"rgb(36,36,36)\",\"ticklen\":8,\"ticks\":\"outside\",\"tickwidth\":2},\"colorscale\":[[0.0,\"rgb(2,4,25)\"],[0.06274509803921569,\"rgb(24,15,41)\"],[0.12549019607843137,\"rgb(47,23,57)\"],[0.18823529411764706,\"rgb(71,28,72)\"],[0.25098039215686274,\"rgb(97,30,82)\"],[0.3137254901960784,\"rgb(123,30,89)\"],[0.3764705882352941,\"rgb(150,27,91)\"],[0.4392156862745098,\"rgb(177,22,88)\"],[0.5019607843137255,\"rgb(203,26,79)\"],[0.5647058823529412,\"rgb(223,47,67)\"],[0.6274509803921569,\"rgb(236,76,61)\"],[0.6901960784313725,\"rgb(242,107,73)\"],[0.7529411764705882,\"rgb(244,135,95)\"],[0.8156862745098039,\"rgb(245,162,122)\"],[0.8784313725490196,\"rgb(246,188,153)\"],[0.9411764705882353,\"rgb(247,212,187)\"],[1.0,\"rgb(250,234,220)\"]],\"type\":\"histogram2d\"}],\"histogram\":[{\"marker\":{\"pattern\":{\"fillmode\":\"overlay\",\"size\":10,\"solidity\":0.2}},\"type\":\"histogram\"}],\"mesh3d\":[{\"colorbar\":{\"outlinewidth\":0,\"tickcolor\":\"rgb(36,36,36)\",\"ticklen\":8,\"ticks\":\"outside\",\"tickwidth\":2},\"type\":\"mesh3d\"}],\"parcoords\":[{\"line\":{\"colorbar\":{\"outlinewidth\":0,\"tickcolor\":\"rgb(36,36,36)\",\"ticklen\":8,\"ticks\":\"outside\",\"tickwidth\":2}},\"type\":\"parcoords\"}],\"pie\":[{\"automargin\":true,\"type\":\"pie\"}],\"scatter3d\":[{\"line\":{\"colorbar\":{\"outlinewidth\":0,\"tickcolor\":\"rgb(36,36,36)\",\"ticklen\":8,\"ticks\":\"outside\",\"tickwidth\":2}},\"marker\":{\"colorbar\":{\"outlinewidth\":0,\"tickcolor\":\"rgb(36,36,36)\",\"ticklen\":8,\"ticks\":\"outside\",\"tickwidth\":2}},\"type\":\"scatter3d\"}],\"scattercarpet\":[{\"marker\":{\"colorbar\":{\"outlinewidth\":0,\"tickcolor\":\"rgb(36,36,36)\",\"ticklen\":8,\"ticks\":\"outside\",\"tickwidth\":2}},\"type\":\"scattercarpet\"}],\"scattergeo\":[{\"marker\":{\"colorbar\":{\"outlinewidth\":0,\"tickcolor\":\"rgb(36,36,36)\",\"ticklen\":8,\"ticks\":\"outside\",\"tickwidth\":2}},\"type\":\"scattergeo\"}],\"scattergl\":[{\"marker\":{\"colorbar\":{\"outlinewidth\":0,\"tickcolor\":\"rgb(36,36,36)\",\"ticklen\":8,\"ticks\":\"outside\",\"tickwidth\":2}},\"type\":\"scattergl\"}],\"scattermapbox\":[{\"marker\":{\"colorbar\":{\"outlinewidth\":0,\"tickcolor\":\"rgb(36,36,36)\",\"ticklen\":8,\"ticks\":\"outside\",\"tickwidth\":2}},\"type\":\"scattermapbox\"}],\"scatterpolargl\":[{\"marker\":{\"colorbar\":{\"outlinewidth\":0,\"tickcolor\":\"rgb(36,36,36)\",\"ticklen\":8,\"ticks\":\"outside\",\"tickwidth\":2}},\"type\":\"scatterpolargl\"}],\"scatterpolar\":[{\"marker\":{\"colorbar\":{\"outlinewidth\":0,\"tickcolor\":\"rgb(36,36,36)\",\"ticklen\":8,\"ticks\":\"outside\",\"tickwidth\":2}},\"type\":\"scatterpolar\"}],\"scatter\":[{\"fillpattern\":{\"fillmode\":\"overlay\",\"size\":10,\"solidity\":0.2},\"type\":\"scatter\"}],\"scatterternary\":[{\"marker\":{\"colorbar\":{\"outlinewidth\":0,\"tickcolor\":\"rgb(36,36,36)\",\"ticklen\":8,\"ticks\":\"outside\",\"tickwidth\":2}},\"type\":\"scatterternary\"}],\"surface\":[{\"colorbar\":{\"outlinewidth\":0,\"tickcolor\":\"rgb(36,36,36)\",\"ticklen\":8,\"ticks\":\"outside\",\"tickwidth\":2},\"colorscale\":[[0.0,\"rgb(2,4,25)\"],[0.06274509803921569,\"rgb(24,15,41)\"],[0.12549019607843137,\"rgb(47,23,57)\"],[0.18823529411764706,\"rgb(71,28,72)\"],[0.25098039215686274,\"rgb(97,30,82)\"],[0.3137254901960784,\"rgb(123,30,89)\"],[0.3764705882352941,\"rgb(150,27,91)\"],[0.4392156862745098,\"rgb(177,22,88)\"],[0.5019607843137255,\"rgb(203,26,79)\"],[0.5647058823529412,\"rgb(223,47,67)\"],[0.6274509803921569,\"rgb(236,76,61)\"],[0.6901960784313725,\"rgb(242,107,73)\"],[0.7529411764705882,\"rgb(244,135,95)\"],[0.8156862745098039,\"rgb(245,162,122)\"],[0.8784313725490196,\"rgb(246,188,153)\"],[0.9411764705882353,\"rgb(247,212,187)\"],[1.0,\"rgb(250,234,220)\"]],\"type\":\"surface\"}],\"table\":[{\"cells\":{\"fill\":{\"color\":\"rgb(231,231,240)\"},\"line\":{\"color\":\"white\"}},\"header\":{\"fill\":{\"color\":\"rgb(183,183,191)\"},\"line\":{\"color\":\"white\"}},\"type\":\"table\"}]},\"layout\":{\"annotationdefaults\":{\"arrowcolor\":\"rgb(67,103,167)\"},\"autotypenumbers\":\"strict\",\"coloraxis\":{\"colorbar\":{\"outlinewidth\":0,\"tickcolor\":\"rgb(36,36,36)\",\"ticklen\":8,\"ticks\":\"outside\",\"tickwidth\":2}},\"colorscale\":{\"sequential\":[[0.0,\"rgb(2,4,25)\"],[0.06274509803921569,\"rgb(24,15,41)\"],[0.12549019607843137,\"rgb(47,23,57)\"],[0.18823529411764706,\"rgb(71,28,72)\"],[0.25098039215686274,\"rgb(97,30,82)\"],[0.3137254901960784,\"rgb(123,30,89)\"],[0.3764705882352941,\"rgb(150,27,91)\"],[0.4392156862745098,\"rgb(177,22,88)\"],[0.5019607843137255,\"rgb(203,26,79)\"],[0.5647058823529412,\"rgb(223,47,67)\"],[0.6274509803921569,\"rgb(236,76,61)\"],[0.6901960784313725,\"rgb(242,107,73)\"],[0.7529411764705882,\"rgb(244,135,95)\"],[0.8156862745098039,\"rgb(245,162,122)\"],[0.8784313725490196,\"rgb(246,188,153)\"],[0.9411764705882353,\"rgb(247,212,187)\"],[1.0,\"rgb(250,234,220)\"]],\"sequentialminus\":[[0.0,\"rgb(2,4,25)\"],[0.06274509803921569,\"rgb(24,15,41)\"],[0.12549019607843137,\"rgb(47,23,57)\"],[0.18823529411764706,\"rgb(71,28,72)\"],[0.25098039215686274,\"rgb(97,30,82)\"],[0.3137254901960784,\"rgb(123,30,89)\"],[0.3764705882352941,\"rgb(150,27,91)\"],[0.4392156862745098,\"rgb(177,22,88)\"],[0.5019607843137255,\"rgb(203,26,79)\"],[0.5647058823529412,\"rgb(223,47,67)\"],[0.6274509803921569,\"rgb(236,76,61)\"],[0.6901960784313725,\"rgb(242,107,73)\"],[0.7529411764705882,\"rgb(244,135,95)\"],[0.8156862745098039,\"rgb(245,162,122)\"],[0.8784313725490196,\"rgb(246,188,153)\"],[0.9411764705882353,\"rgb(247,212,187)\"],[1.0,\"rgb(250,234,220)\"]]},\"colorway\":[\"rgb(76,114,176)\",\"rgb(221,132,82)\",\"rgb(85,168,104)\",\"rgb(196,78,82)\",\"rgb(129,114,179)\",\"rgb(147,120,96)\",\"rgb(218,139,195)\",\"rgb(140,140,140)\",\"rgb(204,185,116)\",\"rgb(100,181,205)\"],\"font\":{\"color\":\"rgb(36,36,36)\"},\"geo\":{\"bgcolor\":\"white\",\"lakecolor\":\"white\",\"landcolor\":\"rgb(234,234,242)\",\"showlakes\":true,\"showland\":true,\"subunitcolor\":\"white\"},\"hoverlabel\":{\"align\":\"left\"},\"hovermode\":\"closest\",\"paper_bgcolor\":\"white\",\"plot_bgcolor\":\"rgb(234,234,242)\",\"polar\":{\"angularaxis\":{\"gridcolor\":\"white\",\"linecolor\":\"white\",\"showgrid\":true,\"ticks\":\"\"},\"bgcolor\":\"rgb(234,234,242)\",\"radialaxis\":{\"gridcolor\":\"white\",\"linecolor\":\"white\",\"showgrid\":true,\"ticks\":\"\"}},\"scene\":{\"xaxis\":{\"backgroundcolor\":\"rgb(234,234,242)\",\"gridcolor\":\"white\",\"gridwidth\":2,\"linecolor\":\"white\",\"showbackground\":true,\"showgrid\":true,\"ticks\":\"\",\"zerolinecolor\":\"white\"},\"yaxis\":{\"backgroundcolor\":\"rgb(234,234,242)\",\"gridcolor\":\"white\",\"gridwidth\":2,\"linecolor\":\"white\",\"showbackground\":true,\"showgrid\":true,\"ticks\":\"\",\"zerolinecolor\":\"white\"},\"zaxis\":{\"backgroundcolor\":\"rgb(234,234,242)\",\"gridcolor\":\"white\",\"gridwidth\":2,\"linecolor\":\"white\",\"showbackground\":true,\"showgrid\":true,\"ticks\":\"\",\"zerolinecolor\":\"white\"}},\"shapedefaults\":{\"fillcolor\":\"rgb(67,103,167)\",\"line\":{\"width\":0},\"opacity\":0.5},\"ternary\":{\"aaxis\":{\"gridcolor\":\"white\",\"linecolor\":\"white\",\"showgrid\":true,\"ticks\":\"\"},\"baxis\":{\"gridcolor\":\"white\",\"linecolor\":\"white\",\"showgrid\":true,\"ticks\":\"\"},\"bgcolor\":\"rgb(234,234,242)\",\"caxis\":{\"gridcolor\":\"white\",\"linecolor\":\"white\",\"showgrid\":true,\"ticks\":\"\"}},\"xaxis\":{\"automargin\":true,\"gridcolor\":\"white\",\"linecolor\":\"white\",\"showgrid\":true,\"ticks\":\"\",\"title\":{\"standoff\":15},\"zerolinecolor\":\"white\"},\"yaxis\":{\"automargin\":true,\"gridcolor\":\"white\",\"linecolor\":\"white\",\"showgrid\":true,\"ticks\":\"\",\"title\":{\"standoff\":15},\"zerolinecolor\":\"white\"}}},\"xaxis\":{\"anchor\":\"y\",\"domain\":[0.0,1.0],\"title\":{\"text\":\"count\"}},\"yaxis\":{\"anchor\":\"x\",\"domain\":[0.0,1.0],\"title\":{\"text\":\"company_location\"}},\"legend\":{\"tracegroupgap\":0},\"title\":{\"text\":\"<b> Top 15 Countries having maximum Data Science Jobs\"}},                        {\"responsive\": true}                    ).then(function(){\n",
       "                            \n",
       "var gd = document.getElementById('b61f855f-9dc9-4668-ae5c-740a7a2dc6ef');\n",
       "var x = new MutationObserver(function (mutations, observer) {{\n",
       "        var display = window.getComputedStyle(gd).display;\n",
       "        if (!display || display === 'none') {{\n",
       "            console.log([gd, 'removed!']);\n",
       "            Plotly.purge(gd);\n",
       "            observer.disconnect();\n",
       "        }}\n",
       "}});\n",
       "\n",
       "// Listen for the removal of the full notebook cells\n",
       "var notebookContainer = gd.closest('#notebook-container');\n",
       "if (notebookContainer) {{\n",
       "    x.observe(notebookContainer, {childList: true});\n",
       "}}\n",
       "\n",
       "// Listen for the clearing of the current output cell\n",
       "var outputEl = gd.closest('.output');\n",
       "if (outputEl) {{\n",
       "    x.observe(outputEl, {childList: true});\n",
       "}}\n",
       "\n",
       "                        })                };                });            </script>        </div>"
      ]
     },
     "metadata": {},
     "output_type": "display_data"
    }
   ],
   "source": [
    "px.funnel(df.groupby('company_location',as_index=False)['experience_level'].count().sort_values(by='experience_level',ascending=False).head(15),y='company_location',x='experience_level',color_discrete_sequence=['orange'],labels={'experience_level':'count'},template='seaborn',title='<b> Top 15 Countries having maximum Data Science Jobs')"
   ]
  },
  {
   "cell_type": "code",
   "execution_count": 19,
   "id": "b5d67e69",
   "metadata": {
    "execution": {
     "iopub.execute_input": "2022-09-20T17:48:42.117717Z",
     "iopub.status.busy": "2022-09-20T17:48:42.117259Z",
     "iopub.status.idle": "2022-09-20T17:48:42.262561Z",
     "shell.execute_reply": "2022-09-20T17:48:42.261359Z"
    },
    "papermill": {
     "duration": 0.16052,
     "end_time": "2022-09-20T17:48:42.264984",
     "exception": false,
     "start_time": "2022-09-20T17:48:42.104464",
     "status": "completed"
    },
    "tags": []
   },
   "outputs": [
    {
     "data": {
      "text/html": [
       "<div>                            <div id=\"28a4d65c-faa2-479a-b03f-6219604a3010\" class=\"plotly-graph-div\" style=\"height:525px; width:100%;\"></div>            <script type=\"text/javascript\">                require([\"plotly\"], function(Plotly) {                    window.PLOTLYENV=window.PLOTLYENV || {};                                    if (document.getElementById(\"28a4d65c-faa2-479a-b03f-6219604a3010\")) {                    Plotly.newPlot(                        \"28a4d65c-faa2-479a-b03f-6219604a3010\",                        [{\"alignmentgroup\":\"True\",\"bingroup\":\"x\",\"hovertemplate\":\"Salary in USD=%{x}<br>count=%{y}<extra></extra>\",\"legendgroup\":\"\",\"marker\":{\"color\":\"rgb(76,114,176)\",\"pattern\":{\"shape\":\"\"}},\"name\":\"\",\"offsetgroup\":\"\",\"orientation\":\"v\",\"showlegend\":false,\"x\":[79833,260000,109024,20000,150000,72000,190000,35735,135000,125000,51321,40481,39916,87000,85000,8000,41689,114047,5707,56000,43331,6072,47899,98000,115000,325000,42000,33511,100000,117104,59303,70000,68428,450000,46759,74130,103000,250000,10000,138000,45760,79833,50180,106000,112872,15966,76958,188000,105000,70139,6072,91000,45896,54742,60000,148261,38776,118000,120000,138350,110000,130800,21669,412000,45618,62726,49268,190200,105000,91237,62726,42197,82528,150000,235000,53192,100000,5409,270000,80000,79197,140000,54238,47282,153667,28476,59102,110000,170000,80000,88654,76833,19609,276000,29751,89294,12000,450000,70000,95746,75000,150000,36259,62000,73000,51519,187442,115000,150000,30428,94564,113476,103160,12000,45391,225000,50000,40189,90000,200000,60000,200000,50000,110037,10354,151000,120000,9466,20000,40570,100000,49646,38400,24000,100000,90000,63711,77364,220000,80000,135000,240000,150000,82500,100000,82744,62649,90000,153000,160000,168000,150000,75774,13400,144000,127221,119059,423000,120000,125000,230000,85000,28369,63831,130026,165000,80000,250000,55000,150000,170000,82528,60000,235000,60757,174000,2859,40038,81000,5679,22611,90734,26005,61896,12000,4000,50000,69741,76833,74000,152000,21844,18000,174000,96113,147000,9272,24342,54094,90000,61467,195000,37825,50000,160000,12901,200000,165000,20000,120000,24823,56738,66022,5882,24823,185000,28609,90734,88654,140000,46597,116914,33808,56256,225000,416000,87738,88654,135000,71786,16228,256000,200000,200000,180000,110000,63810,46809,4000,21637,103691,80000,110000,165000,18053,72212,36643,12103,96282,170000,115000,90000,600000,28399,93000,99703,200000,173762,185000,141846,130000,63831,16904,66265,25532,160000,93150,111775,28016,65013,72500,18907,76833,85000,77684,100000,58000,55000,20171,59102,112000,100000,69741,105000,69999,94665,102839,109000,51064,135000,155000,120600,130000,90000,170000,150000,102100,84900,136620,99360,117789,104702,146000,123000,52351,99000,116000,106260,126500,242000,200000,65438,39263,78526,52351,165220,45807,120160,90320,181940,132320,220110,160080,180000,120000,124190,130000,110000,170000,115500,112900,90320,112900,90320,165400,132320,167000,243900,136600,109280,128875,93700,224000,167875,175000,156600,108800,95550,113000,135000,161342,137141,167000,123000,78526,65438,150000,211500,192400,90700,130000,61300,130000,61300,160000,138600,136000,58000,135000,170000,123000,189650,164996,54957,54957,118187,132000,165400,208775,147800,136994,101570,128875,93700,79039,132320,37300,164000,155000,124333,98158,120000,112900,90320,145000,105400,87932,117789,215300,158200,209100,154600,115934,81666,175000,98158,58000,183600,52351,180000,71982,45807,65949,49461,78526,58894,260000,60000,63900,160000,112300,241000,159000,180000,80000,82900,100800,49461,140400,39263,43966,32974,87932,76940,104702,91614,65949,87932,189650,164996,43966,32974,98158,78526,215300,76940,209100,154600,180000,21983,80000,78791,196979,120000,125000,37236,105000,87932,18442,31615,58255,100000,54957,18442,162674,120000,144000,104890,100000,140000,135000,50000,220000,140000,183228,91614,185100,220000,200000,120000,120000,65000,324000,216000,210000,120000,230000,100000,100000,31875,200000,75000,35590,78791,100000,153000,58035,165000,93427,52396,62651,32974,40000,87425,115000,86703,75000,64849,120000,157000,150000,70912,65000,71444,20000,48000,152500,68147,122346,380000,69336,10000,20000,405000,135000,177000,78000,135000,100000,90320,85000,75000,214000,192600,266400,213120,112900,155000,141300,102100,115934,81666,206699,99100,130000,115000,110500,130000,99050,160000,205300,140400,176000,144000,200100,160000,145000,70500,205300,140400,205300,184700,175100,140250,116150,54000,170000,65438,80000,140000,210000,140000,100000,69000,210000,140000,210000,150075,100000,25000,126500,106260,220110,160080,105000,110925,45807,140000,99000,60000,192564,144854,230000,150000,150260,109280,210000,170000,160000,130000,67000,52000,154000,126000,129000,150000,200000],\"xaxis\":\"x\",\"yaxis\":\"y\",\"type\":\"histogram\"},{\"alignmentgroup\":\"True\",\"boxpoints\":\"all\",\"fillcolor\":\"rgba(255,255,255,0)\",\"hoveron\":\"points\",\"hovertemplate\":\"Salary in USD=%{x}<extra></extra>\",\"jitter\":0,\"legendgroup\":\"\",\"line\":{\"color\":\"rgba(255,255,255,0)\"},\"marker\":{\"color\":\"rgb(76,114,176)\",\"symbol\":\"line-ns-open\"},\"name\":\"\",\"offsetgroup\":\"\",\"showlegend\":false,\"x\":[79833,260000,109024,20000,150000,72000,190000,35735,135000,125000,51321,40481,39916,87000,85000,8000,41689,114047,5707,56000,43331,6072,47899,98000,115000,325000,42000,33511,100000,117104,59303,70000,68428,450000,46759,74130,103000,250000,10000,138000,45760,79833,50180,106000,112872,15966,76958,188000,105000,70139,6072,91000,45896,54742,60000,148261,38776,118000,120000,138350,110000,130800,21669,412000,45618,62726,49268,190200,105000,91237,62726,42197,82528,150000,235000,53192,100000,5409,270000,80000,79197,140000,54238,47282,153667,28476,59102,110000,170000,80000,88654,76833,19609,276000,29751,89294,12000,450000,70000,95746,75000,150000,36259,62000,73000,51519,187442,115000,150000,30428,94564,113476,103160,12000,45391,225000,50000,40189,90000,200000,60000,200000,50000,110037,10354,151000,120000,9466,20000,40570,100000,49646,38400,24000,100000,90000,63711,77364,220000,80000,135000,240000,150000,82500,100000,82744,62649,90000,153000,160000,168000,150000,75774,13400,144000,127221,119059,423000,120000,125000,230000,85000,28369,63831,130026,165000,80000,250000,55000,150000,170000,82528,60000,235000,60757,174000,2859,40038,81000,5679,22611,90734,26005,61896,12000,4000,50000,69741,76833,74000,152000,21844,18000,174000,96113,147000,9272,24342,54094,90000,61467,195000,37825,50000,160000,12901,200000,165000,20000,120000,24823,56738,66022,5882,24823,185000,28609,90734,88654,140000,46597,116914,33808,56256,225000,416000,87738,88654,135000,71786,16228,256000,200000,200000,180000,110000,63810,46809,4000,21637,103691,80000,110000,165000,18053,72212,36643,12103,96282,170000,115000,90000,600000,28399,93000,99703,200000,173762,185000,141846,130000,63831,16904,66265,25532,160000,93150,111775,28016,65013,72500,18907,76833,85000,77684,100000,58000,55000,20171,59102,112000,100000,69741,105000,69999,94665,102839,109000,51064,135000,155000,120600,130000,90000,170000,150000,102100,84900,136620,99360,117789,104702,146000,123000,52351,99000,116000,106260,126500,242000,200000,65438,39263,78526,52351,165220,45807,120160,90320,181940,132320,220110,160080,180000,120000,124190,130000,110000,170000,115500,112900,90320,112900,90320,165400,132320,167000,243900,136600,109280,128875,93700,224000,167875,175000,156600,108800,95550,113000,135000,161342,137141,167000,123000,78526,65438,150000,211500,192400,90700,130000,61300,130000,61300,160000,138600,136000,58000,135000,170000,123000,189650,164996,54957,54957,118187,132000,165400,208775,147800,136994,101570,128875,93700,79039,132320,37300,164000,155000,124333,98158,120000,112900,90320,145000,105400,87932,117789,215300,158200,209100,154600,115934,81666,175000,98158,58000,183600,52351,180000,71982,45807,65949,49461,78526,58894,260000,60000,63900,160000,112300,241000,159000,180000,80000,82900,100800,49461,140400,39263,43966,32974,87932,76940,104702,91614,65949,87932,189650,164996,43966,32974,98158,78526,215300,76940,209100,154600,180000,21983,80000,78791,196979,120000,125000,37236,105000,87932,18442,31615,58255,100000,54957,18442,162674,120000,144000,104890,100000,140000,135000,50000,220000,140000,183228,91614,185100,220000,200000,120000,120000,65000,324000,216000,210000,120000,230000,100000,100000,31875,200000,75000,35590,78791,100000,153000,58035,165000,93427,52396,62651,32974,40000,87425,115000,86703,75000,64849,120000,157000,150000,70912,65000,71444,20000,48000,152500,68147,122346,380000,69336,10000,20000,405000,135000,177000,78000,135000,100000,90320,85000,75000,214000,192600,266400,213120,112900,155000,141300,102100,115934,81666,206699,99100,130000,115000,110500,130000,99050,160000,205300,140400,176000,144000,200100,160000,145000,70500,205300,140400,205300,184700,175100,140250,116150,54000,170000,65438,80000,140000,210000,140000,100000,69000,210000,140000,210000,150075,100000,25000,126500,106260,220110,160080,105000,110925,45807,140000,99000,60000,192564,144854,230000,150000,150260,109280,210000,170000,160000,130000,67000,52000,154000,126000,129000,150000,200000],\"xaxis\":\"x2\",\"yaxis\":\"y2\",\"type\":\"box\"}],                        {\"template\":{\"data\":{\"barpolar\":[{\"marker\":{\"line\":{\"color\":\"rgb(234,234,242)\",\"width\":0.5},\"pattern\":{\"fillmode\":\"overlay\",\"size\":10,\"solidity\":0.2}},\"type\":\"barpolar\"}],\"bar\":[{\"error_x\":{\"color\":\"rgb(36,36,36)\"},\"error_y\":{\"color\":\"rgb(36,36,36)\"},\"marker\":{\"line\":{\"color\":\"rgb(234,234,242)\",\"width\":0.5},\"pattern\":{\"fillmode\":\"overlay\",\"size\":10,\"solidity\":0.2}},\"type\":\"bar\"}],\"carpet\":[{\"aaxis\":{\"endlinecolor\":\"rgb(36,36,36)\",\"gridcolor\":\"white\",\"linecolor\":\"white\",\"minorgridcolor\":\"white\",\"startlinecolor\":\"rgb(36,36,36)\"},\"baxis\":{\"endlinecolor\":\"rgb(36,36,36)\",\"gridcolor\":\"white\",\"linecolor\":\"white\",\"minorgridcolor\":\"white\",\"startlinecolor\":\"rgb(36,36,36)\"},\"type\":\"carpet\"}],\"choropleth\":[{\"colorbar\":{\"outlinewidth\":0,\"tickcolor\":\"rgb(36,36,36)\",\"ticklen\":8,\"ticks\":\"outside\",\"tickwidth\":2},\"type\":\"choropleth\"}],\"contourcarpet\":[{\"colorbar\":{\"outlinewidth\":0,\"tickcolor\":\"rgb(36,36,36)\",\"ticklen\":8,\"ticks\":\"outside\",\"tickwidth\":2},\"type\":\"contourcarpet\"}],\"contour\":[{\"colorbar\":{\"outlinewidth\":0,\"tickcolor\":\"rgb(36,36,36)\",\"ticklen\":8,\"ticks\":\"outside\",\"tickwidth\":2},\"colorscale\":[[0.0,\"rgb(2,4,25)\"],[0.06274509803921569,\"rgb(24,15,41)\"],[0.12549019607843137,\"rgb(47,23,57)\"],[0.18823529411764706,\"rgb(71,28,72)\"],[0.25098039215686274,\"rgb(97,30,82)\"],[0.3137254901960784,\"rgb(123,30,89)\"],[0.3764705882352941,\"rgb(150,27,91)\"],[0.4392156862745098,\"rgb(177,22,88)\"],[0.5019607843137255,\"rgb(203,26,79)\"],[0.5647058823529412,\"rgb(223,47,67)\"],[0.6274509803921569,\"rgb(236,76,61)\"],[0.6901960784313725,\"rgb(242,107,73)\"],[0.7529411764705882,\"rgb(244,135,95)\"],[0.8156862745098039,\"rgb(245,162,122)\"],[0.8784313725490196,\"rgb(246,188,153)\"],[0.9411764705882353,\"rgb(247,212,187)\"],[1.0,\"rgb(250,234,220)\"]],\"type\":\"contour\"}],\"heatmapgl\":[{\"colorbar\":{\"outlinewidth\":0,\"tickcolor\":\"rgb(36,36,36)\",\"ticklen\":8,\"ticks\":\"outside\",\"tickwidth\":2},\"colorscale\":[[0.0,\"rgb(2,4,25)\"],[0.06274509803921569,\"rgb(24,15,41)\"],[0.12549019607843137,\"rgb(47,23,57)\"],[0.18823529411764706,\"rgb(71,28,72)\"],[0.25098039215686274,\"rgb(97,30,82)\"],[0.3137254901960784,\"rgb(123,30,89)\"],[0.3764705882352941,\"rgb(150,27,91)\"],[0.4392156862745098,\"rgb(177,22,88)\"],[0.5019607843137255,\"rgb(203,26,79)\"],[0.5647058823529412,\"rgb(223,47,67)\"],[0.6274509803921569,\"rgb(236,76,61)\"],[0.6901960784313725,\"rgb(242,107,73)\"],[0.7529411764705882,\"rgb(244,135,95)\"],[0.8156862745098039,\"rgb(245,162,122)\"],[0.8784313725490196,\"rgb(246,188,153)\"],[0.9411764705882353,\"rgb(247,212,187)\"],[1.0,\"rgb(250,234,220)\"]],\"type\":\"heatmapgl\"}],\"heatmap\":[{\"colorbar\":{\"outlinewidth\":0,\"tickcolor\":\"rgb(36,36,36)\",\"ticklen\":8,\"ticks\":\"outside\",\"tickwidth\":2},\"colorscale\":[[0.0,\"rgb(2,4,25)\"],[0.06274509803921569,\"rgb(24,15,41)\"],[0.12549019607843137,\"rgb(47,23,57)\"],[0.18823529411764706,\"rgb(71,28,72)\"],[0.25098039215686274,\"rgb(97,30,82)\"],[0.3137254901960784,\"rgb(123,30,89)\"],[0.3764705882352941,\"rgb(150,27,91)\"],[0.4392156862745098,\"rgb(177,22,88)\"],[0.5019607843137255,\"rgb(203,26,79)\"],[0.5647058823529412,\"rgb(223,47,67)\"],[0.6274509803921569,\"rgb(236,76,61)\"],[0.6901960784313725,\"rgb(242,107,73)\"],[0.7529411764705882,\"rgb(244,135,95)\"],[0.8156862745098039,\"rgb(245,162,122)\"],[0.8784313725490196,\"rgb(246,188,153)\"],[0.9411764705882353,\"rgb(247,212,187)\"],[1.0,\"rgb(250,234,220)\"]],\"type\":\"heatmap\"}],\"histogram2dcontour\":[{\"colorbar\":{\"outlinewidth\":0,\"tickcolor\":\"rgb(36,36,36)\",\"ticklen\":8,\"ticks\":\"outside\",\"tickwidth\":2},\"colorscale\":[[0.0,\"rgb(2,4,25)\"],[0.06274509803921569,\"rgb(24,15,41)\"],[0.12549019607843137,\"rgb(47,23,57)\"],[0.18823529411764706,\"rgb(71,28,72)\"],[0.25098039215686274,\"rgb(97,30,82)\"],[0.3137254901960784,\"rgb(123,30,89)\"],[0.3764705882352941,\"rgb(150,27,91)\"],[0.4392156862745098,\"rgb(177,22,88)\"],[0.5019607843137255,\"rgb(203,26,79)\"],[0.5647058823529412,\"rgb(223,47,67)\"],[0.6274509803921569,\"rgb(236,76,61)\"],[0.6901960784313725,\"rgb(242,107,73)\"],[0.7529411764705882,\"rgb(244,135,95)\"],[0.8156862745098039,\"rgb(245,162,122)\"],[0.8784313725490196,\"rgb(246,188,153)\"],[0.9411764705882353,\"rgb(247,212,187)\"],[1.0,\"rgb(250,234,220)\"]],\"type\":\"histogram2dcontour\"}],\"histogram2d\":[{\"colorbar\":{\"outlinewidth\":0,\"tickcolor\":\"rgb(36,36,36)\",\"ticklen\":8,\"ticks\":\"outside\",\"tickwidth\":2},\"colorscale\":[[0.0,\"rgb(2,4,25)\"],[0.06274509803921569,\"rgb(24,15,41)\"],[0.12549019607843137,\"rgb(47,23,57)\"],[0.18823529411764706,\"rgb(71,28,72)\"],[0.25098039215686274,\"rgb(97,30,82)\"],[0.3137254901960784,\"rgb(123,30,89)\"],[0.3764705882352941,\"rgb(150,27,91)\"],[0.4392156862745098,\"rgb(177,22,88)\"],[0.5019607843137255,\"rgb(203,26,79)\"],[0.5647058823529412,\"rgb(223,47,67)\"],[0.6274509803921569,\"rgb(236,76,61)\"],[0.6901960784313725,\"rgb(242,107,73)\"],[0.7529411764705882,\"rgb(244,135,95)\"],[0.8156862745098039,\"rgb(245,162,122)\"],[0.8784313725490196,\"rgb(246,188,153)\"],[0.9411764705882353,\"rgb(247,212,187)\"],[1.0,\"rgb(250,234,220)\"]],\"type\":\"histogram2d\"}],\"histogram\":[{\"marker\":{\"pattern\":{\"fillmode\":\"overlay\",\"size\":10,\"solidity\":0.2}},\"type\":\"histogram\"}],\"mesh3d\":[{\"colorbar\":{\"outlinewidth\":0,\"tickcolor\":\"rgb(36,36,36)\",\"ticklen\":8,\"ticks\":\"outside\",\"tickwidth\":2},\"type\":\"mesh3d\"}],\"parcoords\":[{\"line\":{\"colorbar\":{\"outlinewidth\":0,\"tickcolor\":\"rgb(36,36,36)\",\"ticklen\":8,\"ticks\":\"outside\",\"tickwidth\":2}},\"type\":\"parcoords\"}],\"pie\":[{\"automargin\":true,\"type\":\"pie\"}],\"scatter3d\":[{\"line\":{\"colorbar\":{\"outlinewidth\":0,\"tickcolor\":\"rgb(36,36,36)\",\"ticklen\":8,\"ticks\":\"outside\",\"tickwidth\":2}},\"marker\":{\"colorbar\":{\"outlinewidth\":0,\"tickcolor\":\"rgb(36,36,36)\",\"ticklen\":8,\"ticks\":\"outside\",\"tickwidth\":2}},\"type\":\"scatter3d\"}],\"scattercarpet\":[{\"marker\":{\"colorbar\":{\"outlinewidth\":0,\"tickcolor\":\"rgb(36,36,36)\",\"ticklen\":8,\"ticks\":\"outside\",\"tickwidth\":2}},\"type\":\"scattercarpet\"}],\"scattergeo\":[{\"marker\":{\"colorbar\":{\"outlinewidth\":0,\"tickcolor\":\"rgb(36,36,36)\",\"ticklen\":8,\"ticks\":\"outside\",\"tickwidth\":2}},\"type\":\"scattergeo\"}],\"scattergl\":[{\"marker\":{\"colorbar\":{\"outlinewidth\":0,\"tickcolor\":\"rgb(36,36,36)\",\"ticklen\":8,\"ticks\":\"outside\",\"tickwidth\":2}},\"type\":\"scattergl\"}],\"scattermapbox\":[{\"marker\":{\"colorbar\":{\"outlinewidth\":0,\"tickcolor\":\"rgb(36,36,36)\",\"ticklen\":8,\"ticks\":\"outside\",\"tickwidth\":2}},\"type\":\"scattermapbox\"}],\"scatterpolargl\":[{\"marker\":{\"colorbar\":{\"outlinewidth\":0,\"tickcolor\":\"rgb(36,36,36)\",\"ticklen\":8,\"ticks\":\"outside\",\"tickwidth\":2}},\"type\":\"scatterpolargl\"}],\"scatterpolar\":[{\"marker\":{\"colorbar\":{\"outlinewidth\":0,\"tickcolor\":\"rgb(36,36,36)\",\"ticklen\":8,\"ticks\":\"outside\",\"tickwidth\":2}},\"type\":\"scatterpolar\"}],\"scatter\":[{\"fillpattern\":{\"fillmode\":\"overlay\",\"size\":10,\"solidity\":0.2},\"type\":\"scatter\"}],\"scatterternary\":[{\"marker\":{\"colorbar\":{\"outlinewidth\":0,\"tickcolor\":\"rgb(36,36,36)\",\"ticklen\":8,\"ticks\":\"outside\",\"tickwidth\":2}},\"type\":\"scatterternary\"}],\"surface\":[{\"colorbar\":{\"outlinewidth\":0,\"tickcolor\":\"rgb(36,36,36)\",\"ticklen\":8,\"ticks\":\"outside\",\"tickwidth\":2},\"colorscale\":[[0.0,\"rgb(2,4,25)\"],[0.06274509803921569,\"rgb(24,15,41)\"],[0.12549019607843137,\"rgb(47,23,57)\"],[0.18823529411764706,\"rgb(71,28,72)\"],[0.25098039215686274,\"rgb(97,30,82)\"],[0.3137254901960784,\"rgb(123,30,89)\"],[0.3764705882352941,\"rgb(150,27,91)\"],[0.4392156862745098,\"rgb(177,22,88)\"],[0.5019607843137255,\"rgb(203,26,79)\"],[0.5647058823529412,\"rgb(223,47,67)\"],[0.6274509803921569,\"rgb(236,76,61)\"],[0.6901960784313725,\"rgb(242,107,73)\"],[0.7529411764705882,\"rgb(244,135,95)\"],[0.8156862745098039,\"rgb(245,162,122)\"],[0.8784313725490196,\"rgb(246,188,153)\"],[0.9411764705882353,\"rgb(247,212,187)\"],[1.0,\"rgb(250,234,220)\"]],\"type\":\"surface\"}],\"table\":[{\"cells\":{\"fill\":{\"color\":\"rgb(231,231,240)\"},\"line\":{\"color\":\"white\"}},\"header\":{\"fill\":{\"color\":\"rgb(183,183,191)\"},\"line\":{\"color\":\"white\"}},\"type\":\"table\"}]},\"layout\":{\"annotationdefaults\":{\"arrowcolor\":\"rgb(67,103,167)\"},\"autotypenumbers\":\"strict\",\"coloraxis\":{\"colorbar\":{\"outlinewidth\":0,\"tickcolor\":\"rgb(36,36,36)\",\"ticklen\":8,\"ticks\":\"outside\",\"tickwidth\":2}},\"colorscale\":{\"sequential\":[[0.0,\"rgb(2,4,25)\"],[0.06274509803921569,\"rgb(24,15,41)\"],[0.12549019607843137,\"rgb(47,23,57)\"],[0.18823529411764706,\"rgb(71,28,72)\"],[0.25098039215686274,\"rgb(97,30,82)\"],[0.3137254901960784,\"rgb(123,30,89)\"],[0.3764705882352941,\"rgb(150,27,91)\"],[0.4392156862745098,\"rgb(177,22,88)\"],[0.5019607843137255,\"rgb(203,26,79)\"],[0.5647058823529412,\"rgb(223,47,67)\"],[0.6274509803921569,\"rgb(236,76,61)\"],[0.6901960784313725,\"rgb(242,107,73)\"],[0.7529411764705882,\"rgb(244,135,95)\"],[0.8156862745098039,\"rgb(245,162,122)\"],[0.8784313725490196,\"rgb(246,188,153)\"],[0.9411764705882353,\"rgb(247,212,187)\"],[1.0,\"rgb(250,234,220)\"]],\"sequentialminus\":[[0.0,\"rgb(2,4,25)\"],[0.06274509803921569,\"rgb(24,15,41)\"],[0.12549019607843137,\"rgb(47,23,57)\"],[0.18823529411764706,\"rgb(71,28,72)\"],[0.25098039215686274,\"rgb(97,30,82)\"],[0.3137254901960784,\"rgb(123,30,89)\"],[0.3764705882352941,\"rgb(150,27,91)\"],[0.4392156862745098,\"rgb(177,22,88)\"],[0.5019607843137255,\"rgb(203,26,79)\"],[0.5647058823529412,\"rgb(223,47,67)\"],[0.6274509803921569,\"rgb(236,76,61)\"],[0.6901960784313725,\"rgb(242,107,73)\"],[0.7529411764705882,\"rgb(244,135,95)\"],[0.8156862745098039,\"rgb(245,162,122)\"],[0.8784313725490196,\"rgb(246,188,153)\"],[0.9411764705882353,\"rgb(247,212,187)\"],[1.0,\"rgb(250,234,220)\"]]},\"colorway\":[\"rgb(76,114,176)\",\"rgb(221,132,82)\",\"rgb(85,168,104)\",\"rgb(196,78,82)\",\"rgb(129,114,179)\",\"rgb(147,120,96)\",\"rgb(218,139,195)\",\"rgb(140,140,140)\",\"rgb(204,185,116)\",\"rgb(100,181,205)\"],\"font\":{\"color\":\"rgb(36,36,36)\"},\"geo\":{\"bgcolor\":\"white\",\"lakecolor\":\"white\",\"landcolor\":\"rgb(234,234,242)\",\"showlakes\":true,\"showland\":true,\"subunitcolor\":\"white\"},\"hoverlabel\":{\"align\":\"left\"},\"hovermode\":\"closest\",\"paper_bgcolor\":\"white\",\"plot_bgcolor\":\"rgb(234,234,242)\",\"polar\":{\"angularaxis\":{\"gridcolor\":\"white\",\"linecolor\":\"white\",\"showgrid\":true,\"ticks\":\"\"},\"bgcolor\":\"rgb(234,234,242)\",\"radialaxis\":{\"gridcolor\":\"white\",\"linecolor\":\"white\",\"showgrid\":true,\"ticks\":\"\"}},\"scene\":{\"xaxis\":{\"backgroundcolor\":\"rgb(234,234,242)\",\"gridcolor\":\"white\",\"gridwidth\":2,\"linecolor\":\"white\",\"showbackground\":true,\"showgrid\":true,\"ticks\":\"\",\"zerolinecolor\":\"white\"},\"yaxis\":{\"backgroundcolor\":\"rgb(234,234,242)\",\"gridcolor\":\"white\",\"gridwidth\":2,\"linecolor\":\"white\",\"showbackground\":true,\"showgrid\":true,\"ticks\":\"\",\"zerolinecolor\":\"white\"},\"zaxis\":{\"backgroundcolor\":\"rgb(234,234,242)\",\"gridcolor\":\"white\",\"gridwidth\":2,\"linecolor\":\"white\",\"showbackground\":true,\"showgrid\":true,\"ticks\":\"\",\"zerolinecolor\":\"white\"}},\"shapedefaults\":{\"fillcolor\":\"rgb(67,103,167)\",\"line\":{\"width\":0},\"opacity\":0.5},\"ternary\":{\"aaxis\":{\"gridcolor\":\"white\",\"linecolor\":\"white\",\"showgrid\":true,\"ticks\":\"\"},\"baxis\":{\"gridcolor\":\"white\",\"linecolor\":\"white\",\"showgrid\":true,\"ticks\":\"\"},\"bgcolor\":\"rgb(234,234,242)\",\"caxis\":{\"gridcolor\":\"white\",\"linecolor\":\"white\",\"showgrid\":true,\"ticks\":\"\"}},\"xaxis\":{\"automargin\":true,\"gridcolor\":\"white\",\"linecolor\":\"white\",\"showgrid\":true,\"ticks\":\"\",\"title\":{\"standoff\":15},\"zerolinecolor\":\"white\"},\"yaxis\":{\"automargin\":true,\"gridcolor\":\"white\",\"linecolor\":\"white\",\"showgrid\":true,\"ticks\":\"\",\"title\":{\"standoff\":15},\"zerolinecolor\":\"white\"}}},\"xaxis\":{\"anchor\":\"y\",\"domain\":[0.0,1.0],\"title\":{\"text\":\"Salary in USD\"}},\"yaxis\":{\"anchor\":\"x\",\"domain\":[0.0,0.8316],\"title\":{\"text\":\"count\"}},\"xaxis2\":{\"anchor\":\"y2\",\"domain\":[0.0,1.0],\"matches\":\"x\",\"showticklabels\":false},\"yaxis2\":{\"anchor\":\"x2\",\"domain\":[0.8416,1.0],\"matches\":\"y2\",\"showticklabels\":false,\"showline\":false,\"ticks\":\"\"},\"legend\":{\"tracegroupgap\":0},\"title\":{\"text\":\"<b> Salary Distribution\"},\"barmode\":\"relative\"},                        {\"responsive\": true}                    ).then(function(){\n",
       "                            \n",
       "var gd = document.getElementById('28a4d65c-faa2-479a-b03f-6219604a3010');\n",
       "var x = new MutationObserver(function (mutations, observer) {{\n",
       "        var display = window.getComputedStyle(gd).display;\n",
       "        if (!display || display === 'none') {{\n",
       "            console.log([gd, 'removed!']);\n",
       "            Plotly.purge(gd);\n",
       "            observer.disconnect();\n",
       "        }}\n",
       "}});\n",
       "\n",
       "// Listen for the removal of the full notebook cells\n",
       "var notebookContainer = gd.closest('#notebook-container');\n",
       "if (notebookContainer) {{\n",
       "    x.observe(notebookContainer, {childList: true});\n",
       "}}\n",
       "\n",
       "// Listen for the clearing of the current output cell\n",
       "var outputEl = gd.closest('.output');\n",
       "if (outputEl) {{\n",
       "    x.observe(outputEl, {childList: true});\n",
       "}}\n",
       "\n",
       "                        })                };                });            </script>        </div>"
      ]
     },
     "metadata": {},
     "output_type": "display_data"
    }
   ],
   "source": [
    "px.histogram(df,x='salary_in_usd',marginal='rug',template='seaborn',labels={'salary_in_usd':'Salary in USD'},title='<b> Salary Distribution')"
   ]
  },
  {
   "cell_type": "code",
   "execution_count": 20,
   "id": "ee8d1315",
   "metadata": {
    "execution": {
     "iopub.execute_input": "2022-09-20T17:48:42.292451Z",
     "iopub.status.busy": "2022-09-20T17:48:42.292015Z",
     "iopub.status.idle": "2022-09-20T17:48:42.399735Z",
     "shell.execute_reply": "2022-09-20T17:48:42.398727Z"
    },
    "papermill": {
     "duration": 0.124226,
     "end_time": "2022-09-20T17:48:42.402075",
     "exception": false,
     "start_time": "2022-09-20T17:48:42.277849",
     "status": "completed"
    },
    "tags": []
   },
   "outputs": [
    {
     "data": {
      "text/html": [
       "<div>                            <div id=\"8c5e82df-0e70-4137-856a-b9d6e926f390\" class=\"plotly-graph-div\" style=\"height:525px; width:100%;\"></div>            <script type=\"text/javascript\">                require([\"plotly\"], function(Plotly) {                    window.PLOTLYENV=window.PLOTLYENV || {};                                    if (document.getElementById(\"8c5e82df-0e70-4137-856a-b9d6e926f390\")) {                    Plotly.newPlot(                        \"8c5e82df-0e70-4137-856a-b9d6e926f390\",                        [{\"alignmentgroup\":\"True\",\"box\":{\"visible\":false},\"hovertemplate\":\"year=%{x}<br>salary in usd=%{y}<extra></extra>\",\"legendgroup\":\"2020\",\"marker\":{\"color\":\"rgb(76,114,176)\"},\"name\":\"2020\",\"offsetgroup\":\"2020\",\"orientation\":\"v\",\"scalegroup\":\"True\",\"showlegend\":true,\"x\":[2020,2020,2020,2020,2020,2020,2020,2020,2020,2020,2020,2020,2020,2020,2020,2020,2020,2020,2020,2020,2020,2020,2020,2020,2020,2020,2020,2020,2020,2020,2020,2020,2020,2020,2020,2020,2020,2020,2020,2020,2020,2020,2020,2020,2020,2020,2020,2020,2020,2020,2020,2020,2020,2020,2020,2020,2020,2020,2020,2020,2020,2020,2020,2020,2020,2020,2020,2020,2020,2020,2020,2020],\"x0\":\" \",\"xaxis\":\"x\",\"y\":[79833,260000,109024,20000,150000,72000,190000,35735,135000,125000,51321,40481,39916,87000,85000,8000,41689,114047,5707,56000,43331,6072,47899,98000,115000,325000,42000,33511,100000,117104,59303,70000,68428,450000,46759,74130,103000,250000,10000,138000,45760,79833,50180,106000,112872,15966,76958,188000,105000,70139,6072,91000,45896,54742,60000,148261,38776,118000,120000,138350,110000,130800,21669,412000,45618,62726,49268,190200,105000,91237,62726,42197],\"y0\":\" \",\"yaxis\":\"y\",\"type\":\"violin\"},{\"alignmentgroup\":\"True\",\"box\":{\"visible\":false},\"hovertemplate\":\"year=%{x}<br>salary in usd=%{y}<extra></extra>\",\"legendgroup\":\"2021\",\"marker\":{\"color\":\"rgb(221,132,82)\"},\"name\":\"2021\",\"offsetgroup\":\"2021\",\"orientation\":\"v\",\"scalegroup\":\"True\",\"showlegend\":true,\"x\":[2021,2021,2021,2021,2021,2021,2021,2021,2021,2021,2021,2021,2021,2021,2021,2021,2021,2021,2021,2021,2021,2021,2021,2021,2021,2021,2021,2021,2021,2021,2021,2021,2021,2021,2021,2021,2021,2021,2021,2021,2021,2021,2021,2021,2021,2021,2021,2021,2021,2021,2021,2021,2021,2021,2021,2021,2021,2021,2021,2021,2021,2021,2021,2021,2021,2021,2021,2021,2021,2021,2021,2021,2021,2021,2021,2021,2021,2021,2021,2021,2021,2021,2021,2021,2021,2021,2021,2021,2021,2021,2021,2021,2021,2021,2021,2021,2021,2021,2021,2021,2021,2021,2021,2021,2021,2021,2021,2021,2021,2021,2021,2021,2021,2021,2021,2021,2021,2021,2021,2021,2021,2021,2021,2021,2021,2021,2021,2021,2021,2021,2021,2021,2021,2021,2021,2021,2021,2021,2021,2021,2021,2021,2021,2021,2021,2021,2021,2021,2021,2021,2021,2021,2021,2021,2021,2021,2021,2021,2021,2021,2021,2021,2021,2021,2021,2021,2021,2021,2021,2021,2021,2021,2021,2021,2021,2021,2021,2021,2021,2021,2021,2021,2021,2021,2021,2021,2021,2021,2021,2021,2021,2021,2021,2021,2021,2021,2021,2021,2021,2021,2021,2021,2021,2021,2021,2021,2021,2021,2021,2021,2021,2021,2021,2021,2021,2021,2021],\"x0\":\" \",\"xaxis\":\"x\",\"y\":[82528,150000,235000,53192,100000,5409,270000,80000,79197,140000,54238,47282,153667,28476,59102,110000,170000,80000,88654,76833,19609,276000,29751,89294,12000,450000,70000,95746,75000,150000,36259,62000,73000,51519,187442,115000,150000,30428,94564,113476,103160,12000,45391,225000,50000,40189,90000,200000,60000,200000,50000,110037,10354,151000,120000,9466,20000,40570,100000,49646,38400,24000,100000,90000,63711,77364,220000,80000,135000,240000,150000,82500,100000,82744,62649,90000,153000,160000,168000,150000,75774,13400,144000,127221,119059,423000,120000,125000,230000,85000,28369,63831,130026,165000,80000,250000,55000,150000,170000,82528,60000,235000,60757,174000,2859,40038,81000,5679,22611,90734,26005,61896,12000,4000,50000,69741,76833,74000,152000,21844,18000,174000,96113,147000,9272,24342,54094,90000,61467,195000,37825,50000,160000,12901,200000,165000,20000,120000,24823,56738,66022,5882,24823,185000,28609,90734,88654,140000,46597,116914,33808,56256,225000,416000,87738,88654,135000,71786,16228,256000,200000,200000,180000,110000,63810,46809,4000,21637,103691,80000,110000,165000,18053,72212,36643,12103,96282,170000,115000,90000,600000,28399,93000,99703,200000,173762,185000,141846,130000,63831,16904,66265,25532,160000,93150,111775,28016,65013,72500,18907,76833,85000,77684,100000,58000,55000,20171,59102,112000,100000,69741,105000,69999,94665,102839,109000,51064],\"y0\":\" \",\"yaxis\":\"y\",\"type\":\"violin\"},{\"alignmentgroup\":\"True\",\"box\":{\"visible\":false},\"hovertemplate\":\"year=%{x}<br>salary in usd=%{y}<extra></extra>\",\"legendgroup\":\"2022\",\"marker\":{\"color\":\"rgb(85,168,104)\"},\"name\":\"2022\",\"offsetgroup\":\"2022\",\"orientation\":\"v\",\"scalegroup\":\"True\",\"showlegend\":true,\"x\":[2022,2022,2022,2022,2022,2022,2022,2022,2022,2022,2022,2022,2022,2022,2022,2022,2022,2022,2022,2022,2022,2022,2022,2022,2022,2022,2022,2022,2022,2022,2022,2022,2022,2022,2022,2022,2022,2022,2022,2022,2022,2022,2022,2022,2022,2022,2022,2022,2022,2022,2022,2022,2022,2022,2022,2022,2022,2022,2022,2022,2022,2022,2022,2022,2022,2022,2022,2022,2022,2022,2022,2022,2022,2022,2022,2022,2022,2022,2022,2022,2022,2022,2022,2022,2022,2022,2022,2022,2022,2022,2022,2022,2022,2022,2022,2022,2022,2022,2022,2022,2022,2022,2022,2022,2022,2022,2022,2022,2022,2022,2022,2022,2022,2022,2022,2022,2022,2022,2022,2022,2022,2022,2022,2022,2022,2022,2022,2022,2022,2022,2022,2022,2022,2022,2022,2022,2022,2022,2022,2022,2022,2022,2022,2022,2022,2022,2022,2022,2022,2022,2022,2022,2022,2022,2022,2022,2022,2022,2022,2022,2022,2022,2022,2022,2022,2022,2022,2022,2022,2022,2022,2022,2022,2022,2022,2022,2022,2022,2022,2022,2022,2022,2022,2022,2022,2022,2022,2022,2022,2022,2022,2022,2022,2022,2022,2022,2022,2022,2022,2022,2022,2022,2022,2022,2022,2022,2022,2022,2022,2022,2022,2022,2022,2022,2022,2022,2022,2022,2022,2022,2022,2022,2022,2022,2022,2022,2022,2022,2022,2022,2022,2022,2022,2022,2022,2022,2022,2022,2022,2022,2022,2022,2022,2022,2022,2022,2022,2022,2022,2022,2022,2022,2022,2022,2022,2022,2022,2022,2022,2022,2022,2022,2022,2022,2022,2022,2022,2022,2022,2022,2022,2022,2022,2022,2022,2022,2022,2022,2022,2022,2022,2022,2022,2022,2022,2022,2022,2022,2022,2022,2022,2022,2022,2022,2022,2022,2022,2022,2022,2022,2022,2022,2022,2022,2022,2022,2022,2022,2022,2022,2022,2022,2022,2022,2022,2022,2022,2022],\"x0\":\" \",\"xaxis\":\"x\",\"y\":[135000,155000,120600,130000,90000,170000,150000,102100,84900,136620,99360,117789,104702,146000,123000,52351,99000,116000,106260,126500,242000,200000,65438,39263,78526,52351,165220,45807,120160,90320,181940,132320,220110,160080,180000,120000,124190,130000,110000,170000,115500,112900,90320,112900,90320,165400,132320,167000,243900,136600,109280,128875,93700,224000,167875,175000,156600,108800,95550,113000,135000,161342,137141,167000,123000,78526,65438,150000,211500,192400,90700,130000,61300,130000,61300,160000,138600,136000,58000,135000,170000,123000,189650,164996,54957,54957,118187,132000,165400,208775,147800,136994,101570,128875,93700,79039,132320,37300,164000,155000,124333,98158,120000,112900,90320,145000,105400,87932,117789,215300,158200,209100,154600,115934,81666,175000,98158,58000,183600,52351,180000,71982,45807,65949,49461,78526,58894,260000,60000,63900,160000,112300,241000,159000,180000,80000,82900,100800,49461,140400,39263,43966,32974,87932,76940,104702,91614,65949,87932,189650,164996,43966,32974,98158,78526,215300,76940,209100,154600,180000,21983,80000,78791,196979,120000,125000,37236,105000,87932,18442,31615,58255,100000,54957,18442,162674,120000,144000,104890,100000,140000,135000,50000,220000,140000,183228,91614,185100,220000,200000,120000,120000,65000,324000,216000,210000,120000,230000,100000,100000,31875,200000,75000,35590,78791,100000,153000,58035,165000,93427,52396,62651,32974,40000,87425,115000,86703,75000,64849,120000,157000,150000,70912,65000,71444,20000,48000,152500,68147,122346,380000,69336,10000,20000,405000,135000,177000,78000,135000,100000,90320,85000,75000,214000,192600,266400,213120,112900,155000,141300,102100,115934,81666,206699,99100,130000,115000,110500,130000,99050,160000,205300,140400,176000,144000,200100,160000,145000,70500,205300,140400,205300,184700,175100,140250,116150,54000,170000,65438,80000,140000,210000,140000,100000,69000,210000,140000,210000,150075,100000,25000,126500,106260,220110,160080,105000,110925,45807,140000,99000,60000,192564,144854,230000,150000,150260,109280,210000,170000,160000,130000,67000,52000,154000,126000,129000,150000,200000],\"y0\":\" \",\"yaxis\":\"y\",\"type\":\"violin\"}],                        {\"template\":{\"data\":{\"barpolar\":[{\"marker\":{\"line\":{\"color\":\"rgb(234,234,242)\",\"width\":0.5},\"pattern\":{\"fillmode\":\"overlay\",\"size\":10,\"solidity\":0.2}},\"type\":\"barpolar\"}],\"bar\":[{\"error_x\":{\"color\":\"rgb(36,36,36)\"},\"error_y\":{\"color\":\"rgb(36,36,36)\"},\"marker\":{\"line\":{\"color\":\"rgb(234,234,242)\",\"width\":0.5},\"pattern\":{\"fillmode\":\"overlay\",\"size\":10,\"solidity\":0.2}},\"type\":\"bar\"}],\"carpet\":[{\"aaxis\":{\"endlinecolor\":\"rgb(36,36,36)\",\"gridcolor\":\"white\",\"linecolor\":\"white\",\"minorgridcolor\":\"white\",\"startlinecolor\":\"rgb(36,36,36)\"},\"baxis\":{\"endlinecolor\":\"rgb(36,36,36)\",\"gridcolor\":\"white\",\"linecolor\":\"white\",\"minorgridcolor\":\"white\",\"startlinecolor\":\"rgb(36,36,36)\"},\"type\":\"carpet\"}],\"choropleth\":[{\"colorbar\":{\"outlinewidth\":0,\"tickcolor\":\"rgb(36,36,36)\",\"ticklen\":8,\"ticks\":\"outside\",\"tickwidth\":2},\"type\":\"choropleth\"}],\"contourcarpet\":[{\"colorbar\":{\"outlinewidth\":0,\"tickcolor\":\"rgb(36,36,36)\",\"ticklen\":8,\"ticks\":\"outside\",\"tickwidth\":2},\"type\":\"contourcarpet\"}],\"contour\":[{\"colorbar\":{\"outlinewidth\":0,\"tickcolor\":\"rgb(36,36,36)\",\"ticklen\":8,\"ticks\":\"outside\",\"tickwidth\":2},\"colorscale\":[[0.0,\"rgb(2,4,25)\"],[0.06274509803921569,\"rgb(24,15,41)\"],[0.12549019607843137,\"rgb(47,23,57)\"],[0.18823529411764706,\"rgb(71,28,72)\"],[0.25098039215686274,\"rgb(97,30,82)\"],[0.3137254901960784,\"rgb(123,30,89)\"],[0.3764705882352941,\"rgb(150,27,91)\"],[0.4392156862745098,\"rgb(177,22,88)\"],[0.5019607843137255,\"rgb(203,26,79)\"],[0.5647058823529412,\"rgb(223,47,67)\"],[0.6274509803921569,\"rgb(236,76,61)\"],[0.6901960784313725,\"rgb(242,107,73)\"],[0.7529411764705882,\"rgb(244,135,95)\"],[0.8156862745098039,\"rgb(245,162,122)\"],[0.8784313725490196,\"rgb(246,188,153)\"],[0.9411764705882353,\"rgb(247,212,187)\"],[1.0,\"rgb(250,234,220)\"]],\"type\":\"contour\"}],\"heatmapgl\":[{\"colorbar\":{\"outlinewidth\":0,\"tickcolor\":\"rgb(36,36,36)\",\"ticklen\":8,\"ticks\":\"outside\",\"tickwidth\":2},\"colorscale\":[[0.0,\"rgb(2,4,25)\"],[0.06274509803921569,\"rgb(24,15,41)\"],[0.12549019607843137,\"rgb(47,23,57)\"],[0.18823529411764706,\"rgb(71,28,72)\"],[0.25098039215686274,\"rgb(97,30,82)\"],[0.3137254901960784,\"rgb(123,30,89)\"],[0.3764705882352941,\"rgb(150,27,91)\"],[0.4392156862745098,\"rgb(177,22,88)\"],[0.5019607843137255,\"rgb(203,26,79)\"],[0.5647058823529412,\"rgb(223,47,67)\"],[0.6274509803921569,\"rgb(236,76,61)\"],[0.6901960784313725,\"rgb(242,107,73)\"],[0.7529411764705882,\"rgb(244,135,95)\"],[0.8156862745098039,\"rgb(245,162,122)\"],[0.8784313725490196,\"rgb(246,188,153)\"],[0.9411764705882353,\"rgb(247,212,187)\"],[1.0,\"rgb(250,234,220)\"]],\"type\":\"heatmapgl\"}],\"heatmap\":[{\"colorbar\":{\"outlinewidth\":0,\"tickcolor\":\"rgb(36,36,36)\",\"ticklen\":8,\"ticks\":\"outside\",\"tickwidth\":2},\"colorscale\":[[0.0,\"rgb(2,4,25)\"],[0.06274509803921569,\"rgb(24,15,41)\"],[0.12549019607843137,\"rgb(47,23,57)\"],[0.18823529411764706,\"rgb(71,28,72)\"],[0.25098039215686274,\"rgb(97,30,82)\"],[0.3137254901960784,\"rgb(123,30,89)\"],[0.3764705882352941,\"rgb(150,27,91)\"],[0.4392156862745098,\"rgb(177,22,88)\"],[0.5019607843137255,\"rgb(203,26,79)\"],[0.5647058823529412,\"rgb(223,47,67)\"],[0.6274509803921569,\"rgb(236,76,61)\"],[0.6901960784313725,\"rgb(242,107,73)\"],[0.7529411764705882,\"rgb(244,135,95)\"],[0.8156862745098039,\"rgb(245,162,122)\"],[0.8784313725490196,\"rgb(246,188,153)\"],[0.9411764705882353,\"rgb(247,212,187)\"],[1.0,\"rgb(250,234,220)\"]],\"type\":\"heatmap\"}],\"histogram2dcontour\":[{\"colorbar\":{\"outlinewidth\":0,\"tickcolor\":\"rgb(36,36,36)\",\"ticklen\":8,\"ticks\":\"outside\",\"tickwidth\":2},\"colorscale\":[[0.0,\"rgb(2,4,25)\"],[0.06274509803921569,\"rgb(24,15,41)\"],[0.12549019607843137,\"rgb(47,23,57)\"],[0.18823529411764706,\"rgb(71,28,72)\"],[0.25098039215686274,\"rgb(97,30,82)\"],[0.3137254901960784,\"rgb(123,30,89)\"],[0.3764705882352941,\"rgb(150,27,91)\"],[0.4392156862745098,\"rgb(177,22,88)\"],[0.5019607843137255,\"rgb(203,26,79)\"],[0.5647058823529412,\"rgb(223,47,67)\"],[0.6274509803921569,\"rgb(236,76,61)\"],[0.6901960784313725,\"rgb(242,107,73)\"],[0.7529411764705882,\"rgb(244,135,95)\"],[0.8156862745098039,\"rgb(245,162,122)\"],[0.8784313725490196,\"rgb(246,188,153)\"],[0.9411764705882353,\"rgb(247,212,187)\"],[1.0,\"rgb(250,234,220)\"]],\"type\":\"histogram2dcontour\"}],\"histogram2d\":[{\"colorbar\":{\"outlinewidth\":0,\"tickcolor\":\"rgb(36,36,36)\",\"ticklen\":8,\"ticks\":\"outside\",\"tickwidth\":2},\"colorscale\":[[0.0,\"rgb(2,4,25)\"],[0.06274509803921569,\"rgb(24,15,41)\"],[0.12549019607843137,\"rgb(47,23,57)\"],[0.18823529411764706,\"rgb(71,28,72)\"],[0.25098039215686274,\"rgb(97,30,82)\"],[0.3137254901960784,\"rgb(123,30,89)\"],[0.3764705882352941,\"rgb(150,27,91)\"],[0.4392156862745098,\"rgb(177,22,88)\"],[0.5019607843137255,\"rgb(203,26,79)\"],[0.5647058823529412,\"rgb(223,47,67)\"],[0.6274509803921569,\"rgb(236,76,61)\"],[0.6901960784313725,\"rgb(242,107,73)\"],[0.7529411764705882,\"rgb(244,135,95)\"],[0.8156862745098039,\"rgb(245,162,122)\"],[0.8784313725490196,\"rgb(246,188,153)\"],[0.9411764705882353,\"rgb(247,212,187)\"],[1.0,\"rgb(250,234,220)\"]],\"type\":\"histogram2d\"}],\"histogram\":[{\"marker\":{\"pattern\":{\"fillmode\":\"overlay\",\"size\":10,\"solidity\":0.2}},\"type\":\"histogram\"}],\"mesh3d\":[{\"colorbar\":{\"outlinewidth\":0,\"tickcolor\":\"rgb(36,36,36)\",\"ticklen\":8,\"ticks\":\"outside\",\"tickwidth\":2},\"type\":\"mesh3d\"}],\"parcoords\":[{\"line\":{\"colorbar\":{\"outlinewidth\":0,\"tickcolor\":\"rgb(36,36,36)\",\"ticklen\":8,\"ticks\":\"outside\",\"tickwidth\":2}},\"type\":\"parcoords\"}],\"pie\":[{\"automargin\":true,\"type\":\"pie\"}],\"scatter3d\":[{\"line\":{\"colorbar\":{\"outlinewidth\":0,\"tickcolor\":\"rgb(36,36,36)\",\"ticklen\":8,\"ticks\":\"outside\",\"tickwidth\":2}},\"marker\":{\"colorbar\":{\"outlinewidth\":0,\"tickcolor\":\"rgb(36,36,36)\",\"ticklen\":8,\"ticks\":\"outside\",\"tickwidth\":2}},\"type\":\"scatter3d\"}],\"scattercarpet\":[{\"marker\":{\"colorbar\":{\"outlinewidth\":0,\"tickcolor\":\"rgb(36,36,36)\",\"ticklen\":8,\"ticks\":\"outside\",\"tickwidth\":2}},\"type\":\"scattercarpet\"}],\"scattergeo\":[{\"marker\":{\"colorbar\":{\"outlinewidth\":0,\"tickcolor\":\"rgb(36,36,36)\",\"ticklen\":8,\"ticks\":\"outside\",\"tickwidth\":2}},\"type\":\"scattergeo\"}],\"scattergl\":[{\"marker\":{\"colorbar\":{\"outlinewidth\":0,\"tickcolor\":\"rgb(36,36,36)\",\"ticklen\":8,\"ticks\":\"outside\",\"tickwidth\":2}},\"type\":\"scattergl\"}],\"scattermapbox\":[{\"marker\":{\"colorbar\":{\"outlinewidth\":0,\"tickcolor\":\"rgb(36,36,36)\",\"ticklen\":8,\"ticks\":\"outside\",\"tickwidth\":2}},\"type\":\"scattermapbox\"}],\"scatterpolargl\":[{\"marker\":{\"colorbar\":{\"outlinewidth\":0,\"tickcolor\":\"rgb(36,36,36)\",\"ticklen\":8,\"ticks\":\"outside\",\"tickwidth\":2}},\"type\":\"scatterpolargl\"}],\"scatterpolar\":[{\"marker\":{\"colorbar\":{\"outlinewidth\":0,\"tickcolor\":\"rgb(36,36,36)\",\"ticklen\":8,\"ticks\":\"outside\",\"tickwidth\":2}},\"type\":\"scatterpolar\"}],\"scatter\":[{\"fillpattern\":{\"fillmode\":\"overlay\",\"size\":10,\"solidity\":0.2},\"type\":\"scatter\"}],\"scatterternary\":[{\"marker\":{\"colorbar\":{\"outlinewidth\":0,\"tickcolor\":\"rgb(36,36,36)\",\"ticklen\":8,\"ticks\":\"outside\",\"tickwidth\":2}},\"type\":\"scatterternary\"}],\"surface\":[{\"colorbar\":{\"outlinewidth\":0,\"tickcolor\":\"rgb(36,36,36)\",\"ticklen\":8,\"ticks\":\"outside\",\"tickwidth\":2},\"colorscale\":[[0.0,\"rgb(2,4,25)\"],[0.06274509803921569,\"rgb(24,15,41)\"],[0.12549019607843137,\"rgb(47,23,57)\"],[0.18823529411764706,\"rgb(71,28,72)\"],[0.25098039215686274,\"rgb(97,30,82)\"],[0.3137254901960784,\"rgb(123,30,89)\"],[0.3764705882352941,\"rgb(150,27,91)\"],[0.4392156862745098,\"rgb(177,22,88)\"],[0.5019607843137255,\"rgb(203,26,79)\"],[0.5647058823529412,\"rgb(223,47,67)\"],[0.6274509803921569,\"rgb(236,76,61)\"],[0.6901960784313725,\"rgb(242,107,73)\"],[0.7529411764705882,\"rgb(244,135,95)\"],[0.8156862745098039,\"rgb(245,162,122)\"],[0.8784313725490196,\"rgb(246,188,153)\"],[0.9411764705882353,\"rgb(247,212,187)\"],[1.0,\"rgb(250,234,220)\"]],\"type\":\"surface\"}],\"table\":[{\"cells\":{\"fill\":{\"color\":\"rgb(231,231,240)\"},\"line\":{\"color\":\"white\"}},\"header\":{\"fill\":{\"color\":\"rgb(183,183,191)\"},\"line\":{\"color\":\"white\"}},\"type\":\"table\"}]},\"layout\":{\"annotationdefaults\":{\"arrowcolor\":\"rgb(67,103,167)\"},\"autotypenumbers\":\"strict\",\"coloraxis\":{\"colorbar\":{\"outlinewidth\":0,\"tickcolor\":\"rgb(36,36,36)\",\"ticklen\":8,\"ticks\":\"outside\",\"tickwidth\":2}},\"colorscale\":{\"sequential\":[[0.0,\"rgb(2,4,25)\"],[0.06274509803921569,\"rgb(24,15,41)\"],[0.12549019607843137,\"rgb(47,23,57)\"],[0.18823529411764706,\"rgb(71,28,72)\"],[0.25098039215686274,\"rgb(97,30,82)\"],[0.3137254901960784,\"rgb(123,30,89)\"],[0.3764705882352941,\"rgb(150,27,91)\"],[0.4392156862745098,\"rgb(177,22,88)\"],[0.5019607843137255,\"rgb(203,26,79)\"],[0.5647058823529412,\"rgb(223,47,67)\"],[0.6274509803921569,\"rgb(236,76,61)\"],[0.6901960784313725,\"rgb(242,107,73)\"],[0.7529411764705882,\"rgb(244,135,95)\"],[0.8156862745098039,\"rgb(245,162,122)\"],[0.8784313725490196,\"rgb(246,188,153)\"],[0.9411764705882353,\"rgb(247,212,187)\"],[1.0,\"rgb(250,234,220)\"]],\"sequentialminus\":[[0.0,\"rgb(2,4,25)\"],[0.06274509803921569,\"rgb(24,15,41)\"],[0.12549019607843137,\"rgb(47,23,57)\"],[0.18823529411764706,\"rgb(71,28,72)\"],[0.25098039215686274,\"rgb(97,30,82)\"],[0.3137254901960784,\"rgb(123,30,89)\"],[0.3764705882352941,\"rgb(150,27,91)\"],[0.4392156862745098,\"rgb(177,22,88)\"],[0.5019607843137255,\"rgb(203,26,79)\"],[0.5647058823529412,\"rgb(223,47,67)\"],[0.6274509803921569,\"rgb(236,76,61)\"],[0.6901960784313725,\"rgb(242,107,73)\"],[0.7529411764705882,\"rgb(244,135,95)\"],[0.8156862745098039,\"rgb(245,162,122)\"],[0.8784313725490196,\"rgb(246,188,153)\"],[0.9411764705882353,\"rgb(247,212,187)\"],[1.0,\"rgb(250,234,220)\"]]},\"colorway\":[\"rgb(76,114,176)\",\"rgb(221,132,82)\",\"rgb(85,168,104)\",\"rgb(196,78,82)\",\"rgb(129,114,179)\",\"rgb(147,120,96)\",\"rgb(218,139,195)\",\"rgb(140,140,140)\",\"rgb(204,185,116)\",\"rgb(100,181,205)\"],\"font\":{\"color\":\"rgb(36,36,36)\"},\"geo\":{\"bgcolor\":\"white\",\"lakecolor\":\"white\",\"landcolor\":\"rgb(234,234,242)\",\"showlakes\":true,\"showland\":true,\"subunitcolor\":\"white\"},\"hoverlabel\":{\"align\":\"left\"},\"hovermode\":\"closest\",\"paper_bgcolor\":\"white\",\"plot_bgcolor\":\"rgb(234,234,242)\",\"polar\":{\"angularaxis\":{\"gridcolor\":\"white\",\"linecolor\":\"white\",\"showgrid\":true,\"ticks\":\"\"},\"bgcolor\":\"rgb(234,234,242)\",\"radialaxis\":{\"gridcolor\":\"white\",\"linecolor\":\"white\",\"showgrid\":true,\"ticks\":\"\"}},\"scene\":{\"xaxis\":{\"backgroundcolor\":\"rgb(234,234,242)\",\"gridcolor\":\"white\",\"gridwidth\":2,\"linecolor\":\"white\",\"showbackground\":true,\"showgrid\":true,\"ticks\":\"\",\"zerolinecolor\":\"white\"},\"yaxis\":{\"backgroundcolor\":\"rgb(234,234,242)\",\"gridcolor\":\"white\",\"gridwidth\":2,\"linecolor\":\"white\",\"showbackground\":true,\"showgrid\":true,\"ticks\":\"\",\"zerolinecolor\":\"white\"},\"zaxis\":{\"backgroundcolor\":\"rgb(234,234,242)\",\"gridcolor\":\"white\",\"gridwidth\":2,\"linecolor\":\"white\",\"showbackground\":true,\"showgrid\":true,\"ticks\":\"\",\"zerolinecolor\":\"white\"}},\"shapedefaults\":{\"fillcolor\":\"rgb(67,103,167)\",\"line\":{\"width\":0},\"opacity\":0.5},\"ternary\":{\"aaxis\":{\"gridcolor\":\"white\",\"linecolor\":\"white\",\"showgrid\":true,\"ticks\":\"\"},\"baxis\":{\"gridcolor\":\"white\",\"linecolor\":\"white\",\"showgrid\":true,\"ticks\":\"\"},\"bgcolor\":\"rgb(234,234,242)\",\"caxis\":{\"gridcolor\":\"white\",\"linecolor\":\"white\",\"showgrid\":true,\"ticks\":\"\"}},\"xaxis\":{\"automargin\":true,\"gridcolor\":\"white\",\"linecolor\":\"white\",\"showgrid\":true,\"ticks\":\"\",\"title\":{\"standoff\":15},\"zerolinecolor\":\"white\"},\"yaxis\":{\"automargin\":true,\"gridcolor\":\"white\",\"linecolor\":\"white\",\"showgrid\":true,\"ticks\":\"\",\"title\":{\"standoff\":15},\"zerolinecolor\":\"white\"}}},\"xaxis\":{\"anchor\":\"y\",\"domain\":[0.0,1.0],\"title\":{\"text\":\"year\"},\"categoryorder\":\"array\",\"categoryarray\":[2020,2021,2022]},\"yaxis\":{\"anchor\":\"x\",\"domain\":[0.0,1.0],\"title\":{\"text\":\"salary in usd\"}},\"legend\":{\"title\":{\"text\":\"year\"},\"tracegroupgap\":0},\"title\":{\"text\":\"<b>Data Science Salaries by year\"},\"violinmode\":\"overlay\"},                        {\"responsive\": true}                    ).then(function(){\n",
       "                            \n",
       "var gd = document.getElementById('8c5e82df-0e70-4137-856a-b9d6e926f390');\n",
       "var x = new MutationObserver(function (mutations, observer) {{\n",
       "        var display = window.getComputedStyle(gd).display;\n",
       "        if (!display || display === 'none') {{\n",
       "            console.log([gd, 'removed!']);\n",
       "            Plotly.purge(gd);\n",
       "            observer.disconnect();\n",
       "        }}\n",
       "}});\n",
       "\n",
       "// Listen for the removal of the full notebook cells\n",
       "var notebookContainer = gd.closest('#notebook-container');\n",
       "if (notebookContainer) {{\n",
       "    x.observe(notebookContainer, {childList: true});\n",
       "}}\n",
       "\n",
       "// Listen for the clearing of the current output cell\n",
       "var outputEl = gd.closest('.output');\n",
       "if (outputEl) {{\n",
       "    x.observe(outputEl, {childList: true});\n",
       "}}\n",
       "\n",
       "                        })                };                });            </script>        </div>"
      ]
     },
     "metadata": {},
     "output_type": "display_data"
    }
   ],
   "source": [
    "px.violin(df,x='work_year',y='salary_in_usd',color='work_year',labels={'work_year':'year','salary_in_usd':'salary in usd'},template='seaborn',title='<b>Data Science Salaries by year')"
   ]
  },
  {
   "cell_type": "code",
   "execution_count": 21,
   "id": "70579f3e",
   "metadata": {
    "execution": {
     "iopub.execute_input": "2022-09-20T17:48:42.428754Z",
     "iopub.status.busy": "2022-09-20T17:48:42.428307Z",
     "iopub.status.idle": "2022-09-20T17:48:42.508597Z",
     "shell.execute_reply": "2022-09-20T17:48:42.507403Z"
    },
    "papermill": {
     "duration": 0.096777,
     "end_time": "2022-09-20T17:48:42.511330",
     "exception": false,
     "start_time": "2022-09-20T17:48:42.414553",
     "status": "completed"
    },
    "tags": []
   },
   "outputs": [
    {
     "data": {
      "text/html": [
       "<div>                            <div id=\"59f90e26-fbc9-456c-a1fe-b0cbaa66cbf2\" class=\"plotly-graph-div\" style=\"height:525px; width:100%;\"></div>            <script type=\"text/javascript\">                require([\"plotly\"], function(Plotly) {                    window.PLOTLYENV=window.PLOTLYENV || {};                                    if (document.getElementById(\"59f90e26-fbc9-456c-a1fe-b0cbaa66cbf2\")) {                    Plotly.newPlot(                        \"59f90e26-fbc9-456c-a1fe-b0cbaa66cbf2\",                        [{\"alignmentgroup\":\"True\",\"hovertemplate\":\"Experience Level=%{x}<br>salary in usd=%{y}<extra></extra>\",\"legendgroup\":\"Mid-Level\",\"marker\":{\"color\":\"#F8766D\"},\"name\":\"Mid-Level\",\"notched\":false,\"offsetgroup\":\"Mid-Level\",\"orientation\":\"v\",\"showlegend\":true,\"x\":[\"Mid-Level\",\"Mid-Level\",\"Mid-Level\",\"Mid-Level\",\"Mid-Level\",\"Mid-Level\",\"Mid-Level\",\"Mid-Level\",\"Mid-Level\",\"Mid-Level\",\"Mid-Level\",\"Mid-Level\",\"Mid-Level\",\"Mid-Level\",\"Mid-Level\",\"Mid-Level\",\"Mid-Level\",\"Mid-Level\",\"Mid-Level\",\"Mid-Level\",\"Mid-Level\",\"Mid-Level\",\"Mid-Level\",\"Mid-Level\",\"Mid-Level\",\"Mid-Level\",\"Mid-Level\",\"Mid-Level\",\"Mid-Level\",\"Mid-Level\",\"Mid-Level\",\"Mid-Level\",\"Mid-Level\",\"Mid-Level\",\"Mid-Level\",\"Mid-Level\",\"Mid-Level\",\"Mid-Level\",\"Mid-Level\",\"Mid-Level\",\"Mid-Level\",\"Mid-Level\",\"Mid-Level\",\"Mid-Level\",\"Mid-Level\",\"Mid-Level\",\"Mid-Level\",\"Mid-Level\",\"Mid-Level\",\"Mid-Level\",\"Mid-Level\",\"Mid-Level\",\"Mid-Level\",\"Mid-Level\",\"Mid-Level\",\"Mid-Level\",\"Mid-Level\",\"Mid-Level\",\"Mid-Level\",\"Mid-Level\",\"Mid-Level\",\"Mid-Level\",\"Mid-Level\",\"Mid-Level\",\"Mid-Level\",\"Mid-Level\",\"Mid-Level\",\"Mid-Level\",\"Mid-Level\",\"Mid-Level\",\"Mid-Level\",\"Mid-Level\",\"Mid-Level\",\"Mid-Level\",\"Mid-Level\",\"Mid-Level\",\"Mid-Level\",\"Mid-Level\",\"Mid-Level\",\"Mid-Level\",\"Mid-Level\",\"Mid-Level\",\"Mid-Level\",\"Mid-Level\",\"Mid-Level\",\"Mid-Level\",\"Mid-Level\",\"Mid-Level\",\"Mid-Level\",\"Mid-Level\",\"Mid-Level\",\"Mid-Level\",\"Mid-Level\",\"Mid-Level\",\"Mid-Level\",\"Mid-Level\",\"Mid-Level\",\"Mid-Level\",\"Mid-Level\",\"Mid-Level\",\"Mid-Level\",\"Mid-Level\",\"Mid-Level\",\"Mid-Level\",\"Mid-Level\",\"Mid-Level\",\"Mid-Level\",\"Mid-Level\",\"Mid-Level\",\"Mid-Level\",\"Mid-Level\",\"Mid-Level\",\"Mid-Level\",\"Mid-Level\",\"Mid-Level\",\"Mid-Level\",\"Mid-Level\",\"Mid-Level\",\"Mid-Level\",\"Mid-Level\",\"Mid-Level\",\"Mid-Level\",\"Mid-Level\",\"Mid-Level\",\"Mid-Level\",\"Mid-Level\",\"Mid-Level\",\"Mid-Level\",\"Mid-Level\",\"Mid-Level\",\"Mid-Level\",\"Mid-Level\",\"Mid-Level\",\"Mid-Level\",\"Mid-Level\",\"Mid-Level\",\"Mid-Level\",\"Mid-Level\",\"Mid-Level\",\"Mid-Level\",\"Mid-Level\",\"Mid-Level\",\"Mid-Level\",\"Mid-Level\",\"Mid-Level\",\"Mid-Level\",\"Mid-Level\",\"Mid-Level\",\"Mid-Level\",\"Mid-Level\",\"Mid-Level\",\"Mid-Level\",\"Mid-Level\",\"Mid-Level\",\"Mid-Level\",\"Mid-Level\",\"Mid-Level\",\"Mid-Level\",\"Mid-Level\",\"Mid-Level\",\"Mid-Level\",\"Mid-Level\",\"Mid-Level\",\"Mid-Level\",\"Mid-Level\",\"Mid-Level\",\"Mid-Level\",\"Mid-Level\",\"Mid-Level\",\"Mid-Level\",\"Mid-Level\",\"Mid-Level\",\"Mid-Level\",\"Mid-Level\",\"Mid-Level\",\"Mid-Level\",\"Mid-Level\",\"Mid-Level\",\"Mid-Level\",\"Mid-Level\",\"Mid-Level\",\"Mid-Level\",\"Mid-Level\",\"Mid-Level\",\"Mid-Level\",\"Mid-Level\",\"Mid-Level\",\"Mid-Level\",\"Mid-Level\",\"Mid-Level\",\"Mid-Level\",\"Mid-Level\",\"Mid-Level\",\"Mid-Level\",\"Mid-Level\",\"Mid-Level\",\"Mid-Level\",\"Mid-Level\",\"Mid-Level\",\"Mid-Level\",\"Mid-Level\",\"Mid-Level\",\"Mid-Level\",\"Mid-Level\",\"Mid-Level\",\"Mid-Level\",\"Mid-Level\",\"Mid-Level\",\"Mid-Level\",\"Mid-Level\",\"Mid-Level\",\"Mid-Level\",\"Mid-Level\"],\"x0\":\" \",\"xaxis\":\"x\",\"y\":[79833,20000,35735,135000,40481,87000,85000,8000,56000,43331,6072,98000,115000,59303,450000,46759,74130,103000,45760,50180,106000,112872,76958,105000,70139,38776,118000,138350,110000,130800,62726,42197,100000,5409,270000,140000,54238,47282,28476,110000,19609,89294,450000,95746,75000,36259,62000,73000,51519,187442,45391,50000,40189,200000,60000,151000,9466,38400,90000,63711,77364,135000,82500,100000,62649,90000,150000,75774,119059,423000,28369,150000,170000,82528,2859,40038,5679,22611,90734,26005,12000,4000,74000,18000,147000,61467,37825,160000,12901,20000,24823,56738,66022,90734,88654,46597,116914,33808,56256,88654,180000,110000,63810,46809,80000,110000,72212,12103,115000,93000,200000,130000,16904,25532,93150,111775,28016,112000,69741,69999,109000,51064,130000,90000,170000,150000,106260,126500,65438,39263,78526,52351,115500,167000,58000,54957,54957,124333,98158,120000,87932,117789,98158,58000,52351,71982,45807,65949,49461,78526,58894,63900,160000,112300,241000,159000,82900,49461,39263,43966,32974,87932,76940,104702,91614,65949,87932,43966,32974,98158,78526,76940,78791,120000,37236,18442,31615,58255,54957,135000,50000,183228,91614,200000,120000,100000,75000,35590,153000,32974,87425,75000,64849,157000,70912,48000,68147,122346,69336,20000,135000,78000,85000,75000,141300,102100,206699,99100,65438,45807,160000,130000,200000],\"y0\":\" \",\"yaxis\":\"y\",\"type\":\"box\"},{\"alignmentgroup\":\"True\",\"hovertemplate\":\"Experience Level=%{x}<br>salary in usd=%{y}<extra></extra>\",\"legendgroup\":\"Senior\",\"marker\":{\"color\":\"#A3A500\"},\"name\":\"Senior\",\"notched\":false,\"offsetgroup\":\"Senior\",\"orientation\":\"v\",\"showlegend\":true,\"x\":[\"Senior\",\"Senior\",\"Senior\",\"Senior\",\"Senior\",\"Senior\",\"Senior\",\"Senior\",\"Senior\",\"Senior\",\"Senior\",\"Senior\",\"Senior\",\"Senior\",\"Senior\",\"Senior\",\"Senior\",\"Senior\",\"Senior\",\"Senior\",\"Senior\",\"Senior\",\"Senior\",\"Senior\",\"Senior\",\"Senior\",\"Senior\",\"Senior\",\"Senior\",\"Senior\",\"Senior\",\"Senior\",\"Senior\",\"Senior\",\"Senior\",\"Senior\",\"Senior\",\"Senior\",\"Senior\",\"Senior\",\"Senior\",\"Senior\",\"Senior\",\"Senior\",\"Senior\",\"Senior\",\"Senior\",\"Senior\",\"Senior\",\"Senior\",\"Senior\",\"Senior\",\"Senior\",\"Senior\",\"Senior\",\"Senior\",\"Senior\",\"Senior\",\"Senior\",\"Senior\",\"Senior\",\"Senior\",\"Senior\",\"Senior\",\"Senior\",\"Senior\",\"Senior\",\"Senior\",\"Senior\",\"Senior\",\"Senior\",\"Senior\",\"Senior\",\"Senior\",\"Senior\",\"Senior\",\"Senior\",\"Senior\",\"Senior\",\"Senior\",\"Senior\",\"Senior\",\"Senior\",\"Senior\",\"Senior\",\"Senior\",\"Senior\",\"Senior\",\"Senior\",\"Senior\",\"Senior\",\"Senior\",\"Senior\",\"Senior\",\"Senior\",\"Senior\",\"Senior\",\"Senior\",\"Senior\",\"Senior\",\"Senior\",\"Senior\",\"Senior\",\"Senior\",\"Senior\",\"Senior\",\"Senior\",\"Senior\",\"Senior\",\"Senior\",\"Senior\",\"Senior\",\"Senior\",\"Senior\",\"Senior\",\"Senior\",\"Senior\",\"Senior\",\"Senior\",\"Senior\",\"Senior\",\"Senior\",\"Senior\",\"Senior\",\"Senior\",\"Senior\",\"Senior\",\"Senior\",\"Senior\",\"Senior\",\"Senior\",\"Senior\",\"Senior\",\"Senior\",\"Senior\",\"Senior\",\"Senior\",\"Senior\",\"Senior\",\"Senior\",\"Senior\",\"Senior\",\"Senior\",\"Senior\",\"Senior\",\"Senior\",\"Senior\",\"Senior\",\"Senior\",\"Senior\",\"Senior\",\"Senior\",\"Senior\",\"Senior\",\"Senior\",\"Senior\",\"Senior\",\"Senior\",\"Senior\",\"Senior\",\"Senior\",\"Senior\",\"Senior\",\"Senior\",\"Senior\",\"Senior\",\"Senior\",\"Senior\",\"Senior\",\"Senior\",\"Senior\",\"Senior\",\"Senior\",\"Senior\",\"Senior\",\"Senior\",\"Senior\",\"Senior\",\"Senior\",\"Senior\",\"Senior\",\"Senior\",\"Senior\",\"Senior\",\"Senior\",\"Senior\",\"Senior\",\"Senior\",\"Senior\",\"Senior\",\"Senior\",\"Senior\",\"Senior\",\"Senior\",\"Senior\",\"Senior\",\"Senior\",\"Senior\",\"Senior\",\"Senior\",\"Senior\",\"Senior\",\"Senior\",\"Senior\",\"Senior\",\"Senior\",\"Senior\",\"Senior\",\"Senior\",\"Senior\",\"Senior\",\"Senior\",\"Senior\",\"Senior\",\"Senior\",\"Senior\",\"Senior\",\"Senior\",\"Senior\",\"Senior\",\"Senior\",\"Senior\",\"Senior\",\"Senior\",\"Senior\",\"Senior\",\"Senior\",\"Senior\",\"Senior\",\"Senior\",\"Senior\",\"Senior\",\"Senior\",\"Senior\",\"Senior\",\"Senior\",\"Senior\",\"Senior\",\"Senior\",\"Senior\",\"Senior\",\"Senior\",\"Senior\",\"Senior\",\"Senior\",\"Senior\",\"Senior\",\"Senior\",\"Senior\",\"Senior\",\"Senior\",\"Senior\",\"Senior\",\"Senior\",\"Senior\",\"Senior\",\"Senior\",\"Senior\",\"Senior\",\"Senior\",\"Senior\",\"Senior\",\"Senior\",\"Senior\",\"Senior\",\"Senior\",\"Senior\",\"Senior\",\"Senior\",\"Senior\",\"Senior\",\"Senior\",\"Senior\",\"Senior\",\"Senior\",\"Senior\",\"Senior\",\"Senior\",\"Senior\",\"Senior\"],\"x0\":\" \",\"xaxis\":\"x\",\"y\":[260000,109024,150000,190000,125000,114047,47899,33511,117104,68428,188000,60000,148261,120000,412000,45618,190200,91237,53192,79197,170000,80000,88654,276000,150000,115000,150000,94564,113476,103160,200000,120000,40570,24000,220000,240000,150000,82744,153000,160000,168000,144000,127221,120000,165000,235000,60757,174000,61896,50000,76833,152000,174000,96113,24342,54094,195000,50000,200000,165000,120000,185000,140000,225000,87738,135000,71786,256000,200000,200000,103691,165000,96282,170000,99703,173762,185000,63831,66265,160000,18907,77684,55000,20171,105000,94665,102839,135000,155000,120600,102100,84900,136620,99360,117789,104702,146000,123000,99000,116000,165220,120160,90320,181940,132320,220110,160080,180000,120000,124190,170000,112900,90320,112900,90320,165400,132320,243900,136600,109280,128875,93700,156600,108800,95550,113000,135000,161342,137141,167000,123000,78526,65438,150000,211500,192400,90700,130000,61300,130000,61300,160000,138600,136000,170000,123000,189650,164996,132000,165400,208775,147800,136994,101570,128875,93700,132320,164000,155000,112900,90320,145000,105400,215300,158200,209100,154600,115934,81666,175000,183600,180000,260000,60000,180000,80000,100800,140400,189650,164996,215300,209100,154600,180000,80000,105000,87932,162674,144000,104890,100000,140000,220000,140000,185100,220000,120000,65000,210000,120000,230000,200000,78791,100000,165000,93427,62651,115000,71444,152500,380000,405000,177000,135000,100000,90320,214000,192600,266400,213120,112900,155000,115934,81666,130000,115000,110500,130000,99050,160000,205300,140400,176000,144000,200100,160000,145000,70500,205300,140400,205300,184700,175100,140250,116150,54000,170000,80000,140000,210000,140000,100000,69000,210000,140000,210000,150075,100000,25000,126500,106260,220110,160080,105000,110925,140000,99000,60000,192564,144854,230000,150000,150260,109280,210000,170000,154000,126000,129000,150000],\"y0\":\" \",\"yaxis\":\"y\",\"type\":\"box\"},{\"alignmentgroup\":\"True\",\"hovertemplate\":\"Experience Level=%{x}<br>salary in usd=%{y}<extra></extra>\",\"legendgroup\":\"Entry-Level\",\"marker\":{\"color\":\"#00BF7D\"},\"name\":\"Entry-Level\",\"notched\":false,\"offsetgroup\":\"Entry-Level\",\"orientation\":\"v\",\"showlegend\":true,\"x\":[\"Entry-Level\",\"Entry-Level\",\"Entry-Level\",\"Entry-Level\",\"Entry-Level\",\"Entry-Level\",\"Entry-Level\",\"Entry-Level\",\"Entry-Level\",\"Entry-Level\",\"Entry-Level\",\"Entry-Level\",\"Entry-Level\",\"Entry-Level\",\"Entry-Level\",\"Entry-Level\",\"Entry-Level\",\"Entry-Level\",\"Entry-Level\",\"Entry-Level\",\"Entry-Level\",\"Entry-Level\",\"Entry-Level\",\"Entry-Level\",\"Entry-Level\",\"Entry-Level\",\"Entry-Level\",\"Entry-Level\",\"Entry-Level\",\"Entry-Level\",\"Entry-Level\",\"Entry-Level\",\"Entry-Level\",\"Entry-Level\",\"Entry-Level\",\"Entry-Level\",\"Entry-Level\",\"Entry-Level\",\"Entry-Level\",\"Entry-Level\",\"Entry-Level\",\"Entry-Level\",\"Entry-Level\",\"Entry-Level\",\"Entry-Level\",\"Entry-Level\",\"Entry-Level\",\"Entry-Level\",\"Entry-Level\",\"Entry-Level\",\"Entry-Level\",\"Entry-Level\",\"Entry-Level\",\"Entry-Level\",\"Entry-Level\",\"Entry-Level\",\"Entry-Level\",\"Entry-Level\",\"Entry-Level\",\"Entry-Level\",\"Entry-Level\",\"Entry-Level\",\"Entry-Level\",\"Entry-Level\",\"Entry-Level\",\"Entry-Level\",\"Entry-Level\",\"Entry-Level\",\"Entry-Level\",\"Entry-Level\",\"Entry-Level\",\"Entry-Level\",\"Entry-Level\",\"Entry-Level\",\"Entry-Level\",\"Entry-Level\",\"Entry-Level\",\"Entry-Level\",\"Entry-Level\",\"Entry-Level\",\"Entry-Level\",\"Entry-Level\",\"Entry-Level\",\"Entry-Level\",\"Entry-Level\",\"Entry-Level\",\"Entry-Level\",\"Entry-Level\"],\"x0\":\" \",\"xaxis\":\"x\",\"y\":[72000,51321,39916,41689,5707,42000,100000,70000,250000,10000,138000,15966,6072,91000,45896,54742,21669,62726,49268,105000,82528,80000,59102,76833,29751,12000,70000,30428,12000,225000,90000,50000,110037,10354,20000,100000,49646,100000,80000,13400,125000,63831,80000,55000,60000,81000,21844,9272,90000,5882,24823,28609,16228,4000,21637,18053,36643,90000,28399,65013,72500,76833,85000,100000,58000,59102,100000,52351,45807,37300,21983,125000,100000,18442,120000,100000,31875,58035,52396,40000,86703,120000,150000,65000,20000,10000,67000,52000],\"y0\":\" \",\"yaxis\":\"y\",\"type\":\"box\"},{\"alignmentgroup\":\"True\",\"hovertemplate\":\"Experience Level=%{x}<br>salary in usd=%{y}<extra></extra>\",\"legendgroup\":\"Executive Level\",\"marker\":{\"color\":\"#00B0F6\"},\"name\":\"Executive Level\",\"notched\":false,\"offsetgroup\":\"Executive Level\",\"orientation\":\"v\",\"showlegend\":true,\"x\":[\"Executive Level\",\"Executive Level\",\"Executive Level\",\"Executive Level\",\"Executive Level\",\"Executive Level\",\"Executive Level\",\"Executive Level\",\"Executive Level\",\"Executive Level\",\"Executive Level\",\"Executive Level\",\"Executive Level\",\"Executive Level\",\"Executive Level\",\"Executive Level\",\"Executive Level\",\"Executive Level\",\"Executive Level\",\"Executive Level\",\"Executive Level\",\"Executive Level\",\"Executive Level\",\"Executive Level\",\"Executive Level\",\"Executive Level\"],\"x0\":\" \",\"xaxis\":\"x\",\"y\":[325000,79833,150000,235000,153667,230000,85000,130026,250000,69741,416000,600000,141846,242000,200000,130000,110000,224000,167875,175000,135000,118187,79039,196979,324000,216000],\"y0\":\" \",\"yaxis\":\"y\",\"type\":\"box\"}],                        {\"template\":{\"data\":{\"barpolar\":[{\"marker\":{\"line\":{\"color\":\"rgb(237,237,237)\",\"width\":0.5},\"pattern\":{\"fillmode\":\"overlay\",\"size\":10,\"solidity\":0.2}},\"type\":\"barpolar\"}],\"bar\":[{\"error_x\":{\"color\":\"rgb(51,51,51)\"},\"error_y\":{\"color\":\"rgb(51,51,51)\"},\"marker\":{\"line\":{\"color\":\"rgb(237,237,237)\",\"width\":0.5},\"pattern\":{\"fillmode\":\"overlay\",\"size\":10,\"solidity\":0.2}},\"type\":\"bar\"}],\"carpet\":[{\"aaxis\":{\"endlinecolor\":\"rgb(51,51,51)\",\"gridcolor\":\"white\",\"linecolor\":\"white\",\"minorgridcolor\":\"white\",\"startlinecolor\":\"rgb(51,51,51)\"},\"baxis\":{\"endlinecolor\":\"rgb(51,51,51)\",\"gridcolor\":\"white\",\"linecolor\":\"white\",\"minorgridcolor\":\"white\",\"startlinecolor\":\"rgb(51,51,51)\"},\"type\":\"carpet\"}],\"choropleth\":[{\"colorbar\":{\"outlinewidth\":0,\"tickcolor\":\"rgb(237,237,237)\",\"ticklen\":6,\"ticks\":\"inside\"},\"type\":\"choropleth\"}],\"contourcarpet\":[{\"colorbar\":{\"outlinewidth\":0,\"tickcolor\":\"rgb(237,237,237)\",\"ticklen\":6,\"ticks\":\"inside\"},\"type\":\"contourcarpet\"}],\"contour\":[{\"colorbar\":{\"outlinewidth\":0,\"tickcolor\":\"rgb(237,237,237)\",\"ticklen\":6,\"ticks\":\"inside\"},\"colorscale\":[[0,\"rgb(20,44,66)\"],[1,\"rgb(90,179,244)\"]],\"type\":\"contour\"}],\"heatmapgl\":[{\"colorbar\":{\"outlinewidth\":0,\"tickcolor\":\"rgb(237,237,237)\",\"ticklen\":6,\"ticks\":\"inside\"},\"colorscale\":[[0,\"rgb(20,44,66)\"],[1,\"rgb(90,179,244)\"]],\"type\":\"heatmapgl\"}],\"heatmap\":[{\"colorbar\":{\"outlinewidth\":0,\"tickcolor\":\"rgb(237,237,237)\",\"ticklen\":6,\"ticks\":\"inside\"},\"colorscale\":[[0,\"rgb(20,44,66)\"],[1,\"rgb(90,179,244)\"]],\"type\":\"heatmap\"}],\"histogram2dcontour\":[{\"colorbar\":{\"outlinewidth\":0,\"tickcolor\":\"rgb(237,237,237)\",\"ticklen\":6,\"ticks\":\"inside\"},\"colorscale\":[[0,\"rgb(20,44,66)\"],[1,\"rgb(90,179,244)\"]],\"type\":\"histogram2dcontour\"}],\"histogram2d\":[{\"colorbar\":{\"outlinewidth\":0,\"tickcolor\":\"rgb(237,237,237)\",\"ticklen\":6,\"ticks\":\"inside\"},\"colorscale\":[[0,\"rgb(20,44,66)\"],[1,\"rgb(90,179,244)\"]],\"type\":\"histogram2d\"}],\"histogram\":[{\"marker\":{\"pattern\":{\"fillmode\":\"overlay\",\"size\":10,\"solidity\":0.2}},\"type\":\"histogram\"}],\"mesh3d\":[{\"colorbar\":{\"outlinewidth\":0,\"tickcolor\":\"rgb(237,237,237)\",\"ticklen\":6,\"ticks\":\"inside\"},\"type\":\"mesh3d\"}],\"parcoords\":[{\"line\":{\"colorbar\":{\"outlinewidth\":0,\"tickcolor\":\"rgb(237,237,237)\",\"ticklen\":6,\"ticks\":\"inside\"}},\"type\":\"parcoords\"}],\"pie\":[{\"automargin\":true,\"type\":\"pie\"}],\"scatter3d\":[{\"line\":{\"colorbar\":{\"outlinewidth\":0,\"tickcolor\":\"rgb(237,237,237)\",\"ticklen\":6,\"ticks\":\"inside\"}},\"marker\":{\"colorbar\":{\"outlinewidth\":0,\"tickcolor\":\"rgb(237,237,237)\",\"ticklen\":6,\"ticks\":\"inside\"}},\"type\":\"scatter3d\"}],\"scattercarpet\":[{\"marker\":{\"colorbar\":{\"outlinewidth\":0,\"tickcolor\":\"rgb(237,237,237)\",\"ticklen\":6,\"ticks\":\"inside\"}},\"type\":\"scattercarpet\"}],\"scattergeo\":[{\"marker\":{\"colorbar\":{\"outlinewidth\":0,\"tickcolor\":\"rgb(237,237,237)\",\"ticklen\":6,\"ticks\":\"inside\"}},\"type\":\"scattergeo\"}],\"scattergl\":[{\"marker\":{\"colorbar\":{\"outlinewidth\":0,\"tickcolor\":\"rgb(237,237,237)\",\"ticklen\":6,\"ticks\":\"inside\"}},\"type\":\"scattergl\"}],\"scattermapbox\":[{\"marker\":{\"colorbar\":{\"outlinewidth\":0,\"tickcolor\":\"rgb(237,237,237)\",\"ticklen\":6,\"ticks\":\"inside\"}},\"type\":\"scattermapbox\"}],\"scatterpolargl\":[{\"marker\":{\"colorbar\":{\"outlinewidth\":0,\"tickcolor\":\"rgb(237,237,237)\",\"ticklen\":6,\"ticks\":\"inside\"}},\"type\":\"scatterpolargl\"}],\"scatterpolar\":[{\"marker\":{\"colorbar\":{\"outlinewidth\":0,\"tickcolor\":\"rgb(237,237,237)\",\"ticklen\":6,\"ticks\":\"inside\"}},\"type\":\"scatterpolar\"}],\"scatter\":[{\"fillpattern\":{\"fillmode\":\"overlay\",\"size\":10,\"solidity\":0.2},\"type\":\"scatter\"}],\"scatterternary\":[{\"marker\":{\"colorbar\":{\"outlinewidth\":0,\"tickcolor\":\"rgb(237,237,237)\",\"ticklen\":6,\"ticks\":\"inside\"}},\"type\":\"scatterternary\"}],\"surface\":[{\"colorbar\":{\"outlinewidth\":0,\"tickcolor\":\"rgb(237,237,237)\",\"ticklen\":6,\"ticks\":\"inside\"},\"colorscale\":[[0,\"rgb(20,44,66)\"],[1,\"rgb(90,179,244)\"]],\"type\":\"surface\"}],\"table\":[{\"cells\":{\"fill\":{\"color\":\"rgb(237,237,237)\"},\"line\":{\"color\":\"white\"}},\"header\":{\"fill\":{\"color\":\"rgb(217,217,217)\"},\"line\":{\"color\":\"white\"}},\"type\":\"table\"}]},\"layout\":{\"annotationdefaults\":{\"arrowhead\":0,\"arrowwidth\":1},\"autotypenumbers\":\"strict\",\"coloraxis\":{\"colorbar\":{\"outlinewidth\":0,\"tickcolor\":\"rgb(237,237,237)\",\"ticklen\":6,\"ticks\":\"inside\"}},\"colorscale\":{\"sequential\":[[0,\"rgb(20,44,66)\"],[1,\"rgb(90,179,244)\"]],\"sequentialminus\":[[0,\"rgb(20,44,66)\"],[1,\"rgb(90,179,244)\"]]},\"colorway\":[\"#F8766D\",\"#A3A500\",\"#00BF7D\",\"#00B0F6\",\"#E76BF3\"],\"font\":{\"color\":\"rgb(51,51,51)\"},\"geo\":{\"bgcolor\":\"white\",\"lakecolor\":\"white\",\"landcolor\":\"rgb(237,237,237)\",\"showlakes\":true,\"showland\":true,\"subunitcolor\":\"white\"},\"hoverlabel\":{\"align\":\"left\"},\"hovermode\":\"closest\",\"paper_bgcolor\":\"white\",\"plot_bgcolor\":\"rgb(237,237,237)\",\"polar\":{\"angularaxis\":{\"gridcolor\":\"white\",\"linecolor\":\"white\",\"showgrid\":true,\"tickcolor\":\"rgb(51,51,51)\",\"ticks\":\"outside\"},\"bgcolor\":\"rgb(237,237,237)\",\"radialaxis\":{\"gridcolor\":\"white\",\"linecolor\":\"white\",\"showgrid\":true,\"tickcolor\":\"rgb(51,51,51)\",\"ticks\":\"outside\"}},\"scene\":{\"xaxis\":{\"backgroundcolor\":\"rgb(237,237,237)\",\"gridcolor\":\"white\",\"gridwidth\":2,\"linecolor\":\"white\",\"showbackground\":true,\"showgrid\":true,\"tickcolor\":\"rgb(51,51,51)\",\"ticks\":\"outside\",\"zerolinecolor\":\"white\"},\"yaxis\":{\"backgroundcolor\":\"rgb(237,237,237)\",\"gridcolor\":\"white\",\"gridwidth\":2,\"linecolor\":\"white\",\"showbackground\":true,\"showgrid\":true,\"tickcolor\":\"rgb(51,51,51)\",\"ticks\":\"outside\",\"zerolinecolor\":\"white\"},\"zaxis\":{\"backgroundcolor\":\"rgb(237,237,237)\",\"gridcolor\":\"white\",\"gridwidth\":2,\"linecolor\":\"white\",\"showbackground\":true,\"showgrid\":true,\"tickcolor\":\"rgb(51,51,51)\",\"ticks\":\"outside\",\"zerolinecolor\":\"white\"}},\"shapedefaults\":{\"fillcolor\":\"black\",\"line\":{\"width\":0},\"opacity\":0.3},\"ternary\":{\"aaxis\":{\"gridcolor\":\"white\",\"linecolor\":\"white\",\"showgrid\":true,\"tickcolor\":\"rgb(51,51,51)\",\"ticks\":\"outside\"},\"baxis\":{\"gridcolor\":\"white\",\"linecolor\":\"white\",\"showgrid\":true,\"tickcolor\":\"rgb(51,51,51)\",\"ticks\":\"outside\"},\"bgcolor\":\"rgb(237,237,237)\",\"caxis\":{\"gridcolor\":\"white\",\"linecolor\":\"white\",\"showgrid\":true,\"tickcolor\":\"rgb(51,51,51)\",\"ticks\":\"outside\"}},\"xaxis\":{\"automargin\":true,\"gridcolor\":\"white\",\"linecolor\":\"white\",\"showgrid\":true,\"tickcolor\":\"rgb(51,51,51)\",\"ticks\":\"outside\",\"title\":{\"standoff\":15},\"zerolinecolor\":\"white\"},\"yaxis\":{\"automargin\":true,\"gridcolor\":\"white\",\"linecolor\":\"white\",\"showgrid\":true,\"tickcolor\":\"rgb(51,51,51)\",\"ticks\":\"outside\",\"title\":{\"standoff\":15},\"zerolinecolor\":\"white\"}}},\"xaxis\":{\"anchor\":\"y\",\"domain\":[0.0,1.0],\"title\":{\"text\":\"Experience Level\"},\"categoryorder\":\"array\",\"categoryarray\":[\"Mid-Level\",\"Senior\",\"Entry-Level\",\"Executive Level\"]},\"yaxis\":{\"anchor\":\"x\",\"domain\":[0.0,1.0],\"title\":{\"text\":\"salary in usd\"}},\"legend\":{\"title\":{\"text\":\"Experience Level\"},\"tracegroupgap\":0},\"title\":{\"text\":\"<b>Data Sceince Salaries by Experience\"},\"boxmode\":\"overlay\"},                        {\"responsive\": true}                    ).then(function(){\n",
       "                            \n",
       "var gd = document.getElementById('59f90e26-fbc9-456c-a1fe-b0cbaa66cbf2');\n",
       "var x = new MutationObserver(function (mutations, observer) {{\n",
       "        var display = window.getComputedStyle(gd).display;\n",
       "        if (!display || display === 'none') {{\n",
       "            console.log([gd, 'removed!']);\n",
       "            Plotly.purge(gd);\n",
       "            observer.disconnect();\n",
       "        }}\n",
       "}});\n",
       "\n",
       "// Listen for the removal of the full notebook cells\n",
       "var notebookContainer = gd.closest('#notebook-container');\n",
       "if (notebookContainer) {{\n",
       "    x.observe(notebookContainer, {childList: true});\n",
       "}}\n",
       "\n",
       "// Listen for the clearing of the current output cell\n",
       "var outputEl = gd.closest('.output');\n",
       "if (outputEl) {{\n",
       "    x.observe(outputEl, {childList: true});\n",
       "}}\n",
       "\n",
       "                        })                };                });            </script>        </div>"
      ]
     },
     "metadata": {},
     "output_type": "display_data"
    }
   ],
   "source": [
    "px.box(df,x='experience_level',y='salary_in_usd',color='experience_level',template='ggplot2',labels={'experience_level':'Experience Level','salary_in_usd':'salary in usd'},title='<b>Data Sceince Salaries by Experience')"
   ]
  },
  {
   "cell_type": "code",
   "execution_count": 22,
   "id": "74a48062",
   "metadata": {
    "execution": {
     "iopub.execute_input": "2022-09-20T17:48:42.539571Z",
     "iopub.status.busy": "2022-09-20T17:48:42.538792Z",
     "iopub.status.idle": "2022-09-20T17:48:42.617172Z",
     "shell.execute_reply": "2022-09-20T17:48:42.616110Z"
    },
    "papermill": {
     "duration": 0.095737,
     "end_time": "2022-09-20T17:48:42.620135",
     "exception": false,
     "start_time": "2022-09-20T17:48:42.524398",
     "status": "completed"
    },
    "tags": []
   },
   "outputs": [
    {
     "data": {
      "text/html": [
       "<div>                            <div id=\"2d9fac76-319d-4b5a-afd2-54169c869a5b\" class=\"plotly-graph-div\" style=\"height:525px; width:100%;\"></div>            <script type=\"text/javascript\">                require([\"plotly\"], function(Plotly) {                    window.PLOTLYENV=window.PLOTLYENV || {};                                    if (document.getElementById(\"2d9fac76-319d-4b5a-afd2-54169c869a5b\")) {                    Plotly.newPlot(                        \"2d9fac76-319d-4b5a-afd2-54169c869a5b\",                        [{\"alignmentgroup\":\"True\",\"hovertemplate\":\"Employment Type=%{x}<br>salary in usd=%{y}<extra></extra>\",\"legendgroup\":\"Full-Time\",\"marker\":{\"color\":\"rgb(76,114,176)\"},\"name\":\"Full-Time\",\"notched\":false,\"offsetgroup\":\"Full-Time\",\"orientation\":\"v\",\"showlegend\":true,\"x\":[\"Full-Time\",\"Full-Time\",\"Full-Time\",\"Full-Time\",\"Full-Time\",\"Full-Time\",\"Full-Time\",\"Full-Time\",\"Full-Time\",\"Full-Time\",\"Full-Time\",\"Full-Time\",\"Full-Time\",\"Full-Time\",\"Full-Time\",\"Full-Time\",\"Full-Time\",\"Full-Time\",\"Full-Time\",\"Full-Time\",\"Full-Time\",\"Full-Time\",\"Full-Time\",\"Full-Time\",\"Full-Time\",\"Full-Time\",\"Full-Time\",\"Full-Time\",\"Full-Time\",\"Full-Time\",\"Full-Time\",\"Full-Time\",\"Full-Time\",\"Full-Time\",\"Full-Time\",\"Full-Time\",\"Full-Time\",\"Full-Time\",\"Full-Time\",\"Full-Time\",\"Full-Time\",\"Full-Time\",\"Full-Time\",\"Full-Time\",\"Full-Time\",\"Full-Time\",\"Full-Time\",\"Full-Time\",\"Full-Time\",\"Full-Time\",\"Full-Time\",\"Full-Time\",\"Full-Time\",\"Full-Time\",\"Full-Time\",\"Full-Time\",\"Full-Time\",\"Full-Time\",\"Full-Time\",\"Full-Time\",\"Full-Time\",\"Full-Time\",\"Full-Time\",\"Full-Time\",\"Full-Time\",\"Full-Time\",\"Full-Time\",\"Full-Time\",\"Full-Time\",\"Full-Time\",\"Full-Time\",\"Full-Time\",\"Full-Time\",\"Full-Time\",\"Full-Time\",\"Full-Time\",\"Full-Time\",\"Full-Time\",\"Full-Time\",\"Full-Time\",\"Full-Time\",\"Full-Time\",\"Full-Time\",\"Full-Time\",\"Full-Time\",\"Full-Time\",\"Full-Time\",\"Full-Time\",\"Full-Time\",\"Full-Time\",\"Full-Time\",\"Full-Time\",\"Full-Time\",\"Full-Time\",\"Full-Time\",\"Full-Time\",\"Full-Time\",\"Full-Time\",\"Full-Time\",\"Full-Time\",\"Full-Time\",\"Full-Time\",\"Full-Time\",\"Full-Time\",\"Full-Time\",\"Full-Time\",\"Full-Time\",\"Full-Time\",\"Full-Time\",\"Full-Time\",\"Full-Time\",\"Full-Time\",\"Full-Time\",\"Full-Time\",\"Full-Time\",\"Full-Time\",\"Full-Time\",\"Full-Time\",\"Full-Time\",\"Full-Time\",\"Full-Time\",\"Full-Time\",\"Full-Time\",\"Full-Time\",\"Full-Time\",\"Full-Time\",\"Full-Time\",\"Full-Time\",\"Full-Time\",\"Full-Time\",\"Full-Time\",\"Full-Time\",\"Full-Time\",\"Full-Time\",\"Full-Time\",\"Full-Time\",\"Full-Time\",\"Full-Time\",\"Full-Time\",\"Full-Time\",\"Full-Time\",\"Full-Time\",\"Full-Time\",\"Full-Time\",\"Full-Time\",\"Full-Time\",\"Full-Time\",\"Full-Time\",\"Full-Time\",\"Full-Time\",\"Full-Time\",\"Full-Time\",\"Full-Time\",\"Full-Time\",\"Full-Time\",\"Full-Time\",\"Full-Time\",\"Full-Time\",\"Full-Time\",\"Full-Time\",\"Full-Time\",\"Full-Time\",\"Full-Time\",\"Full-Time\",\"Full-Time\",\"Full-Time\",\"Full-Time\",\"Full-Time\",\"Full-Time\",\"Full-Time\",\"Full-Time\",\"Full-Time\",\"Full-Time\",\"Full-Time\",\"Full-Time\",\"Full-Time\",\"Full-Time\",\"Full-Time\",\"Full-Time\",\"Full-Time\",\"Full-Time\",\"Full-Time\",\"Full-Time\",\"Full-Time\",\"Full-Time\",\"Full-Time\",\"Full-Time\",\"Full-Time\",\"Full-Time\",\"Full-Time\",\"Full-Time\",\"Full-Time\",\"Full-Time\",\"Full-Time\",\"Full-Time\",\"Full-Time\",\"Full-Time\",\"Full-Time\",\"Full-Time\",\"Full-Time\",\"Full-Time\",\"Full-Time\",\"Full-Time\",\"Full-Time\",\"Full-Time\",\"Full-Time\",\"Full-Time\",\"Full-Time\",\"Full-Time\",\"Full-Time\",\"Full-Time\",\"Full-Time\",\"Full-Time\",\"Full-Time\",\"Full-Time\",\"Full-Time\",\"Full-Time\",\"Full-Time\",\"Full-Time\",\"Full-Time\",\"Full-Time\",\"Full-Time\",\"Full-Time\",\"Full-Time\",\"Full-Time\",\"Full-Time\",\"Full-Time\",\"Full-Time\",\"Full-Time\",\"Full-Time\",\"Full-Time\",\"Full-Time\",\"Full-Time\",\"Full-Time\",\"Full-Time\",\"Full-Time\",\"Full-Time\",\"Full-Time\",\"Full-Time\",\"Full-Time\",\"Full-Time\",\"Full-Time\",\"Full-Time\",\"Full-Time\",\"Full-Time\",\"Full-Time\",\"Full-Time\",\"Full-Time\",\"Full-Time\",\"Full-Time\",\"Full-Time\",\"Full-Time\",\"Full-Time\",\"Full-Time\",\"Full-Time\",\"Full-Time\",\"Full-Time\",\"Full-Time\",\"Full-Time\",\"Full-Time\",\"Full-Time\",\"Full-Time\",\"Full-Time\",\"Full-Time\",\"Full-Time\",\"Full-Time\",\"Full-Time\",\"Full-Time\",\"Full-Time\",\"Full-Time\",\"Full-Time\",\"Full-Time\",\"Full-Time\",\"Full-Time\",\"Full-Time\",\"Full-Time\",\"Full-Time\",\"Full-Time\",\"Full-Time\",\"Full-Time\",\"Full-Time\",\"Full-Time\",\"Full-Time\",\"Full-Time\",\"Full-Time\",\"Full-Time\",\"Full-Time\",\"Full-Time\",\"Full-Time\",\"Full-Time\",\"Full-Time\",\"Full-Time\",\"Full-Time\",\"Full-Time\",\"Full-Time\",\"Full-Time\",\"Full-Time\",\"Full-Time\",\"Full-Time\",\"Full-Time\",\"Full-Time\",\"Full-Time\",\"Full-Time\",\"Full-Time\",\"Full-Time\",\"Full-Time\",\"Full-Time\",\"Full-Time\",\"Full-Time\",\"Full-Time\",\"Full-Time\",\"Full-Time\",\"Full-Time\",\"Full-Time\",\"Full-Time\",\"Full-Time\",\"Full-Time\",\"Full-Time\",\"Full-Time\",\"Full-Time\",\"Full-Time\",\"Full-Time\",\"Full-Time\",\"Full-Time\",\"Full-Time\",\"Full-Time\",\"Full-Time\",\"Full-Time\",\"Full-Time\",\"Full-Time\",\"Full-Time\",\"Full-Time\",\"Full-Time\",\"Full-Time\",\"Full-Time\",\"Full-Time\",\"Full-Time\",\"Full-Time\",\"Full-Time\",\"Full-Time\",\"Full-Time\",\"Full-Time\",\"Full-Time\",\"Full-Time\",\"Full-Time\",\"Full-Time\",\"Full-Time\",\"Full-Time\",\"Full-Time\",\"Full-Time\",\"Full-Time\",\"Full-Time\",\"Full-Time\",\"Full-Time\",\"Full-Time\",\"Full-Time\",\"Full-Time\",\"Full-Time\",\"Full-Time\",\"Full-Time\",\"Full-Time\",\"Full-Time\",\"Full-Time\",\"Full-Time\",\"Full-Time\",\"Full-Time\",\"Full-Time\",\"Full-Time\",\"Full-Time\",\"Full-Time\",\"Full-Time\",\"Full-Time\",\"Full-Time\",\"Full-Time\",\"Full-Time\",\"Full-Time\",\"Full-Time\",\"Full-Time\",\"Full-Time\",\"Full-Time\",\"Full-Time\",\"Full-Time\",\"Full-Time\",\"Full-Time\",\"Full-Time\",\"Full-Time\",\"Full-Time\",\"Full-Time\",\"Full-Time\",\"Full-Time\",\"Full-Time\",\"Full-Time\",\"Full-Time\",\"Full-Time\",\"Full-Time\",\"Full-Time\",\"Full-Time\",\"Full-Time\",\"Full-Time\",\"Full-Time\",\"Full-Time\",\"Full-Time\",\"Full-Time\",\"Full-Time\",\"Full-Time\",\"Full-Time\",\"Full-Time\",\"Full-Time\",\"Full-Time\",\"Full-Time\",\"Full-Time\",\"Full-Time\",\"Full-Time\",\"Full-Time\",\"Full-Time\",\"Full-Time\",\"Full-Time\",\"Full-Time\",\"Full-Time\",\"Full-Time\",\"Full-Time\",\"Full-Time\",\"Full-Time\",\"Full-Time\",\"Full-Time\",\"Full-Time\",\"Full-Time\",\"Full-Time\",\"Full-Time\",\"Full-Time\",\"Full-Time\",\"Full-Time\",\"Full-Time\",\"Full-Time\",\"Full-Time\",\"Full-Time\",\"Full-Time\",\"Full-Time\",\"Full-Time\",\"Full-Time\",\"Full-Time\",\"Full-Time\",\"Full-Time\",\"Full-Time\",\"Full-Time\",\"Full-Time\",\"Full-Time\",\"Full-Time\",\"Full-Time\",\"Full-Time\",\"Full-Time\",\"Full-Time\",\"Full-Time\",\"Full-Time\",\"Full-Time\",\"Full-Time\",\"Full-Time\",\"Full-Time\",\"Full-Time\",\"Full-Time\",\"Full-Time\",\"Full-Time\",\"Full-Time\",\"Full-Time\",\"Full-Time\",\"Full-Time\",\"Full-Time\",\"Full-Time\",\"Full-Time\",\"Full-Time\",\"Full-Time\",\"Full-Time\",\"Full-Time\",\"Full-Time\",\"Full-Time\",\"Full-Time\",\"Full-Time\",\"Full-Time\",\"Full-Time\",\"Full-Time\",\"Full-Time\",\"Full-Time\",\"Full-Time\",\"Full-Time\",\"Full-Time\",\"Full-Time\",\"Full-Time\",\"Full-Time\",\"Full-Time\",\"Full-Time\",\"Full-Time\",\"Full-Time\",\"Full-Time\",\"Full-Time\",\"Full-Time\",\"Full-Time\",\"Full-Time\",\"Full-Time\",\"Full-Time\",\"Full-Time\",\"Full-Time\",\"Full-Time\",\"Full-Time\",\"Full-Time\",\"Full-Time\",\"Full-Time\",\"Full-Time\",\"Full-Time\",\"Full-Time\",\"Full-Time\",\"Full-Time\",\"Full-Time\",\"Full-Time\",\"Full-Time\",\"Full-Time\",\"Full-Time\",\"Full-Time\",\"Full-Time\",\"Full-Time\",\"Full-Time\",\"Full-Time\",\"Full-Time\",\"Full-Time\",\"Full-Time\",\"Full-Time\",\"Full-Time\",\"Full-Time\",\"Full-Time\",\"Full-Time\",\"Full-Time\",\"Full-Time\",\"Full-Time\",\"Full-Time\",\"Full-Time\",\"Full-Time\",\"Full-Time\",\"Full-Time\",\"Full-Time\",\"Full-Time\",\"Full-Time\",\"Full-Time\",\"Full-Time\",\"Full-Time\",\"Full-Time\",\"Full-Time\",\"Full-Time\",\"Full-Time\",\"Full-Time\",\"Full-Time\",\"Full-Time\",\"Full-Time\",\"Full-Time\",\"Full-Time\",\"Full-Time\",\"Full-Time\",\"Full-Time\",\"Full-Time\",\"Full-Time\",\"Full-Time\",\"Full-Time\",\"Full-Time\",\"Full-Time\",\"Full-Time\",\"Full-Time\",\"Full-Time\",\"Full-Time\",\"Full-Time\",\"Full-Time\",\"Full-Time\",\"Full-Time\",\"Full-Time\",\"Full-Time\",\"Full-Time\",\"Full-Time\",\"Full-Time\",\"Full-Time\",\"Full-Time\",\"Full-Time\",\"Full-Time\",\"Full-Time\",\"Full-Time\",\"Full-Time\",\"Full-Time\",\"Full-Time\",\"Full-Time\",\"Full-Time\",\"Full-Time\",\"Full-Time\"],\"x0\":\" \",\"xaxis\":\"x\",\"y\":[79833,260000,109024,20000,150000,72000,190000,35735,135000,125000,51321,40481,39916,87000,85000,8000,41689,114047,5707,56000,43331,6072,47899,98000,115000,325000,42000,33511,117104,59303,70000,68428,450000,46759,74130,103000,250000,10000,138000,45760,79833,50180,106000,112872,76958,188000,105000,70139,6072,91000,45896,54742,148261,38776,118000,120000,138350,110000,130800,412000,45618,62726,49268,190200,105000,91237,62726,42197,82528,150000,235000,53192,100000,80000,79197,140000,54238,47282,153667,28476,59102,110000,170000,80000,88654,76833,19609,276000,29751,89294,450000,70000,95746,75000,150000,36259,62000,73000,51519,187442,115000,150000,30428,94564,113476,103160,45391,225000,50000,40189,90000,200000,60000,200000,50000,110037,151000,120000,9466,20000,40570,100000,49646,38400,24000,100000,90000,63711,77364,220000,80000,135000,240000,150000,82500,100000,82744,62649,90000,153000,160000,168000,150000,75774,13400,144000,127221,119059,423000,120000,125000,230000,85000,28369,63831,130026,165000,80000,250000,55000,150000,170000,82528,60000,235000,60757,174000,2859,40038,81000,5679,22611,90734,26005,61896,4000,50000,69741,76833,74000,152000,21844,18000,174000,96113,147000,9272,24342,54094,90000,61467,195000,37825,50000,160000,12901,200000,165000,120000,24823,56738,66022,5882,24823,185000,90734,88654,140000,46597,116914,33808,56256,225000,87738,88654,135000,71786,16228,256000,200000,200000,180000,110000,63810,46809,4000,21637,103691,80000,110000,165000,18053,72212,36643,12103,96282,170000,115000,90000,600000,28399,93000,99703,200000,173762,185000,141846,130000,63831,16904,66265,25532,160000,93150,111775,28016,65013,72500,18907,76833,85000,77684,100000,58000,55000,20171,59102,112000,100000,69999,94665,102839,109000,51064,135000,155000,120600,130000,90000,170000,150000,102100,84900,136620,99360,117789,104702,146000,123000,52351,99000,116000,106260,126500,242000,200000,65438,39263,78526,52351,165220,45807,120160,90320,181940,132320,220110,160080,180000,120000,124190,130000,110000,170000,115500,112900,90320,112900,90320,165400,132320,167000,243900,136600,109280,128875,93700,224000,167875,175000,156600,108800,95550,113000,135000,161342,137141,167000,123000,78526,65438,150000,211500,192400,90700,130000,61300,130000,61300,160000,138600,136000,58000,135000,170000,123000,189650,164996,54957,54957,118187,132000,165400,208775,147800,136994,101570,128875,93700,79039,132320,37300,164000,155000,124333,98158,120000,112900,90320,145000,105400,87932,117789,215300,158200,209100,154600,115934,81666,175000,98158,58000,183600,52351,180000,71982,45807,65949,49461,78526,58894,260000,60000,63900,160000,112300,241000,159000,180000,80000,82900,100800,49461,140400,39263,43966,32974,87932,76940,104702,91614,65949,87932,189650,164996,43966,32974,98158,78526,215300,76940,209100,154600,180000,21983,80000,78791,196979,120000,125000,37236,105000,87932,18442,31615,58255,100000,18442,162674,120000,144000,104890,100000,140000,135000,50000,220000,140000,183228,91614,185100,220000,200000,120000,120000,65000,324000,216000,210000,120000,230000,200000,75000,35590,78791,100000,153000,58035,165000,93427,52396,62651,32974,40000,87425,115000,86703,75000,64849,120000,157000,150000,70912,65000,71444,20000,48000,152500,68147,122346,380000,69336,10000,20000,405000,135000,177000,78000,135000,100000,90320,85000,75000,214000,192600,266400,213120,112900,155000,141300,102100,115934,81666,206699,99100,130000,115000,110500,130000,99050,160000,205300,140400,176000,144000,200100,160000,145000,70500,205300,140400,205300,184700,175100,140250,116150,54000,170000,65438,80000,140000,210000,140000,100000,69000,210000,140000,210000,150075,100000,25000,126500,106260,220110,160080,105000,110925,45807,140000,99000,60000,192564,144854,230000,150000,150260,109280,210000,170000,160000,130000,67000,52000,154000,126000,129000,150000,200000],\"y0\":\" \",\"yaxis\":\"y\",\"type\":\"box\"},{\"alignmentgroup\":\"True\",\"hovertemplate\":\"Employment Type=%{x}<br>salary in usd=%{y}<extra></extra>\",\"legendgroup\":\"Contract\",\"marker\":{\"color\":\"rgb(221,132,82)\"},\"name\":\"Contract\",\"notched\":false,\"offsetgroup\":\"Contract\",\"orientation\":\"v\",\"showlegend\":true,\"x\":[\"Contract\",\"Contract\",\"Contract\",\"Contract\",\"Contract\"],\"x0\":\" \",\"xaxis\":\"x\",\"y\":[100000,270000,416000,105000,31875],\"y0\":\" \",\"yaxis\":\"y\",\"type\":\"box\"},{\"alignmentgroup\":\"True\",\"hovertemplate\":\"Employment Type=%{x}<br>salary in usd=%{y}<extra></extra>\",\"legendgroup\":\"Part-Time\",\"marker\":{\"color\":\"rgb(85,168,104)\"},\"name\":\"Part-Time\",\"notched\":false,\"offsetgroup\":\"Part-Time\",\"orientation\":\"v\",\"showlegend\":true,\"x\":[\"Part-Time\",\"Part-Time\",\"Part-Time\",\"Part-Time\",\"Part-Time\",\"Part-Time\",\"Part-Time\",\"Part-Time\",\"Part-Time\",\"Part-Time\"],\"x0\":\" \",\"xaxis\":\"x\",\"y\":[15966,21669,5409,12000,12000,10354,28609,69741,54957,100000],\"y0\":\" \",\"yaxis\":\"y\",\"type\":\"box\"},{\"alignmentgroup\":\"True\",\"hovertemplate\":\"Employment Type=%{x}<br>salary in usd=%{y}<extra></extra>\",\"legendgroup\":\"Freelance\",\"marker\":{\"color\":\"rgb(196,78,82)\"},\"name\":\"Freelance\",\"notched\":false,\"offsetgroup\":\"Freelance\",\"orientation\":\"v\",\"showlegend\":true,\"x\":[\"Freelance\",\"Freelance\",\"Freelance\",\"Freelance\"],\"x0\":\" \",\"xaxis\":\"x\",\"y\":[60000,12000,20000,100000],\"y0\":\" \",\"yaxis\":\"y\",\"type\":\"box\"}],                        {\"template\":{\"data\":{\"barpolar\":[{\"marker\":{\"line\":{\"color\":\"rgb(234,234,242)\",\"width\":0.5},\"pattern\":{\"fillmode\":\"overlay\",\"size\":10,\"solidity\":0.2}},\"type\":\"barpolar\"}],\"bar\":[{\"error_x\":{\"color\":\"rgb(36,36,36)\"},\"error_y\":{\"color\":\"rgb(36,36,36)\"},\"marker\":{\"line\":{\"color\":\"rgb(234,234,242)\",\"width\":0.5},\"pattern\":{\"fillmode\":\"overlay\",\"size\":10,\"solidity\":0.2}},\"type\":\"bar\"}],\"carpet\":[{\"aaxis\":{\"endlinecolor\":\"rgb(36,36,36)\",\"gridcolor\":\"white\",\"linecolor\":\"white\",\"minorgridcolor\":\"white\",\"startlinecolor\":\"rgb(36,36,36)\"},\"baxis\":{\"endlinecolor\":\"rgb(36,36,36)\",\"gridcolor\":\"white\",\"linecolor\":\"white\",\"minorgridcolor\":\"white\",\"startlinecolor\":\"rgb(36,36,36)\"},\"type\":\"carpet\"}],\"choropleth\":[{\"colorbar\":{\"outlinewidth\":0,\"tickcolor\":\"rgb(36,36,36)\",\"ticklen\":8,\"ticks\":\"outside\",\"tickwidth\":2},\"type\":\"choropleth\"}],\"contourcarpet\":[{\"colorbar\":{\"outlinewidth\":0,\"tickcolor\":\"rgb(36,36,36)\",\"ticklen\":8,\"ticks\":\"outside\",\"tickwidth\":2},\"type\":\"contourcarpet\"}],\"contour\":[{\"colorbar\":{\"outlinewidth\":0,\"tickcolor\":\"rgb(36,36,36)\",\"ticklen\":8,\"ticks\":\"outside\",\"tickwidth\":2},\"colorscale\":[[0.0,\"rgb(2,4,25)\"],[0.06274509803921569,\"rgb(24,15,41)\"],[0.12549019607843137,\"rgb(47,23,57)\"],[0.18823529411764706,\"rgb(71,28,72)\"],[0.25098039215686274,\"rgb(97,30,82)\"],[0.3137254901960784,\"rgb(123,30,89)\"],[0.3764705882352941,\"rgb(150,27,91)\"],[0.4392156862745098,\"rgb(177,22,88)\"],[0.5019607843137255,\"rgb(203,26,79)\"],[0.5647058823529412,\"rgb(223,47,67)\"],[0.6274509803921569,\"rgb(236,76,61)\"],[0.6901960784313725,\"rgb(242,107,73)\"],[0.7529411764705882,\"rgb(244,135,95)\"],[0.8156862745098039,\"rgb(245,162,122)\"],[0.8784313725490196,\"rgb(246,188,153)\"],[0.9411764705882353,\"rgb(247,212,187)\"],[1.0,\"rgb(250,234,220)\"]],\"type\":\"contour\"}],\"heatmapgl\":[{\"colorbar\":{\"outlinewidth\":0,\"tickcolor\":\"rgb(36,36,36)\",\"ticklen\":8,\"ticks\":\"outside\",\"tickwidth\":2},\"colorscale\":[[0.0,\"rgb(2,4,25)\"],[0.06274509803921569,\"rgb(24,15,41)\"],[0.12549019607843137,\"rgb(47,23,57)\"],[0.18823529411764706,\"rgb(71,28,72)\"],[0.25098039215686274,\"rgb(97,30,82)\"],[0.3137254901960784,\"rgb(123,30,89)\"],[0.3764705882352941,\"rgb(150,27,91)\"],[0.4392156862745098,\"rgb(177,22,88)\"],[0.5019607843137255,\"rgb(203,26,79)\"],[0.5647058823529412,\"rgb(223,47,67)\"],[0.6274509803921569,\"rgb(236,76,61)\"],[0.6901960784313725,\"rgb(242,107,73)\"],[0.7529411764705882,\"rgb(244,135,95)\"],[0.8156862745098039,\"rgb(245,162,122)\"],[0.8784313725490196,\"rgb(246,188,153)\"],[0.9411764705882353,\"rgb(247,212,187)\"],[1.0,\"rgb(250,234,220)\"]],\"type\":\"heatmapgl\"}],\"heatmap\":[{\"colorbar\":{\"outlinewidth\":0,\"tickcolor\":\"rgb(36,36,36)\",\"ticklen\":8,\"ticks\":\"outside\",\"tickwidth\":2},\"colorscale\":[[0.0,\"rgb(2,4,25)\"],[0.06274509803921569,\"rgb(24,15,41)\"],[0.12549019607843137,\"rgb(47,23,57)\"],[0.18823529411764706,\"rgb(71,28,72)\"],[0.25098039215686274,\"rgb(97,30,82)\"],[0.3137254901960784,\"rgb(123,30,89)\"],[0.3764705882352941,\"rgb(150,27,91)\"],[0.4392156862745098,\"rgb(177,22,88)\"],[0.5019607843137255,\"rgb(203,26,79)\"],[0.5647058823529412,\"rgb(223,47,67)\"],[0.6274509803921569,\"rgb(236,76,61)\"],[0.6901960784313725,\"rgb(242,107,73)\"],[0.7529411764705882,\"rgb(244,135,95)\"],[0.8156862745098039,\"rgb(245,162,122)\"],[0.8784313725490196,\"rgb(246,188,153)\"],[0.9411764705882353,\"rgb(247,212,187)\"],[1.0,\"rgb(250,234,220)\"]],\"type\":\"heatmap\"}],\"histogram2dcontour\":[{\"colorbar\":{\"outlinewidth\":0,\"tickcolor\":\"rgb(36,36,36)\",\"ticklen\":8,\"ticks\":\"outside\",\"tickwidth\":2},\"colorscale\":[[0.0,\"rgb(2,4,25)\"],[0.06274509803921569,\"rgb(24,15,41)\"],[0.12549019607843137,\"rgb(47,23,57)\"],[0.18823529411764706,\"rgb(71,28,72)\"],[0.25098039215686274,\"rgb(97,30,82)\"],[0.3137254901960784,\"rgb(123,30,89)\"],[0.3764705882352941,\"rgb(150,27,91)\"],[0.4392156862745098,\"rgb(177,22,88)\"],[0.5019607843137255,\"rgb(203,26,79)\"],[0.5647058823529412,\"rgb(223,47,67)\"],[0.6274509803921569,\"rgb(236,76,61)\"],[0.6901960784313725,\"rgb(242,107,73)\"],[0.7529411764705882,\"rgb(244,135,95)\"],[0.8156862745098039,\"rgb(245,162,122)\"],[0.8784313725490196,\"rgb(246,188,153)\"],[0.9411764705882353,\"rgb(247,212,187)\"],[1.0,\"rgb(250,234,220)\"]],\"type\":\"histogram2dcontour\"}],\"histogram2d\":[{\"colorbar\":{\"outlinewidth\":0,\"tickcolor\":\"rgb(36,36,36)\",\"ticklen\":8,\"ticks\":\"outside\",\"tickwidth\":2},\"colorscale\":[[0.0,\"rgb(2,4,25)\"],[0.06274509803921569,\"rgb(24,15,41)\"],[0.12549019607843137,\"rgb(47,23,57)\"],[0.18823529411764706,\"rgb(71,28,72)\"],[0.25098039215686274,\"rgb(97,30,82)\"],[0.3137254901960784,\"rgb(123,30,89)\"],[0.3764705882352941,\"rgb(150,27,91)\"],[0.4392156862745098,\"rgb(177,22,88)\"],[0.5019607843137255,\"rgb(203,26,79)\"],[0.5647058823529412,\"rgb(223,47,67)\"],[0.6274509803921569,\"rgb(236,76,61)\"],[0.6901960784313725,\"rgb(242,107,73)\"],[0.7529411764705882,\"rgb(244,135,95)\"],[0.8156862745098039,\"rgb(245,162,122)\"],[0.8784313725490196,\"rgb(246,188,153)\"],[0.9411764705882353,\"rgb(247,212,187)\"],[1.0,\"rgb(250,234,220)\"]],\"type\":\"histogram2d\"}],\"histogram\":[{\"marker\":{\"pattern\":{\"fillmode\":\"overlay\",\"size\":10,\"solidity\":0.2}},\"type\":\"histogram\"}],\"mesh3d\":[{\"colorbar\":{\"outlinewidth\":0,\"tickcolor\":\"rgb(36,36,36)\",\"ticklen\":8,\"ticks\":\"outside\",\"tickwidth\":2},\"type\":\"mesh3d\"}],\"parcoords\":[{\"line\":{\"colorbar\":{\"outlinewidth\":0,\"tickcolor\":\"rgb(36,36,36)\",\"ticklen\":8,\"ticks\":\"outside\",\"tickwidth\":2}},\"type\":\"parcoords\"}],\"pie\":[{\"automargin\":true,\"type\":\"pie\"}],\"scatter3d\":[{\"line\":{\"colorbar\":{\"outlinewidth\":0,\"tickcolor\":\"rgb(36,36,36)\",\"ticklen\":8,\"ticks\":\"outside\",\"tickwidth\":2}},\"marker\":{\"colorbar\":{\"outlinewidth\":0,\"tickcolor\":\"rgb(36,36,36)\",\"ticklen\":8,\"ticks\":\"outside\",\"tickwidth\":2}},\"type\":\"scatter3d\"}],\"scattercarpet\":[{\"marker\":{\"colorbar\":{\"outlinewidth\":0,\"tickcolor\":\"rgb(36,36,36)\",\"ticklen\":8,\"ticks\":\"outside\",\"tickwidth\":2}},\"type\":\"scattercarpet\"}],\"scattergeo\":[{\"marker\":{\"colorbar\":{\"outlinewidth\":0,\"tickcolor\":\"rgb(36,36,36)\",\"ticklen\":8,\"ticks\":\"outside\",\"tickwidth\":2}},\"type\":\"scattergeo\"}],\"scattergl\":[{\"marker\":{\"colorbar\":{\"outlinewidth\":0,\"tickcolor\":\"rgb(36,36,36)\",\"ticklen\":8,\"ticks\":\"outside\",\"tickwidth\":2}},\"type\":\"scattergl\"}],\"scattermapbox\":[{\"marker\":{\"colorbar\":{\"outlinewidth\":0,\"tickcolor\":\"rgb(36,36,36)\",\"ticklen\":8,\"ticks\":\"outside\",\"tickwidth\":2}},\"type\":\"scattermapbox\"}],\"scatterpolargl\":[{\"marker\":{\"colorbar\":{\"outlinewidth\":0,\"tickcolor\":\"rgb(36,36,36)\",\"ticklen\":8,\"ticks\":\"outside\",\"tickwidth\":2}},\"type\":\"scatterpolargl\"}],\"scatterpolar\":[{\"marker\":{\"colorbar\":{\"outlinewidth\":0,\"tickcolor\":\"rgb(36,36,36)\",\"ticklen\":8,\"ticks\":\"outside\",\"tickwidth\":2}},\"type\":\"scatterpolar\"}],\"scatter\":[{\"fillpattern\":{\"fillmode\":\"overlay\",\"size\":10,\"solidity\":0.2},\"type\":\"scatter\"}],\"scatterternary\":[{\"marker\":{\"colorbar\":{\"outlinewidth\":0,\"tickcolor\":\"rgb(36,36,36)\",\"ticklen\":8,\"ticks\":\"outside\",\"tickwidth\":2}},\"type\":\"scatterternary\"}],\"surface\":[{\"colorbar\":{\"outlinewidth\":0,\"tickcolor\":\"rgb(36,36,36)\",\"ticklen\":8,\"ticks\":\"outside\",\"tickwidth\":2},\"colorscale\":[[0.0,\"rgb(2,4,25)\"],[0.06274509803921569,\"rgb(24,15,41)\"],[0.12549019607843137,\"rgb(47,23,57)\"],[0.18823529411764706,\"rgb(71,28,72)\"],[0.25098039215686274,\"rgb(97,30,82)\"],[0.3137254901960784,\"rgb(123,30,89)\"],[0.3764705882352941,\"rgb(150,27,91)\"],[0.4392156862745098,\"rgb(177,22,88)\"],[0.5019607843137255,\"rgb(203,26,79)\"],[0.5647058823529412,\"rgb(223,47,67)\"],[0.6274509803921569,\"rgb(236,76,61)\"],[0.6901960784313725,\"rgb(242,107,73)\"],[0.7529411764705882,\"rgb(244,135,95)\"],[0.8156862745098039,\"rgb(245,162,122)\"],[0.8784313725490196,\"rgb(246,188,153)\"],[0.9411764705882353,\"rgb(247,212,187)\"],[1.0,\"rgb(250,234,220)\"]],\"type\":\"surface\"}],\"table\":[{\"cells\":{\"fill\":{\"color\":\"rgb(231,231,240)\"},\"line\":{\"color\":\"white\"}},\"header\":{\"fill\":{\"color\":\"rgb(183,183,191)\"},\"line\":{\"color\":\"white\"}},\"type\":\"table\"}]},\"layout\":{\"annotationdefaults\":{\"arrowcolor\":\"rgb(67,103,167)\"},\"autotypenumbers\":\"strict\",\"coloraxis\":{\"colorbar\":{\"outlinewidth\":0,\"tickcolor\":\"rgb(36,36,36)\",\"ticklen\":8,\"ticks\":\"outside\",\"tickwidth\":2}},\"colorscale\":{\"sequential\":[[0.0,\"rgb(2,4,25)\"],[0.06274509803921569,\"rgb(24,15,41)\"],[0.12549019607843137,\"rgb(47,23,57)\"],[0.18823529411764706,\"rgb(71,28,72)\"],[0.25098039215686274,\"rgb(97,30,82)\"],[0.3137254901960784,\"rgb(123,30,89)\"],[0.3764705882352941,\"rgb(150,27,91)\"],[0.4392156862745098,\"rgb(177,22,88)\"],[0.5019607843137255,\"rgb(203,26,79)\"],[0.5647058823529412,\"rgb(223,47,67)\"],[0.6274509803921569,\"rgb(236,76,61)\"],[0.6901960784313725,\"rgb(242,107,73)\"],[0.7529411764705882,\"rgb(244,135,95)\"],[0.8156862745098039,\"rgb(245,162,122)\"],[0.8784313725490196,\"rgb(246,188,153)\"],[0.9411764705882353,\"rgb(247,212,187)\"],[1.0,\"rgb(250,234,220)\"]],\"sequentialminus\":[[0.0,\"rgb(2,4,25)\"],[0.06274509803921569,\"rgb(24,15,41)\"],[0.12549019607843137,\"rgb(47,23,57)\"],[0.18823529411764706,\"rgb(71,28,72)\"],[0.25098039215686274,\"rgb(97,30,82)\"],[0.3137254901960784,\"rgb(123,30,89)\"],[0.3764705882352941,\"rgb(150,27,91)\"],[0.4392156862745098,\"rgb(177,22,88)\"],[0.5019607843137255,\"rgb(203,26,79)\"],[0.5647058823529412,\"rgb(223,47,67)\"],[0.6274509803921569,\"rgb(236,76,61)\"],[0.6901960784313725,\"rgb(242,107,73)\"],[0.7529411764705882,\"rgb(244,135,95)\"],[0.8156862745098039,\"rgb(245,162,122)\"],[0.8784313725490196,\"rgb(246,188,153)\"],[0.9411764705882353,\"rgb(247,212,187)\"],[1.0,\"rgb(250,234,220)\"]]},\"colorway\":[\"rgb(76,114,176)\",\"rgb(221,132,82)\",\"rgb(85,168,104)\",\"rgb(196,78,82)\",\"rgb(129,114,179)\",\"rgb(147,120,96)\",\"rgb(218,139,195)\",\"rgb(140,140,140)\",\"rgb(204,185,116)\",\"rgb(100,181,205)\"],\"font\":{\"color\":\"rgb(36,36,36)\"},\"geo\":{\"bgcolor\":\"white\",\"lakecolor\":\"white\",\"landcolor\":\"rgb(234,234,242)\",\"showlakes\":true,\"showland\":true,\"subunitcolor\":\"white\"},\"hoverlabel\":{\"align\":\"left\"},\"hovermode\":\"closest\",\"paper_bgcolor\":\"white\",\"plot_bgcolor\":\"rgb(234,234,242)\",\"polar\":{\"angularaxis\":{\"gridcolor\":\"white\",\"linecolor\":\"white\",\"showgrid\":true,\"ticks\":\"\"},\"bgcolor\":\"rgb(234,234,242)\",\"radialaxis\":{\"gridcolor\":\"white\",\"linecolor\":\"white\",\"showgrid\":true,\"ticks\":\"\"}},\"scene\":{\"xaxis\":{\"backgroundcolor\":\"rgb(234,234,242)\",\"gridcolor\":\"white\",\"gridwidth\":2,\"linecolor\":\"white\",\"showbackground\":true,\"showgrid\":true,\"ticks\":\"\",\"zerolinecolor\":\"white\"},\"yaxis\":{\"backgroundcolor\":\"rgb(234,234,242)\",\"gridcolor\":\"white\",\"gridwidth\":2,\"linecolor\":\"white\",\"showbackground\":true,\"showgrid\":true,\"ticks\":\"\",\"zerolinecolor\":\"white\"},\"zaxis\":{\"backgroundcolor\":\"rgb(234,234,242)\",\"gridcolor\":\"white\",\"gridwidth\":2,\"linecolor\":\"white\",\"showbackground\":true,\"showgrid\":true,\"ticks\":\"\",\"zerolinecolor\":\"white\"}},\"shapedefaults\":{\"fillcolor\":\"rgb(67,103,167)\",\"line\":{\"width\":0},\"opacity\":0.5},\"ternary\":{\"aaxis\":{\"gridcolor\":\"white\",\"linecolor\":\"white\",\"showgrid\":true,\"ticks\":\"\"},\"baxis\":{\"gridcolor\":\"white\",\"linecolor\":\"white\",\"showgrid\":true,\"ticks\":\"\"},\"bgcolor\":\"rgb(234,234,242)\",\"caxis\":{\"gridcolor\":\"white\",\"linecolor\":\"white\",\"showgrid\":true,\"ticks\":\"\"}},\"xaxis\":{\"automargin\":true,\"gridcolor\":\"white\",\"linecolor\":\"white\",\"showgrid\":true,\"ticks\":\"\",\"title\":{\"standoff\":15},\"zerolinecolor\":\"white\"},\"yaxis\":{\"automargin\":true,\"gridcolor\":\"white\",\"linecolor\":\"white\",\"showgrid\":true,\"ticks\":\"\",\"title\":{\"standoff\":15},\"zerolinecolor\":\"white\"}}},\"xaxis\":{\"anchor\":\"y\",\"domain\":[0.0,1.0],\"title\":{\"text\":\"Employment Type\"},\"categoryorder\":\"array\",\"categoryarray\":[\"Full-Time\",\"Contract\",\"Part-Time\",\"Freelance\"]},\"yaxis\":{\"anchor\":\"x\",\"domain\":[0.0,1.0],\"title\":{\"text\":\"salary in usd\"}},\"legend\":{\"title\":{\"text\":\"Employment Type\"},\"tracegroupgap\":0},\"title\":{\"text\":\"<b>Data Sceince Salaries by type of employee\"},\"boxmode\":\"overlay\"},                        {\"responsive\": true}                    ).then(function(){\n",
       "                            \n",
       "var gd = document.getElementById('2d9fac76-319d-4b5a-afd2-54169c869a5b');\n",
       "var x = new MutationObserver(function (mutations, observer) {{\n",
       "        var display = window.getComputedStyle(gd).display;\n",
       "        if (!display || display === 'none') {{\n",
       "            console.log([gd, 'removed!']);\n",
       "            Plotly.purge(gd);\n",
       "            observer.disconnect();\n",
       "        }}\n",
       "}});\n",
       "\n",
       "// Listen for the removal of the full notebook cells\n",
       "var notebookContainer = gd.closest('#notebook-container');\n",
       "if (notebookContainer) {{\n",
       "    x.observe(notebookContainer, {childList: true});\n",
       "}}\n",
       "\n",
       "// Listen for the clearing of the current output cell\n",
       "var outputEl = gd.closest('.output');\n",
       "if (outputEl) {{\n",
       "    x.observe(outputEl, {childList: true});\n",
       "}}\n",
       "\n",
       "                        })                };                });            </script>        </div>"
      ]
     },
     "metadata": {},
     "output_type": "display_data"
    }
   ],
   "source": [
    "px.box(df,x='employment_type',y='salary_in_usd',color='employment_type',template='seaborn',labels={'employment_type':'Employment Type','salary_in_usd':'salary in usd'},title='<b>Data Sceince Salaries by type of employee')"
   ]
  },
  {
   "cell_type": "code",
   "execution_count": 23,
   "id": "d479f211",
   "metadata": {
    "execution": {
     "iopub.execute_input": "2022-09-20T17:48:42.649024Z",
     "iopub.status.busy": "2022-09-20T17:48:42.648218Z",
     "iopub.status.idle": "2022-09-20T17:48:42.713406Z",
     "shell.execute_reply": "2022-09-20T17:48:42.712314Z"
    },
    "papermill": {
     "duration": 0.082273,
     "end_time": "2022-09-20T17:48:42.715947",
     "exception": false,
     "start_time": "2022-09-20T17:48:42.633674",
     "status": "completed"
    },
    "tags": []
   },
   "outputs": [
    {
     "data": {
      "text/html": [
       "<div>                            <div id=\"71119d8e-8f1e-4be3-bc2c-e2cba94d280c\" class=\"plotly-graph-div\" style=\"height:525px; width:100%;\"></div>            <script type=\"text/javascript\">                require([\"plotly\"], function(Plotly) {                    window.PLOTLYENV=window.PLOTLYENV || {};                                    if (document.getElementById(\"71119d8e-8f1e-4be3-bc2c-e2cba94d280c\")) {                    Plotly.newPlot(                        \"71119d8e-8f1e-4be3-bc2c-e2cba94d280c\",                        [{\"alignmentgroup\":\"True\",\"hovertemplate\":\"Company Size=%{x}<br>salary in usd=%{y}<extra></extra>\",\"legendgroup\":\"L\",\"marker\":{\"color\":\"#F8766D\"},\"name\":\"L\",\"notched\":false,\"offsetgroup\":\"L\",\"orientation\":\"v\",\"showlegend\":true,\"x\":[\"L\",\"L\",\"L\",\"L\",\"L\",\"L\",\"L\",\"L\",\"L\",\"L\",\"L\",\"L\",\"L\",\"L\",\"L\",\"L\",\"L\",\"L\",\"L\",\"L\",\"L\",\"L\",\"L\",\"L\",\"L\",\"L\",\"L\",\"L\",\"L\",\"L\",\"L\",\"L\",\"L\",\"L\",\"L\",\"L\",\"L\",\"L\",\"L\",\"L\",\"L\",\"L\",\"L\",\"L\",\"L\",\"L\",\"L\",\"L\",\"L\",\"L\",\"L\",\"L\",\"L\",\"L\",\"L\",\"L\",\"L\",\"L\",\"L\",\"L\",\"L\",\"L\",\"L\",\"L\",\"L\",\"L\",\"L\",\"L\",\"L\",\"L\",\"L\",\"L\",\"L\",\"L\",\"L\",\"L\",\"L\",\"L\",\"L\",\"L\",\"L\",\"L\",\"L\",\"L\",\"L\",\"L\",\"L\",\"L\",\"L\",\"L\",\"L\",\"L\",\"L\",\"L\",\"L\",\"L\",\"L\",\"L\",\"L\",\"L\",\"L\",\"L\",\"L\",\"L\",\"L\",\"L\",\"L\",\"L\",\"L\",\"L\",\"L\",\"L\",\"L\",\"L\",\"L\",\"L\",\"L\",\"L\",\"L\",\"L\",\"L\",\"L\",\"L\",\"L\",\"L\",\"L\",\"L\",\"L\",\"L\",\"L\",\"L\",\"L\",\"L\",\"L\",\"L\",\"L\",\"L\",\"L\",\"L\",\"L\",\"L\",\"L\",\"L\",\"L\",\"L\",\"L\",\"L\",\"L\",\"L\",\"L\",\"L\",\"L\",\"L\",\"L\",\"L\",\"L\",\"L\",\"L\",\"L\",\"L\",\"L\",\"L\",\"L\",\"L\",\"L\",\"L\",\"L\",\"L\",\"L\",\"L\",\"L\",\"L\",\"L\",\"L\",\"L\",\"L\",\"L\",\"L\",\"L\",\"L\",\"L\",\"L\",\"L\",\"L\",\"L\",\"L\",\"L\",\"L\",\"L\",\"L\",\"L\",\"L\",\"L\",\"L\",\"L\",\"L\",\"L\",\"L\"],\"x0\":\" \",\"xaxis\":\"x\",\"y\":[79833,150000,72000,35735,135000,40481,87000,85000,8000,6072,47899,115000,325000,42000,100000,117104,70000,68428,46759,74130,103000,250000,79833,106000,112872,188000,105000,70139,91000,54742,120000,110000,412000,82528,150000,235000,53192,270000,79197,140000,54238,153667,28476,110000,170000,88654,19609,276000,29751,89294,450000,75000,150000,36259,62000,73000,51519,187442,30428,94564,45391,225000,50000,200000,110037,151000,40570,220000,135000,240000,150000,100000,90000,153000,75774,13400,144000,127221,423000,230000,28369,63831,165000,80000,250000,150000,170000,82528,235000,60757,174000,40038,22611,90734,26005,61896,152000,174000,96113,147000,24342,54094,37825,160000,200000,20000,120000,24823,5882,185000,90734,140000,46597,116914,56256,225000,88654,135000,16228,200000,200000,180000,103691,80000,110000,165000,72212,36643,96282,115000,600000,93000,200000,185000,141846,130000,63831,66265,72500,76833,58000,55000,20171,59102,112000,100000,69741,69999,94665,102839,109000,51064,180000,120000,113000,160000,79039,37300,215300,158200,209100,154600,183600,60000,160000,112300,100800,140400,215300,209100,154600,21983,196979,37236,31615,58255,100000,54957,144000,35590,93427,52396,62651,40000,87425,75000,64849,120000,157000,70912,122346,380000,405000,135000,177000,205300,140400,200000],\"y0\":\" \",\"yaxis\":\"y\",\"type\":\"box\"},{\"alignmentgroup\":\"True\",\"hovertemplate\":\"Company Size=%{x}<br>salary in usd=%{y}<extra></extra>\",\"legendgroup\":\"S\",\"marker\":{\"color\":\"#A3A500\"},\"name\":\"S\",\"notched\":false,\"offsetgroup\":\"S\",\"orientation\":\"v\",\"showlegend\":true,\"x\":[\"S\",\"S\",\"S\",\"S\",\"S\",\"S\",\"S\",\"S\",\"S\",\"S\",\"S\",\"S\",\"S\",\"S\",\"S\",\"S\",\"S\",\"S\",\"S\",\"S\",\"S\",\"S\",\"S\",\"S\",\"S\",\"S\",\"S\",\"S\",\"S\",\"S\",\"S\",\"S\",\"S\",\"S\",\"S\",\"S\",\"S\",\"S\",\"S\",\"S\",\"S\",\"S\",\"S\",\"S\",\"S\",\"S\",\"S\",\"S\",\"S\",\"S\",\"S\",\"S\",\"S\",\"S\",\"S\",\"S\",\"S\",\"S\",\"S\",\"S\",\"S\",\"S\",\"S\",\"S\",\"S\",\"S\",\"S\",\"S\",\"S\",\"S\",\"S\",\"S\",\"S\",\"S\",\"S\",\"S\",\"S\",\"S\",\"S\",\"S\",\"S\",\"S\",\"S\"],\"x0\":\" \",\"xaxis\":\"x\",\"y\":[260000,20000,190000,125000,51321,41689,114047,33511,59303,10000,138000,45760,15966,76958,6072,45896,60000,21669,45618,62726,49268,105000,91237,62726,42197,47282,80000,76833,12000,95746,115000,103160,90000,120000,9466,20000,100000,100000,63711,77364,82500,160000,168000,125000,55000,60000,2859,81000,5679,69741,76833,74000,18000,9272,90000,50000,12901,56738,66022,28609,416000,87738,256000,110000,18053,90000,16904,25532,160000,85000,58000,118187,58000,120000,120000,65000,75000,32974,150000,65000,71444,48000,20000],\"y0\":\" \",\"yaxis\":\"y\",\"type\":\"box\"},{\"alignmentgroup\":\"True\",\"hovertemplate\":\"Company Size=%{x}<br>salary in usd=%{y}<extra></extra>\",\"legendgroup\":\"M\",\"marker\":{\"color\":\"#00BF7D\"},\"name\":\"M\",\"notched\":false,\"offsetgroup\":\"M\",\"orientation\":\"v\",\"showlegend\":true,\"x\":[\"M\",\"M\",\"M\",\"M\",\"M\",\"M\",\"M\",\"M\",\"M\",\"M\",\"M\",\"M\",\"M\",\"M\",\"M\",\"M\",\"M\",\"M\",\"M\",\"M\",\"M\",\"M\",\"M\",\"M\",\"M\",\"M\",\"M\",\"M\",\"M\",\"M\",\"M\",\"M\",\"M\",\"M\",\"M\",\"M\",\"M\",\"M\",\"M\",\"M\",\"M\",\"M\",\"M\",\"M\",\"M\",\"M\",\"M\",\"M\",\"M\",\"M\",\"M\",\"M\",\"M\",\"M\",\"M\",\"M\",\"M\",\"M\",\"M\",\"M\",\"M\",\"M\",\"M\",\"M\",\"M\",\"M\",\"M\",\"M\",\"M\",\"M\",\"M\",\"M\",\"M\",\"M\",\"M\",\"M\",\"M\",\"M\",\"M\",\"M\",\"M\",\"M\",\"M\",\"M\",\"M\",\"M\",\"M\",\"M\",\"M\",\"M\",\"M\",\"M\",\"M\",\"M\",\"M\",\"M\",\"M\",\"M\",\"M\",\"M\",\"M\",\"M\",\"M\",\"M\",\"M\",\"M\",\"M\",\"M\",\"M\",\"M\",\"M\",\"M\",\"M\",\"M\",\"M\",\"M\",\"M\",\"M\",\"M\",\"M\",\"M\",\"M\",\"M\",\"M\",\"M\",\"M\",\"M\",\"M\",\"M\",\"M\",\"M\",\"M\",\"M\",\"M\",\"M\",\"M\",\"M\",\"M\",\"M\",\"M\",\"M\",\"M\",\"M\",\"M\",\"M\",\"M\",\"M\",\"M\",\"M\",\"M\",\"M\",\"M\",\"M\",\"M\",\"M\",\"M\",\"M\",\"M\",\"M\",\"M\",\"M\",\"M\",\"M\",\"M\",\"M\",\"M\",\"M\",\"M\",\"M\",\"M\",\"M\",\"M\",\"M\",\"M\",\"M\",\"M\",\"M\",\"M\",\"M\",\"M\",\"M\",\"M\",\"M\",\"M\",\"M\",\"M\",\"M\",\"M\",\"M\",\"M\",\"M\",\"M\",\"M\",\"M\",\"M\",\"M\",\"M\",\"M\",\"M\",\"M\",\"M\",\"M\",\"M\",\"M\",\"M\",\"M\",\"M\",\"M\",\"M\",\"M\",\"M\",\"M\",\"M\",\"M\",\"M\",\"M\",\"M\",\"M\",\"M\",\"M\",\"M\",\"M\",\"M\",\"M\",\"M\",\"M\",\"M\",\"M\",\"M\",\"M\",\"M\",\"M\",\"M\",\"M\",\"M\",\"M\",\"M\",\"M\",\"M\",\"M\",\"M\",\"M\",\"M\",\"M\",\"M\",\"M\",\"M\",\"M\",\"M\",\"M\",\"M\",\"M\",\"M\",\"M\",\"M\",\"M\",\"M\",\"M\",\"M\",\"M\",\"M\",\"M\",\"M\",\"M\",\"M\",\"M\",\"M\",\"M\",\"M\",\"M\",\"M\",\"M\",\"M\",\"M\",\"M\",\"M\",\"M\",\"M\",\"M\",\"M\",\"M\",\"M\",\"M\",\"M\",\"M\",\"M\",\"M\",\"M\",\"M\",\"M\",\"M\",\"M\",\"M\",\"M\",\"M\",\"M\",\"M\",\"M\",\"M\",\"M\",\"M\",\"M\",\"M\",\"M\",\"M\",\"M\",\"M\",\"M\",\"M\",\"M\",\"M\",\"M\",\"M\",\"M\",\"M\",\"M\",\"M\",\"M\",\"M\",\"M\",\"M\",\"M\",\"M\",\"M\",\"M\",\"M\"],\"x0\":\" \",\"xaxis\":\"x\",\"y\":[109024,39916,5707,56000,43331,98000,450000,50180,148261,38776,118000,138350,130800,190200,100000,5409,80000,59102,70000,150000,113476,12000,40189,60000,200000,50000,10354,49646,38400,24000,90000,80000,82744,62649,150000,119059,120000,85000,130026,12000,4000,50000,21844,61467,195000,165000,24823,88654,33808,71786,63810,46809,4000,21637,12103,170000,28399,99703,173762,93150,111775,28016,65013,18907,77684,100000,105000,135000,155000,120600,130000,90000,170000,150000,102100,84900,136620,99360,117789,104702,146000,123000,52351,99000,116000,106260,126500,242000,200000,65438,39263,78526,52351,165220,45807,120160,90320,181940,132320,220110,160080,124190,130000,110000,170000,115500,112900,90320,112900,90320,165400,132320,167000,243900,136600,109280,128875,93700,224000,167875,175000,156600,108800,95550,135000,161342,137141,167000,123000,78526,65438,150000,211500,192400,90700,130000,61300,130000,61300,138600,136000,135000,170000,123000,189650,164996,54957,54957,132000,165400,208775,147800,136994,101570,128875,93700,132320,164000,155000,124333,98158,120000,112900,90320,145000,105400,87932,117789,115934,81666,175000,98158,52351,180000,71982,45807,65949,49461,78526,58894,260000,63900,241000,159000,180000,80000,82900,49461,39263,43966,32974,87932,76940,104702,91614,65949,87932,189650,164996,43966,32974,98158,78526,76940,180000,80000,78791,125000,105000,87932,18442,18442,162674,120000,104890,100000,140000,135000,50000,220000,140000,183228,91614,185100,220000,200000,120000,324000,216000,210000,120000,230000,100000,100000,31875,200000,78791,100000,153000,58035,165000,115000,86703,20000,152500,68147,69336,10000,78000,135000,100000,90320,85000,75000,214000,192600,266400,213120,112900,155000,141300,102100,115934,81666,206699,99100,130000,115000,110500,130000,99050,160000,176000,144000,200100,160000,145000,70500,205300,140400,205300,184700,175100,140250,116150,54000,170000,65438,80000,140000,210000,140000,100000,69000,210000,140000,210000,150075,100000,25000,126500,106260,220110,160080,105000,110925,45807,140000,99000,60000,192564,144854,230000,150000,150260,109280,210000,170000,160000,130000,67000,52000,154000,126000,129000,150000],\"y0\":\" \",\"yaxis\":\"y\",\"type\":\"box\"}],                        {\"template\":{\"data\":{\"barpolar\":[{\"marker\":{\"line\":{\"color\":\"rgb(237,237,237)\",\"width\":0.5},\"pattern\":{\"fillmode\":\"overlay\",\"size\":10,\"solidity\":0.2}},\"type\":\"barpolar\"}],\"bar\":[{\"error_x\":{\"color\":\"rgb(51,51,51)\"},\"error_y\":{\"color\":\"rgb(51,51,51)\"},\"marker\":{\"line\":{\"color\":\"rgb(237,237,237)\",\"width\":0.5},\"pattern\":{\"fillmode\":\"overlay\",\"size\":10,\"solidity\":0.2}},\"type\":\"bar\"}],\"carpet\":[{\"aaxis\":{\"endlinecolor\":\"rgb(51,51,51)\",\"gridcolor\":\"white\",\"linecolor\":\"white\",\"minorgridcolor\":\"white\",\"startlinecolor\":\"rgb(51,51,51)\"},\"baxis\":{\"endlinecolor\":\"rgb(51,51,51)\",\"gridcolor\":\"white\",\"linecolor\":\"white\",\"minorgridcolor\":\"white\",\"startlinecolor\":\"rgb(51,51,51)\"},\"type\":\"carpet\"}],\"choropleth\":[{\"colorbar\":{\"outlinewidth\":0,\"tickcolor\":\"rgb(237,237,237)\",\"ticklen\":6,\"ticks\":\"inside\"},\"type\":\"choropleth\"}],\"contourcarpet\":[{\"colorbar\":{\"outlinewidth\":0,\"tickcolor\":\"rgb(237,237,237)\",\"ticklen\":6,\"ticks\":\"inside\"},\"type\":\"contourcarpet\"}],\"contour\":[{\"colorbar\":{\"outlinewidth\":0,\"tickcolor\":\"rgb(237,237,237)\",\"ticklen\":6,\"ticks\":\"inside\"},\"colorscale\":[[0,\"rgb(20,44,66)\"],[1,\"rgb(90,179,244)\"]],\"type\":\"contour\"}],\"heatmapgl\":[{\"colorbar\":{\"outlinewidth\":0,\"tickcolor\":\"rgb(237,237,237)\",\"ticklen\":6,\"ticks\":\"inside\"},\"colorscale\":[[0,\"rgb(20,44,66)\"],[1,\"rgb(90,179,244)\"]],\"type\":\"heatmapgl\"}],\"heatmap\":[{\"colorbar\":{\"outlinewidth\":0,\"tickcolor\":\"rgb(237,237,237)\",\"ticklen\":6,\"ticks\":\"inside\"},\"colorscale\":[[0,\"rgb(20,44,66)\"],[1,\"rgb(90,179,244)\"]],\"type\":\"heatmap\"}],\"histogram2dcontour\":[{\"colorbar\":{\"outlinewidth\":0,\"tickcolor\":\"rgb(237,237,237)\",\"ticklen\":6,\"ticks\":\"inside\"},\"colorscale\":[[0,\"rgb(20,44,66)\"],[1,\"rgb(90,179,244)\"]],\"type\":\"histogram2dcontour\"}],\"histogram2d\":[{\"colorbar\":{\"outlinewidth\":0,\"tickcolor\":\"rgb(237,237,237)\",\"ticklen\":6,\"ticks\":\"inside\"},\"colorscale\":[[0,\"rgb(20,44,66)\"],[1,\"rgb(90,179,244)\"]],\"type\":\"histogram2d\"}],\"histogram\":[{\"marker\":{\"pattern\":{\"fillmode\":\"overlay\",\"size\":10,\"solidity\":0.2}},\"type\":\"histogram\"}],\"mesh3d\":[{\"colorbar\":{\"outlinewidth\":0,\"tickcolor\":\"rgb(237,237,237)\",\"ticklen\":6,\"ticks\":\"inside\"},\"type\":\"mesh3d\"}],\"parcoords\":[{\"line\":{\"colorbar\":{\"outlinewidth\":0,\"tickcolor\":\"rgb(237,237,237)\",\"ticklen\":6,\"ticks\":\"inside\"}},\"type\":\"parcoords\"}],\"pie\":[{\"automargin\":true,\"type\":\"pie\"}],\"scatter3d\":[{\"line\":{\"colorbar\":{\"outlinewidth\":0,\"tickcolor\":\"rgb(237,237,237)\",\"ticklen\":6,\"ticks\":\"inside\"}},\"marker\":{\"colorbar\":{\"outlinewidth\":0,\"tickcolor\":\"rgb(237,237,237)\",\"ticklen\":6,\"ticks\":\"inside\"}},\"type\":\"scatter3d\"}],\"scattercarpet\":[{\"marker\":{\"colorbar\":{\"outlinewidth\":0,\"tickcolor\":\"rgb(237,237,237)\",\"ticklen\":6,\"ticks\":\"inside\"}},\"type\":\"scattercarpet\"}],\"scattergeo\":[{\"marker\":{\"colorbar\":{\"outlinewidth\":0,\"tickcolor\":\"rgb(237,237,237)\",\"ticklen\":6,\"ticks\":\"inside\"}},\"type\":\"scattergeo\"}],\"scattergl\":[{\"marker\":{\"colorbar\":{\"outlinewidth\":0,\"tickcolor\":\"rgb(237,237,237)\",\"ticklen\":6,\"ticks\":\"inside\"}},\"type\":\"scattergl\"}],\"scattermapbox\":[{\"marker\":{\"colorbar\":{\"outlinewidth\":0,\"tickcolor\":\"rgb(237,237,237)\",\"ticklen\":6,\"ticks\":\"inside\"}},\"type\":\"scattermapbox\"}],\"scatterpolargl\":[{\"marker\":{\"colorbar\":{\"outlinewidth\":0,\"tickcolor\":\"rgb(237,237,237)\",\"ticklen\":6,\"ticks\":\"inside\"}},\"type\":\"scatterpolargl\"}],\"scatterpolar\":[{\"marker\":{\"colorbar\":{\"outlinewidth\":0,\"tickcolor\":\"rgb(237,237,237)\",\"ticklen\":6,\"ticks\":\"inside\"}},\"type\":\"scatterpolar\"}],\"scatter\":[{\"fillpattern\":{\"fillmode\":\"overlay\",\"size\":10,\"solidity\":0.2},\"type\":\"scatter\"}],\"scatterternary\":[{\"marker\":{\"colorbar\":{\"outlinewidth\":0,\"tickcolor\":\"rgb(237,237,237)\",\"ticklen\":6,\"ticks\":\"inside\"}},\"type\":\"scatterternary\"}],\"surface\":[{\"colorbar\":{\"outlinewidth\":0,\"tickcolor\":\"rgb(237,237,237)\",\"ticklen\":6,\"ticks\":\"inside\"},\"colorscale\":[[0,\"rgb(20,44,66)\"],[1,\"rgb(90,179,244)\"]],\"type\":\"surface\"}],\"table\":[{\"cells\":{\"fill\":{\"color\":\"rgb(237,237,237)\"},\"line\":{\"color\":\"white\"}},\"header\":{\"fill\":{\"color\":\"rgb(217,217,217)\"},\"line\":{\"color\":\"white\"}},\"type\":\"table\"}]},\"layout\":{\"annotationdefaults\":{\"arrowhead\":0,\"arrowwidth\":1},\"autotypenumbers\":\"strict\",\"coloraxis\":{\"colorbar\":{\"outlinewidth\":0,\"tickcolor\":\"rgb(237,237,237)\",\"ticklen\":6,\"ticks\":\"inside\"}},\"colorscale\":{\"sequential\":[[0,\"rgb(20,44,66)\"],[1,\"rgb(90,179,244)\"]],\"sequentialminus\":[[0,\"rgb(20,44,66)\"],[1,\"rgb(90,179,244)\"]]},\"colorway\":[\"#F8766D\",\"#A3A500\",\"#00BF7D\",\"#00B0F6\",\"#E76BF3\"],\"font\":{\"color\":\"rgb(51,51,51)\"},\"geo\":{\"bgcolor\":\"white\",\"lakecolor\":\"white\",\"landcolor\":\"rgb(237,237,237)\",\"showlakes\":true,\"showland\":true,\"subunitcolor\":\"white\"},\"hoverlabel\":{\"align\":\"left\"},\"hovermode\":\"closest\",\"paper_bgcolor\":\"white\",\"plot_bgcolor\":\"rgb(237,237,237)\",\"polar\":{\"angularaxis\":{\"gridcolor\":\"white\",\"linecolor\":\"white\",\"showgrid\":true,\"tickcolor\":\"rgb(51,51,51)\",\"ticks\":\"outside\"},\"bgcolor\":\"rgb(237,237,237)\",\"radialaxis\":{\"gridcolor\":\"white\",\"linecolor\":\"white\",\"showgrid\":true,\"tickcolor\":\"rgb(51,51,51)\",\"ticks\":\"outside\"}},\"scene\":{\"xaxis\":{\"backgroundcolor\":\"rgb(237,237,237)\",\"gridcolor\":\"white\",\"gridwidth\":2,\"linecolor\":\"white\",\"showbackground\":true,\"showgrid\":true,\"tickcolor\":\"rgb(51,51,51)\",\"ticks\":\"outside\",\"zerolinecolor\":\"white\"},\"yaxis\":{\"backgroundcolor\":\"rgb(237,237,237)\",\"gridcolor\":\"white\",\"gridwidth\":2,\"linecolor\":\"white\",\"showbackground\":true,\"showgrid\":true,\"tickcolor\":\"rgb(51,51,51)\",\"ticks\":\"outside\",\"zerolinecolor\":\"white\"},\"zaxis\":{\"backgroundcolor\":\"rgb(237,237,237)\",\"gridcolor\":\"white\",\"gridwidth\":2,\"linecolor\":\"white\",\"showbackground\":true,\"showgrid\":true,\"tickcolor\":\"rgb(51,51,51)\",\"ticks\":\"outside\",\"zerolinecolor\":\"white\"}},\"shapedefaults\":{\"fillcolor\":\"black\",\"line\":{\"width\":0},\"opacity\":0.3},\"ternary\":{\"aaxis\":{\"gridcolor\":\"white\",\"linecolor\":\"white\",\"showgrid\":true,\"tickcolor\":\"rgb(51,51,51)\",\"ticks\":\"outside\"},\"baxis\":{\"gridcolor\":\"white\",\"linecolor\":\"white\",\"showgrid\":true,\"tickcolor\":\"rgb(51,51,51)\",\"ticks\":\"outside\"},\"bgcolor\":\"rgb(237,237,237)\",\"caxis\":{\"gridcolor\":\"white\",\"linecolor\":\"white\",\"showgrid\":true,\"tickcolor\":\"rgb(51,51,51)\",\"ticks\":\"outside\"}},\"xaxis\":{\"automargin\":true,\"gridcolor\":\"white\",\"linecolor\":\"white\",\"showgrid\":true,\"tickcolor\":\"rgb(51,51,51)\",\"ticks\":\"outside\",\"title\":{\"standoff\":15},\"zerolinecolor\":\"white\"},\"yaxis\":{\"automargin\":true,\"gridcolor\":\"white\",\"linecolor\":\"white\",\"showgrid\":true,\"tickcolor\":\"rgb(51,51,51)\",\"ticks\":\"outside\",\"title\":{\"standoff\":15},\"zerolinecolor\":\"white\"}}},\"xaxis\":{\"anchor\":\"y\",\"domain\":[0.0,1.0],\"title\":{\"text\":\"Company Size\"},\"categoryorder\":\"array\",\"categoryarray\":[\"L\",\"S\",\"M\"]},\"yaxis\":{\"anchor\":\"x\",\"domain\":[0.0,1.0],\"title\":{\"text\":\"salary in usd\"}},\"legend\":{\"title\":{\"text\":\"Company Size\"},\"tracegroupgap\":0},\"title\":{\"text\":\"<b>Data Sceince Salaries by Company Size\"},\"boxmode\":\"overlay\"},                        {\"responsive\": true}                    ).then(function(){\n",
       "                            \n",
       "var gd = document.getElementById('71119d8e-8f1e-4be3-bc2c-e2cba94d280c');\n",
       "var x = new MutationObserver(function (mutations, observer) {{\n",
       "        var display = window.getComputedStyle(gd).display;\n",
       "        if (!display || display === 'none') {{\n",
       "            console.log([gd, 'removed!']);\n",
       "            Plotly.purge(gd);\n",
       "            observer.disconnect();\n",
       "        }}\n",
       "}});\n",
       "\n",
       "// Listen for the removal of the full notebook cells\n",
       "var notebookContainer = gd.closest('#notebook-container');\n",
       "if (notebookContainer) {{\n",
       "    x.observe(notebookContainer, {childList: true});\n",
       "}}\n",
       "\n",
       "// Listen for the clearing of the current output cell\n",
       "var outputEl = gd.closest('.output');\n",
       "if (outputEl) {{\n",
       "    x.observe(outputEl, {childList: true});\n",
       "}}\n",
       "\n",
       "                        })                };                });            </script>        </div>"
      ]
     },
     "metadata": {},
     "output_type": "display_data"
    }
   ],
   "source": [
    "px.box(df,x='company_size',y='salary_in_usd',color='company_size',template='ggplot2',labels={'company_size':'Company Size','salary_in_usd':'salary in usd'},title='<b>Data Sceince Salaries by Company Size')"
   ]
  },
  {
   "cell_type": "code",
   "execution_count": 24,
   "id": "3b524886",
   "metadata": {
    "execution": {
     "iopub.execute_input": "2022-09-20T17:48:42.744918Z",
     "iopub.status.busy": "2022-09-20T17:48:42.744504Z",
     "iopub.status.idle": "2022-09-20T17:48:42.982236Z",
     "shell.execute_reply": "2022-09-20T17:48:42.980935Z"
    },
    "papermill": {
     "duration": 0.254969,
     "end_time": "2022-09-20T17:48:42.984722",
     "exception": false,
     "start_time": "2022-09-20T17:48:42.729753",
     "status": "completed"
    },
    "tags": []
   },
   "outputs": [
    {
     "data": {
      "text/html": [
       "<div>                            <div id=\"06e82091-c25d-4354-8d69-fd1eab593e6e\" class=\"plotly-graph-div\" style=\"height:525px; width:100%;\"></div>            <script type=\"text/javascript\">                require([\"plotly\"], function(Plotly) {                    window.PLOTLYENV=window.PLOTLYENV || {};                                    if (document.getElementById(\"06e82091-c25d-4354-8d69-fd1eab593e6e\")) {                    Plotly.newPlot(                        \"06e82091-c25d-4354-8d69-fd1eab593e6e\",                        [{\"branchvalues\":\"total\",\"domain\":{\"x\":[0.0,1.0],\"y\":[0.0,1.0]},\"hovertemplate\":\"<b>%{hovertext}</b><br><br>labels=%{label}<br>count=%{value}<br>parent=%{parent}<br>id=%{id}<extra></extra>\",\"hovertext\":[\"AI Scientist\",\"Computer Vision Software Engineer\",\"Data Scientist\",\"Data Analyst\",\"Data Scientist\",\"Big Data Engineer\",\"Research Scientist\",\"Machine Learning Engineer\",\"Applied Machine Learning Scientist\",\"Data Engineer\",\"Data Science Consultant\",\"Data Scientist\",\"ML Engineer\",\"Machine Learning Engineer\",\"AI Scientist\",\"Computer Vision Engineer\",\"Data Scientist\",\"Data Analyst\",\"Data Analyst\",\"Data Scientist\",\"Applied Data Scientist\",\"Data Engineer\",\"Machine Learning Engineer\",\"Research Scientist\",\"Big Data Engineer\",\"Data Analyst\",\"Data Engineer\",\"Data Science Consultant\",\"Data Scientist\",\"Machine Learning Engineer\",\"Machine Learning Developer\",\"Data Scientist\",\"Data Engineer\",\"BI Data Analyst\",\"Business Data Analyst\",\"Computer Vision Engineer\",\"Data Scientist\",\"Data Analyst\",\"Research Scientist\",\"Data Analytics Engineer\",\"ML Engineer\",\"Data Scientist\",\"AI Scientist\",\"BI Data Analyst\",\"Big Data Engineer\",\"Business Data Analyst\",\"Computer Vision Engineer\",\"Computer Vision Software Engineer\",\"Data Analyst\",\"Data Engineer\",\"Data Science Consultant\",\"Data Scientist\",\"Financial Data Analyst\",\"Machine Learning Engineer\",\"Machine Learning Scientist\",\"Research Scientist\",\"Data Scientist\",\"Director of Data Science\",\"Lead Data Engineer\",\"Director of Data Science\",\"Data Engineering Manager\",\"Data Science Consultant\",\"Head of Machine Learning\",\"Director of Data Science\",\"Head of Data\",\"Head of Data Science\",\"Analytics Engineer\",\"BI Data Analyst\",\"Data Analyst\",\"Data Engineer\",\"Director of Data Science\",\"Head of Data\",\"Head of Data Science\",\"Principal Data Engineer\",\"Principal Data Scientist\",\"Lead Data Scientist\",\"Data Engineer\",\"Data Scientist\",\"Research Scientist\",\"Machine Learning Engineer\",\"Machine Learning Engineer\",\"Data Scientist\",\"Applied Data Scientist\",\"Business Data Analyst\",\"Data Analyst\",\"Data Scientist\",\"Machine Learning Developer\",\"Principal Data Analyst\",\"Research Scientist\",\"Data Scientist\",\"Data Scientist\",\"Machine Learning Engineer\",\"Research Scientist\",\"Data Engineer\",\"Data Engineering Manager\",\"Data Scientist\",\"Machine Learning Engineer\",\"Head of Data\",\"Data Analyst\",\"Data Engineer\",\"Data Scientist\",\"Machine Learning Engineer\",\"Data Analyst\",\"Data Engineer\",\"Data Scientist\",\"Research Scientist\",\"Data Analyst\",\"Data Engineer\",\"Data Scientist\",\"Machine Learning Engineer\",\"Data Analyst\",\"Data Engineer\",\"Data Science Engineer\",\"ETL Developer\",\"Product Data Analyst\",\"Data Scientist\",\"Data Scientist\",\"3D Computer Vision Researcher\",\"Big Data Engineer\",\"Business Data Analyst\",\"Data Scientist\",\"Lead Data Analyst\",\"Product Data Analyst\",\"Data Engineer\",\"Machine Learning Engineer\",\"ML Engineer\",\"Machine Learning Engineer\",\"Data Scientist\",\"Big Data Engineer\",\"Data Engineer\",\"Data Scientist\",\"Data Scientist\",\"Data Engineer\",\"Data Analyst\",\"Machine Learning Scientist\",\"Data Engineer\",\"Data Scientist\",\"Machine Learning Engineer\",\"Machine Learning Infrastructure Engineer\",\"Big Data Engineer\",\"Cloud Data Engineer\",\"Machine Learning Engineer\",\"Data Engineer\",\"AI Scientist\",\"Applied Data Scientist\",\"Applied Machine Learning Scientist\",\"BI Data Analyst\",\"Business Data Analyst\",\"Computer Vision Software Engineer\",\"Data Analyst\",\"Data Analytics Engineer\",\"Data Architect\",\"Data Engineer\",\"Data Science Consultant\",\"Data Science Manager\",\"Data Scientist\",\"Financial Data Analyst\",\"Head of Data Science\",\"Lead Data Analyst\",\"Lead Data Engineer\",\"ML Engineer\",\"Machine Learning Engineer\",\"Machine Learning Scientist\",\"NLP Engineer\",\"Principal Data Scientist\",\"Research Scientist\",\"Machine Learning Engineer\",\"Data Scientist\",\"Machine Learning Engineer\",\"Computer Vision Engineer\",\"Big Data Architect\",\"Data Analyst\",\"Data Architect\",\"Data Science Engineer\",\"Data Scientist\",\"Machine Learning Developer\",\"Machine Learning Manager\",\"Machine Learning Scientist\",\"Research Scientist\",\"Data Analyst\",\"Data Analytics Engineer\",\"Lead Machine Learning Engineer\",\"Machine Learning Engineer\",\"Principal Data Scientist\",\"Marketing Data Analyst\",\"AI Scientist\",\"Data Science Manager\",\"Data Scientist\",\"Research Scientist\",\"Big Data Engineer\",\"Data Analytics Engineer\",\"Data Engineer\",\"Data Scientist\",\"Director of Data Engineering\",\"Finance Data Analyst\",\"Lead Data Engineer\",\"Data Engineer\",\"Machine Learning Engineer\",\"Machine Learning Engineer\",\"Data Science Manager\",\"Lead Data Scientist\",\"Machine Learning Engineer\",\"Director of Data Science\",\"Machine Learning Scientist\",\"Data Engineer\",\"Data Science Engineer\",\"Machine Learning Engineer\",\"Lead Data Engineer\",\"Research Scientist\",\"Head of Data\",\"Data Scientist\",\"Analytics Engineer\",\"Applied Data Scientist\",\"Cloud Data Engineer\",\"Computer Vision Engineer\",\"Data Analyst\",\"Data Analytics Lead\",\"Data Analytics Manager\",\"Data Architect\",\"Data Engineer\",\"Data Engineering Manager\",\"Data Science Manager\",\"Data Scientist\",\"Data Specialist\",\"Director of Data Engineering\",\"Head of Data\",\"Lead Data Analyst\",\"Lead Data Engineer\",\"Lead Data Scientist\",\"ML Engineer\",\"Machine Learning Engineer\",\"Machine Learning Infrastructure Engineer\",\"Machine Learning Scientist\",\"Principal Data Analyst\",\"Principal Data Engineer\",\"Principal Data Scientist\",\"Research Scientist\",\"Staff Data Scientist\",\"Lead Data Scientist\",\"Machine Learning Engineer\",\"AI Scientist\",\"Data Engineer\",\"Data Scientist\",\"Research Scientist\",\"Computer Vision Software Engineer\",\"Data Scientist\",\"Machine Learning Engineer\",\"Machine Learning Engineer\",\"Computer Vision Engineer\",\"Data Scientist\",\"Applied Data Scientist\",\"Big Data Architect\",\"Business Data Analyst\",\"Data Analyst\",\"Data Architect\",\"Data Science Engineer\",\"Data Scientist\",\"Director of Data Science\",\"Lead Data Engineer\",\"Machine Learning Developer\",\"Machine Learning Manager\",\"Machine Learning Scientist\",\"Principal Data Analyst\",\"Research Scientist\",\"Big Data Engineer\",\"Data Scientist\",\"Data Scientist\",\"Machine Learning Engineer\",\"Research Scientist\",\"Machine Learning Engineer\",\"Applied Machine Learning Scientist\",\"Research Scientist\",\"Data Analyst\",\"Data Analytics Engineer\",\"Data Engineer\",\"Data Engineering Manager\",\"Data Science Consultant\",\"Data Scientist\",\"Director of Data Science\",\"Lead Machine Learning Engineer\",\"ML Engineer\",\"Machine Learning Engineer\",\"Principal Data Scientist\",\"AI Scientist\",\"Computer Vision Engineer\",\"Marketing Data Analyst\",\"Data Scientist\",\"Head of Data\",\"AI Scientist\",\"Data Analyst\",\"Data Engineer\",\"Data Engineering Manager\",\"Data Science Consultant\",\"Data Scientist\",\"Machine Learning Engineer\",\"Data Analyst\",\"Data Engineer\",\"Data Science Manager\",\"Data Scientist\",\"Research Scientist\",\"Applied Data Scientist\",\"Big Data Engineer\",\"Data Analyst\",\"Data Analytics Engineer\",\"Data Engineer\",\"Data Scientist\",\"Director of Data Engineering\",\"Finance Data Analyst\",\"Lead Data Engineer\",\"Machine Learning Engineer\",\"Research Scientist\",\"Data Analyst\",\"Data Engineer\",\"Data Science Engineer\",\"ETL Developer\",\"Product Data Analyst\",\"Machine Learning Engineer\",\"Data Scientist\",\"Machine Learning Engineer\",\"Data Scientist\",\"3D Computer Vision Researcher\",\"Big Data Engineer\",\"Business Data Analyst\",\"Data Analyst\",\"Data Engineer\",\"Data Science Consultant\",\"Data Science Manager\",\"Data Scientist\",\"Head of Machine Learning\",\"Lead Data Analyst\",\"Lead Data Scientist\",\"Machine Learning Engineer\",\"Product Data Analyst\",\"Machine Learning Developer\",\"Data Engineer\",\"Data Scientist\",\"Machine Learning Engineer\",\"Data Engineer\",\"Director of Data Science\",\"ML Engineer\",\"Machine Learning Engineer\",\"Machine Learning Scientist\",\"BI Data Analyst\",\"Business Data Analyst\",\"Computer Vision Engineer\",\"Data Scientist\",\"Big Data Engineer\",\"Data Engineer\",\"Data Engineer\",\"Data Science Engineer\",\"Data Scientist\",\"Data Scientist\",\"Data Analyst\",\"Data Scientist\",\"Data Engineer\",\"Machine Learning Engineer\",\"Research Scientist\",\"Lead Data Engineer\",\"Data Analyst\",\"Data Analytics Engineer\",\"Machine Learning Scientist\",\"Data Engineer\",\"Data Scientist\",\"Director of Data Science\",\"Machine Learning Engineer\",\"ML Engineer\",\"Machine Learning Infrastructure Engineer\",\"Research Scientist\",\"Big Data Engineer\",\"Head of Data\",\"Head of Data Science\",\"Cloud Data Engineer\",\"Head of Data\",\"Machine Learning Engineer\",\"Data Engineer\",\"Data Scientist\",\"Data Scientist\",\"AI Scientist\",\"Analytics Engineer\",\"Applied Data Scientist\",\"Applied Machine Learning Scientist\",\"BI Data Analyst\",\"Big Data Engineer\",\"Business Data Analyst\",\"Cloud Data Engineer\",\"Computer Vision Engineer\",\"Computer Vision Software Engineer\",\"Data Analyst\",\"Data Analytics Engineer\",\"Data Analytics Lead\",\"Data Analytics Manager\",\"Data Architect\",\"Data Engineer\",\"Data Engineering Manager\",\"Data Science Consultant\",\"Data Science Manager\",\"Data Scientist\",\"Data Specialist\",\"Director of Data Engineering\",\"Director of Data Science\",\"Financial Data Analyst\",\"Head of Data\",\"Head of Data Science\",\"Lead Data Analyst\",\"Lead Data Engineer\",\"Lead Data Scientist\",\"ML Engineer\",\"Machine Learning Engineer\",\"Machine Learning Infrastructure Engineer\",\"Machine Learning Scientist\",\"NLP Engineer\",\"Principal Data Analyst\",\"Principal Data Engineer\",\"Principal Data Scientist\",\"Research Scientist\",\"Staff Data Scientist\",\"Data Scientist\",\"3D Computer Vision Researcher\",\"AI Scientist\",\"Analytics Engineer\",\"Applied Data Scientist\",\"Applied Machine Learning Scientist\",\"BI Data Analyst\",\"Big Data Architect\",\"Big Data Engineer\",\"Business Data Analyst\",\"Cloud Data Engineer\",\"Computer Vision Engineer\",\"Computer Vision Software Engineer\",\"Data Analyst\",\"Data Analytics Engineer\",\"Data Analytics Lead\",\"Data Analytics Manager\",\"Data Architect\",\"Data Engineer\",\"Data Engineering Manager\",\"Data Science Consultant\",\"Data Science Engineer\",\"Data Science Manager\",\"Data Scientist\",\"Data Specialist\",\"Director of Data Engineering\",\"Director of Data Science\",\"ETL Developer\",\"Finance Data Analyst\",\"Financial Data Analyst\",\"Head of Data\",\"Head of Data Science\",\"Head of Machine Learning\",\"Lead Data Analyst\",\"Lead Data Engineer\",\"Lead Data Scientist\",\"Lead Machine Learning Engineer\",\"ML Engineer\",\"Machine Learning Developer\",\"Machine Learning Engineer\",\"Machine Learning Infrastructure Engineer\",\"Machine Learning Manager\",\"Machine Learning Scientist\",\"Marketing Data Analyst\",\"NLP Engineer\",\"Principal Data Analyst\",\"Principal Data Engineer\",\"Principal Data Scientist\",\"Product Data Analyst\",\"Research Scientist\",\"Staff Data Scientist\",\"(?)\"],\"ids\":[\"Job Roles/AI Scientist/AS/Entry-Level\",\"Job Roles/Computer Vision Software Engineer/AU/Entry-Level\",\"Job Roles/Data Scientist/AU/Entry-Level\",\"Job Roles/Data Analyst/CA/Entry-Level\",\"Job Roles/Data Scientist/CA/Entry-Level\",\"Job Roles/Big Data Engineer/CH/Entry-Level\",\"Job Roles/Research Scientist/CN/Entry-Level\",\"Job Roles/Machine Learning Engineer/CO/Entry-Level\",\"Job Roles/Applied Machine Learning Scientist/CZ/Entry-Level\",\"Job Roles/Data Engineer/DE/Entry-Level\",\"Job Roles/Data Science Consultant/DE/Entry-Level\",\"Job Roles/Data Scientist/DE/Entry-Level\",\"Job Roles/ML Engineer/DE/Entry-Level\",\"Job Roles/Machine Learning Engineer/DE/Entry-Level\",\"Job Roles/AI Scientist/DK/Entry-Level\",\"Job Roles/Computer Vision Engineer/DK/Entry-Level\",\"Job Roles/Data Scientist/DZ/Entry-Level\",\"Job Roles/Data Analyst/ES/Entry-Level\",\"Job Roles/Data Analyst/FR/Entry-Level\",\"Job Roles/Data Scientist/FR/Entry-Level\",\"Job Roles/Applied Data Scientist/GB/Entry-Level\",\"Job Roles/Data Engineer/GB/Entry-Level\",\"Job Roles/Machine Learning Engineer/GB/Entry-Level\",\"Job Roles/Research Scientist/GB/Entry-Level\",\"Job Roles/Big Data Engineer/IN/Entry-Level\",\"Job Roles/Data Analyst/IN/Entry-Level\",\"Job Roles/Data Engineer/IN/Entry-Level\",\"Job Roles/Data Science Consultant/IN/Entry-Level\",\"Job Roles/Data Scientist/IN/Entry-Level\",\"Job Roles/Machine Learning Engineer/IN/Entry-Level\",\"Job Roles/Machine Learning Developer/IQ/Entry-Level\",\"Job Roles/Data Scientist/IT/Entry-Level\",\"Job Roles/Data Engineer/JP/Entry-Level\",\"Job Roles/BI Data Analyst/KE/Entry-Level\",\"Job Roles/Business Data Analyst/LU/Entry-Level\",\"Job Roles/Computer Vision Engineer/LU/Entry-Level\",\"Job Roles/Data Scientist/MY/Entry-Level\",\"Job Roles/Data Analyst/NG/Entry-Level\",\"Job Roles/Research Scientist/NL/Entry-Level\",\"Job Roles/Data Analytics Engineer/PK/Entry-Level\",\"Job Roles/ML Engineer/PT/Entry-Level\",\"Job Roles/Data Scientist/UA/Entry-Level\",\"Job Roles/AI Scientist/US/Entry-Level\",\"Job Roles/BI Data Analyst/US/Entry-Level\",\"Job Roles/Big Data Engineer/US/Entry-Level\",\"Job Roles/Business Data Analyst/US/Entry-Level\",\"Job Roles/Computer Vision Engineer/US/Entry-Level\",\"Job Roles/Computer Vision Software Engineer/US/Entry-Level\",\"Job Roles/Data Analyst/US/Entry-Level\",\"Job Roles/Data Engineer/US/Entry-Level\",\"Job Roles/Data Science Consultant/US/Entry-Level\",\"Job Roles/Data Scientist/US/Entry-Level\",\"Job Roles/Financial Data Analyst/US/Entry-Level\",\"Job Roles/Machine Learning Engineer/US/Entry-Level\",\"Job Roles/Machine Learning Scientist/US/Entry-Level\",\"Job Roles/Research Scientist/US/Entry-Level\",\"Job Roles/Data Scientist/VN/Entry-Level\",\"Job Roles/Director of Data Science/CA/Executive Level\",\"Job Roles/Lead Data Engineer/CA/Executive Level\",\"Job Roles/Director of Data Science/DE/Executive Level\",\"Job Roles/Data Engineering Manager/ES/Executive Level\",\"Job Roles/Data Science Consultant/ES/Executive Level\",\"Job Roles/Head of Machine Learning/IN/Executive Level\",\"Job Roles/Director of Data Science/PL/Executive Level\",\"Job Roles/Head of Data/RU/Executive Level\",\"Job Roles/Head of Data Science/RU/Executive Level\",\"Job Roles/Analytics Engineer/US/Executive Level\",\"Job Roles/BI Data Analyst/US/Executive Level\",\"Job Roles/Data Analyst/US/Executive Level\",\"Job Roles/Data Engineer/US/Executive Level\",\"Job Roles/Director of Data Science/US/Executive Level\",\"Job Roles/Head of Data/US/Executive Level\",\"Job Roles/Head of Data Science/US/Executive Level\",\"Job Roles/Principal Data Engineer/US/Executive Level\",\"Job Roles/Principal Data Scientist/US/Executive Level\",\"Job Roles/Lead Data Scientist/AE/Mid-Level\",\"Job Roles/Data Engineer/AT/Mid-Level\",\"Job Roles/Data Scientist/AT/Mid-Level\",\"Job Roles/Research Scientist/AT/Mid-Level\",\"Job Roles/Machine Learning Engineer/AU/Mid-Level\",\"Job Roles/Machine Learning Engineer/BE/Mid-Level\",\"Job Roles/Data Scientist/BR/Mid-Level\",\"Job Roles/Applied Data Scientist/CA/Mid-Level\",\"Job Roles/Business Data Analyst/CA/Mid-Level\",\"Job Roles/Data Analyst/CA/Mid-Level\",\"Job Roles/Data Scientist/CA/Mid-Level\",\"Job Roles/Machine Learning Developer/CA/Mid-Level\",\"Job Roles/Principal Data Analyst/CA/Mid-Level\",\"Job Roles/Research Scientist/CA/Mid-Level\",\"Job Roles/Data Scientist/CH/Mid-Level\",\"Job Roles/Data Scientist/CL/Mid-Level\",\"Job Roles/Machine Learning Engineer/CN/Mid-Level\",\"Job Roles/Research Scientist/CZ/Mid-Level\",\"Job Roles/Data Engineer/DE/Mid-Level\",\"Job Roles/Data Engineering Manager/DE/Mid-Level\",\"Job Roles/Data Scientist/DE/Mid-Level\",\"Job Roles/Machine Learning Engineer/DE/Mid-Level\",\"Job Roles/Head of Data/EE/Mid-Level\",\"Job Roles/Data Analyst/ES/Mid-Level\",\"Job Roles/Data Engineer/ES/Mid-Level\",\"Job Roles/Data Scientist/ES/Mid-Level\",\"Job Roles/Machine Learning Engineer/ES/Mid-Level\",\"Job Roles/Data Analyst/FR/Mid-Level\",\"Job Roles/Data Engineer/FR/Mid-Level\",\"Job Roles/Data Scientist/FR/Mid-Level\",\"Job Roles/Research Scientist/FR/Mid-Level\",\"Job Roles/Data Analyst/GB/Mid-Level\",\"Job Roles/Data Engineer/GB/Mid-Level\",\"Job Roles/Data Scientist/GB/Mid-Level\",\"Job Roles/Machine Learning Engineer/GB/Mid-Level\",\"Job Roles/Data Analyst/GR/Mid-Level\",\"Job Roles/Data Engineer/GR/Mid-Level\",\"Job Roles/Data Science Engineer/GR/Mid-Level\",\"Job Roles/ETL Developer/GR/Mid-Level\",\"Job Roles/Product Data Analyst/HN/Mid-Level\",\"Job Roles/Data Scientist/HU/Mid-Level\",\"Job Roles/Data Scientist/IL/Mid-Level\",\"Job Roles/3D Computer Vision Researcher/IN/Mid-Level\",\"Job Roles/Big Data Engineer/IN/Mid-Level\",\"Job Roles/Business Data Analyst/IN/Mid-Level\",\"Job Roles/Data Scientist/IN/Mid-Level\",\"Job Roles/Lead Data Analyst/IN/Mid-Level\",\"Job Roles/Product Data Analyst/IN/Mid-Level\",\"Job Roles/Data Engineer/IR/Mid-Level\",\"Job Roles/Machine Learning Engineer/IT/Mid-Level\",\"Job Roles/ML Engineer/JP/Mid-Level\",\"Job Roles/Machine Learning Engineer/JP/Mid-Level\",\"Job Roles/Data Scientist/LU/Mid-Level\",\"Job Roles/Big Data Engineer/MD/Mid-Level\",\"Job Roles/Data Engineer/MT/Mid-Level\",\"Job Roles/Data Scientist/MX/Mid-Level\",\"Job Roles/Data Scientist/NG/Mid-Level\",\"Job Roles/Data Engineer/NL/Mid-Level\",\"Job Roles/Data Analyst/PK/Mid-Level\",\"Job Roles/Machine Learning Scientist/PK/Mid-Level\",\"Job Roles/Data Engineer/PL/Mid-Level\",\"Job Roles/Data Scientist/PL/Mid-Level\",\"Job Roles/Machine Learning Engineer/PL/Mid-Level\",\"Job Roles/Machine Learning Infrastructure Engineer/PT/Mid-Level\",\"Job Roles/Big Data Engineer/RO/Mid-Level\",\"Job Roles/Cloud Data Engineer/SG/Mid-Level\",\"Job Roles/Machine Learning Engineer/SI/Mid-Level\",\"Job Roles/Data Engineer/TR/Mid-Level\",\"Job Roles/AI Scientist/US/Mid-Level\",\"Job Roles/Applied Data Scientist/US/Mid-Level\",\"Job Roles/Applied Machine Learning Scientist/US/Mid-Level\",\"Job Roles/BI Data Analyst/US/Mid-Level\",\"Job Roles/Business Data Analyst/US/Mid-Level\",\"Job Roles/Computer Vision Software Engineer/US/Mid-Level\",\"Job Roles/Data Analyst/US/Mid-Level\",\"Job Roles/Data Analytics Engineer/US/Mid-Level\",\"Job Roles/Data Architect/US/Mid-Level\",\"Job Roles/Data Engineer/US/Mid-Level\",\"Job Roles/Data Science Consultant/US/Mid-Level\",\"Job Roles/Data Science Manager/US/Mid-Level\",\"Job Roles/Data Scientist/US/Mid-Level\",\"Job Roles/Financial Data Analyst/US/Mid-Level\",\"Job Roles/Head of Data Science/US/Mid-Level\",\"Job Roles/Lead Data Analyst/US/Mid-Level\",\"Job Roles/Lead Data Engineer/US/Mid-Level\",\"Job Roles/ML Engineer/US/Mid-Level\",\"Job Roles/Machine Learning Engineer/US/Mid-Level\",\"Job Roles/Machine Learning Scientist/US/Mid-Level\",\"Job Roles/NLP Engineer/US/Mid-Level\",\"Job Roles/Principal Data Scientist/US/Mid-Level\",\"Job Roles/Research Scientist/US/Mid-Level\",\"Job Roles/Machine Learning Engineer/AE/Senior\",\"Job Roles/Data Scientist/AT/Senior\",\"Job Roles/Machine Learning Engineer/BE/Senior\",\"Job Roles/Computer Vision Engineer/BR/Senior\",\"Job Roles/Big Data Architect/CA/Senior\",\"Job Roles/Data Analyst/CA/Senior\",\"Job Roles/Data Architect/CA/Senior\",\"Job Roles/Data Science Engineer/CA/Senior\",\"Job Roles/Data Scientist/CA/Senior\",\"Job Roles/Machine Learning Developer/CA/Senior\",\"Job Roles/Machine Learning Manager/CA/Senior\",\"Job Roles/Machine Learning Scientist/CA/Senior\",\"Job Roles/Research Scientist/CA/Senior\",\"Job Roles/Data Analyst/DE/Senior\",\"Job Roles/Data Analytics Engineer/DE/Senior\",\"Job Roles/Lead Machine Learning Engineer/DE/Senior\",\"Job Roles/Machine Learning Engineer/DE/Senior\",\"Job Roles/Principal Data Scientist/DE/Senior\",\"Job Roles/Marketing Data Analyst/DK/Senior\",\"Job Roles/AI Scientist/ES/Senior\",\"Job Roles/Data Science Manager/FR/Senior\",\"Job Roles/Data Scientist/FR/Senior\",\"Job Roles/Research Scientist/FR/Senior\",\"Job Roles/Big Data Engineer/GB/Senior\",\"Job Roles/Data Analytics Engineer/GB/Senior\",\"Job Roles/Data Engineer/GB/Senior\",\"Job Roles/Data Scientist/GB/Senior\",\"Job Roles/Director of Data Engineering/GB/Senior\",\"Job Roles/Finance Data Analyst/GB/Senior\",\"Job Roles/Lead Data Engineer/GB/Senior\",\"Job Roles/Data Engineer/GR/Senior\",\"Job Roles/Machine Learning Engineer/HR/Senior\",\"Job Roles/Machine Learning Engineer/IE/Senior\",\"Job Roles/Data Science Manager/IN/Senior\",\"Job Roles/Lead Data Scientist/IN/Senior\",\"Job Roles/Machine Learning Engineer/IN/Senior\",\"Job Roles/Director of Data Science/JP/Senior\",\"Job Roles/Machine Learning Scientist/JP/Senior\",\"Job Roles/Data Engineer/MX/Senior\",\"Job Roles/Data Science Engineer/MX/Senior\",\"Job Roles/Machine Learning Engineer/NL/Senior\",\"Job Roles/Lead Data Engineer/NZ/Senior\",\"Job Roles/Research Scientist/PT/Senior\",\"Job Roles/Head of Data/SI/Senior\",\"Job Roles/Data Scientist/TR/Senior\",\"Job Roles/Analytics Engineer/US/Senior\",\"Job Roles/Applied Data Scientist/US/Senior\",\"Job Roles/Cloud Data Engineer/US/Senior\",\"Job Roles/Computer Vision Engineer/US/Senior\",\"Job Roles/Data Analyst/US/Senior\",\"Job Roles/Data Analytics Lead/US/Senior\",\"Job Roles/Data Analytics Manager/US/Senior\",\"Job Roles/Data Architect/US/Senior\",\"Job Roles/Data Engineer/US/Senior\",\"Job Roles/Data Engineering Manager/US/Senior\",\"Job Roles/Data Science Manager/US/Senior\",\"Job Roles/Data Scientist/US/Senior\",\"Job Roles/Data Specialist/US/Senior\",\"Job Roles/Director of Data Engineering/US/Senior\",\"Job Roles/Head of Data/US/Senior\",\"Job Roles/Lead Data Analyst/US/Senior\",\"Job Roles/Lead Data Engineer/US/Senior\",\"Job Roles/Lead Data Scientist/US/Senior\",\"Job Roles/ML Engineer/US/Senior\",\"Job Roles/Machine Learning Engineer/US/Senior\",\"Job Roles/Machine Learning Infrastructure Engineer/US/Senior\",\"Job Roles/Machine Learning Scientist/US/Senior\",\"Job Roles/Principal Data Analyst/US/Senior\",\"Job Roles/Principal Data Engineer/US/Senior\",\"Job Roles/Principal Data Scientist/US/Senior\",\"Job Roles/Research Scientist/US/Senior\",\"Job Roles/Staff Data Scientist/US/Senior\",\"Job Roles/Lead Data Scientist/AE\",\"Job Roles/Machine Learning Engineer/AE\",\"Job Roles/AI Scientist/AS\",\"Job Roles/Data Engineer/AT\",\"Job Roles/Data Scientist/AT\",\"Job Roles/Research Scientist/AT\",\"Job Roles/Computer Vision Software Engineer/AU\",\"Job Roles/Data Scientist/AU\",\"Job Roles/Machine Learning Engineer/AU\",\"Job Roles/Machine Learning Engineer/BE\",\"Job Roles/Computer Vision Engineer/BR\",\"Job Roles/Data Scientist/BR\",\"Job Roles/Applied Data Scientist/CA\",\"Job Roles/Big Data Architect/CA\",\"Job Roles/Business Data Analyst/CA\",\"Job Roles/Data Analyst/CA\",\"Job Roles/Data Architect/CA\",\"Job Roles/Data Science Engineer/CA\",\"Job Roles/Data Scientist/CA\",\"Job Roles/Director of Data Science/CA\",\"Job Roles/Lead Data Engineer/CA\",\"Job Roles/Machine Learning Developer/CA\",\"Job Roles/Machine Learning Manager/CA\",\"Job Roles/Machine Learning Scientist/CA\",\"Job Roles/Principal Data Analyst/CA\",\"Job Roles/Research Scientist/CA\",\"Job Roles/Big Data Engineer/CH\",\"Job Roles/Data Scientist/CH\",\"Job Roles/Data Scientist/CL\",\"Job Roles/Machine Learning Engineer/CN\",\"Job Roles/Research Scientist/CN\",\"Job Roles/Machine Learning Engineer/CO\",\"Job Roles/Applied Machine Learning Scientist/CZ\",\"Job Roles/Research Scientist/CZ\",\"Job Roles/Data Analyst/DE\",\"Job Roles/Data Analytics Engineer/DE\",\"Job Roles/Data Engineer/DE\",\"Job Roles/Data Engineering Manager/DE\",\"Job Roles/Data Science Consultant/DE\",\"Job Roles/Data Scientist/DE\",\"Job Roles/Director of Data Science/DE\",\"Job Roles/Lead Machine Learning Engineer/DE\",\"Job Roles/ML Engineer/DE\",\"Job Roles/Machine Learning Engineer/DE\",\"Job Roles/Principal Data Scientist/DE\",\"Job Roles/AI Scientist/DK\",\"Job Roles/Computer Vision Engineer/DK\",\"Job Roles/Marketing Data Analyst/DK\",\"Job Roles/Data Scientist/DZ\",\"Job Roles/Head of Data/EE\",\"Job Roles/AI Scientist/ES\",\"Job Roles/Data Analyst/ES\",\"Job Roles/Data Engineer/ES\",\"Job Roles/Data Engineering Manager/ES\",\"Job Roles/Data Science Consultant/ES\",\"Job Roles/Data Scientist/ES\",\"Job Roles/Machine Learning Engineer/ES\",\"Job Roles/Data Analyst/FR\",\"Job Roles/Data Engineer/FR\",\"Job Roles/Data Science Manager/FR\",\"Job Roles/Data Scientist/FR\",\"Job Roles/Research Scientist/FR\",\"Job Roles/Applied Data Scientist/GB\",\"Job Roles/Big Data Engineer/GB\",\"Job Roles/Data Analyst/GB\",\"Job Roles/Data Analytics Engineer/GB\",\"Job Roles/Data Engineer/GB\",\"Job Roles/Data Scientist/GB\",\"Job Roles/Director of Data Engineering/GB\",\"Job Roles/Finance Data Analyst/GB\",\"Job Roles/Lead Data Engineer/GB\",\"Job Roles/Machine Learning Engineer/GB\",\"Job Roles/Research Scientist/GB\",\"Job Roles/Data Analyst/GR\",\"Job Roles/Data Engineer/GR\",\"Job Roles/Data Science Engineer/GR\",\"Job Roles/ETL Developer/GR\",\"Job Roles/Product Data Analyst/HN\",\"Job Roles/Machine Learning Engineer/HR\",\"Job Roles/Data Scientist/HU\",\"Job Roles/Machine Learning Engineer/IE\",\"Job Roles/Data Scientist/IL\",\"Job Roles/3D Computer Vision Researcher/IN\",\"Job Roles/Big Data Engineer/IN\",\"Job Roles/Business Data Analyst/IN\",\"Job Roles/Data Analyst/IN\",\"Job Roles/Data Engineer/IN\",\"Job Roles/Data Science Consultant/IN\",\"Job Roles/Data Science Manager/IN\",\"Job Roles/Data Scientist/IN\",\"Job Roles/Head of Machine Learning/IN\",\"Job Roles/Lead Data Analyst/IN\",\"Job Roles/Lead Data Scientist/IN\",\"Job Roles/Machine Learning Engineer/IN\",\"Job Roles/Product Data Analyst/IN\",\"Job Roles/Machine Learning Developer/IQ\",\"Job Roles/Data Engineer/IR\",\"Job Roles/Data Scientist/IT\",\"Job Roles/Machine Learning Engineer/IT\",\"Job Roles/Data Engineer/JP\",\"Job Roles/Director of Data Science/JP\",\"Job Roles/ML Engineer/JP\",\"Job Roles/Machine Learning Engineer/JP\",\"Job Roles/Machine Learning Scientist/JP\",\"Job Roles/BI Data Analyst/KE\",\"Job Roles/Business Data Analyst/LU\",\"Job Roles/Computer Vision Engineer/LU\",\"Job Roles/Data Scientist/LU\",\"Job Roles/Big Data Engineer/MD\",\"Job Roles/Data Engineer/MT\",\"Job Roles/Data Engineer/MX\",\"Job Roles/Data Science Engineer/MX\",\"Job Roles/Data Scientist/MX\",\"Job Roles/Data Scientist/MY\",\"Job Roles/Data Analyst/NG\",\"Job Roles/Data Scientist/NG\",\"Job Roles/Data Engineer/NL\",\"Job Roles/Machine Learning Engineer/NL\",\"Job Roles/Research Scientist/NL\",\"Job Roles/Lead Data Engineer/NZ\",\"Job Roles/Data Analyst/PK\",\"Job Roles/Data Analytics Engineer/PK\",\"Job Roles/Machine Learning Scientist/PK\",\"Job Roles/Data Engineer/PL\",\"Job Roles/Data Scientist/PL\",\"Job Roles/Director of Data Science/PL\",\"Job Roles/Machine Learning Engineer/PL\",\"Job Roles/ML Engineer/PT\",\"Job Roles/Machine Learning Infrastructure Engineer/PT\",\"Job Roles/Research Scientist/PT\",\"Job Roles/Big Data Engineer/RO\",\"Job Roles/Head of Data/RU\",\"Job Roles/Head of Data Science/RU\",\"Job Roles/Cloud Data Engineer/SG\",\"Job Roles/Head of Data/SI\",\"Job Roles/Machine Learning Engineer/SI\",\"Job Roles/Data Engineer/TR\",\"Job Roles/Data Scientist/TR\",\"Job Roles/Data Scientist/UA\",\"Job Roles/AI Scientist/US\",\"Job Roles/Analytics Engineer/US\",\"Job Roles/Applied Data Scientist/US\",\"Job Roles/Applied Machine Learning Scientist/US\",\"Job Roles/BI Data Analyst/US\",\"Job Roles/Big Data Engineer/US\",\"Job Roles/Business Data Analyst/US\",\"Job Roles/Cloud Data Engineer/US\",\"Job Roles/Computer Vision Engineer/US\",\"Job Roles/Computer Vision Software Engineer/US\",\"Job Roles/Data Analyst/US\",\"Job Roles/Data Analytics Engineer/US\",\"Job Roles/Data Analytics Lead/US\",\"Job Roles/Data Analytics Manager/US\",\"Job Roles/Data Architect/US\",\"Job Roles/Data Engineer/US\",\"Job Roles/Data Engineering Manager/US\",\"Job Roles/Data Science Consultant/US\",\"Job Roles/Data Science Manager/US\",\"Job Roles/Data Scientist/US\",\"Job Roles/Data Specialist/US\",\"Job Roles/Director of Data Engineering/US\",\"Job Roles/Director of Data Science/US\",\"Job Roles/Financial Data Analyst/US\",\"Job Roles/Head of Data/US\",\"Job Roles/Head of Data Science/US\",\"Job Roles/Lead Data Analyst/US\",\"Job Roles/Lead Data Engineer/US\",\"Job Roles/Lead Data Scientist/US\",\"Job Roles/ML Engineer/US\",\"Job Roles/Machine Learning Engineer/US\",\"Job Roles/Machine Learning Infrastructure Engineer/US\",\"Job Roles/Machine Learning Scientist/US\",\"Job Roles/NLP Engineer/US\",\"Job Roles/Principal Data Analyst/US\",\"Job Roles/Principal Data Engineer/US\",\"Job Roles/Principal Data Scientist/US\",\"Job Roles/Research Scientist/US\",\"Job Roles/Staff Data Scientist/US\",\"Job Roles/Data Scientist/VN\",\"Job Roles/3D Computer Vision Researcher\",\"Job Roles/AI Scientist\",\"Job Roles/Analytics Engineer\",\"Job Roles/Applied Data Scientist\",\"Job Roles/Applied Machine Learning Scientist\",\"Job Roles/BI Data Analyst\",\"Job Roles/Big Data Architect\",\"Job Roles/Big Data Engineer\",\"Job Roles/Business Data Analyst\",\"Job Roles/Cloud Data Engineer\",\"Job Roles/Computer Vision Engineer\",\"Job Roles/Computer Vision Software Engineer\",\"Job Roles/Data Analyst\",\"Job Roles/Data Analytics Engineer\",\"Job Roles/Data Analytics Lead\",\"Job Roles/Data Analytics Manager\",\"Job Roles/Data Architect\",\"Job Roles/Data Engineer\",\"Job Roles/Data Engineering Manager\",\"Job Roles/Data Science Consultant\",\"Job Roles/Data Science Engineer\",\"Job Roles/Data Science Manager\",\"Job Roles/Data Scientist\",\"Job Roles/Data Specialist\",\"Job Roles/Director of Data Engineering\",\"Job Roles/Director of Data Science\",\"Job Roles/ETL Developer\",\"Job Roles/Finance Data Analyst\",\"Job Roles/Financial Data Analyst\",\"Job Roles/Head of Data\",\"Job Roles/Head of Data Science\",\"Job Roles/Head of Machine Learning\",\"Job Roles/Lead Data Analyst\",\"Job Roles/Lead Data Engineer\",\"Job Roles/Lead Data Scientist\",\"Job Roles/Lead Machine Learning Engineer\",\"Job Roles/ML Engineer\",\"Job Roles/Machine Learning Developer\",\"Job Roles/Machine Learning Engineer\",\"Job Roles/Machine Learning Infrastructure Engineer\",\"Job Roles/Machine Learning Manager\",\"Job Roles/Machine Learning Scientist\",\"Job Roles/Marketing Data Analyst\",\"Job Roles/NLP Engineer\",\"Job Roles/Principal Data Analyst\",\"Job Roles/Principal Data Engineer\",\"Job Roles/Principal Data Scientist\",\"Job Roles/Product Data Analyst\",\"Job Roles/Research Scientist\",\"Job Roles/Staff Data Scientist\",\"Job Roles\"],\"labels\":[\"Entry-Level\",\"Entry-Level\",\"Entry-Level\",\"Entry-Level\",\"Entry-Level\",\"Entry-Level\",\"Entry-Level\",\"Entry-Level\",\"Entry-Level\",\"Entry-Level\",\"Entry-Level\",\"Entry-Level\",\"Entry-Level\",\"Entry-Level\",\"Entry-Level\",\"Entry-Level\",\"Entry-Level\",\"Entry-Level\",\"Entry-Level\",\"Entry-Level\",\"Entry-Level\",\"Entry-Level\",\"Entry-Level\",\"Entry-Level\",\"Entry-Level\",\"Entry-Level\",\"Entry-Level\",\"Entry-Level\",\"Entry-Level\",\"Entry-Level\",\"Entry-Level\",\"Entry-Level\",\"Entry-Level\",\"Entry-Level\",\"Entry-Level\",\"Entry-Level\",\"Entry-Level\",\"Entry-Level\",\"Entry-Level\",\"Entry-Level\",\"Entry-Level\",\"Entry-Level\",\"Entry-Level\",\"Entry-Level\",\"Entry-Level\",\"Entry-Level\",\"Entry-Level\",\"Entry-Level\",\"Entry-Level\",\"Entry-Level\",\"Entry-Level\",\"Entry-Level\",\"Entry-Level\",\"Entry-Level\",\"Entry-Level\",\"Entry-Level\",\"Entry-Level\",\"Executive Level\",\"Executive Level\",\"Executive Level\",\"Executive Level\",\"Executive Level\",\"Executive Level\",\"Executive Level\",\"Executive Level\",\"Executive Level\",\"Executive Level\",\"Executive Level\",\"Executive Level\",\"Executive Level\",\"Executive Level\",\"Executive Level\",\"Executive Level\",\"Executive Level\",\"Executive Level\",\"Mid-Level\",\"Mid-Level\",\"Mid-Level\",\"Mid-Level\",\"Mid-Level\",\"Mid-Level\",\"Mid-Level\",\"Mid-Level\",\"Mid-Level\",\"Mid-Level\",\"Mid-Level\",\"Mid-Level\",\"Mid-Level\",\"Mid-Level\",\"Mid-Level\",\"Mid-Level\",\"Mid-Level\",\"Mid-Level\",\"Mid-Level\",\"Mid-Level\",\"Mid-Level\",\"Mid-Level\",\"Mid-Level\",\"Mid-Level\",\"Mid-Level\",\"Mid-Level\",\"Mid-Level\",\"Mid-Level\",\"Mid-Level\",\"Mid-Level\",\"Mid-Level\",\"Mid-Level\",\"Mid-Level\",\"Mid-Level\",\"Mid-Level\",\"Mid-Level\",\"Mid-Level\",\"Mid-Level\",\"Mid-Level\",\"Mid-Level\",\"Mid-Level\",\"Mid-Level\",\"Mid-Level\",\"Mid-Level\",\"Mid-Level\",\"Mid-Level\",\"Mid-Level\",\"Mid-Level\",\"Mid-Level\",\"Mid-Level\",\"Mid-Level\",\"Mid-Level\",\"Mid-Level\",\"Mid-Level\",\"Mid-Level\",\"Mid-Level\",\"Mid-Level\",\"Mid-Level\",\"Mid-Level\",\"Mid-Level\",\"Mid-Level\",\"Mid-Level\",\"Mid-Level\",\"Mid-Level\",\"Mid-Level\",\"Mid-Level\",\"Mid-Level\",\"Mid-Level\",\"Mid-Level\",\"Mid-Level\",\"Mid-Level\",\"Mid-Level\",\"Mid-Level\",\"Mid-Level\",\"Mid-Level\",\"Mid-Level\",\"Mid-Level\",\"Mid-Level\",\"Mid-Level\",\"Mid-Level\",\"Mid-Level\",\"Mid-Level\",\"Mid-Level\",\"Mid-Level\",\"Mid-Level\",\"Mid-Level\",\"Mid-Level\",\"Mid-Level\",\"Mid-Level\",\"Mid-Level\",\"Mid-Level\",\"Senior\",\"Senior\",\"Senior\",\"Senior\",\"Senior\",\"Senior\",\"Senior\",\"Senior\",\"Senior\",\"Senior\",\"Senior\",\"Senior\",\"Senior\",\"Senior\",\"Senior\",\"Senior\",\"Senior\",\"Senior\",\"Senior\",\"Senior\",\"Senior\",\"Senior\",\"Senior\",\"Senior\",\"Senior\",\"Senior\",\"Senior\",\"Senior\",\"Senior\",\"Senior\",\"Senior\",\"Senior\",\"Senior\",\"Senior\",\"Senior\",\"Senior\",\"Senior\",\"Senior\",\"Senior\",\"Senior\",\"Senior\",\"Senior\",\"Senior\",\"Senior\",\"Senior\",\"Senior\",\"Senior\",\"Senior\",\"Senior\",\"Senior\",\"Senior\",\"Senior\",\"Senior\",\"Senior\",\"Senior\",\"Senior\",\"Senior\",\"Senior\",\"Senior\",\"Senior\",\"Senior\",\"Senior\",\"Senior\",\"Senior\",\"Senior\",\"Senior\",\"Senior\",\"Senior\",\"Senior\",\"Senior\",\"Senior\",\"Senior\",\"AE\",\"AE\",\"AS\",\"AT\",\"AT\",\"AT\",\"AU\",\"AU\",\"AU\",\"BE\",\"BR\",\"BR\",\"CA\",\"CA\",\"CA\",\"CA\",\"CA\",\"CA\",\"CA\",\"CA\",\"CA\",\"CA\",\"CA\",\"CA\",\"CA\",\"CA\",\"CH\",\"CH\",\"CL\",\"CN\",\"CN\",\"CO\",\"CZ\",\"CZ\",\"DE\",\"DE\",\"DE\",\"DE\",\"DE\",\"DE\",\"DE\",\"DE\",\"DE\",\"DE\",\"DE\",\"DK\",\"DK\",\"DK\",\"DZ\",\"EE\",\"ES\",\"ES\",\"ES\",\"ES\",\"ES\",\"ES\",\"ES\",\"FR\",\"FR\",\"FR\",\"FR\",\"FR\",\"GB\",\"GB\",\"GB\",\"GB\",\"GB\",\"GB\",\"GB\",\"GB\",\"GB\",\"GB\",\"GB\",\"GR\",\"GR\",\"GR\",\"GR\",\"HN\",\"HR\",\"HU\",\"IE\",\"IL\",\"IN\",\"IN\",\"IN\",\"IN\",\"IN\",\"IN\",\"IN\",\"IN\",\"IN\",\"IN\",\"IN\",\"IN\",\"IN\",\"IQ\",\"IR\",\"IT\",\"IT\",\"JP\",\"JP\",\"JP\",\"JP\",\"JP\",\"KE\",\"LU\",\"LU\",\"LU\",\"MD\",\"MT\",\"MX\",\"MX\",\"MX\",\"MY\",\"NG\",\"NG\",\"NL\",\"NL\",\"NL\",\"NZ\",\"PK\",\"PK\",\"PK\",\"PL\",\"PL\",\"PL\",\"PL\",\"PT\",\"PT\",\"PT\",\"RO\",\"RU\",\"RU\",\"SG\",\"SI\",\"SI\",\"TR\",\"TR\",\"UA\",\"US\",\"US\",\"US\",\"US\",\"US\",\"US\",\"US\",\"US\",\"US\",\"US\",\"US\",\"US\",\"US\",\"US\",\"US\",\"US\",\"US\",\"US\",\"US\",\"US\",\"US\",\"US\",\"US\",\"US\",\"US\",\"US\",\"US\",\"US\",\"US\",\"US\",\"US\",\"US\",\"US\",\"US\",\"US\",\"US\",\"US\",\"US\",\"US\",\"VN\",\"3D Computer Vision Researcher\",\"AI Scientist\",\"Analytics Engineer\",\"Applied Data Scientist\",\"Applied Machine Learning Scientist\",\"BI Data Analyst\",\"Big Data Architect\",\"Big Data Engineer\",\"Business Data Analyst\",\"Cloud Data Engineer\",\"Computer Vision Engineer\",\"Computer Vision Software Engineer\",\"Data Analyst\",\"Data Analytics Engineer\",\"Data Analytics Lead\",\"Data Analytics Manager\",\"Data Architect\",\"Data Engineer\",\"Data Engineering Manager\",\"Data Science Consultant\",\"Data Science Engineer\",\"Data Science Manager\",\"Data Scientist\",\"Data Specialist\",\"Director of Data Engineering\",\"Director of Data Science\",\"ETL Developer\",\"Finance Data Analyst\",\"Financial Data Analyst\",\"Head of Data\",\"Head of Data Science\",\"Head of Machine Learning\",\"Lead Data Analyst\",\"Lead Data Engineer\",\"Lead Data Scientist\",\"Lead Machine Learning Engineer\",\"ML Engineer\",\"Machine Learning Developer\",\"Machine Learning Engineer\",\"Machine Learning Infrastructure Engineer\",\"Machine Learning Manager\",\"Machine Learning Scientist\",\"Marketing Data Analyst\",\"NLP Engineer\",\"Principal Data Analyst\",\"Principal Data Engineer\",\"Principal Data Scientist\",\"Product Data Analyst\",\"Research Scientist\",\"Staff Data Scientist\",\"Job Roles\"],\"name\":\"\",\"parents\":[\"Job Roles/AI Scientist/AS\",\"Job Roles/Computer Vision Software Engineer/AU\",\"Job Roles/Data Scientist/AU\",\"Job Roles/Data Analyst/CA\",\"Job Roles/Data Scientist/CA\",\"Job Roles/Big Data Engineer/CH\",\"Job Roles/Research Scientist/CN\",\"Job Roles/Machine Learning Engineer/CO\",\"Job Roles/Applied Machine Learning Scientist/CZ\",\"Job Roles/Data Engineer/DE\",\"Job Roles/Data Science Consultant/DE\",\"Job Roles/Data Scientist/DE\",\"Job Roles/ML Engineer/DE\",\"Job Roles/Machine Learning Engineer/DE\",\"Job Roles/AI Scientist/DK\",\"Job Roles/Computer Vision Engineer/DK\",\"Job Roles/Data Scientist/DZ\",\"Job Roles/Data Analyst/ES\",\"Job Roles/Data Analyst/FR\",\"Job Roles/Data Scientist/FR\",\"Job Roles/Applied Data Scientist/GB\",\"Job Roles/Data Engineer/GB\",\"Job Roles/Machine Learning Engineer/GB\",\"Job Roles/Research Scientist/GB\",\"Job Roles/Big Data Engineer/IN\",\"Job Roles/Data Analyst/IN\",\"Job Roles/Data Engineer/IN\",\"Job Roles/Data Science Consultant/IN\",\"Job Roles/Data Scientist/IN\",\"Job Roles/Machine Learning Engineer/IN\",\"Job Roles/Machine Learning Developer/IQ\",\"Job Roles/Data Scientist/IT\",\"Job Roles/Data Engineer/JP\",\"Job Roles/BI Data Analyst/KE\",\"Job Roles/Business Data Analyst/LU\",\"Job Roles/Computer Vision Engineer/LU\",\"Job Roles/Data Scientist/MY\",\"Job Roles/Data Analyst/NG\",\"Job Roles/Research Scientist/NL\",\"Job Roles/Data Analytics Engineer/PK\",\"Job Roles/ML Engineer/PT\",\"Job Roles/Data Scientist/UA\",\"Job Roles/AI Scientist/US\",\"Job Roles/BI Data Analyst/US\",\"Job Roles/Big Data Engineer/US\",\"Job Roles/Business Data Analyst/US\",\"Job Roles/Computer Vision Engineer/US\",\"Job Roles/Computer Vision Software Engineer/US\",\"Job Roles/Data Analyst/US\",\"Job Roles/Data Engineer/US\",\"Job Roles/Data Science Consultant/US\",\"Job Roles/Data Scientist/US\",\"Job Roles/Financial Data Analyst/US\",\"Job Roles/Machine Learning Engineer/US\",\"Job Roles/Machine Learning Scientist/US\",\"Job Roles/Research Scientist/US\",\"Job Roles/Data Scientist/VN\",\"Job Roles/Director of Data Science/CA\",\"Job Roles/Lead Data Engineer/CA\",\"Job Roles/Director of Data Science/DE\",\"Job Roles/Data Engineering Manager/ES\",\"Job Roles/Data Science Consultant/ES\",\"Job Roles/Head of Machine Learning/IN\",\"Job Roles/Director of Data Science/PL\",\"Job Roles/Head of Data/RU\",\"Job Roles/Head of Data Science/RU\",\"Job Roles/Analytics Engineer/US\",\"Job Roles/BI Data Analyst/US\",\"Job Roles/Data Analyst/US\",\"Job Roles/Data Engineer/US\",\"Job Roles/Director of Data Science/US\",\"Job Roles/Head of Data/US\",\"Job Roles/Head of Data Science/US\",\"Job Roles/Principal Data Engineer/US\",\"Job Roles/Principal Data Scientist/US\",\"Job Roles/Lead Data Scientist/AE\",\"Job Roles/Data Engineer/AT\",\"Job Roles/Data Scientist/AT\",\"Job Roles/Research Scientist/AT\",\"Job Roles/Machine Learning Engineer/AU\",\"Job Roles/Machine Learning Engineer/BE\",\"Job Roles/Data Scientist/BR\",\"Job Roles/Applied Data Scientist/CA\",\"Job Roles/Business Data Analyst/CA\",\"Job Roles/Data Analyst/CA\",\"Job Roles/Data Scientist/CA\",\"Job Roles/Machine Learning Developer/CA\",\"Job Roles/Principal Data Analyst/CA\",\"Job Roles/Research Scientist/CA\",\"Job Roles/Data Scientist/CH\",\"Job Roles/Data Scientist/CL\",\"Job Roles/Machine Learning Engineer/CN\",\"Job Roles/Research Scientist/CZ\",\"Job Roles/Data Engineer/DE\",\"Job Roles/Data Engineering Manager/DE\",\"Job Roles/Data Scientist/DE\",\"Job Roles/Machine Learning Engineer/DE\",\"Job Roles/Head of Data/EE\",\"Job Roles/Data Analyst/ES\",\"Job Roles/Data Engineer/ES\",\"Job Roles/Data Scientist/ES\",\"Job Roles/Machine Learning Engineer/ES\",\"Job Roles/Data Analyst/FR\",\"Job Roles/Data Engineer/FR\",\"Job Roles/Data Scientist/FR\",\"Job Roles/Research Scientist/FR\",\"Job Roles/Data Analyst/GB\",\"Job Roles/Data Engineer/GB\",\"Job Roles/Data Scientist/GB\",\"Job Roles/Machine Learning Engineer/GB\",\"Job Roles/Data Analyst/GR\",\"Job Roles/Data Engineer/GR\",\"Job Roles/Data Science Engineer/GR\",\"Job Roles/ETL Developer/GR\",\"Job Roles/Product Data Analyst/HN\",\"Job Roles/Data Scientist/HU\",\"Job Roles/Data Scientist/IL\",\"Job Roles/3D Computer Vision Researcher/IN\",\"Job Roles/Big Data Engineer/IN\",\"Job Roles/Business Data Analyst/IN\",\"Job Roles/Data Scientist/IN\",\"Job Roles/Lead Data Analyst/IN\",\"Job Roles/Product Data Analyst/IN\",\"Job Roles/Data Engineer/IR\",\"Job Roles/Machine Learning Engineer/IT\",\"Job Roles/ML Engineer/JP\",\"Job Roles/Machine Learning Engineer/JP\",\"Job Roles/Data Scientist/LU\",\"Job Roles/Big Data Engineer/MD\",\"Job Roles/Data Engineer/MT\",\"Job Roles/Data Scientist/MX\",\"Job Roles/Data Scientist/NG\",\"Job Roles/Data Engineer/NL\",\"Job Roles/Data Analyst/PK\",\"Job Roles/Machine Learning Scientist/PK\",\"Job Roles/Data Engineer/PL\",\"Job Roles/Data Scientist/PL\",\"Job Roles/Machine Learning Engineer/PL\",\"Job Roles/Machine Learning Infrastructure Engineer/PT\",\"Job Roles/Big Data Engineer/RO\",\"Job Roles/Cloud Data Engineer/SG\",\"Job Roles/Machine Learning Engineer/SI\",\"Job Roles/Data Engineer/TR\",\"Job Roles/AI Scientist/US\",\"Job Roles/Applied Data Scientist/US\",\"Job Roles/Applied Machine Learning Scientist/US\",\"Job Roles/BI Data Analyst/US\",\"Job Roles/Business Data Analyst/US\",\"Job Roles/Computer Vision Software Engineer/US\",\"Job Roles/Data Analyst/US\",\"Job Roles/Data Analytics Engineer/US\",\"Job Roles/Data Architect/US\",\"Job Roles/Data Engineer/US\",\"Job Roles/Data Science Consultant/US\",\"Job Roles/Data Science Manager/US\",\"Job Roles/Data Scientist/US\",\"Job Roles/Financial Data Analyst/US\",\"Job Roles/Head of Data Science/US\",\"Job Roles/Lead Data Analyst/US\",\"Job Roles/Lead Data Engineer/US\",\"Job Roles/ML Engineer/US\",\"Job Roles/Machine Learning Engineer/US\",\"Job Roles/Machine Learning Scientist/US\",\"Job Roles/NLP Engineer/US\",\"Job Roles/Principal Data Scientist/US\",\"Job Roles/Research Scientist/US\",\"Job Roles/Machine Learning Engineer/AE\",\"Job Roles/Data Scientist/AT\",\"Job Roles/Machine Learning Engineer/BE\",\"Job Roles/Computer Vision Engineer/BR\",\"Job Roles/Big Data Architect/CA\",\"Job Roles/Data Analyst/CA\",\"Job Roles/Data Architect/CA\",\"Job Roles/Data Science Engineer/CA\",\"Job Roles/Data Scientist/CA\",\"Job Roles/Machine Learning Developer/CA\",\"Job Roles/Machine Learning Manager/CA\",\"Job Roles/Machine Learning Scientist/CA\",\"Job Roles/Research Scientist/CA\",\"Job Roles/Data Analyst/DE\",\"Job Roles/Data Analytics Engineer/DE\",\"Job Roles/Lead Machine Learning Engineer/DE\",\"Job Roles/Machine Learning Engineer/DE\",\"Job Roles/Principal Data Scientist/DE\",\"Job Roles/Marketing Data Analyst/DK\",\"Job Roles/AI Scientist/ES\",\"Job Roles/Data Science Manager/FR\",\"Job Roles/Data Scientist/FR\",\"Job Roles/Research Scientist/FR\",\"Job Roles/Big Data Engineer/GB\",\"Job Roles/Data Analytics Engineer/GB\",\"Job Roles/Data Engineer/GB\",\"Job Roles/Data Scientist/GB\",\"Job Roles/Director of Data Engineering/GB\",\"Job Roles/Finance Data Analyst/GB\",\"Job Roles/Lead Data Engineer/GB\",\"Job Roles/Data Engineer/GR\",\"Job Roles/Machine Learning Engineer/HR\",\"Job Roles/Machine Learning Engineer/IE\",\"Job Roles/Data Science Manager/IN\",\"Job Roles/Lead Data Scientist/IN\",\"Job Roles/Machine Learning Engineer/IN\",\"Job Roles/Director of Data Science/JP\",\"Job Roles/Machine Learning Scientist/JP\",\"Job Roles/Data Engineer/MX\",\"Job Roles/Data Science Engineer/MX\",\"Job Roles/Machine Learning Engineer/NL\",\"Job Roles/Lead Data Engineer/NZ\",\"Job Roles/Research Scientist/PT\",\"Job Roles/Head of Data/SI\",\"Job Roles/Data Scientist/TR\",\"Job Roles/Analytics Engineer/US\",\"Job Roles/Applied Data Scientist/US\",\"Job Roles/Cloud Data Engineer/US\",\"Job Roles/Computer Vision Engineer/US\",\"Job Roles/Data Analyst/US\",\"Job Roles/Data Analytics Lead/US\",\"Job Roles/Data Analytics Manager/US\",\"Job Roles/Data Architect/US\",\"Job Roles/Data Engineer/US\",\"Job Roles/Data Engineering Manager/US\",\"Job Roles/Data Science Manager/US\",\"Job Roles/Data Scientist/US\",\"Job Roles/Data Specialist/US\",\"Job Roles/Director of Data Engineering/US\",\"Job Roles/Head of Data/US\",\"Job Roles/Lead Data Analyst/US\",\"Job Roles/Lead Data Engineer/US\",\"Job Roles/Lead Data Scientist/US\",\"Job Roles/ML Engineer/US\",\"Job Roles/Machine Learning Engineer/US\",\"Job Roles/Machine Learning Infrastructure Engineer/US\",\"Job Roles/Machine Learning Scientist/US\",\"Job Roles/Principal Data Analyst/US\",\"Job Roles/Principal Data Engineer/US\",\"Job Roles/Principal Data Scientist/US\",\"Job Roles/Research Scientist/US\",\"Job Roles/Staff Data Scientist/US\",\"Job Roles/Lead Data Scientist\",\"Job Roles/Machine Learning Engineer\",\"Job Roles/AI Scientist\",\"Job Roles/Data Engineer\",\"Job Roles/Data Scientist\",\"Job Roles/Research Scientist\",\"Job Roles/Computer Vision Software Engineer\",\"Job Roles/Data Scientist\",\"Job Roles/Machine Learning Engineer\",\"Job Roles/Machine Learning Engineer\",\"Job Roles/Computer Vision Engineer\",\"Job Roles/Data Scientist\",\"Job Roles/Applied Data Scientist\",\"Job Roles/Big Data Architect\",\"Job Roles/Business Data Analyst\",\"Job Roles/Data Analyst\",\"Job Roles/Data Architect\",\"Job Roles/Data Science Engineer\",\"Job Roles/Data Scientist\",\"Job Roles/Director of Data Science\",\"Job Roles/Lead Data Engineer\",\"Job Roles/Machine Learning Developer\",\"Job Roles/Machine Learning Manager\",\"Job Roles/Machine Learning Scientist\",\"Job Roles/Principal Data Analyst\",\"Job Roles/Research Scientist\",\"Job Roles/Big Data Engineer\",\"Job Roles/Data Scientist\",\"Job Roles/Data Scientist\",\"Job Roles/Machine Learning Engineer\",\"Job Roles/Research Scientist\",\"Job Roles/Machine Learning Engineer\",\"Job Roles/Applied Machine Learning Scientist\",\"Job Roles/Research Scientist\",\"Job Roles/Data Analyst\",\"Job Roles/Data Analytics Engineer\",\"Job Roles/Data Engineer\",\"Job Roles/Data Engineering Manager\",\"Job Roles/Data Science Consultant\",\"Job Roles/Data Scientist\",\"Job Roles/Director of Data Science\",\"Job Roles/Lead Machine Learning Engineer\",\"Job Roles/ML Engineer\",\"Job Roles/Machine Learning Engineer\",\"Job Roles/Principal Data Scientist\",\"Job Roles/AI Scientist\",\"Job Roles/Computer Vision Engineer\",\"Job Roles/Marketing Data Analyst\",\"Job Roles/Data Scientist\",\"Job Roles/Head of Data\",\"Job Roles/AI Scientist\",\"Job Roles/Data Analyst\",\"Job Roles/Data Engineer\",\"Job Roles/Data Engineering Manager\",\"Job Roles/Data Science Consultant\",\"Job Roles/Data Scientist\",\"Job Roles/Machine Learning Engineer\",\"Job Roles/Data Analyst\",\"Job Roles/Data Engineer\",\"Job Roles/Data Science Manager\",\"Job Roles/Data Scientist\",\"Job Roles/Research Scientist\",\"Job Roles/Applied Data Scientist\",\"Job Roles/Big Data Engineer\",\"Job Roles/Data Analyst\",\"Job Roles/Data Analytics Engineer\",\"Job Roles/Data Engineer\",\"Job Roles/Data Scientist\",\"Job Roles/Director of Data Engineering\",\"Job Roles/Finance Data Analyst\",\"Job Roles/Lead Data Engineer\",\"Job Roles/Machine Learning Engineer\",\"Job Roles/Research Scientist\",\"Job Roles/Data Analyst\",\"Job Roles/Data Engineer\",\"Job Roles/Data Science Engineer\",\"Job Roles/ETL Developer\",\"Job Roles/Product Data Analyst\",\"Job Roles/Machine Learning Engineer\",\"Job Roles/Data Scientist\",\"Job Roles/Machine Learning Engineer\",\"Job Roles/Data Scientist\",\"Job Roles/3D Computer Vision Researcher\",\"Job Roles/Big Data Engineer\",\"Job Roles/Business Data Analyst\",\"Job Roles/Data Analyst\",\"Job Roles/Data Engineer\",\"Job Roles/Data Science Consultant\",\"Job Roles/Data Science Manager\",\"Job Roles/Data Scientist\",\"Job Roles/Head of Machine Learning\",\"Job Roles/Lead Data Analyst\",\"Job Roles/Lead Data Scientist\",\"Job Roles/Machine Learning Engineer\",\"Job Roles/Product Data Analyst\",\"Job Roles/Machine Learning Developer\",\"Job Roles/Data Engineer\",\"Job Roles/Data Scientist\",\"Job Roles/Machine Learning Engineer\",\"Job Roles/Data Engineer\",\"Job Roles/Director of Data Science\",\"Job Roles/ML Engineer\",\"Job Roles/Machine Learning Engineer\",\"Job Roles/Machine Learning Scientist\",\"Job Roles/BI Data Analyst\",\"Job Roles/Business Data Analyst\",\"Job Roles/Computer Vision Engineer\",\"Job Roles/Data Scientist\",\"Job Roles/Big Data Engineer\",\"Job Roles/Data Engineer\",\"Job Roles/Data Engineer\",\"Job Roles/Data Science Engineer\",\"Job Roles/Data Scientist\",\"Job Roles/Data Scientist\",\"Job Roles/Data Analyst\",\"Job Roles/Data Scientist\",\"Job Roles/Data Engineer\",\"Job Roles/Machine Learning Engineer\",\"Job Roles/Research Scientist\",\"Job Roles/Lead Data Engineer\",\"Job Roles/Data Analyst\",\"Job Roles/Data Analytics Engineer\",\"Job Roles/Machine Learning Scientist\",\"Job Roles/Data Engineer\",\"Job Roles/Data Scientist\",\"Job Roles/Director of Data Science\",\"Job Roles/Machine Learning Engineer\",\"Job Roles/ML Engineer\",\"Job Roles/Machine Learning Infrastructure Engineer\",\"Job Roles/Research Scientist\",\"Job Roles/Big Data Engineer\",\"Job Roles/Head of Data\",\"Job Roles/Head of Data Science\",\"Job Roles/Cloud Data Engineer\",\"Job Roles/Head of Data\",\"Job Roles/Machine Learning Engineer\",\"Job Roles/Data Engineer\",\"Job Roles/Data Scientist\",\"Job Roles/Data Scientist\",\"Job Roles/AI Scientist\",\"Job Roles/Analytics Engineer\",\"Job Roles/Applied Data Scientist\",\"Job Roles/Applied Machine Learning Scientist\",\"Job Roles/BI Data Analyst\",\"Job Roles/Big Data Engineer\",\"Job Roles/Business Data Analyst\",\"Job Roles/Cloud Data Engineer\",\"Job Roles/Computer Vision Engineer\",\"Job Roles/Computer Vision Software Engineer\",\"Job Roles/Data Analyst\",\"Job Roles/Data Analytics Engineer\",\"Job Roles/Data Analytics Lead\",\"Job Roles/Data Analytics Manager\",\"Job Roles/Data Architect\",\"Job Roles/Data Engineer\",\"Job Roles/Data Engineering Manager\",\"Job Roles/Data Science Consultant\",\"Job Roles/Data Science Manager\",\"Job Roles/Data Scientist\",\"Job Roles/Data Specialist\",\"Job Roles/Director of Data Engineering\",\"Job Roles/Director of Data Science\",\"Job Roles/Financial Data Analyst\",\"Job Roles/Head of Data\",\"Job Roles/Head of Data Science\",\"Job Roles/Lead Data Analyst\",\"Job Roles/Lead Data Engineer\",\"Job Roles/Lead Data Scientist\",\"Job Roles/ML Engineer\",\"Job Roles/Machine Learning Engineer\",\"Job Roles/Machine Learning Infrastructure Engineer\",\"Job Roles/Machine Learning Scientist\",\"Job Roles/NLP Engineer\",\"Job Roles/Principal Data Analyst\",\"Job Roles/Principal Data Engineer\",\"Job Roles/Principal Data Scientist\",\"Job Roles/Research Scientist\",\"Job Roles/Staff Data Scientist\",\"Job Roles/Data Scientist\",\"Job Roles\",\"Job Roles\",\"Job Roles\",\"Job Roles\",\"Job Roles\",\"Job Roles\",\"Job Roles\",\"Job Roles\",\"Job Roles\",\"Job Roles\",\"Job Roles\",\"Job Roles\",\"Job Roles\",\"Job Roles\",\"Job Roles\",\"Job Roles\",\"Job Roles\",\"Job Roles\",\"Job Roles\",\"Job Roles\",\"Job Roles\",\"Job Roles\",\"Job Roles\",\"Job Roles\",\"Job Roles\",\"Job Roles\",\"Job Roles\",\"Job Roles\",\"Job Roles\",\"Job Roles\",\"Job Roles\",\"Job Roles\",\"Job Roles\",\"Job Roles\",\"Job Roles\",\"Job Roles\",\"Job Roles\",\"Job Roles\",\"Job Roles\",\"Job Roles\",\"Job Roles\",\"Job Roles\",\"Job Roles\",\"Job Roles\",\"Job Roles\",\"Job Roles\",\"Job Roles\",\"Job Roles\",\"Job Roles\",\"Job Roles\",\"\"],\"values\":[1,1,1,2,1,1,1,1,1,3,3,2,1,2,1,1,1,1,1,4,1,2,1,1,1,1,2,1,3,1,1,1,1,1,1,1,1,1,1,1,1,1,2,1,1,1,1,1,6,4,1,6,1,4,1,1,1,1,1,2,1,1,1,1,1,1,2,1,2,4,2,1,2,1,1,1,1,1,1,1,1,1,1,1,2,2,1,1,2,1,1,1,1,1,1,5,1,1,2,4,3,1,1,2,1,2,5,14,9,2,3,4,1,2,1,1,1,1,1,1,5,1,1,1,1,2,1,1,1,1,1,1,2,1,1,1,1,1,2,1,1,1,2,2,1,3,3,1,1,15,1,3,20,1,2,25,1,1,1,1,1,1,3,1,1,1,2,1,1,2,1,5,2,1,2,1,1,1,1,1,1,1,1,3,1,1,1,2,1,2,1,4,2,1,1,1,1,1,1,1,1,2,1,1,1,1,1,1,1,1,1,2,2,1,1,48,1,7,6,57,3,8,53,1,1,1,1,2,1,1,11,1,1,1,2,2,2,1,1,2,1,1,2,1,1,1,1,2,2,1,1,1,1,9,2,1,5,1,1,2,1,1,1,3,1,1,1,1,1,1,1,1,1,1,4,1,3,7,2,1,1,4,3,1,1,1,1,1,1,3,4,1,1,3,1,2,2,1,7,3,1,2,5,1,20,11,1,1,1,3,1,3,5,1,2,1,1,1,1,1,1,2,1,1,2,1,1,8,1,1,1,3,1,1,1,1,1,1,1,2,1,1,1,1,1,1,1,1,1,1,1,1,1,1,2,1,1,1,1,1,1,1,1,1,1,1,2,1,1,1,1,1,1,1,2,1,1,4,4,3,3,5,1,2,1,2,2,71,1,1,7,9,85,3,2,10,84,1,1,2,2,2,3,2,3,1,2,16,1,5,1,1,3,4,4,1,1,1,7,4,5,4,6,1,8,5,2,6,3,97,4,1,7,11,132,5,7,3,12,143,1,2,7,2,1,2,5,4,1,3,6,3,1,6,3,41,3,1,8,1,1,2,3,7,2,16,1,607],\"type\":\"treemap\",\"root\":{\"color\":\"lightgrey\"}}],                        {\"template\":{\"data\":{\"barpolar\":[{\"marker\":{\"line\":{\"color\":\"rgb(237,237,237)\",\"width\":0.5},\"pattern\":{\"fillmode\":\"overlay\",\"size\":10,\"solidity\":0.2}},\"type\":\"barpolar\"}],\"bar\":[{\"error_x\":{\"color\":\"rgb(51,51,51)\"},\"error_y\":{\"color\":\"rgb(51,51,51)\"},\"marker\":{\"line\":{\"color\":\"rgb(237,237,237)\",\"width\":0.5},\"pattern\":{\"fillmode\":\"overlay\",\"size\":10,\"solidity\":0.2}},\"type\":\"bar\"}],\"carpet\":[{\"aaxis\":{\"endlinecolor\":\"rgb(51,51,51)\",\"gridcolor\":\"white\",\"linecolor\":\"white\",\"minorgridcolor\":\"white\",\"startlinecolor\":\"rgb(51,51,51)\"},\"baxis\":{\"endlinecolor\":\"rgb(51,51,51)\",\"gridcolor\":\"white\",\"linecolor\":\"white\",\"minorgridcolor\":\"white\",\"startlinecolor\":\"rgb(51,51,51)\"},\"type\":\"carpet\"}],\"choropleth\":[{\"colorbar\":{\"outlinewidth\":0,\"tickcolor\":\"rgb(237,237,237)\",\"ticklen\":6,\"ticks\":\"inside\"},\"type\":\"choropleth\"}],\"contourcarpet\":[{\"colorbar\":{\"outlinewidth\":0,\"tickcolor\":\"rgb(237,237,237)\",\"ticklen\":6,\"ticks\":\"inside\"},\"type\":\"contourcarpet\"}],\"contour\":[{\"colorbar\":{\"outlinewidth\":0,\"tickcolor\":\"rgb(237,237,237)\",\"ticklen\":6,\"ticks\":\"inside\"},\"colorscale\":[[0,\"rgb(20,44,66)\"],[1,\"rgb(90,179,244)\"]],\"type\":\"contour\"}],\"heatmapgl\":[{\"colorbar\":{\"outlinewidth\":0,\"tickcolor\":\"rgb(237,237,237)\",\"ticklen\":6,\"ticks\":\"inside\"},\"colorscale\":[[0,\"rgb(20,44,66)\"],[1,\"rgb(90,179,244)\"]],\"type\":\"heatmapgl\"}],\"heatmap\":[{\"colorbar\":{\"outlinewidth\":0,\"tickcolor\":\"rgb(237,237,237)\",\"ticklen\":6,\"ticks\":\"inside\"},\"colorscale\":[[0,\"rgb(20,44,66)\"],[1,\"rgb(90,179,244)\"]],\"type\":\"heatmap\"}],\"histogram2dcontour\":[{\"colorbar\":{\"outlinewidth\":0,\"tickcolor\":\"rgb(237,237,237)\",\"ticklen\":6,\"ticks\":\"inside\"},\"colorscale\":[[0,\"rgb(20,44,66)\"],[1,\"rgb(90,179,244)\"]],\"type\":\"histogram2dcontour\"}],\"histogram2d\":[{\"colorbar\":{\"outlinewidth\":0,\"tickcolor\":\"rgb(237,237,237)\",\"ticklen\":6,\"ticks\":\"inside\"},\"colorscale\":[[0,\"rgb(20,44,66)\"],[1,\"rgb(90,179,244)\"]],\"type\":\"histogram2d\"}],\"histogram\":[{\"marker\":{\"pattern\":{\"fillmode\":\"overlay\",\"size\":10,\"solidity\":0.2}},\"type\":\"histogram\"}],\"mesh3d\":[{\"colorbar\":{\"outlinewidth\":0,\"tickcolor\":\"rgb(237,237,237)\",\"ticklen\":6,\"ticks\":\"inside\"},\"type\":\"mesh3d\"}],\"parcoords\":[{\"line\":{\"colorbar\":{\"outlinewidth\":0,\"tickcolor\":\"rgb(237,237,237)\",\"ticklen\":6,\"ticks\":\"inside\"}},\"type\":\"parcoords\"}],\"pie\":[{\"automargin\":true,\"type\":\"pie\"}],\"scatter3d\":[{\"line\":{\"colorbar\":{\"outlinewidth\":0,\"tickcolor\":\"rgb(237,237,237)\",\"ticklen\":6,\"ticks\":\"inside\"}},\"marker\":{\"colorbar\":{\"outlinewidth\":0,\"tickcolor\":\"rgb(237,237,237)\",\"ticklen\":6,\"ticks\":\"inside\"}},\"type\":\"scatter3d\"}],\"scattercarpet\":[{\"marker\":{\"colorbar\":{\"outlinewidth\":0,\"tickcolor\":\"rgb(237,237,237)\",\"ticklen\":6,\"ticks\":\"inside\"}},\"type\":\"scattercarpet\"}],\"scattergeo\":[{\"marker\":{\"colorbar\":{\"outlinewidth\":0,\"tickcolor\":\"rgb(237,237,237)\",\"ticklen\":6,\"ticks\":\"inside\"}},\"type\":\"scattergeo\"}],\"scattergl\":[{\"marker\":{\"colorbar\":{\"outlinewidth\":0,\"tickcolor\":\"rgb(237,237,237)\",\"ticklen\":6,\"ticks\":\"inside\"}},\"type\":\"scattergl\"}],\"scattermapbox\":[{\"marker\":{\"colorbar\":{\"outlinewidth\":0,\"tickcolor\":\"rgb(237,237,237)\",\"ticklen\":6,\"ticks\":\"inside\"}},\"type\":\"scattermapbox\"}],\"scatterpolargl\":[{\"marker\":{\"colorbar\":{\"outlinewidth\":0,\"tickcolor\":\"rgb(237,237,237)\",\"ticklen\":6,\"ticks\":\"inside\"}},\"type\":\"scatterpolargl\"}],\"scatterpolar\":[{\"marker\":{\"colorbar\":{\"outlinewidth\":0,\"tickcolor\":\"rgb(237,237,237)\",\"ticklen\":6,\"ticks\":\"inside\"}},\"type\":\"scatterpolar\"}],\"scatter\":[{\"fillpattern\":{\"fillmode\":\"overlay\",\"size\":10,\"solidity\":0.2},\"type\":\"scatter\"}],\"scatterternary\":[{\"marker\":{\"colorbar\":{\"outlinewidth\":0,\"tickcolor\":\"rgb(237,237,237)\",\"ticklen\":6,\"ticks\":\"inside\"}},\"type\":\"scatterternary\"}],\"surface\":[{\"colorbar\":{\"outlinewidth\":0,\"tickcolor\":\"rgb(237,237,237)\",\"ticklen\":6,\"ticks\":\"inside\"},\"colorscale\":[[0,\"rgb(20,44,66)\"],[1,\"rgb(90,179,244)\"]],\"type\":\"surface\"}],\"table\":[{\"cells\":{\"fill\":{\"color\":\"rgb(237,237,237)\"},\"line\":{\"color\":\"white\"}},\"header\":{\"fill\":{\"color\":\"rgb(217,217,217)\"},\"line\":{\"color\":\"white\"}},\"type\":\"table\"}]},\"layout\":{\"annotationdefaults\":{\"arrowhead\":0,\"arrowwidth\":1},\"autotypenumbers\":\"strict\",\"coloraxis\":{\"colorbar\":{\"outlinewidth\":0,\"tickcolor\":\"rgb(237,237,237)\",\"ticklen\":6,\"ticks\":\"inside\"}},\"colorscale\":{\"sequential\":[[0,\"rgb(20,44,66)\"],[1,\"rgb(90,179,244)\"]],\"sequentialminus\":[[0,\"rgb(20,44,66)\"],[1,\"rgb(90,179,244)\"]]},\"colorway\":[\"#F8766D\",\"#A3A500\",\"#00BF7D\",\"#00B0F6\",\"#E76BF3\"],\"font\":{\"color\":\"rgb(51,51,51)\"},\"geo\":{\"bgcolor\":\"white\",\"lakecolor\":\"white\",\"landcolor\":\"rgb(237,237,237)\",\"showlakes\":true,\"showland\":true,\"subunitcolor\":\"white\"},\"hoverlabel\":{\"align\":\"left\"},\"hovermode\":\"closest\",\"paper_bgcolor\":\"white\",\"plot_bgcolor\":\"rgb(237,237,237)\",\"polar\":{\"angularaxis\":{\"gridcolor\":\"white\",\"linecolor\":\"white\",\"showgrid\":true,\"tickcolor\":\"rgb(51,51,51)\",\"ticks\":\"outside\"},\"bgcolor\":\"rgb(237,237,237)\",\"radialaxis\":{\"gridcolor\":\"white\",\"linecolor\":\"white\",\"showgrid\":true,\"tickcolor\":\"rgb(51,51,51)\",\"ticks\":\"outside\"}},\"scene\":{\"xaxis\":{\"backgroundcolor\":\"rgb(237,237,237)\",\"gridcolor\":\"white\",\"gridwidth\":2,\"linecolor\":\"white\",\"showbackground\":true,\"showgrid\":true,\"tickcolor\":\"rgb(51,51,51)\",\"ticks\":\"outside\",\"zerolinecolor\":\"white\"},\"yaxis\":{\"backgroundcolor\":\"rgb(237,237,237)\",\"gridcolor\":\"white\",\"gridwidth\":2,\"linecolor\":\"white\",\"showbackground\":true,\"showgrid\":true,\"tickcolor\":\"rgb(51,51,51)\",\"ticks\":\"outside\",\"zerolinecolor\":\"white\"},\"zaxis\":{\"backgroundcolor\":\"rgb(237,237,237)\",\"gridcolor\":\"white\",\"gridwidth\":2,\"linecolor\":\"white\",\"showbackground\":true,\"showgrid\":true,\"tickcolor\":\"rgb(51,51,51)\",\"ticks\":\"outside\",\"zerolinecolor\":\"white\"}},\"shapedefaults\":{\"fillcolor\":\"black\",\"line\":{\"width\":0},\"opacity\":0.3},\"ternary\":{\"aaxis\":{\"gridcolor\":\"white\",\"linecolor\":\"white\",\"showgrid\":true,\"tickcolor\":\"rgb(51,51,51)\",\"ticks\":\"outside\"},\"baxis\":{\"gridcolor\":\"white\",\"linecolor\":\"white\",\"showgrid\":true,\"tickcolor\":\"rgb(51,51,51)\",\"ticks\":\"outside\"},\"bgcolor\":\"rgb(237,237,237)\",\"caxis\":{\"gridcolor\":\"white\",\"linecolor\":\"white\",\"showgrid\":true,\"tickcolor\":\"rgb(51,51,51)\",\"ticks\":\"outside\"}},\"xaxis\":{\"automargin\":true,\"gridcolor\":\"white\",\"linecolor\":\"white\",\"showgrid\":true,\"tickcolor\":\"rgb(51,51,51)\",\"ticks\":\"outside\",\"title\":{\"standoff\":15},\"zerolinecolor\":\"white\"},\"yaxis\":{\"automargin\":true,\"gridcolor\":\"white\",\"linecolor\":\"white\",\"showgrid\":true,\"tickcolor\":\"rgb(51,51,51)\",\"ticks\":\"outside\",\"title\":{\"standoff\":15},\"zerolinecolor\":\"white\"}}},\"legend\":{\"tracegroupgap\":0},\"title\":{\"text\":\"<b>TreeMap of Different Roles in Data Science with Experience Level\"}},                        {\"responsive\": true}                    ).then(function(){\n",
       "                            \n",
       "var gd = document.getElementById('06e82091-c25d-4354-8d69-fd1eab593e6e');\n",
       "var x = new MutationObserver(function (mutations, observer) {{\n",
       "        var display = window.getComputedStyle(gd).display;\n",
       "        if (!display || display === 'none') {{\n",
       "            console.log([gd, 'removed!']);\n",
       "            Plotly.purge(gd);\n",
       "            observer.disconnect();\n",
       "        }}\n",
       "}});\n",
       "\n",
       "// Listen for the removal of the full notebook cells\n",
       "var notebookContainer = gd.closest('#notebook-container');\n",
       "if (notebookContainer) {{\n",
       "    x.observe(notebookContainer, {childList: true});\n",
       "}}\n",
       "\n",
       "// Listen for the clearing of the current output cell\n",
       "var outputEl = gd.closest('.output');\n",
       "if (outputEl) {{\n",
       "    x.observe(outputEl, {childList: true});\n",
       "}}\n",
       "\n",
       "                        })                };                });            </script>        </div>"
      ]
     },
     "metadata": {},
     "output_type": "display_data"
    }
   ],
   "source": [
    "fig=px.treemap(df,path=[px.Constant('Job Roles'),'job_title','company_location','experience_level'],template='ggplot2',hover_name='job_title',title='<b>TreeMap of Different Roles in Data Science with Experience Level')\n",
    "fig.update_traces(root_color='lightgrey')"
   ]
  },
  {
   "cell_type": "markdown",
   "id": "5deb9341",
   "metadata": {
    "papermill": {
     "duration": 0.014317,
     "end_time": "2022-09-20T17:48:43.014770",
     "exception": false,
     "start_time": "2022-09-20T17:48:43.000453",
     "status": "completed"
    },
    "tags": []
   },
   "source": [
    "<div style=\"color:white;\n",
    "            display:fill;\n",
    "            border-radius:15px;\n",
    "            background-color:purple;\n",
    "            font-size:100%;\n",
    "            font-family:Verdana;\n",
    "            letter-spacing:1px\">\n",
    "    <h3 style='padding: 20px;\n",
    "              color:white;\n",
    "              text-align:center;'>\n",
    "        CONCLUSION\n",
    "    </h3>\n",
    "    </div>"
   ]
  },
  {
   "cell_type": "markdown",
   "id": "19625a15",
   "metadata": {
    "papermill": {
     "duration": 0.014003,
     "end_time": "2022-09-20T17:48:43.043228",
     "exception": false,
     "start_time": "2022-09-20T17:48:43.029225",
     "status": "completed"
    },
    "tags": []
   },
   "source": [
    "<p>\n",
    "    From the Above Analysis, The Country which has Maximum Jobs in the Data Science Feild is <b>US</b> and Contract type Employees has Maximum Salaries in Data Science feild. Employees which has Experience as Senior and Executive Level has maximum salaries.\n",
    "    \n",
    "The Top 5 Popular Roles in Data Science are\n",
    "<ol>\n",
    "    <li><b>Data Scientist</b></li>\n",
    "    <li><b>Data Engineer</b></li>\n",
    "    <li><b>Data Analyst</b></li>\n",
    "    <li><b>ML Engineer</b></li>\n",
    "    <li><b>Reaserch Analyst</b></li>\n",
    "</ol><br>\n",
    "</p>"
   ]
  },
  {
   "cell_type": "markdown",
   "id": "5089612c",
   "metadata": {
    "papermill": {
     "duration": 0.01394,
     "end_time": "2022-09-20T17:48:43.071530",
     "exception": false,
     "start_time": "2022-09-20T17:48:43.057590",
     "status": "completed"
    },
    "tags": []
   },
   "source": [
    "<div style=\"color:black;\n",
    "            display:fill;\n",
    "            border-radius:15px;\n",
    "            background-color:white;\n",
    "            font-size:100%;\n",
    "            font-family:Verdana;\n",
    "            letter-spacing:1px\">\n",
    "    <h3 style='padding: 20px;\n",
    "              color:black;\n",
    "              text-align:center;'>\n",
    "        IF LIKED THE NOTEBOOK, PLEASE DO UPVOTE.\n",
    "    </h3>\n",
    "\n",
    "</div>"
   ]
  },
  {
   "cell_type": "markdown",
   "id": "74512ecc",
   "metadata": {
    "papermill": {
     "duration": 0.014283,
     "end_time": "2022-09-20T17:48:43.100620",
     "exception": false,
     "start_time": "2022-09-20T17:48:43.086337",
     "status": "completed"
    },
    "tags": []
   },
   "source": [
    "<img src=https://www.luvzilla.com/wp-content/uploads/2021/05/Thank-You-Messages-For-Attending-Meeting.jpg width=70%>"
   ]
  },
  {
   "cell_type": "markdown",
   "id": "8696278d",
   "metadata": {
    "papermill": {
     "duration": 0.014289,
     "end_time": "2022-09-20T17:48:43.129292",
     "exception": false,
     "start_time": "2022-09-20T17:48:43.115003",
     "status": "completed"
    },
    "tags": []
   },
   "source": [
    "<div style=\"color:white;\n",
    "            display:fill;\n",
    "            border-radius:15px;\n",
    "            background-color:purple;\n",
    "            font-size:100%;\n",
    "            font-family:Verdana;\n",
    "            letter-spacing:1px\">\n",
    "    <h3 style='padding: 20px;\n",
    "              color:white;\n",
    "              text-align:center;'>\n",
    "        END\n",
    "    </h3>\n",
    "    </div>"
   ]
  }
 ],
 "metadata": {
  "kernelspec": {
   "display_name": "Python 3",
   "language": "python",
   "name": "python3"
  },
  "language_info": {
   "codemirror_mode": {
    "name": "ipython",
    "version": 3
   },
   "file_extension": ".py",
   "mimetype": "text/x-python",
   "name": "python",
   "nbconvert_exporter": "python",
   "pygments_lexer": "ipython3",
   "version": "3.7.12"
  },
  "papermill": {
   "default_parameters": {},
   "duration": 15.479288,
   "end_time": "2022-09-20T17:48:43.965732",
   "environment_variables": {},
   "exception": null,
   "input_path": "__notebook__.ipynb",
   "output_path": "__notebook__.ipynb",
   "parameters": {},
   "start_time": "2022-09-20T17:48:28.486444",
   "version": "2.3.4"
  }
 },
 "nbformat": 4,
 "nbformat_minor": 5
}
